{
  "cells": [
    {
      "cell_type": "markdown",
      "id": "418e407e",
      "metadata": {
        "id": "418e407e"
      },
      "source": [
        "The third edition of *Think Stats* is available now from [Bookshop.org](https://bookshop.org/a/98697/9781098190255) and [Amazon](https://amzn.to/42lmxwu) (those are affiliate links). If you are enjoying the free, online version, consider [buying me a coffee](https://buymeacoffee.com/allendowney)."
      ]
    },
    {
      "cell_type": "markdown",
      "id": "12999d97",
      "metadata": {
        "id": "12999d97"
      },
      "source": [
        "# Cumulative Distribution Functions\n",
        "\n",
        "Frequency tables and PMFs are the most familiar ways to represent distributions, but as we'll see in this chapter, they have limitations.\n",
        "An alternative is the cumulative distribution function (CDF), which is useful for computing percentiles, and especially useful for comparing distributions.\n",
        "\n",
        "Also in this chapter, we'll compute percentile-based statistics to quantify the location, spread, and skewness of a distribution."
      ]
    },
    {
      "cell_type": "markdown",
      "id": "9eb99dc5",
      "metadata": {
        "tags": [],
        "id": "9eb99dc5"
      },
      "source": [
        "[Click here to run this notebook on Colab](https://colab.research.google.com/github/AllenDowney/ThinkStats/blob/v3/nb/chap04.ipynb)."
      ]
    },
    {
      "cell_type": "code",
      "execution_count": 1,
      "id": "b3d48912",
      "metadata": {
        "tags": [],
        "colab": {
          "base_uri": "https://localhost:8080/"
        },
        "id": "b3d48912",
        "outputId": "3c541f79-b6a4-46e8-ccfb-8bc9cc586037"
      },
      "outputs": [
        {
          "output_type": "stream",
          "name": "stdout",
          "text": [
            "Downloaded thinkstats.py\n"
          ]
        }
      ],
      "source": [
        "from os.path import basename, exists\n",
        "\n",
        "\n",
        "def download(url):\n",
        "    filename = basename(url)\n",
        "    if not exists(filename):\n",
        "        from urllib.request import urlretrieve\n",
        "\n",
        "        local, _ = urlretrieve(url, filename)\n",
        "        print(\"Downloaded \" + local)\n",
        "\n",
        "\n",
        "download(\"https://github.com/AllenDowney/ThinkStats/raw/v3/nb/thinkstats.py\")"
      ]
    },
    {
      "cell_type": "code",
      "execution_count": 2,
      "id": "266bc35e",
      "metadata": {
        "tags": [],
        "colab": {
          "base_uri": "https://localhost:8080/"
        },
        "id": "266bc35e",
        "outputId": "2eaf8a3c-e44c-4187-9c1e-06245af3d82c"
      },
      "outputs": [
        {
          "output_type": "stream",
          "name": "stdout",
          "text": [
            "Collecting empiricaldist\n",
            "  Downloading empiricaldist-0.9.0.tar.gz (14 kB)\n",
            "  Installing build dependencies ... \u001b[?25l\u001b[?25hdone\n",
            "  Getting requirements to build wheel ... \u001b[?25l\u001b[?25hdone\n",
            "  Preparing metadata (pyproject.toml) ... \u001b[?25l\u001b[?25hdone\n",
            "Requirement already satisfied: matplotlib in /usr/local/lib/python3.11/dist-packages (from empiricaldist) (3.10.0)\n",
            "Requirement already satisfied: numpy in /usr/local/lib/python3.11/dist-packages (from empiricaldist) (2.0.2)\n",
            "Requirement already satisfied: pandas in /usr/local/lib/python3.11/dist-packages (from empiricaldist) (2.2.2)\n",
            "Requirement already satisfied: scipy in /usr/local/lib/python3.11/dist-packages (from empiricaldist) (1.15.3)\n",
            "Requirement already satisfied: contourpy>=1.0.1 in /usr/local/lib/python3.11/dist-packages (from matplotlib->empiricaldist) (1.3.2)\n",
            "Requirement already satisfied: cycler>=0.10 in /usr/local/lib/python3.11/dist-packages (from matplotlib->empiricaldist) (0.12.1)\n",
            "Requirement already satisfied: fonttools>=4.22.0 in /usr/local/lib/python3.11/dist-packages (from matplotlib->empiricaldist) (4.58.4)\n",
            "Requirement already satisfied: kiwisolver>=1.3.1 in /usr/local/lib/python3.11/dist-packages (from matplotlib->empiricaldist) (1.4.8)\n",
            "Requirement already satisfied: packaging>=20.0 in /usr/local/lib/python3.11/dist-packages (from matplotlib->empiricaldist) (24.2)\n",
            "Requirement already satisfied: pillow>=8 in /usr/local/lib/python3.11/dist-packages (from matplotlib->empiricaldist) (11.2.1)\n",
            "Requirement already satisfied: pyparsing>=2.3.1 in /usr/local/lib/python3.11/dist-packages (from matplotlib->empiricaldist) (3.2.3)\n",
            "Requirement already satisfied: python-dateutil>=2.7 in /usr/local/lib/python3.11/dist-packages (from matplotlib->empiricaldist) (2.9.0.post0)\n",
            "Requirement already satisfied: pytz>=2020.1 in /usr/local/lib/python3.11/dist-packages (from pandas->empiricaldist) (2025.2)\n",
            "Requirement already satisfied: tzdata>=2022.7 in /usr/local/lib/python3.11/dist-packages (from pandas->empiricaldist) (2025.2)\n",
            "Requirement already satisfied: six>=1.5 in /usr/local/lib/python3.11/dist-packages (from python-dateutil>=2.7->matplotlib->empiricaldist) (1.17.0)\n",
            "Building wheels for collected packages: empiricaldist\n",
            "  Building wheel for empiricaldist (pyproject.toml) ... \u001b[?25l\u001b[?25hdone\n",
            "  Created wheel for empiricaldist: filename=empiricaldist-0.9.0-py3-none-any.whl size=14296 sha256=014c50bc0ccb7be303c927f744ace300b61b530cf1db8bafbaeedd7524f6a9eb\n",
            "  Stored in directory: /root/.cache/pip/wheels/96/04/f1/a934ef1f5f3db621dc39566b2c7de45b8c6916044be6a9c9ac\n",
            "Successfully built empiricaldist\n",
            "Installing collected packages: empiricaldist\n",
            "Successfully installed empiricaldist-0.9.0\n"
          ]
        }
      ],
      "source": [
        "try:\n",
        "    import empiricaldist\n",
        "except ImportError:\n",
        "    %pip install empiricaldist"
      ]
    },
    {
      "cell_type": "code",
      "execution_count": 3,
      "id": "162b32f7",
      "metadata": {
        "tags": [],
        "id": "162b32f7"
      },
      "outputs": [],
      "source": [
        "import numpy as np\n",
        "import pandas as pd\n",
        "import matplotlib.pyplot as plt\n",
        "\n",
        "from thinkstats import decorate"
      ]
    },
    {
      "cell_type": "markdown",
      "id": "56c004a4",
      "metadata": {
        "id": "56c004a4"
      },
      "source": [
        "## Percentiles and Percentile Ranks\n",
        "\n",
        "If you have taken a standardized test, you probably got your results in the form of a raw score and a **percentile rank**.\n",
        "In this context, the percentile rank is the percentage of people who got the same score as you or lower.\n",
        "So if you are \"in the 90th percentile,\" you did as well as or better than 90% of the people who took the exam.\n",
        "\n",
        "To understand percentiles and percentile ranks, let's consider an example based on running speeds.\n",
        "Some years ago I ran the James Joyce Ramble, which is a 10 kilometer road race in Massachusetts.\n",
        "After the race, I downloaded the results to see how my time compared to other runners.\n",
        "\n",
        "Instructions for downloading the data are in the notebook for this chapter."
      ]
    },
    {
      "cell_type": "code",
      "execution_count": 4,
      "id": "65e6a2a4",
      "metadata": {
        "tags": [],
        "colab": {
          "base_uri": "https://localhost:8080/"
        },
        "id": "65e6a2a4",
        "outputId": "fbe361fd-9662-40fd-b727-4e8bd099f496"
      },
      "outputs": [
        {
          "output_type": "stream",
          "name": "stdout",
          "text": [
            "Downloaded relay.py\n",
            "Downloaded Apr25_27thAn_set1.shtml\n"
          ]
        }
      ],
      "source": [
        "download(\"https://github.com/AllenDowney/ThinkStats/raw/v3/nb/relay.py\")\n",
        "download(\n",
        "    \"https://github.com/AllenDowney/ThinkStats/raw/v3/data/Apr25_27thAn_set1.shtml\"\n",
        ")"
      ]
    },
    {
      "cell_type": "markdown",
      "id": "68e60e56",
      "metadata": {
        "id": "68e60e56"
      },
      "source": [
        "The `relay.py` module provides a function that reads the results and returns a Pandas `DataFrame`."
      ]
    },
    {
      "cell_type": "code",
      "execution_count": 5,
      "id": "909d3b27",
      "metadata": {
        "colab": {
          "base_uri": "https://localhost:8080/",
          "height": 206
        },
        "id": "909d3b27",
        "outputId": "dde26551-e615-4315-9842-ccf57c93dbc3"
      },
      "outputs": [
        {
          "output_type": "execute_result",
          "data": {
            "text/plain": [
              "   Place Div/Tot Division Guntime Nettime Min/Mile        MPH\n",
              "0      1   1/362    M2039   30:43   30:42     4:57  12.121212\n",
              "1      2   2/362    M2039   31:36   31:36     5:06  11.764706\n",
              "2      3   3/362    M2039   31:42   31:42     5:07  11.726384\n",
              "3      4   4/362    M2039   32:28   32:27     5:14  11.464968\n",
              "4      5   5/362    M2039   32:52   32:52     5:18  11.320755"
            ],
            "text/html": [
              "\n",
              "  <div id=\"df-2dd25c0d-d485-4209-aa78-199714f7858e\" class=\"colab-df-container\">\n",
              "    <div>\n",
              "<style scoped>\n",
              "    .dataframe tbody tr th:only-of-type {\n",
              "        vertical-align: middle;\n",
              "    }\n",
              "\n",
              "    .dataframe tbody tr th {\n",
              "        vertical-align: top;\n",
              "    }\n",
              "\n",
              "    .dataframe thead th {\n",
              "        text-align: right;\n",
              "    }\n",
              "</style>\n",
              "<table border=\"1\" class=\"dataframe\">\n",
              "  <thead>\n",
              "    <tr style=\"text-align: right;\">\n",
              "      <th></th>\n",
              "      <th>Place</th>\n",
              "      <th>Div/Tot</th>\n",
              "      <th>Division</th>\n",
              "      <th>Guntime</th>\n",
              "      <th>Nettime</th>\n",
              "      <th>Min/Mile</th>\n",
              "      <th>MPH</th>\n",
              "    </tr>\n",
              "  </thead>\n",
              "  <tbody>\n",
              "    <tr>\n",
              "      <th>0</th>\n",
              "      <td>1</td>\n",
              "      <td>1/362</td>\n",
              "      <td>M2039</td>\n",
              "      <td>30:43</td>\n",
              "      <td>30:42</td>\n",
              "      <td>4:57</td>\n",
              "      <td>12.121212</td>\n",
              "    </tr>\n",
              "    <tr>\n",
              "      <th>1</th>\n",
              "      <td>2</td>\n",
              "      <td>2/362</td>\n",
              "      <td>M2039</td>\n",
              "      <td>31:36</td>\n",
              "      <td>31:36</td>\n",
              "      <td>5:06</td>\n",
              "      <td>11.764706</td>\n",
              "    </tr>\n",
              "    <tr>\n",
              "      <th>2</th>\n",
              "      <td>3</td>\n",
              "      <td>3/362</td>\n",
              "      <td>M2039</td>\n",
              "      <td>31:42</td>\n",
              "      <td>31:42</td>\n",
              "      <td>5:07</td>\n",
              "      <td>11.726384</td>\n",
              "    </tr>\n",
              "    <tr>\n",
              "      <th>3</th>\n",
              "      <td>4</td>\n",
              "      <td>4/362</td>\n",
              "      <td>M2039</td>\n",
              "      <td>32:28</td>\n",
              "      <td>32:27</td>\n",
              "      <td>5:14</td>\n",
              "      <td>11.464968</td>\n",
              "    </tr>\n",
              "    <tr>\n",
              "      <th>4</th>\n",
              "      <td>5</td>\n",
              "      <td>5/362</td>\n",
              "      <td>M2039</td>\n",
              "      <td>32:52</td>\n",
              "      <td>32:52</td>\n",
              "      <td>5:18</td>\n",
              "      <td>11.320755</td>\n",
              "    </tr>\n",
              "  </tbody>\n",
              "</table>\n",
              "</div>\n",
              "    <div class=\"colab-df-buttons\">\n",
              "\n",
              "  <div class=\"colab-df-container\">\n",
              "    <button class=\"colab-df-convert\" onclick=\"convertToInteractive('df-2dd25c0d-d485-4209-aa78-199714f7858e')\"\n",
              "            title=\"Convert this dataframe to an interactive table.\"\n",
              "            style=\"display:none;\">\n",
              "\n",
              "  <svg xmlns=\"http://www.w3.org/2000/svg\" height=\"24px\" viewBox=\"0 -960 960 960\">\n",
              "    <path d=\"M120-120v-720h720v720H120Zm60-500h600v-160H180v160Zm220 220h160v-160H400v160Zm0 220h160v-160H400v160ZM180-400h160v-160H180v160Zm440 0h160v-160H620v160ZM180-180h160v-160H180v160Zm440 0h160v-160H620v160Z\"/>\n",
              "  </svg>\n",
              "    </button>\n",
              "\n",
              "  <style>\n",
              "    .colab-df-container {\n",
              "      display:flex;\n",
              "      gap: 12px;\n",
              "    }\n",
              "\n",
              "    .colab-df-convert {\n",
              "      background-color: #E8F0FE;\n",
              "      border: none;\n",
              "      border-radius: 50%;\n",
              "      cursor: pointer;\n",
              "      display: none;\n",
              "      fill: #1967D2;\n",
              "      height: 32px;\n",
              "      padding: 0 0 0 0;\n",
              "      width: 32px;\n",
              "    }\n",
              "\n",
              "    .colab-df-convert:hover {\n",
              "      background-color: #E2EBFA;\n",
              "      box-shadow: 0px 1px 2px rgba(60, 64, 67, 0.3), 0px 1px 3px 1px rgba(60, 64, 67, 0.15);\n",
              "      fill: #174EA6;\n",
              "    }\n",
              "\n",
              "    .colab-df-buttons div {\n",
              "      margin-bottom: 4px;\n",
              "    }\n",
              "\n",
              "    [theme=dark] .colab-df-convert {\n",
              "      background-color: #3B4455;\n",
              "      fill: #D2E3FC;\n",
              "    }\n",
              "\n",
              "    [theme=dark] .colab-df-convert:hover {\n",
              "      background-color: #434B5C;\n",
              "      box-shadow: 0px 1px 3px 1px rgba(0, 0, 0, 0.15);\n",
              "      filter: drop-shadow(0px 1px 2px rgba(0, 0, 0, 0.3));\n",
              "      fill: #FFFFFF;\n",
              "    }\n",
              "  </style>\n",
              "\n",
              "    <script>\n",
              "      const buttonEl =\n",
              "        document.querySelector('#df-2dd25c0d-d485-4209-aa78-199714f7858e button.colab-df-convert');\n",
              "      buttonEl.style.display =\n",
              "        google.colab.kernel.accessAllowed ? 'block' : 'none';\n",
              "\n",
              "      async function convertToInteractive(key) {\n",
              "        const element = document.querySelector('#df-2dd25c0d-d485-4209-aa78-199714f7858e');\n",
              "        const dataTable =\n",
              "          await google.colab.kernel.invokeFunction('convertToInteractive',\n",
              "                                                    [key], {});\n",
              "        if (!dataTable) return;\n",
              "\n",
              "        const docLinkHtml = 'Like what you see? Visit the ' +\n",
              "          '<a target=\"_blank\" href=https://colab.research.google.com/notebooks/data_table.ipynb>data table notebook</a>'\n",
              "          + ' to learn more about interactive tables.';\n",
              "        element.innerHTML = '';\n",
              "        dataTable['output_type'] = 'display_data';\n",
              "        await google.colab.output.renderOutput(dataTable, element);\n",
              "        const docLink = document.createElement('div');\n",
              "        docLink.innerHTML = docLinkHtml;\n",
              "        element.appendChild(docLink);\n",
              "      }\n",
              "    </script>\n",
              "  </div>\n",
              "\n",
              "\n",
              "    <div id=\"df-d34a5569-1877-4e94-b5c8-896e0ee78d1a\">\n",
              "      <button class=\"colab-df-quickchart\" onclick=\"quickchart('df-d34a5569-1877-4e94-b5c8-896e0ee78d1a')\"\n",
              "                title=\"Suggest charts\"\n",
              "                style=\"display:none;\">\n",
              "\n",
              "<svg xmlns=\"http://www.w3.org/2000/svg\" height=\"24px\"viewBox=\"0 0 24 24\"\n",
              "     width=\"24px\">\n",
              "    <g>\n",
              "        <path d=\"M19 3H5c-1.1 0-2 .9-2 2v14c0 1.1.9 2 2 2h14c1.1 0 2-.9 2-2V5c0-1.1-.9-2-2-2zM9 17H7v-7h2v7zm4 0h-2V7h2v10zm4 0h-2v-4h2v4z\"/>\n",
              "    </g>\n",
              "</svg>\n",
              "      </button>\n",
              "\n",
              "<style>\n",
              "  .colab-df-quickchart {\n",
              "      --bg-color: #E8F0FE;\n",
              "      --fill-color: #1967D2;\n",
              "      --hover-bg-color: #E2EBFA;\n",
              "      --hover-fill-color: #174EA6;\n",
              "      --disabled-fill-color: #AAA;\n",
              "      --disabled-bg-color: #DDD;\n",
              "  }\n",
              "\n",
              "  [theme=dark] .colab-df-quickchart {\n",
              "      --bg-color: #3B4455;\n",
              "      --fill-color: #D2E3FC;\n",
              "      --hover-bg-color: #434B5C;\n",
              "      --hover-fill-color: #FFFFFF;\n",
              "      --disabled-bg-color: #3B4455;\n",
              "      --disabled-fill-color: #666;\n",
              "  }\n",
              "\n",
              "  .colab-df-quickchart {\n",
              "    background-color: var(--bg-color);\n",
              "    border: none;\n",
              "    border-radius: 50%;\n",
              "    cursor: pointer;\n",
              "    display: none;\n",
              "    fill: var(--fill-color);\n",
              "    height: 32px;\n",
              "    padding: 0;\n",
              "    width: 32px;\n",
              "  }\n",
              "\n",
              "  .colab-df-quickchart:hover {\n",
              "    background-color: var(--hover-bg-color);\n",
              "    box-shadow: 0 1px 2px rgba(60, 64, 67, 0.3), 0 1px 3px 1px rgba(60, 64, 67, 0.15);\n",
              "    fill: var(--button-hover-fill-color);\n",
              "  }\n",
              "\n",
              "  .colab-df-quickchart-complete:disabled,\n",
              "  .colab-df-quickchart-complete:disabled:hover {\n",
              "    background-color: var(--disabled-bg-color);\n",
              "    fill: var(--disabled-fill-color);\n",
              "    box-shadow: none;\n",
              "  }\n",
              "\n",
              "  .colab-df-spinner {\n",
              "    border: 2px solid var(--fill-color);\n",
              "    border-color: transparent;\n",
              "    border-bottom-color: var(--fill-color);\n",
              "    animation:\n",
              "      spin 1s steps(1) infinite;\n",
              "  }\n",
              "\n",
              "  @keyframes spin {\n",
              "    0% {\n",
              "      border-color: transparent;\n",
              "      border-bottom-color: var(--fill-color);\n",
              "      border-left-color: var(--fill-color);\n",
              "    }\n",
              "    20% {\n",
              "      border-color: transparent;\n",
              "      border-left-color: var(--fill-color);\n",
              "      border-top-color: var(--fill-color);\n",
              "    }\n",
              "    30% {\n",
              "      border-color: transparent;\n",
              "      border-left-color: var(--fill-color);\n",
              "      border-top-color: var(--fill-color);\n",
              "      border-right-color: var(--fill-color);\n",
              "    }\n",
              "    40% {\n",
              "      border-color: transparent;\n",
              "      border-right-color: var(--fill-color);\n",
              "      border-top-color: var(--fill-color);\n",
              "    }\n",
              "    60% {\n",
              "      border-color: transparent;\n",
              "      border-right-color: var(--fill-color);\n",
              "    }\n",
              "    80% {\n",
              "      border-color: transparent;\n",
              "      border-right-color: var(--fill-color);\n",
              "      border-bottom-color: var(--fill-color);\n",
              "    }\n",
              "    90% {\n",
              "      border-color: transparent;\n",
              "      border-bottom-color: var(--fill-color);\n",
              "    }\n",
              "  }\n",
              "</style>\n",
              "\n",
              "      <script>\n",
              "        async function quickchart(key) {\n",
              "          const quickchartButtonEl =\n",
              "            document.querySelector('#' + key + ' button');\n",
              "          quickchartButtonEl.disabled = true;  // To prevent multiple clicks.\n",
              "          quickchartButtonEl.classList.add('colab-df-spinner');\n",
              "          try {\n",
              "            const charts = await google.colab.kernel.invokeFunction(\n",
              "                'suggestCharts', [key], {});\n",
              "          } catch (error) {\n",
              "            console.error('Error during call to suggestCharts:', error);\n",
              "          }\n",
              "          quickchartButtonEl.classList.remove('colab-df-spinner');\n",
              "          quickchartButtonEl.classList.add('colab-df-quickchart-complete');\n",
              "        }\n",
              "        (() => {\n",
              "          let quickchartButtonEl =\n",
              "            document.querySelector('#df-d34a5569-1877-4e94-b5c8-896e0ee78d1a button');\n",
              "          quickchartButtonEl.style.display =\n",
              "            google.colab.kernel.accessAllowed ? 'block' : 'none';\n",
              "        })();\n",
              "      </script>\n",
              "    </div>\n",
              "\n",
              "    </div>\n",
              "  </div>\n"
            ],
            "application/vnd.google.colaboratory.intrinsic+json": {
              "type": "dataframe",
              "variable_name": "results",
              "summary": "{\n  \"name\": \"results\",\n  \"rows\": 1633,\n  \"fields\": [\n    {\n      \"column\": \"Place\",\n      \"properties\": {\n        \"dtype\": \"number\",\n        \"std\": 471,\n        \"min\": 1,\n        \"max\": 1633,\n        \"num_unique_values\": 1633,\n        \"samples\": [\n          675,\n          1628,\n          544\n        ],\n        \"semantic_type\": \"\",\n        \"description\": \"\"\n      }\n    },\n    {\n      \"column\": \"Div/Tot\",\n      \"properties\": {\n        \"dtype\": \"string\",\n        \"num_unique_values\": 1597,\n        \"samples\": [\n          \"170/256\",\n          \"34/256\",\n          \"48/448\"\n        ],\n        \"semantic_type\": \"\",\n        \"description\": \"\"\n      }\n    },\n    {\n      \"column\": \"Division\",\n      \"properties\": {\n        \"dtype\": \"category\",\n        \"num_unique_values\": 12,\n        \"samples\": [\n          \"M7099\",\n          \"F0119\",\n          \"M2039\"\n        ],\n        \"semantic_type\": \"\",\n        \"description\": \"\"\n      }\n    },\n    {\n      \"column\": \"Guntime\",\n      \"properties\": {\n        \"dtype\": \"string\",\n        \"num_unique_values\": 1103,\n        \"samples\": [\n          \"49:51\",\n          \"1:12:26\",\n          \"52:02\"\n        ],\n        \"semantic_type\": \"\",\n        \"description\": \"\"\n      }\n    },\n    {\n      \"column\": \"Nettime\",\n      \"properties\": {\n        \"dtype\": \"string\",\n        \"num_unique_values\": 1085,\n        \"samples\": [\n          \"1:00:32\",\n          \"40:53\",\n          \"1:07:01\"\n        ],\n        \"semantic_type\": \"\",\n        \"description\": \"\"\n      }\n    },\n    {\n      \"column\": \"Min/Mile\",\n      \"properties\": {\n        \"dtype\": \"object\",\n        \"num_unique_values\": 374,\n        \"samples\": [\n          \"11:43\",\n          \"6:25\",\n          \"5:56\"\n        ],\n        \"semantic_type\": \"\",\n        \"description\": \"\"\n      }\n    },\n    {\n      \"column\": \"MPH\",\n      \"properties\": {\n        \"dtype\": \"number\",\n        \"std\": 1.1497705742152804,\n        \"min\": 3.0612244897959187,\n        \"max\": 12.121212121212121,\n        \"num_unique_values\": 374,\n        \"samples\": [\n          5.12091038406828,\n          9.35064935064935,\n          10.112359550561797\n        ],\n        \"semantic_type\": \"\",\n        \"description\": \"\"\n      }\n    }\n  ]\n}"
            }
          },
          "metadata": {},
          "execution_count": 5
        }
      ],
      "source": [
        "from relay import read_results\n",
        "\n",
        "results = read_results()\n",
        "results.head()"
      ]
    },
    {
      "cell_type": "markdown",
      "id": "637bb60c",
      "metadata": {
        "id": "637bb60c"
      },
      "source": [
        "`results` contains one row for each of 1633 runners who finished the race.\n",
        "The column we'll use to quantify performance is `MPH`, which contains each runner's average speed in miles per hour.\n",
        "We'll select this column and use `values` to extract the speeds as a NumPy array."
      ]
    },
    {
      "cell_type": "code",
      "execution_count": 6,
      "id": "baa0dead",
      "metadata": {
        "id": "baa0dead"
      },
      "outputs": [],
      "source": [
        "speeds = results[\"MPH\"].values"
      ]
    },
    {
      "cell_type": "markdown",
      "id": "dddc7eac",
      "metadata": {
        "id": "dddc7eac"
      },
      "source": [
        "I finished in 42:44, so we can find my row like this."
      ]
    },
    {
      "cell_type": "code",
      "execution_count": 7,
      "id": "3e9d1421",
      "metadata": {
        "colab": {
          "base_uri": "https://localhost:8080/",
          "height": 89
        },
        "id": "3e9d1421",
        "outputId": "44a21d0f-c4f7-4ede-856d-5f3feadfd5d4"
      },
      "outputs": [
        {
          "output_type": "execute_result",
          "data": {
            "text/plain": [
              "    Place Div/Tot Division Guntime Nettime Min/Mile       MPH\n",
              "96     97  26/256    M4049   42:48   42:44     6:53  8.716707"
            ],
            "text/html": [
              "\n",
              "  <div id=\"df-0ed81a81-d9c3-443a-97d1-77b617f4c0f0\" class=\"colab-df-container\">\n",
              "    <div>\n",
              "<style scoped>\n",
              "    .dataframe tbody tr th:only-of-type {\n",
              "        vertical-align: middle;\n",
              "    }\n",
              "\n",
              "    .dataframe tbody tr th {\n",
              "        vertical-align: top;\n",
              "    }\n",
              "\n",
              "    .dataframe thead th {\n",
              "        text-align: right;\n",
              "    }\n",
              "</style>\n",
              "<table border=\"1\" class=\"dataframe\">\n",
              "  <thead>\n",
              "    <tr style=\"text-align: right;\">\n",
              "      <th></th>\n",
              "      <th>Place</th>\n",
              "      <th>Div/Tot</th>\n",
              "      <th>Division</th>\n",
              "      <th>Guntime</th>\n",
              "      <th>Nettime</th>\n",
              "      <th>Min/Mile</th>\n",
              "      <th>MPH</th>\n",
              "    </tr>\n",
              "  </thead>\n",
              "  <tbody>\n",
              "    <tr>\n",
              "      <th>96</th>\n",
              "      <td>97</td>\n",
              "      <td>26/256</td>\n",
              "      <td>M4049</td>\n",
              "      <td>42:48</td>\n",
              "      <td>42:44</td>\n",
              "      <td>6:53</td>\n",
              "      <td>8.716707</td>\n",
              "    </tr>\n",
              "  </tbody>\n",
              "</table>\n",
              "</div>\n",
              "    <div class=\"colab-df-buttons\">\n",
              "\n",
              "  <div class=\"colab-df-container\">\n",
              "    <button class=\"colab-df-convert\" onclick=\"convertToInteractive('df-0ed81a81-d9c3-443a-97d1-77b617f4c0f0')\"\n",
              "            title=\"Convert this dataframe to an interactive table.\"\n",
              "            style=\"display:none;\">\n",
              "\n",
              "  <svg xmlns=\"http://www.w3.org/2000/svg\" height=\"24px\" viewBox=\"0 -960 960 960\">\n",
              "    <path d=\"M120-120v-720h720v720H120Zm60-500h600v-160H180v160Zm220 220h160v-160H400v160Zm0 220h160v-160H400v160ZM180-400h160v-160H180v160Zm440 0h160v-160H620v160ZM180-180h160v-160H180v160Zm440 0h160v-160H620v160Z\"/>\n",
              "  </svg>\n",
              "    </button>\n",
              "\n",
              "  <style>\n",
              "    .colab-df-container {\n",
              "      display:flex;\n",
              "      gap: 12px;\n",
              "    }\n",
              "\n",
              "    .colab-df-convert {\n",
              "      background-color: #E8F0FE;\n",
              "      border: none;\n",
              "      border-radius: 50%;\n",
              "      cursor: pointer;\n",
              "      display: none;\n",
              "      fill: #1967D2;\n",
              "      height: 32px;\n",
              "      padding: 0 0 0 0;\n",
              "      width: 32px;\n",
              "    }\n",
              "\n",
              "    .colab-df-convert:hover {\n",
              "      background-color: #E2EBFA;\n",
              "      box-shadow: 0px 1px 2px rgba(60, 64, 67, 0.3), 0px 1px 3px 1px rgba(60, 64, 67, 0.15);\n",
              "      fill: #174EA6;\n",
              "    }\n",
              "\n",
              "    .colab-df-buttons div {\n",
              "      margin-bottom: 4px;\n",
              "    }\n",
              "\n",
              "    [theme=dark] .colab-df-convert {\n",
              "      background-color: #3B4455;\n",
              "      fill: #D2E3FC;\n",
              "    }\n",
              "\n",
              "    [theme=dark] .colab-df-convert:hover {\n",
              "      background-color: #434B5C;\n",
              "      box-shadow: 0px 1px 3px 1px rgba(0, 0, 0, 0.15);\n",
              "      filter: drop-shadow(0px 1px 2px rgba(0, 0, 0, 0.3));\n",
              "      fill: #FFFFFF;\n",
              "    }\n",
              "  </style>\n",
              "\n",
              "    <script>\n",
              "      const buttonEl =\n",
              "        document.querySelector('#df-0ed81a81-d9c3-443a-97d1-77b617f4c0f0 button.colab-df-convert');\n",
              "      buttonEl.style.display =\n",
              "        google.colab.kernel.accessAllowed ? 'block' : 'none';\n",
              "\n",
              "      async function convertToInteractive(key) {\n",
              "        const element = document.querySelector('#df-0ed81a81-d9c3-443a-97d1-77b617f4c0f0');\n",
              "        const dataTable =\n",
              "          await google.colab.kernel.invokeFunction('convertToInteractive',\n",
              "                                                    [key], {});\n",
              "        if (!dataTable) return;\n",
              "\n",
              "        const docLinkHtml = 'Like what you see? Visit the ' +\n",
              "          '<a target=\"_blank\" href=https://colab.research.google.com/notebooks/data_table.ipynb>data table notebook</a>'\n",
              "          + ' to learn more about interactive tables.';\n",
              "        element.innerHTML = '';\n",
              "        dataTable['output_type'] = 'display_data';\n",
              "        await google.colab.output.renderOutput(dataTable, element);\n",
              "        const docLink = document.createElement('div');\n",
              "        docLink.innerHTML = docLinkHtml;\n",
              "        element.appendChild(docLink);\n",
              "      }\n",
              "    </script>\n",
              "  </div>\n",
              "\n",
              "\n",
              "  <div id=\"id_0911bc95-771c-4d78-880b-f4aa5d1e06f5\">\n",
              "    <style>\n",
              "      .colab-df-generate {\n",
              "        background-color: #E8F0FE;\n",
              "        border: none;\n",
              "        border-radius: 50%;\n",
              "        cursor: pointer;\n",
              "        display: none;\n",
              "        fill: #1967D2;\n",
              "        height: 32px;\n",
              "        padding: 0 0 0 0;\n",
              "        width: 32px;\n",
              "      }\n",
              "\n",
              "      .colab-df-generate:hover {\n",
              "        background-color: #E2EBFA;\n",
              "        box-shadow: 0px 1px 2px rgba(60, 64, 67, 0.3), 0px 1px 3px 1px rgba(60, 64, 67, 0.15);\n",
              "        fill: #174EA6;\n",
              "      }\n",
              "\n",
              "      [theme=dark] .colab-df-generate {\n",
              "        background-color: #3B4455;\n",
              "        fill: #D2E3FC;\n",
              "      }\n",
              "\n",
              "      [theme=dark] .colab-df-generate:hover {\n",
              "        background-color: #434B5C;\n",
              "        box-shadow: 0px 1px 3px 1px rgba(0, 0, 0, 0.15);\n",
              "        filter: drop-shadow(0px 1px 2px rgba(0, 0, 0, 0.3));\n",
              "        fill: #FFFFFF;\n",
              "      }\n",
              "    </style>\n",
              "    <button class=\"colab-df-generate\" onclick=\"generateWithVariable('my_result')\"\n",
              "            title=\"Generate code using this dataframe.\"\n",
              "            style=\"display:none;\">\n",
              "\n",
              "  <svg xmlns=\"http://www.w3.org/2000/svg\" height=\"24px\"viewBox=\"0 0 24 24\"\n",
              "       width=\"24px\">\n",
              "    <path d=\"M7,19H8.4L18.45,9,17,7.55,7,17.6ZM5,21V16.75L18.45,3.32a2,2,0,0,1,2.83,0l1.4,1.43a1.91,1.91,0,0,1,.58,1.4,1.91,1.91,0,0,1-.58,1.4L9.25,21ZM18.45,9,17,7.55Zm-12,3A5.31,5.31,0,0,0,4.9,8.1,5.31,5.31,0,0,0,1,6.5,5.31,5.31,0,0,0,4.9,4.9,5.31,5.31,0,0,0,6.5,1,5.31,5.31,0,0,0,8.1,4.9,5.31,5.31,0,0,0,12,6.5,5.46,5.46,0,0,0,6.5,12Z\"/>\n",
              "  </svg>\n",
              "    </button>\n",
              "    <script>\n",
              "      (() => {\n",
              "      const buttonEl =\n",
              "        document.querySelector('#id_0911bc95-771c-4d78-880b-f4aa5d1e06f5 button.colab-df-generate');\n",
              "      buttonEl.style.display =\n",
              "        google.colab.kernel.accessAllowed ? 'block' : 'none';\n",
              "\n",
              "      buttonEl.onclick = () => {\n",
              "        google.colab.notebook.generateWithVariable('my_result');\n",
              "      }\n",
              "      })();\n",
              "    </script>\n",
              "  </div>\n",
              "\n",
              "    </div>\n",
              "  </div>\n"
            ],
            "application/vnd.google.colaboratory.intrinsic+json": {
              "type": "dataframe",
              "variable_name": "my_result",
              "repr_error": "0"
            }
          },
          "metadata": {},
          "execution_count": 7
        }
      ],
      "source": [
        "my_result = results.query(\"Nettime == '42:44'\")\n",
        "my_result"
      ]
    },
    {
      "cell_type": "markdown",
      "id": "bca670fc",
      "metadata": {
        "id": "bca670fc"
      },
      "source": [
        "The index of my row is 96, so we can extract my speed like this."
      ]
    },
    {
      "cell_type": "code",
      "execution_count": 8,
      "id": "017ef765",
      "metadata": {
        "id": "017ef765"
      },
      "outputs": [],
      "source": [
        "my_speed = speeds[96]"
      ]
    },
    {
      "cell_type": "markdown",
      "id": "ca544c3d",
      "metadata": {
        "id": "ca544c3d"
      },
      "source": [
        "We can use `sum` to count the number of runners at my speed or slower."
      ]
    },
    {
      "cell_type": "code",
      "execution_count": 9,
      "id": "dc321353",
      "metadata": {
        "colab": {
          "base_uri": "https://localhost:8080/"
        },
        "id": "dc321353",
        "outputId": "e4c6d72c-dbd6-47f8-a0e5-387260d962e9"
      },
      "outputs": [
        {
          "output_type": "execute_result",
          "data": {
            "text/plain": [
              "np.int64(1537)"
            ]
          },
          "metadata": {},
          "execution_count": 9
        }
      ],
      "source": [
        "(speeds <= my_speed).sum()"
      ]
    },
    {
      "cell_type": "markdown",
      "id": "b8b19c0b",
      "metadata": {
        "id": "b8b19c0b"
      },
      "source": [
        "And we can use `mean` to compute the percentage of runners at my speed or slower."
      ]
    },
    {
      "cell_type": "code",
      "execution_count": 10,
      "id": "854e4f69",
      "metadata": {
        "colab": {
          "base_uri": "https://localhost:8080/"
        },
        "id": "854e4f69",
        "outputId": "08726415-18d3-425c-cbca-a25c8fcd68d9"
      },
      "outputs": [
        {
          "output_type": "execute_result",
          "data": {
            "text/plain": [
              "np.float64(94.12124923453766)"
            ]
          },
          "metadata": {},
          "execution_count": 10
        }
      ],
      "source": [
        "(speeds <= my_speed).mean() * 100"
      ]
    },
    {
      "cell_type": "markdown",
      "id": "872f1011",
      "metadata": {
        "id": "872f1011"
      },
      "source": [
        "The result is my percentile rank in the field, which was about 94%.\n",
        "\n",
        "More generally, the following function computes the percentile rank of a particular value in a sequence of values."
      ]
    },
    {
      "cell_type": "code",
      "execution_count": 11,
      "id": "3341b73f",
      "metadata": {
        "id": "3341b73f"
      },
      "outputs": [],
      "source": [
        "def percentile_rank(x, seq):\n",
        "    \"\"\"Percentile rank of x.\n",
        "\n",
        "    x: value\n",
        "    seq: sequence of values\n",
        "\n",
        "    returns: percentile rank 0-100\n",
        "    \"\"\"\n",
        "    return (seq <= x).mean() * 100"
      ]
    },
    {
      "cell_type": "markdown",
      "id": "facb4819",
      "metadata": {
        "id": "facb4819"
      },
      "source": [
        "In `results`, the `Division` column indicates the division each runner was in, identified by gender and age range -- for example, I was in the M4049 division, which includes male runners aged 40 to 49.\n",
        "We can use the `query` method to select the rows for people in my division and extract their speeds."
      ]
    },
    {
      "cell_type": "code",
      "execution_count": 100,
      "id": "32633522",
      "metadata": {
        "id": "32633522"
      },
      "outputs": [],
      "source": [
        "my_division = results.query(\"Division == 'M4049'\")\n",
        "my_division_speeds = my_division[\"MPH\"].values\n"
      ]
    },
    {
      "cell_type": "markdown",
      "id": "c4544572",
      "metadata": {
        "id": "c4544572"
      },
      "source": [
        "Now we can use `percentile_rank` to compute my percentile rank in my division."
      ]
    },
    {
      "cell_type": "code",
      "execution_count": 13,
      "id": "ad01bcfb",
      "metadata": {
        "colab": {
          "base_uri": "https://localhost:8080/"
        },
        "id": "ad01bcfb",
        "outputId": "bf0e2755-655f-4f93-a62f-a8d096506d6e"
      },
      "outputs": [
        {
          "output_type": "execute_result",
          "data": {
            "text/plain": [
              "np.float64(90.234375)"
            ]
          },
          "metadata": {},
          "execution_count": 13
        }
      ],
      "source": [
        "percentile_rank(my_speed, my_division_speeds)"
      ]
    },
    {
      "cell_type": "markdown",
      "id": "6c442d84",
      "metadata": {
        "id": "6c442d84"
      },
      "source": [
        "Going in the other direction, if we are given a percentile rank, the following function finds the corresponding value in a sequence."
      ]
    },
    {
      "cell_type": "code",
      "execution_count": 14,
      "id": "9f45b897",
      "metadata": {
        "id": "9f45b897"
      },
      "outputs": [],
      "source": [
        "def percentile(p, seq):\n",
        "    n = len(seq)\n",
        "    i = (1 - p / 100) * (n + 1)\n",
        "    return seq[round(i)]"
      ]
    },
    {
      "cell_type": "markdown",
      "id": "b5a14555",
      "metadata": {
        "id": "b5a14555"
      },
      "source": [
        "`n` is the number of elements in the sequence; `i` is the index of the element with the given percentile rank.\n",
        "When we look up a percentile rank, the corresponding value is called a **percentile**."
      ]
    },
    {
      "cell_type": "code",
      "execution_count": 15,
      "id": "85c1454f",
      "metadata": {
        "colab": {
          "base_uri": "https://localhost:8080/"
        },
        "id": "85c1454f",
        "outputId": "c3b25c9e-ed08-4419-cf83-5fe24c053004"
      },
      "outputs": [
        {
          "output_type": "execute_result",
          "data": {
            "text/plain": [
              "np.float64(8.591885441527447)"
            ]
          },
          "metadata": {},
          "execution_count": 15
        }
      ],
      "source": [
        "percentile(90, my_division_speeds)"
      ]
    },
    {
      "cell_type": "markdown",
      "id": "205368e8",
      "metadata": {
        "id": "205368e8"
      },
      "source": [
        "In my division, the 90th percentile was about 8.6 mph.\n",
        "\n",
        "Now, some years after I ran that race, I am in the `M5059` division.\n",
        "So let's see how fast I would have to run to have the same percentile rank in my new division.\n",
        "We can answer that question by converting my percentile rank in the `M4049` division, which is about 90.2%, to a speed in the `M5059` division."
      ]
    },
    {
      "cell_type": "code",
      "execution_count": 16,
      "id": "53712a8d",
      "metadata": {
        "colab": {
          "base_uri": "https://localhost:8080/"
        },
        "id": "53712a8d",
        "outputId": "6f2b5452-2a40-4a8c-8908-35b9f78427cd"
      },
      "outputs": [
        {
          "output_type": "execute_result",
          "data": {
            "text/plain": [
              "np.float64(8.017817371937639)"
            ]
          },
          "metadata": {},
          "execution_count": 16
        }
      ],
      "source": [
        "next_division = results.query(\"Division == 'M5059'\")\n",
        "next_division_speeds = next_division[\"MPH\"].values\n",
        "\n",
        "percentile(90.2, next_division_speeds)"
      ]
    },
    {
      "cell_type": "markdown",
      "id": "f7568f74",
      "metadata": {
        "id": "f7568f74"
      },
      "source": [
        "The person in the `M5059` division with the same percentile rank as me ran just over 8 mph.\n",
        "We can use `query` to find him."
      ]
    },
    {
      "cell_type": "code",
      "execution_count": 17,
      "id": "d8ca85d6",
      "metadata": {
        "colab": {
          "base_uri": "https://localhost:8080/",
          "height": 80
        },
        "id": "d8ca85d6",
        "outputId": "23b9d70e-0581-4d28-9813-dde23640a0af"
      },
      "outputs": [
        {
          "output_type": "execute_result",
          "data": {
            "text/plain": [
              "     Place Div/Tot Division Guntime Nettime Min/Mile       MPH\n",
              "222    223  18/171    M5059   46:30   46:25     7:29  8.017817"
            ],
            "text/html": [
              "\n",
              "  <div id=\"df-412a1717-73a9-4be1-b0a0-17e6dbdda0ef\" class=\"colab-df-container\">\n",
              "    <div>\n",
              "<style scoped>\n",
              "    .dataframe tbody tr th:only-of-type {\n",
              "        vertical-align: middle;\n",
              "    }\n",
              "\n",
              "    .dataframe tbody tr th {\n",
              "        vertical-align: top;\n",
              "    }\n",
              "\n",
              "    .dataframe thead th {\n",
              "        text-align: right;\n",
              "    }\n",
              "</style>\n",
              "<table border=\"1\" class=\"dataframe\">\n",
              "  <thead>\n",
              "    <tr style=\"text-align: right;\">\n",
              "      <th></th>\n",
              "      <th>Place</th>\n",
              "      <th>Div/Tot</th>\n",
              "      <th>Division</th>\n",
              "      <th>Guntime</th>\n",
              "      <th>Nettime</th>\n",
              "      <th>Min/Mile</th>\n",
              "      <th>MPH</th>\n",
              "    </tr>\n",
              "  </thead>\n",
              "  <tbody>\n",
              "    <tr>\n",
              "      <th>222</th>\n",
              "      <td>223</td>\n",
              "      <td>18/171</td>\n",
              "      <td>M5059</td>\n",
              "      <td>46:30</td>\n",
              "      <td>46:25</td>\n",
              "      <td>7:29</td>\n",
              "      <td>8.017817</td>\n",
              "    </tr>\n",
              "  </tbody>\n",
              "</table>\n",
              "</div>\n",
              "    <div class=\"colab-df-buttons\">\n",
              "\n",
              "  <div class=\"colab-df-container\">\n",
              "    <button class=\"colab-df-convert\" onclick=\"convertToInteractive('df-412a1717-73a9-4be1-b0a0-17e6dbdda0ef')\"\n",
              "            title=\"Convert this dataframe to an interactive table.\"\n",
              "            style=\"display:none;\">\n",
              "\n",
              "  <svg xmlns=\"http://www.w3.org/2000/svg\" height=\"24px\" viewBox=\"0 -960 960 960\">\n",
              "    <path d=\"M120-120v-720h720v720H120Zm60-500h600v-160H180v160Zm220 220h160v-160H400v160Zm0 220h160v-160H400v160ZM180-400h160v-160H180v160Zm440 0h160v-160H620v160ZM180-180h160v-160H180v160Zm440 0h160v-160H620v160Z\"/>\n",
              "  </svg>\n",
              "    </button>\n",
              "\n",
              "  <style>\n",
              "    .colab-df-container {\n",
              "      display:flex;\n",
              "      gap: 12px;\n",
              "    }\n",
              "\n",
              "    .colab-df-convert {\n",
              "      background-color: #E8F0FE;\n",
              "      border: none;\n",
              "      border-radius: 50%;\n",
              "      cursor: pointer;\n",
              "      display: none;\n",
              "      fill: #1967D2;\n",
              "      height: 32px;\n",
              "      padding: 0 0 0 0;\n",
              "      width: 32px;\n",
              "    }\n",
              "\n",
              "    .colab-df-convert:hover {\n",
              "      background-color: #E2EBFA;\n",
              "      box-shadow: 0px 1px 2px rgba(60, 64, 67, 0.3), 0px 1px 3px 1px rgba(60, 64, 67, 0.15);\n",
              "      fill: #174EA6;\n",
              "    }\n",
              "\n",
              "    .colab-df-buttons div {\n",
              "      margin-bottom: 4px;\n",
              "    }\n",
              "\n",
              "    [theme=dark] .colab-df-convert {\n",
              "      background-color: #3B4455;\n",
              "      fill: #D2E3FC;\n",
              "    }\n",
              "\n",
              "    [theme=dark] .colab-df-convert:hover {\n",
              "      background-color: #434B5C;\n",
              "      box-shadow: 0px 1px 3px 1px rgba(0, 0, 0, 0.15);\n",
              "      filter: drop-shadow(0px 1px 2px rgba(0, 0, 0, 0.3));\n",
              "      fill: #FFFFFF;\n",
              "    }\n",
              "  </style>\n",
              "\n",
              "    <script>\n",
              "      const buttonEl =\n",
              "        document.querySelector('#df-412a1717-73a9-4be1-b0a0-17e6dbdda0ef button.colab-df-convert');\n",
              "      buttonEl.style.display =\n",
              "        google.colab.kernel.accessAllowed ? 'block' : 'none';\n",
              "\n",
              "      async function convertToInteractive(key) {\n",
              "        const element = document.querySelector('#df-412a1717-73a9-4be1-b0a0-17e6dbdda0ef');\n",
              "        const dataTable =\n",
              "          await google.colab.kernel.invokeFunction('convertToInteractive',\n",
              "                                                    [key], {});\n",
              "        if (!dataTable) return;\n",
              "\n",
              "        const docLinkHtml = 'Like what you see? Visit the ' +\n",
              "          '<a target=\"_blank\" href=https://colab.research.google.com/notebooks/data_table.ipynb>data table notebook</a>'\n",
              "          + ' to learn more about interactive tables.';\n",
              "        element.innerHTML = '';\n",
              "        dataTable['output_type'] = 'display_data';\n",
              "        await google.colab.output.renderOutput(dataTable, element);\n",
              "        const docLink = document.createElement('div');\n",
              "        docLink.innerHTML = docLinkHtml;\n",
              "        element.appendChild(docLink);\n",
              "      }\n",
              "    </script>\n",
              "  </div>\n",
              "\n",
              "\n",
              "    </div>\n",
              "  </div>\n"
            ],
            "application/vnd.google.colaboratory.intrinsic+json": {
              "type": "dataframe",
              "repr_error": "0"
            }
          },
          "metadata": {},
          "execution_count": 17
        }
      ],
      "source": [
        "next_division.query(\"MPH > 8.01\").tail(1)"
      ]
    },
    {
      "cell_type": "markdown",
      "id": "8296a0a9",
      "metadata": {
        "id": "8296a0a9"
      },
      "source": [
        "He finished in 46:25 and came in 18th out of 171 people in his division.\n",
        "\n",
        "With this introduction to percentile ranks and percentiles, we are ready for cumulative distribution functions."
      ]
    },
    {
      "cell_type": "markdown",
      "id": "243f1bc9",
      "metadata": {
        "id": "243f1bc9"
      },
      "source": [
        "## CDFs\n",
        "\n",
        "A **cumulative distribution function**, or CDF, is another way to describe the distribution of a set of values, along with a frequency table or PMF.\n",
        "Given a value `x`, the CDF computes the fraction of values less than or equal to `x`.\n",
        "As an example, we'll start with a short sequence."
      ]
    },
    {
      "cell_type": "code",
      "execution_count": 18,
      "id": "a092f3ac",
      "metadata": {
        "id": "a092f3ac"
      },
      "outputs": [],
      "source": [
        "t = [1, 2, 2, 3, 5]"
      ]
    },
    {
      "cell_type": "markdown",
      "id": "d38c77c5",
      "metadata": {
        "id": "d38c77c5"
      },
      "source": [
        "One way to compute a CDF is to start with a PMF.\n",
        "Here is a `Pmf` object that represents the distribution of values in `t`."
      ]
    },
    {
      "cell_type": "code",
      "execution_count": 19,
      "id": "fd9f1139",
      "metadata": {
        "colab": {
          "base_uri": "https://localhost:8080/",
          "height": 192
        },
        "id": "fd9f1139",
        "outputId": "99425a43-ddb0-477f-a1cd-d97e8f1be78d"
      },
      "outputs": [
        {
          "output_type": "execute_result",
          "data": {
            "text/plain": [
              "1    0.2\n",
              "2    0.4\n",
              "3    0.2\n",
              "5    0.2\n",
              "Name: , dtype: float64"
            ],
            "text/html": [
              "<div>\n",
              "<style scoped>\n",
              "    .dataframe tbody tr th:only-of-type {\n",
              "        vertical-align: middle;\n",
              "    }\n",
              "\n",
              "    .dataframe tbody tr th {\n",
              "        vertical-align: top;\n",
              "    }\n",
              "\n",
              "    .dataframe thead th {\n",
              "        text-align: right;\n",
              "    }\n",
              "</style>\n",
              "<table border=\"1\" class=\"dataframe\">\n",
              "  <thead>\n",
              "    <tr style=\"text-align: right;\">\n",
              "      <th></th>\n",
              "      <th></th>\n",
              "    </tr>\n",
              "  </thead>\n",
              "  <tbody>\n",
              "    <tr>\n",
              "      <th>1</th>\n",
              "      <td>0.2</td>\n",
              "    </tr>\n",
              "    <tr>\n",
              "      <th>2</th>\n",
              "      <td>0.4</td>\n",
              "    </tr>\n",
              "    <tr>\n",
              "      <th>3</th>\n",
              "      <td>0.2</td>\n",
              "    </tr>\n",
              "    <tr>\n",
              "      <th>5</th>\n",
              "      <td>0.2</td>\n",
              "    </tr>\n",
              "  </tbody>\n",
              "</table>\n",
              "</div><br><label><b>dtype:</b> float64</label>"
            ]
          },
          "metadata": {},
          "execution_count": 19
        }
      ],
      "source": [
        "from empiricaldist import Pmf\n",
        "\n",
        "pmf = Pmf.from_seq(t)\n",
        "pmf"
      ]
    },
    {
      "cell_type": "markdown",
      "id": "5e3d4d35",
      "metadata": {
        "id": "5e3d4d35"
      },
      "source": [
        "As we saw in the previous chapter, we can use the bracket operator to look up a value in a `Pmf`."
      ]
    },
    {
      "cell_type": "code",
      "execution_count": 20,
      "id": "69a98cf6",
      "metadata": {
        "colab": {
          "base_uri": "https://localhost:8080/"
        },
        "id": "69a98cf6",
        "outputId": "3d892eb2-0f8e-4336-d034-b0bf44751848"
      },
      "outputs": [
        {
          "output_type": "execute_result",
          "data": {
            "text/plain": [
              "np.float64(0.4)"
            ]
          },
          "metadata": {},
          "execution_count": 20
        }
      ],
      "source": [
        "pmf[2]"
      ]
    },
    {
      "cell_type": "markdown",
      "id": "d66c3383",
      "metadata": {
        "id": "d66c3383"
      },
      "source": [
        "The result is the proportion of values in the sequence equal to the given value.\n",
        "In this example, two out of five values are equal to `2`, so the result is 0.4.\n",
        "We can also think of this proportion as the probability that a randomly chosen value from the sequence equals `2`.\n",
        "\n",
        "`Pmf` has a `make_cdf` method that computes the cumulative sum of the probabilities in the `Pmf`."
      ]
    },
    {
      "cell_type": "code",
      "execution_count": 21,
      "id": "0d211f25",
      "metadata": {
        "colab": {
          "base_uri": "https://localhost:8080/",
          "height": 192
        },
        "id": "0d211f25",
        "outputId": "16933920-d74e-4f53-cb05-edb6f4d0617e"
      },
      "outputs": [
        {
          "output_type": "execute_result",
          "data": {
            "text/plain": [
              "1    0.2\n",
              "2    0.6\n",
              "3    0.8\n",
              "5    1.0\n",
              "Name: , dtype: float64"
            ],
            "text/html": [
              "<div>\n",
              "<style scoped>\n",
              "    .dataframe tbody tr th:only-of-type {\n",
              "        vertical-align: middle;\n",
              "    }\n",
              "\n",
              "    .dataframe tbody tr th {\n",
              "        vertical-align: top;\n",
              "    }\n",
              "\n",
              "    .dataframe thead th {\n",
              "        text-align: right;\n",
              "    }\n",
              "</style>\n",
              "<table border=\"1\" class=\"dataframe\">\n",
              "  <thead>\n",
              "    <tr style=\"text-align: right;\">\n",
              "      <th></th>\n",
              "      <th></th>\n",
              "    </tr>\n",
              "  </thead>\n",
              "  <tbody>\n",
              "    <tr>\n",
              "      <th>1</th>\n",
              "      <td>0.2</td>\n",
              "    </tr>\n",
              "    <tr>\n",
              "      <th>2</th>\n",
              "      <td>0.6</td>\n",
              "    </tr>\n",
              "    <tr>\n",
              "      <th>3</th>\n",
              "      <td>0.8</td>\n",
              "    </tr>\n",
              "    <tr>\n",
              "      <th>5</th>\n",
              "      <td>1.0</td>\n",
              "    </tr>\n",
              "  </tbody>\n",
              "</table>\n",
              "</div><br><label><b>dtype:</b> float64</label>"
            ]
          },
          "metadata": {},
          "execution_count": 21
        }
      ],
      "source": [
        "cdf = pmf.make_cdf()\n",
        "cdf"
      ]
    },
    {
      "cell_type": "markdown",
      "id": "930f1764",
      "metadata": {
        "id": "930f1764"
      },
      "source": [
        "The result is a `Cdf` object, which is a kind of Pandas `Series`.\n",
        "We can use the bracket operator to look up a value."
      ]
    },
    {
      "cell_type": "code",
      "execution_count": 22,
      "id": "0040ec4c",
      "metadata": {
        "colab": {
          "base_uri": "https://localhost:8080/"
        },
        "id": "0040ec4c",
        "outputId": "96b2ac57-12c0-4129-8ef6-8ff9ef4b468f"
      },
      "outputs": [
        {
          "output_type": "execute_result",
          "data": {
            "text/plain": [
              "np.float64(0.6000000000000001)"
            ]
          },
          "metadata": {},
          "execution_count": 22
        }
      ],
      "source": [
        "cdf[2]"
      ]
    },
    {
      "cell_type": "markdown",
      "id": "33994391",
      "metadata": {
        "id": "33994391"
      },
      "source": [
        "The result is the proportion of values in the sequence less than or equal to the given value. In this example, three out of five values in the sequence are less than or equal to `2`, so the result is 0.6.\n",
        "We can also think of this proportion as the probability that a randomly chosen value from the sequence is less than or equal to `2`.\n",
        "\n",
        "We can use parentheses to call the `Cdf` object like a function."
      ]
    },
    {
      "cell_type": "code",
      "execution_count": 23,
      "id": "047f5500",
      "metadata": {
        "colab": {
          "base_uri": "https://localhost:8080/"
        },
        "id": "047f5500",
        "outputId": "65232664-8006-431d-e09e-44585c83ff0e"
      },
      "outputs": [
        {
          "output_type": "execute_result",
          "data": {
            "text/plain": [
              "array(0.8)"
            ]
          },
          "metadata": {},
          "execution_count": 23
        }
      ],
      "source": [
        "cdf(3)"
      ]
    },
    {
      "cell_type": "markdown",
      "id": "07cfb95f",
      "metadata": {
        "id": "07cfb95f"
      },
      "source": [
        "The cumulative distribution function is defined for all numbers, not just the ones that appear in the sequence."
      ]
    },
    {
      "cell_type": "code",
      "execution_count": 24,
      "id": "678d627d",
      "metadata": {
        "colab": {
          "base_uri": "https://localhost:8080/"
        },
        "id": "678d627d",
        "outputId": "d8fa8c80-b4c9-4b67-863e-9d0059ed5546"
      },
      "outputs": [
        {
          "output_type": "execute_result",
          "data": {
            "text/plain": [
              "array(0.8)"
            ]
          },
          "metadata": {},
          "execution_count": 24
        }
      ],
      "source": [
        "cdf(4)"
      ]
    },
    {
      "cell_type": "markdown",
      "id": "5655c54c",
      "metadata": {
        "id": "5655c54c"
      },
      "source": [
        "To visualize the `Cdf`, we can use the `step` method, which plots the `Cdf` as a step function."
      ]
    },
    {
      "cell_type": "code",
      "execution_count": 25,
      "id": "a7bcf6ac",
      "metadata": {
        "colab": {
          "base_uri": "https://localhost:8080/",
          "height": 751
        },
        "id": "a7bcf6ac",
        "outputId": "3244370d-98df-41d0-8dd6-6e1a063665cc"
      },
      "outputs": [
        {
          "output_type": "display_data",
          "data": {
            "text/plain": [
              "<Figure size 1800x1050 with 1 Axes>"
            ],
            "image/png": "[encoded data removed]"
          },
          "metadata": {}
        }
      ],
      "source": [
        "cdf.step()\n",
        "decorate(xlabel=\"x\", ylabel=\"CDF\")"
      ]
    },
    {
      "cell_type": "markdown",
      "id": "7c3e26c6",
      "metadata": {
        "id": "7c3e26c6"
      },
      "source": [
        "As a second example, let's make a `Cdf` that represents the distribution of running speeds from the previous section.\n",
        "The `Cdf` class provides a `from_seq` function we can use to create a `Cdf` object from a sequence."
      ]
    },
    {
      "cell_type": "code",
      "execution_count": 26,
      "id": "aca0071e",
      "metadata": {
        "id": "aca0071e"
      },
      "outputs": [],
      "source": [
        "from empiricaldist import Cdf\n",
        "\n",
        "cdf_speeds = Cdf.from_seq(speeds)"
      ]
    },
    {
      "cell_type": "markdown",
      "id": "8e26481d",
      "metadata": {
        "id": "8e26481d"
      },
      "source": [
        "And here's what it looks like -- the vertical line is at my speed."
      ]
    },
    {
      "cell_type": "code",
      "execution_count": 27,
      "id": "b647b551",
      "metadata": {
        "colab": {
          "base_uri": "https://localhost:8080/",
          "height": 751
        },
        "id": "b647b551",
        "outputId": "29f2db24-763b-4c78-eb28-5374ace6cd51"
      },
      "outputs": [
        {
          "output_type": "display_data",
          "data": {
            "text/plain": [
              "<Figure size 1800x1050 with 1 Axes>"
            ],
            "image/png": "[encoded data removed]"
          },
          "metadata": {}
        }
      ],
      "source": [
        "cdf_speeds.step()\n",
        "plt.axvline(my_speed, ls=\":\", color=\"gray\")\n",
        "decorate(xlabel=\"Speed (mph)\", ylabel=\"CDF\")"
      ]
    },
    {
      "cell_type": "markdown",
      "id": "99c45793",
      "metadata": {
        "id": "99c45793"
      },
      "source": [
        "If we look up my speed, the result is the fraction of runners at my speed or slower.\n",
        "If we multiply by 100, we get my percentile rank."
      ]
    },
    {
      "cell_type": "code",
      "execution_count": 28,
      "id": "356e4321",
      "metadata": {
        "colab": {
          "base_uri": "https://localhost:8080/"
        },
        "id": "356e4321",
        "outputId": "30836055-5952-4bc8-8e1e-94cd5f480bb2"
      },
      "outputs": [
        {
          "output_type": "execute_result",
          "data": {
            "text/plain": [
              "np.float64(94.12124923453766)"
            ]
          },
          "metadata": {},
          "execution_count": 28
        }
      ],
      "source": [
        "cdf_speeds(my_speed) * 100"
      ]
    },
    {
      "cell_type": "markdown",
      "id": "a7b291b0",
      "metadata": {
        "id": "a7b291b0"
      },
      "source": [
        "So that's one way to think about the `Cdf` -- given a value, it computes something like a percentile rank, except that it's a proportion between 0 and 1 rather than a percentage between 0 and 100.\n",
        "\n",
        "`Cdf` provides an `inverse` method that computes the inverse of the cumulative distribution function -- given a proportion between 0 and 1, it finds the corresponding value.\n",
        "\n",
        "For example, if someone says they ran as fast or faster than 50% of the field, we can find their speed like this."
      ]
    },
    {
      "cell_type": "code",
      "execution_count": 29,
      "id": "1b78eb6a",
      "metadata": {
        "colab": {
          "base_uri": "https://localhost:8080/"
        },
        "id": "1b78eb6a",
        "outputId": "9f22f525-c700-4183-cab3-bd8613da03f2"
      },
      "outputs": [
        {
          "output_type": "execute_result",
          "data": {
            "text/plain": [
              "array(6.70391061)"
            ]
          },
          "metadata": {},
          "execution_count": 29
        }
      ],
      "source": [
        "cdf_speeds.inverse(0.5)"
      ]
    },
    {
      "cell_type": "markdown",
      "id": "98533954",
      "metadata": {
        "id": "98533954"
      },
      "source": [
        "If you have a proportion and you use the inverse CDF to find the corresponding value, the result is called a **quantile** -- so the inverse CDF is sometimes called the quantile function.\n",
        "\n",
        "If you have have a quantile and you use the CDF to find the corresponding proportion, the result doesn't really have a name, strangely.\n",
        "To be consistent with percentile and percentile rank, it could be called a \"quantile rank\", but as far as I can tell, no one calls it that.\n",
        "Most often, it is just called a \"cumulative probability\"."
      ]
    },
    {
      "cell_type": "markdown",
      "id": "3bed54d9",
      "metadata": {
        "tags": [],
        "id": "3bed54d9"
      },
      "source": [
        "(section_comparing_cdfs)=\n",
        "## Comparing CDFs\n",
        "\n",
        "CDFs are especially useful for comparing distributions.\n",
        "As an example, let's compare the distribution of birth weights for first babies and others.\n",
        "We'll load the NSFG dataset again, and divide it into three `DataFrames`: all live births, first babies, and others."
      ]
    },
    {
      "cell_type": "markdown",
      "id": "f0bf2046",
      "metadata": {
        "tags": [],
        "id": "f0bf2046"
      },
      "source": [
        "The following cells download the data files and install `statadict`, which we need to read the data."
      ]
    },
    {
      "cell_type": "code",
      "execution_count": 30,
      "id": "d2dfe8e8",
      "metadata": {
        "tags": [],
        "colab": {
          "base_uri": "https://localhost:8080/"
        },
        "id": "d2dfe8e8",
        "outputId": "a76cd4a9-a2df-42b0-c6f8-3d4b8614e469"
      },
      "outputs": [
        {
          "output_type": "stream",
          "name": "stdout",
          "text": [
            "Downloaded nsfg.py\n",
            "Downloaded 2002FemPreg.dct\n",
            "Downloaded 2002FemPreg.dat.gz\n"
          ]
        }
      ],
      "source": [
        "download(\"https://github.com/AllenDowney/ThinkStats/raw/v3/nb/nsfg.py\")\n",
        "download(\"https://github.com/AllenDowney/ThinkStats/raw/v3/data/2002FemPreg.dct\")\n",
        "download(\"https://github.com/AllenDowney/ThinkStats/raw/v3/data/2002FemPreg.dat.gz\")"
      ]
    },
    {
      "cell_type": "code",
      "execution_count": 31,
      "id": "b10ada29",
      "metadata": {
        "tags": [],
        "colab": {
          "base_uri": "https://localhost:8080/"
        },
        "id": "b10ada29",
        "outputId": "dea121e2-5ffc-4a58-c57e-c3f24eb0b018"
      },
      "outputs": [
        {
          "output_type": "stream",
          "name": "stdout",
          "text": [
            "Collecting statadict\n",
            "  Downloading statadict-1.1.0-py3-none-any.whl.metadata (1.7 kB)\n",
            "Downloading statadict-1.1.0-py3-none-any.whl (9.4 kB)\n",
            "Installing collected packages: statadict\n",
            "Successfully installed statadict-1.1.0\n"
          ]
        }
      ],
      "source": [
        "try:\n",
        "    import statadict\n",
        "except ImportError:\n",
        "    %pip install statadict"
      ]
    },
    {
      "cell_type": "code",
      "execution_count": 32,
      "id": "7edf9827",
      "metadata": {
        "id": "7edf9827"
      },
      "outputs": [],
      "source": [
        "from nsfg import get_nsfg_groups\n",
        "\n",
        "live, firsts, others = get_nsfg_groups()"
      ]
    },
    {
      "cell_type": "markdown",
      "id": "70c1e6ec",
      "metadata": {
        "id": "70c1e6ec"
      },
      "source": [
        "From `firsts` and `others` we'll select total birth weights in pounds, using `dropna` to remove values that are `nan`."
      ]
    },
    {
      "cell_type": "code",
      "execution_count": 33,
      "id": "71dcbc39",
      "metadata": {
        "colab": {
          "base_uri": "https://localhost:8080/"
        },
        "id": "71dcbc39",
        "outputId": "2264981e-52a0-409f-9a02-446bfd130072"
      },
      "outputs": [
        {
          "output_type": "execute_result",
          "data": {
            "text/plain": [
              "np.float64(7.201094430437772)"
            ]
          },
          "metadata": {},
          "execution_count": 33
        }
      ],
      "source": [
        "first_weights = firsts[\"totalwgt_lb\"].dropna()\n",
        "first_weights.mean()"
      ]
    },
    {
      "cell_type": "code",
      "execution_count": 34,
      "id": "af2f0434",
      "metadata": {
        "colab": {
          "base_uri": "https://localhost:8080/"
        },
        "id": "af2f0434",
        "outputId": "c06b06fe-f2d2-4f14-96f7-d5f4b0822792"
      },
      "outputs": [
        {
          "output_type": "execute_result",
          "data": {
            "text/plain": [
              "np.float64(7.325855614973262)"
            ]
          },
          "metadata": {},
          "execution_count": 34
        }
      ],
      "source": [
        "other_weights = others[\"totalwgt_lb\"].dropna()\n",
        "other_weights.mean()"
      ]
    },
    {
      "cell_type": "markdown",
      "id": "2eeaee10",
      "metadata": {
        "id": "2eeaee10"
      },
      "source": [
        "It looks like first babies are a little lighter on average.\n",
        "But there are several ways a difference like that could happen -- for example, there might be a small number of first babies who are especially light, or a small number of other babies who are especially heavy.\n",
        "In those cases, the distributions would have different shapes.\n",
        "As another possibility, the distributions might have the same shape, but different locations.\n",
        "\n",
        "To compare the distributions, we can try plotting the PMFs."
      ]
    },
    {
      "cell_type": "code",
      "execution_count": 35,
      "id": "5fcc9ad3",
      "metadata": {
        "id": "5fcc9ad3"
      },
      "outputs": [],
      "source": [
        "from empiricaldist import Pmf\n",
        "\n",
        "first_pmf = Pmf.from_seq(first_weights, name=\"first\")\n",
        "other_pmf = Pmf.from_seq(other_weights, name=\"other\")"
      ]
    },
    {
      "cell_type": "markdown",
      "id": "1148b768",
      "metadata": {
        "id": "1148b768"
      },
      "source": [
        "But as we can see in the following figure, it doesn't work very well."
      ]
    },
    {
      "cell_type": "code",
      "execution_count": 36,
      "id": "87e7a30b",
      "metadata": {
        "colab": {
          "base_uri": "https://localhost:8080/",
          "height": 751
        },
        "id": "87e7a30b",
        "outputId": "2ec245f7-8f24-4286-c987-b1b780318836"
      },
      "outputs": [
        {
          "output_type": "display_data",
          "data": {
            "text/plain": [
              "<Figure size 1800x1050 with 1 Axes>"
            ],
            "image/png": "[encoded data removed]"
          },
          "metadata": {}
        }
      ],
      "source": [
        "from thinkstats import two_bar_plots\n",
        "\n",
        "two_bar_plots(first_pmf, other_pmf, width=0.06)\n",
        "decorate(xlabel=\"Weight (pounds)\", ylabel=\"PMF\")"
      ]
    },
    {
      "cell_type": "markdown",
      "id": "76886060",
      "metadata": {
        "id": "76886060"
      },
      "source": [
        "I adjusted the width and transparency of the bars to show the distributions as clearly as possible, but it is hard to compare them.\n",
        "There are many peaks and valleys, and some apparent differences, but it is hard to tell which of these features are meaningful.\n",
        "Also, it is hard to see overall patterns; for example, it is not visually apparent which distribution has the higher mean.\n",
        "\n",
        "These problems can be mitigated by binning the data -- that is, dividing the range of quantities into non-overlapping intervals and counting the number of quantities in each bin.\n",
        "Binning can be useful, but it is tricky to get the size of the bins right.\n",
        "If they are big enough to smooth out noise, they might also smooth out useful information.\n",
        "\n",
        "A good alternative is to plot the CDFs."
      ]
    },
    {
      "cell_type": "code",
      "execution_count": 37,
      "id": "912dbd10",
      "metadata": {
        "id": "912dbd10"
      },
      "outputs": [],
      "source": [
        "first_cdf = first_pmf.make_cdf()\n",
        "other_cdf = other_pmf.make_cdf()"
      ]
    },
    {
      "cell_type": "markdown",
      "id": "da592fae",
      "metadata": {
        "id": "da592fae"
      },
      "source": [
        "Here's what they look like."
      ]
    },
    {
      "cell_type": "code",
      "execution_count": 38,
      "id": "4089ef39",
      "metadata": {
        "colab": {
          "base_uri": "https://localhost:8080/",
          "height": 752
        },
        "id": "4089ef39",
        "outputId": "8e38833f-457c-4e43-874f-671b889d7a87"
      },
      "outputs": [
        {
          "output_type": "display_data",
          "data": {
            "text/plain": [
              "<Figure size 1800x1050 with 1 Axes>"
            ],
            "image/png": "[encoded data removed]"
          },
          "metadata": {}
        }
      ],
      "source": [
        "first_cdf.plot(ls=\"--\")\n",
        "other_cdf.plot(alpha=0.5)\n",
        "decorate(xlabel=\"Weight (pounds)\", ylabel=\"CDF\")"
      ]
    },
    {
      "cell_type": "markdown",
      "id": "397bbdae",
      "metadata": {
        "id": "397bbdae"
      },
      "source": [
        "This figure makes the shape of the distributions, and the differences between them, much clearer.\n",
        "The curve for first babies is consistently to the left of the curve for others, which indicates that first babies are slightly lighter throughout the distribution -- with a larger discrepancy above the midpoint."
      ]
    },
    {
      "cell_type": "markdown",
      "id": "fb7b5cb5",
      "metadata": {
        "id": "fb7b5cb5"
      },
      "source": [
        "## Percentile-Based Statistics\n",
        "\n",
        "In [Chapter 3](section_summarizing_pmfs) we computed the arithmetic mean, which identifies a central point in a distribution, and the standard deviation, which quantifies how spread out the distribution is.\n",
        "And in a previous exercise we computed skewness, which indicates whether a distribution is skewed left or right.\n",
        "One drawback of all of these statistics is that they are sensitive to outliers.\n",
        "A single extreme value in a dataset can have a large effect on mean, standard deviation, and skewness.\n",
        "\n",
        "An alternative is to use statistics that are based on percentiles of the distribution, which tend to be more **robust**, which means that they are less sensitive to outliers.\n",
        "To demonstrate, let's load the NSFG data again without doing any data cleaning."
      ]
    },
    {
      "cell_type": "code",
      "execution_count": 39,
      "id": "9e53ef96",
      "metadata": {
        "id": "9e53ef96"
      },
      "outputs": [],
      "source": [
        "from nsfg import read_stata\n",
        "\n",
        "dct_file = \"2002FemPreg.dct\"\n",
        "dat_file = \"2002FemPreg.dat.gz\"\n",
        "\n",
        "preg = read_stata(dct_file, dat_file)"
      ]
    },
    {
      "cell_type": "markdown",
      "id": "771f36fb",
      "metadata": {
        "id": "771f36fb"
      },
      "source": [
        "Recall that birth weight is recorded in two columns, one for the pounds and one for the ounces."
      ]
    },
    {
      "cell_type": "code",
      "execution_count": 40,
      "id": "92d7c323",
      "metadata": {
        "id": "92d7c323"
      },
      "outputs": [],
      "source": [
        "birthwgt_lb = preg[\"birthwgt_lb\"]\n",
        "birthwgt_oz = preg[\"birthwgt_oz\"]"
      ]
    },
    {
      "cell_type": "markdown",
      "id": "c46eb92a",
      "metadata": {
        "id": "c46eb92a"
      },
      "source": [
        "If we make a `Hist` object with the values from `birthwgt_oz`, we can see that they include the special values 97, 98, and 99, which indicate missing data."
      ]
    },
    {
      "cell_type": "code",
      "execution_count": 41,
      "id": "87a3586c",
      "metadata": {
        "colab": {
          "base_uri": "https://localhost:8080/",
          "height": 255
        },
        "id": "87a3586c",
        "outputId": "49e24b51-f1bd-4091-fdb3-e7ec03a4f871"
      },
      "outputs": [
        {
          "output_type": "execute_result",
          "data": {
            "text/plain": [
              "birthwgt_oz\n",
              "14.0    475\n",
              "15.0    378\n",
              "97.0      1\n",
              "98.0      1\n",
              "99.0     46\n",
              "Name: , dtype: int64"
            ],
            "text/html": [
              "<div>\n",
              "<style scoped>\n",
              "    .dataframe tbody tr th:only-of-type {\n",
              "        vertical-align: middle;\n",
              "    }\n",
              "\n",
              "    .dataframe tbody tr th {\n",
              "        vertical-align: top;\n",
              "    }\n",
              "\n",
              "    .dataframe thead th {\n",
              "        text-align: right;\n",
              "    }\n",
              "</style>\n",
              "<table border=\"1\" class=\"dataframe\">\n",
              "  <thead>\n",
              "    <tr style=\"text-align: right;\">\n",
              "      <th></th>\n",
              "      <th></th>\n",
              "    </tr>\n",
              "    <tr>\n",
              "      <th>birthwgt_oz</th>\n",
              "      <th></th>\n",
              "    </tr>\n",
              "  </thead>\n",
              "  <tbody>\n",
              "    <tr>\n",
              "      <th>14.0</th>\n",
              "      <td>475</td>\n",
              "    </tr>\n",
              "    <tr>\n",
              "      <th>15.0</th>\n",
              "      <td>378</td>\n",
              "    </tr>\n",
              "    <tr>\n",
              "      <th>97.0</th>\n",
              "      <td>1</td>\n",
              "    </tr>\n",
              "    <tr>\n",
              "      <th>98.0</th>\n",
              "      <td>1</td>\n",
              "    </tr>\n",
              "    <tr>\n",
              "      <th>99.0</th>\n",
              "      <td>46</td>\n",
              "    </tr>\n",
              "  </tbody>\n",
              "</table>\n",
              "</div><br><label><b>dtype:</b> int64</label>"
            ]
          },
          "metadata": {},
          "execution_count": 41
        }
      ],
      "source": [
        "from empiricaldist import Hist\n",
        "\n",
        "Hist.from_seq(birthwgt_oz).tail(5)"
      ]
    },
    {
      "cell_type": "markdown",
      "id": "ec957b1a",
      "metadata": {
        "id": "ec957b1a"
      },
      "source": [
        "The `birthwgt_lb` column includes the same special values; it also includes the value 51, which has to be a mistake."
      ]
    },
    {
      "cell_type": "code",
      "execution_count": 42,
      "id": "d71d7344",
      "metadata": {
        "colab": {
          "base_uri": "https://localhost:8080/",
          "height": 255
        },
        "id": "d71d7344",
        "outputId": "ddee2d7c-f077-40b6-eb2c-52c6401b056d"
      },
      "outputs": [
        {
          "output_type": "execute_result",
          "data": {
            "text/plain": [
              "birthwgt_lb\n",
              "15.0     1\n",
              "51.0     1\n",
              "97.0     1\n",
              "98.0     1\n",
              "99.0    57\n",
              "Name: , dtype: int64"
            ],
            "text/html": [
              "<div>\n",
              "<style scoped>\n",
              "    .dataframe tbody tr th:only-of-type {\n",
              "        vertical-align: middle;\n",
              "    }\n",
              "\n",
              "    .dataframe tbody tr th {\n",
              "        vertical-align: top;\n",
              "    }\n",
              "\n",
              "    .dataframe thead th {\n",
              "        text-align: right;\n",
              "    }\n",
              "</style>\n",
              "<table border=\"1\" class=\"dataframe\">\n",
              "  <thead>\n",
              "    <tr style=\"text-align: right;\">\n",
              "      <th></th>\n",
              "      <th></th>\n",
              "    </tr>\n",
              "    <tr>\n",
              "      <th>birthwgt_lb</th>\n",
              "      <th></th>\n",
              "    </tr>\n",
              "  </thead>\n",
              "  <tbody>\n",
              "    <tr>\n",
              "      <th>15.0</th>\n",
              "      <td>1</td>\n",
              "    </tr>\n",
              "    <tr>\n",
              "      <th>51.0</th>\n",
              "      <td>1</td>\n",
              "    </tr>\n",
              "    <tr>\n",
              "      <th>97.0</th>\n",
              "      <td>1</td>\n",
              "    </tr>\n",
              "    <tr>\n",
              "      <th>98.0</th>\n",
              "      <td>1</td>\n",
              "    </tr>\n",
              "    <tr>\n",
              "      <th>99.0</th>\n",
              "      <td>57</td>\n",
              "    </tr>\n",
              "  </tbody>\n",
              "</table>\n",
              "</div><br><label><b>dtype:</b> int64</label>"
            ]
          },
          "metadata": {},
          "execution_count": 42
        }
      ],
      "source": [
        "Hist.from_seq(birthwgt_lb).tail(5)"
      ]
    },
    {
      "cell_type": "markdown",
      "id": "3ac44041",
      "metadata": {
        "id": "3ac44041"
      },
      "source": [
        "Now let's imagine two scenarios.\n",
        "In one scenario, we clean these variables by replacing missing and invalid values with `nan`, and then compute total weight in pounds.\n",
        "Dividing `birthwgt_oz_clean` by 16 converts it to pounds in decimal."
      ]
    },
    {
      "cell_type": "code",
      "execution_count": 43,
      "id": "7a73f8b3",
      "metadata": {
        "id": "7a73f8b3"
      },
      "outputs": [],
      "source": [
        "birthwgt_lb_clean = birthwgt_lb.replace([51, 97, 98, 99], np.nan)\n",
        "birthwgt_oz_clean = birthwgt_oz.replace([97, 98, 99], np.nan)\n",
        "\n",
        "total_weight_clean = birthwgt_lb_clean + birthwgt_oz_clean / 16"
      ]
    },
    {
      "cell_type": "markdown",
      "id": "cc474b46",
      "metadata": {
        "id": "cc474b46"
      },
      "source": [
        "In the other scenario, we neglect to clean the data and accidentally compute the total weight with these bogus values."
      ]
    },
    {
      "cell_type": "code",
      "execution_count": 44,
      "id": "af97d4c2",
      "metadata": {
        "id": "af97d4c2"
      },
      "outputs": [],
      "source": [
        "total_weight_bogus = birthwgt_lb + birthwgt_oz / 16"
      ]
    },
    {
      "cell_type": "markdown",
      "id": "b83a1f79",
      "metadata": {
        "id": "b83a1f79"
      },
      "source": [
        "The bogus dataset contains only 49 bogus values, which is about 0.5% of the data."
      ]
    },
    {
      "cell_type": "code",
      "execution_count": 45,
      "id": "ce7038dd",
      "metadata": {
        "colab": {
          "base_uri": "https://localhost:8080/"
        },
        "id": "ce7038dd",
        "outputId": "c85c0944-8e05-4fd0-da16-d097339a78ed"
      },
      "outputs": [
        {
          "output_type": "execute_result",
          "data": {
            "text/plain": [
              "(np.int64(49), np.float64(0.5421553441026776))"
            ]
          },
          "metadata": {},
          "execution_count": 45
        }
      ],
      "source": [
        "count1, count2 = total_weight_bogus.count(), total_weight_clean.count()\n",
        "diff = count1 - count2\n",
        "\n",
        "diff, diff / count2 * 100"
      ]
    },
    {
      "cell_type": "markdown",
      "id": "b08b864e",
      "metadata": {
        "id": "b08b864e"
      },
      "source": [
        "Now let's compute the mean of the data in both scenarios."
      ]
    },
    {
      "cell_type": "code",
      "execution_count": 46,
      "id": "62814a8d",
      "metadata": {
        "colab": {
          "base_uri": "https://localhost:8080/"
        },
        "id": "62814a8d",
        "outputId": "5b218fe1-c306-40b0-de2d-22ce737b5f9d"
      },
      "outputs": [
        {
          "output_type": "execute_result",
          "data": {
            "text/plain": [
              "(np.float64(7.319680587652691), np.float64(7.265628457623368))"
            ]
          },
          "metadata": {},
          "execution_count": 46
        }
      ],
      "source": [
        "mean1, mean2 = total_weight_bogus.mean(), total_weight_clean.mean()\n",
        "mean1, mean2"
      ]
    },
    {
      "cell_type": "markdown",
      "id": "a6a6a336",
      "metadata": {
        "id": "a6a6a336"
      },
      "source": [
        "The bogus values have a moderate effect on the mean.\n",
        "If we take the mean of the cleaned data to be correct, the mean of the bogus data is off by less than 1%."
      ]
    },
    {
      "cell_type": "code",
      "execution_count": 47,
      "id": "96c2a49c",
      "metadata": {
        "colab": {
          "base_uri": "https://localhost:8080/"
        },
        "id": "96c2a49c",
        "outputId": "5b1df7b9-4ab4-4a6c-84dd-6b62f58fae73"
      },
      "outputs": [
        {
          "output_type": "execute_result",
          "data": {
            "text/plain": [
              "np.float64(0.74394294099376)"
            ]
          },
          "metadata": {},
          "execution_count": 47
        }
      ],
      "source": [
        "(mean1 - mean2) / mean2 * 100"
      ]
    },
    {
      "cell_type": "markdown",
      "id": "63889aa3",
      "metadata": {
        "id": "63889aa3"
      },
      "source": [
        "An error like that might go undetected -- but now let's see what happens to the standard deviations."
      ]
    },
    {
      "cell_type": "code",
      "execution_count": 48,
      "id": "2c8fcb1e",
      "metadata": {
        "colab": {
          "base_uri": "https://localhost:8080/"
        },
        "id": "2c8fcb1e",
        "outputId": "85089fdc-4019-4921-f1f9-5ba91afdda7d"
      },
      "outputs": [
        {
          "output_type": "execute_result",
          "data": {
            "text/plain": [
              "(2.0960017791618313, 1.4082934455690168)"
            ]
          },
          "metadata": {},
          "execution_count": 48
        }
      ],
      "source": [
        "std1, std2 = total_weight_bogus.std(), total_weight_clean.std()\n",
        "std1, std2"
      ]
    },
    {
      "cell_type": "code",
      "execution_count": 49,
      "id": "9ef21c59",
      "metadata": {
        "colab": {
          "base_uri": "https://localhost:8080/"
        },
        "id": "9ef21c59",
        "outputId": "10130c52-b82d-4c0c-dfde-2a89ad237897"
      },
      "outputs": [
        {
          "output_type": "execute_result",
          "data": {
            "text/plain": [
              "48.832744039005874"
            ]
          },
          "metadata": {},
          "execution_count": 49
        }
      ],
      "source": [
        "(std1 - std2) / std2 * 100"
      ]
    },
    {
      "cell_type": "markdown",
      "id": "284465b9",
      "metadata": {
        "id": "284465b9"
      },
      "source": [
        "The standard deviation of the bogus data is off by almost 50%, so that's more noticeable.\n",
        "Finally, here's the skewness of the two datasets."
      ]
    },
    {
      "cell_type": "code",
      "execution_count": 50,
      "id": "41700da5",
      "metadata": {
        "id": "41700da5"
      },
      "outputs": [],
      "source": [
        "def skewness(seq):\n",
        "    \"\"\"Compute the skewness of a sequence\n",
        "\n",
        "    seq: sequence of numbers\n",
        "\n",
        "    returns: float skewness\n",
        "    \"\"\"\n",
        "    deviations = seq - seq.mean()\n",
        "    return np.mean(deviations**3) / seq.std(ddof=0) ** 3"
      ]
    },
    {
      "cell_type": "code",
      "execution_count": 51,
      "id": "790afa09",
      "metadata": {
        "colab": {
          "base_uri": "https://localhost:8080/"
        },
        "id": "790afa09",
        "outputId": "f05cdad1-7184-42a0-9273-5e99d98a0144"
      },
      "outputs": [
        {
          "output_type": "execute_result",
          "data": {
            "text/plain": [
              "(np.float64(22.251846195422598), np.float64(-0.5895062687577703))"
            ]
          },
          "metadata": {},
          "execution_count": 51
        }
      ],
      "source": [
        "skew1, skew2 = skewness(total_weight_bogus), skewness(total_weight_clean)\n",
        "skew1, skew2"
      ]
    },
    {
      "cell_type": "code",
      "execution_count": 52,
      "id": "323e9b7d",
      "metadata": {
        "tags": [],
        "colab": {
          "base_uri": "https://localhost:8080/"
        },
        "id": "323e9b7d",
        "outputId": "1eb9478c-106b-494f-d3a5-3714483282e9"
      },
      "outputs": [
        {
          "output_type": "execute_result",
          "data": {
            "text/plain": [
              "np.float64(-38.74658112171143)"
            ]
          },
          "metadata": {},
          "execution_count": 52
        }
      ],
      "source": [
        "# how much is skew1 off by?\n",
        "(skew1 - skew2) / skew2"
      ]
    },
    {
      "cell_type": "markdown",
      "id": "409c5ccf",
      "metadata": {
        "id": "409c5ccf"
      },
      "source": [
        "The skewness of the bogus dataset is off by a factor of almost 40, and it has the wrong sign! With the outliers added to the data, the distribution is strongly skewed to the right, as indicated by large positive skewness.\n",
        "But the distribution of the valid data is slightly skewed to the left, as indicated by small negative skewness.\n",
        "\n",
        "These results show that a small number of outliers have a moderate effect on the mean, a strong effect on the standard deviation, and a disastrous effect on skewness.\n",
        "\n",
        "An alternative is to use statistics based on percentiles.\n",
        "Specifically:\n",
        "\n",
        "* The median, which is the 50th percentile, identifies a central point in a distribution, like the mean.\n",
        "\n",
        "* The interquartile range, which is the difference between the 25th and 75th percentiles, quantifies the spread of the distribution, like the standard deviation.\n",
        "\n",
        "* The quartile skewness uses the quartiles of the distribution (25th, 50th, and 75th percentiles) to quantify the skewness."
      ]
    },
    {
      "cell_type": "markdown",
      "id": "d144baab",
      "metadata": {
        "id": "d144baab"
      },
      "source": [
        "The `Cdf` object provides an efficient way to compute these percentile-based statistics.\n",
        "To demonstrate, let's make a `Cdf` object from the bogus and clean datasets."
      ]
    },
    {
      "cell_type": "code",
      "execution_count": 53,
      "id": "a32716e7",
      "metadata": {
        "id": "a32716e7"
      },
      "outputs": [],
      "source": [
        "cdf_total_weight_bogus = Cdf.from_seq(total_weight_bogus)\n",
        "cdf_total_weight_clean = Cdf.from_seq(total_weight_clean)"
      ]
    },
    {
      "cell_type": "markdown",
      "id": "a19196bd",
      "metadata": {
        "id": "a19196bd"
      },
      "source": [
        "The following function takes a `Cdf` and uses its `inverse` method to compute the 50th percentile, which is the median (at least, it is one way to define the median of a dataset)."
      ]
    },
    {
      "cell_type": "code",
      "execution_count": 54,
      "id": "90b90105",
      "metadata": {
        "id": "90b90105"
      },
      "outputs": [],
      "source": [
        "def median(cdf):\n",
        "    m = cdf.inverse(0.5)\n",
        "    return m"
      ]
    },
    {
      "cell_type": "markdown",
      "id": "4f853749",
      "metadata": {
        "id": "4f853749"
      },
      "source": [
        "Now we can compute the median of both datasets."
      ]
    },
    {
      "cell_type": "code",
      "execution_count": 55,
      "id": "eb2801c5",
      "metadata": {
        "colab": {
          "base_uri": "https://localhost:8080/"
        },
        "id": "eb2801c5",
        "outputId": "8db5755c-c903-4001-f85d-153d239d6ef5"
      },
      "outputs": [
        {
          "output_type": "execute_result",
          "data": {
            "text/plain": [
              "(array(7.375), array(7.375))"
            ]
          },
          "metadata": {},
          "execution_count": 55
        }
      ],
      "source": [
        "median(cdf_total_weight_bogus), median(cdf_total_weight_clean)"
      ]
    },
    {
      "cell_type": "markdown",
      "id": "93134ba6",
      "metadata": {
        "id": "93134ba6"
      },
      "source": [
        "The results are identical, so in this case, the outliers have no effect on the median at all.\n",
        "In general, outliers have a smaller effect on the median than on the mean.\n",
        "\n",
        "The **interquartile range** (IQR) is the difference between the 75th and 25th percentiles.\n",
        "The following function takes a `Cdf` and returns the IQR."
      ]
    },
    {
      "cell_type": "code",
      "execution_count": 56,
      "id": "6c0b1e91",
      "metadata": {
        "id": "6c0b1e91"
      },
      "outputs": [],
      "source": [
        "def iqr(cdf):\n",
        "    low, high = cdf.inverse([0.25, 0.75])\n",
        "    return high - low"
      ]
    },
    {
      "cell_type": "markdown",
      "id": "10d2ed95",
      "metadata": {
        "id": "10d2ed95"
      },
      "source": [
        "And here are the interquartile ranges of the two datasets."
      ]
    },
    {
      "cell_type": "code",
      "execution_count": 57,
      "id": "9426569c",
      "metadata": {
        "colab": {
          "base_uri": "https://localhost:8080/"
        },
        "id": "9426569c",
        "outputId": "1c73ecbc-0174-4f86-bfa0-fdad1b5d1364"
      },
      "outputs": [
        {
          "output_type": "execute_result",
          "data": {
            "text/plain": [
              "(np.float64(1.625), np.float64(1.625))"
            ]
          },
          "metadata": {},
          "execution_count": 57
        }
      ],
      "source": [
        "iqr(cdf_total_weight_bogus), iqr(cdf_total_weight_clean)"
      ]
    },
    {
      "cell_type": "markdown",
      "id": "66f02ff8",
      "metadata": {
        "id": "66f02ff8"
      },
      "source": [
        "In general, outliers have less effect on the IQR than on the standard deviation -- in this case they have no effect at all.\n",
        "\n",
        "Finally, here's a function that computes quartile skewness, which depends on three statistics:\n",
        "\n",
        "* The median,\n",
        "\n",
        "* The midpoint of 25th and 75th percentiles, and\n",
        "\n",
        "* The semi-IQR, which is half of the IQR."
      ]
    },
    {
      "cell_type": "code",
      "execution_count": 58,
      "id": "f84e5df3",
      "metadata": {
        "id": "f84e5df3"
      },
      "outputs": [],
      "source": [
        "def quartile_skewness(cdf):\n",
        "    low, median, high = cdf.inverse([0.25, 0.5, 0.75])\n",
        "    midpoint = (high + low) / 2\n",
        "    semi_iqr = (high - low) / 2\n",
        "    return (midpoint - median) / semi_iqr"
      ]
    },
    {
      "cell_type": "markdown",
      "id": "61bbe3ff",
      "metadata": {
        "id": "61bbe3ff"
      },
      "source": [
        "And here's the quartile skewness for the two datasets."
      ]
    },
    {
      "cell_type": "code",
      "execution_count": 59,
      "id": "c21f8174",
      "metadata": {
        "colab": {
          "base_uri": "https://localhost:8080/"
        },
        "id": "c21f8174",
        "outputId": "71844372-24d8-4544-ac5d-16232a35fca3"
      },
      "outputs": [
        {
          "output_type": "execute_result",
          "data": {
            "text/plain": [
              "(np.float64(-0.07692307692307693), np.float64(-0.07692307692307693))"
            ]
          },
          "metadata": {},
          "execution_count": 59
        }
      ],
      "source": [
        "qskew1 = quartile_skewness(cdf_total_weight_bogus)\n",
        "qskew2 = quartile_skewness(cdf_total_weight_clean)\n",
        "qskew1, qskew2"
      ]
    },
    {
      "cell_type": "markdown",
      "id": "bad0090a",
      "metadata": {
        "id": "bad0090a"
      },
      "source": [
        "The small number of outliers in these examples has no effect on the quartile skewness.\n",
        "These examples show that percentile-based statistics are less sensitive to outliers and errors in the data."
      ]
    },
    {
      "cell_type": "markdown",
      "id": "6b4b5580",
      "metadata": {
        "id": "6b4b5580"
      },
      "source": [
        "## Random Numbers\n",
        "\n",
        "`Cdf` objects provide an efficient way to generate random numbers from a distribution.\n",
        "First we generate random numbers from a uniform distribution between 0 and 1.\n",
        "Then we evaluate the inverse CDF at those points.\n",
        "The following function implements this algorithm."
      ]
    },
    {
      "cell_type": "code",
      "execution_count": 60,
      "id": "a76e2116",
      "metadata": {
        "id": "a76e2116"
      },
      "outputs": [],
      "source": [
        "def sample_from_cdf(cdf, n):\n",
        "    ps = np.random.random(size=n)\n",
        "    return cdf.inverse(ps)"
      ]
    },
    {
      "cell_type": "markdown",
      "id": "66f80163",
      "metadata": {
        "id": "66f80163"
      },
      "source": [
        "To demonstrate, let's generate a random sample of running speeds."
      ]
    },
    {
      "cell_type": "code",
      "execution_count": 61,
      "id": "b14f4c93",
      "metadata": {
        "id": "b14f4c93"
      },
      "outputs": [],
      "source": [
        "sample = sample_from_cdf(cdf_speeds, 1001)"
      ]
    },
    {
      "cell_type": "markdown",
      "id": "1ceb1b81",
      "metadata": {
        "id": "1ceb1b81"
      },
      "source": [
        "To confirm that it worked, we can compare the CDFs of the sample and the original dataset."
      ]
    },
    {
      "cell_type": "code",
      "execution_count": 62,
      "id": "3cdbfd37",
      "metadata": {
        "colab": {
          "base_uri": "https://localhost:8080/",
          "height": 751
        },
        "id": "3cdbfd37",
        "outputId": "f80c63c4-8a9f-4eac-c5ce-72f6bd12d096"
      },
      "outputs": [
        {
          "output_type": "display_data",
          "data": {
            "text/plain": [
              "<Figure size 1800x1050 with 1 Axes>"
            ],
            "image/png": "[encoded data removed]"
          },
          "metadata": {}
        }
      ],
      "source": [
        "cdf_sample = Cdf.from_seq(sample)\n",
        "\n",
        "cdf_speeds.plot(label=\"original\", ls=\"--\")\n",
        "cdf_sample.plot(label=\"sample\", alpha=0.5)\n",
        "\n",
        "decorate(xlabel=\"Speed (mph)\", ylabel=\"CDF\")"
      ]
    },
    {
      "cell_type": "markdown",
      "id": "5279c66b",
      "metadata": {
        "id": "5279c66b"
      },
      "source": [
        "The sample follows the distribution of the original data.\n",
        "To understand how this algorithm works, consider this question:\n",
        "Suppose we choose a random sample from the population of running speeds and look up the percentile ranks of the speeds in the sample.\n",
        "Now suppose we compute the CDF of the percentile ranks.\n",
        "What do you think it will look like?\n",
        "\n",
        "Let's find out. Here are the percentile ranks for the sample we generated."
      ]
    },
    {
      "cell_type": "code",
      "execution_count": 63,
      "id": "f95a1237",
      "metadata": {
        "id": "f95a1237"
      },
      "outputs": [],
      "source": [
        "percentile_ranks = cdf_speeds(sample) * 100"
      ]
    },
    {
      "cell_type": "markdown",
      "id": "80241b35",
      "metadata": {
        "id": "80241b35"
      },
      "source": [
        "And here is the CDF of the percentile ranks."
      ]
    },
    {
      "cell_type": "code",
      "execution_count": 64,
      "id": "1e469506",
      "metadata": {
        "colab": {
          "base_uri": "https://localhost:8080/",
          "height": 751
        },
        "id": "1e469506",
        "outputId": "46d840cd-9b10-4c8e-fede-4f134ceeb856"
      },
      "outputs": [
        {
          "output_type": "display_data",
          "data": {
            "text/plain": [
              "<Figure size 1800x1050 with 1 Axes>"
            ],
            "image/png": "[encoded data removed]"
          },
          "metadata": {}
        }
      ],
      "source": [
        "cdf_percentile_rank = Cdf.from_seq(percentile_ranks)\n",
        "cdf_percentile_rank.plot()\n",
        "\n",
        "decorate(xlabel=\"Percentile rank\", ylabel=\"CDF\")"
      ]
    },
    {
      "cell_type": "markdown",
      "id": "a687ada3",
      "metadata": {
        "id": "a687ada3"
      },
      "source": [
        "The CDF of the percentile ranks is close to a straight line between 0 and 1.\n",
        "And that makes sense, because in any distribution, the proportion with percentile rank less than 50% is 0.5; the proportion with percentile rank less than 90% is 0.9, and so on.\n",
        "\n",
        "`Cdf` provides a `sample` method that uses this algorithm, so we could also generate a sample like this."
      ]
    },
    {
      "cell_type": "code",
      "execution_count": 65,
      "id": "a9d31255",
      "metadata": {
        "id": "a9d31255"
      },
      "outputs": [],
      "source": [
        "sample = cdf_speeds.sample(1001)"
      ]
    },
    {
      "cell_type": "markdown",
      "id": "327f0a79",
      "metadata": {
        "id": "327f0a79"
      },
      "source": [
        "## Glossary\n",
        "\n",
        "-   **percentile rank**: The percentage of values in a distribution that are less than or equal to a given quantity.\n",
        "\n",
        "-   **percentile**: The value in a distribution associated with a given percentile rank.\n",
        "\n",
        "-   **cumulative distribution function (CDF)**: A function that maps a value to the proportion of the distribution less than or equal to that value.\n",
        "\n",
        "-   **quantile**: The value in a distribution that is greater than or equal to a given proportion of values.\n",
        "\n",
        "-   **robust**: A statistic is robust if it is less affected by extreme values or outliers.\n",
        "\n",
        "-   **interquartile range (IQR)**: The difference between the 75th and 25th percentiles, used to measure the spread of a distribution."
      ]
    },
    {
      "cell_type": "markdown",
      "id": "37ae0af7",
      "metadata": {
        "collapsed": true,
        "id": "37ae0af7"
      },
      "source": [
        "## Exercises"
      ]
    },
    {
      "cell_type": "markdown",
      "id": "ce30c7e3",
      "metadata": {
        "collapsed": true,
        "id": "ce30c7e3"
      },
      "source": [
        "### Exercise 4.1\n",
        "\n",
        "How much did you weigh at birth?\n",
        "If you don't know, call your mother or someone else who knows.\n",
        "And if no one knows, you can use my birth weight, 8.5 pounds, for this exercise.\n",
        "\n",
        "Using the NSFG data (all live births), compute the distribution of birth weights and use it to find your percentile rank.\n",
        "If you were a first baby, find your percentile rank in the distribution for first babies.\n",
        "Otherwise use the distribution for others.\n",
        "If you are in the 90th percentile or higher, call your mother back and apologize."
      ]
    },
    {
      "cell_type": "code",
      "execution_count": 88,
      "id": "f1600909",
      "metadata": {
        "colab": {
          "base_uri": "https://localhost:8080/",
          "height": 241
        },
        "id": "f1600909",
        "outputId": "61b5cee0-dadc-4c66-e0cd-0c9edc861b83"
      },
      "outputs": [
        {
          "output_type": "execute_result",
          "data": {
            "text/plain": [
              "0     8.8125\n",
              "2     9.1250\n",
              "5     8.5625\n",
              "8     7.5625\n",
              "10    7.8125\n",
              "Name: totalwgt_lb, dtype: float64"
            ],
            "text/html": [
              "<div>\n",
              "<style scoped>\n",
              "    .dataframe tbody tr th:only-of-type {\n",
              "        vertical-align: middle;\n",
              "    }\n",
              "\n",
              "    .dataframe tbody tr th {\n",
              "        vertical-align: top;\n",
              "    }\n",
              "\n",
              "    .dataframe thead th {\n",
              "        text-align: right;\n",
              "    }\n",
              "</style>\n",
              "<table border=\"1\" class=\"dataframe\">\n",
              "  <thead>\n",
              "    <tr style=\"text-align: right;\">\n",
              "      <th></th>\n",
              "      <th>totalwgt_lb</th>\n",
              "    </tr>\n",
              "  </thead>\n",
              "  <tbody>\n",
              "    <tr>\n",
              "      <th>0</th>\n",
              "      <td>8.8125</td>\n",
              "    </tr>\n",
              "    <tr>\n",
              "      <th>2</th>\n",
              "      <td>9.1250</td>\n",
              "    </tr>\n",
              "    <tr>\n",
              "      <th>5</th>\n",
              "      <td>8.5625</td>\n",
              "    </tr>\n",
              "    <tr>\n",
              "      <th>8</th>\n",
              "      <td>7.5625</td>\n",
              "    </tr>\n",
              "    <tr>\n",
              "      <th>10</th>\n",
              "      <td>7.8125</td>\n",
              "    </tr>\n",
              "  </tbody>\n",
              "</table>\n",
              "</div><br><label><b>dtype:</b> float64</label>"
            ]
          },
          "metadata": {},
          "execution_count": 88
        }
      ],
      "source": [
        "from nsfg import get_nsfg_groups\n",
        "\n",
        "live, firsts, others = get_nsfg_groups()\n",
        "first_weights = firsts[\"totalwgt_lb\"].dropna()\n",
        "first_weights.head()"
      ]
    },
    {
      "cell_type": "code",
      "execution_count": 89,
      "id": "cf12f4a1",
      "metadata": {
        "colab": {
          "base_uri": "https://localhost:8080/",
          "height": 850
        },
        "id": "cf12f4a1",
        "outputId": "cf1296b1-7c29-4161-e7ea-d96064b03e34"
      },
      "outputs": [
        {
          "output_type": "execute_result",
          "data": {
            "text/plain": [
              "<Axes: xlabel='totalwgt_lb'>"
            ]
          },
          "metadata": {},
          "execution_count": 89
        },
        {
          "output_type": "display_data",
          "data": {
            "text/plain": [
              "<Figure size 1800x1050 with 1 Axes>"
            ],
            "image/png": "[encoded data removed]"
          },
          "metadata": {}
        }
      ],
      "source": [
        "# Solution goes here\n",
        "cdf_percentile_rank = Cdf.from_seq(first_weights)\n",
        "cdf_percentile_rank.plot()"
      ]
    },
    {
      "cell_type": "code",
      "execution_count": 103,
      "id": "c93a0d00",
      "metadata": {
        "colab": {
          "base_uri": "https://localhost:8080/"
        },
        "id": "c93a0d00",
        "outputId": "03df88a5-eed9-4778-f8f6-916a243659f8"
      },
      "outputs": [
        {
          "output_type": "execute_result",
          "data": {
            "text/plain": [
              "np.float64(91.49667659867063)"
            ]
          },
          "metadata": {},
          "execution_count": 103
        }
      ],
      "source": [
        "# Solution goes here\n",
        "percentile_rank(8.9, first_weights)\n"
      ]
    },
    {
      "cell_type": "code",
      "source": [
        "# Solution goes here"
      ],
      "metadata": {
        "id": "lhea3peoUhD2"
      },
      "id": "lhea3peoUhD2",
      "execution_count": 104,
      "outputs": []
    },
    {
      "cell_type": "markdown",
      "id": "8ce9366c",
      "metadata": {
        "id": "8ce9366c"
      },
      "source": [
        "### Exercise 4.2\n",
        "\n",
        "For live births in the NSFG dataset, the column `babysex` indicates whether the baby was male or female.\n",
        "We can use `query` to select the rows for male and female babies."
      ]
    },
    {
      "cell_type": "code",
      "execution_count": 105,
      "id": "8d6d3797",
      "metadata": {
        "colab": {
          "base_uri": "https://localhost:8080/"
        },
        "id": "8d6d3797",
        "outputId": "f877f66b-7319-49c4-aabf-61235af58d83"
      },
      "outputs": [
        {
          "output_type": "execute_result",
          "data": {
            "text/plain": [
              "(4641, 4500)"
            ]
          },
          "metadata": {},
          "execution_count": 105
        }
      ],
      "source": [
        "male = live.query(\"babysex == 1\")\n",
        "female = live.query(\"babysex == 2\")\n",
        "len(male), len(female)"
      ]
    },
    {
      "cell_type": "code",
      "source": [
        "male.head()"
      ],
      "metadata": {
        "id": "0MBVjkeJkunL",
        "outputId": "d4f4d613-3085-43f8-b687-3550d572e9d0",
        "colab": {
          "base_uri": "https://localhost:8080/",
          "height": 255
        }
      },
      "id": "0MBVjkeJkunL",
      "execution_count": 108,
      "outputs": [
        {
          "output_type": "execute_result",
          "data": {
            "text/plain": [
              "    caseid  pregordr  howpreg_n  howpreg_p  moscurrp  nowprgdk  pregend1  \\\n",
              "0        1         1        NaN        NaN       NaN       NaN       6.0   \n",
              "2        2         1        NaN        NaN       NaN       NaN       5.0   \n",
              "5        6         1        NaN        NaN       NaN       NaN       6.0   \n",
              "8        7         1        NaN        NaN       NaN       NaN       5.0   \n",
              "10      12         1        NaN        NaN       NaN       NaN       5.0   \n",
              "\n",
              "    pregend2  nbrnaliv  multbrth  ...  laborfor_i  religion_i  metro_i  \\\n",
              "0        NaN       1.0       NaN  ...           0           0        0   \n",
              "2        NaN       3.0       5.0  ...           0           0        0   \n",
              "5        NaN       1.0       NaN  ...           0           0        0   \n",
              "8        NaN       1.0       NaN  ...           0           0        0   \n",
              "10       NaN       1.0       NaN  ...           0           0        0   \n",
              "\n",
              "        basewgt  adj_mod_basewgt      finalwgt  secu_p  sest  cmintvw  \\\n",
              "0   3410.389399      3869.349602   6448.271112       2     9     1231   \n",
              "2   7226.301740      8567.549110  12999.542264       2    12     1231   \n",
              "5   4870.926435      5325.196999   8874.440799       1    23     1231   \n",
              "8   3409.579565      3787.539000   6911.879921       2    14     1233   \n",
              "10  3612.781968      4146.013572   6909.331618       1    31     1231   \n",
              "\n",
              "    totalwgt_lb  \n",
              "0        8.8125  \n",
              "2        9.1250  \n",
              "5        8.5625  \n",
              "8        7.5625  \n",
              "10       7.8125  \n",
              "\n",
              "[5 rows x 244 columns]"
            ],
            "text/html": [
              "\n",
              "  <div id=\"df-1769ece1-287c-4ae1-a8a8-79b074eaccff\" class=\"colab-df-container\">\n",
              "    <div>\n",
              "<style scoped>\n",
              "    .dataframe tbody tr th:only-of-type {\n",
              "        vertical-align: middle;\n",
              "    }\n",
              "\n",
              "    .dataframe tbody tr th {\n",
              "        vertical-align: top;\n",
              "    }\n",
              "\n",
              "    .dataframe thead th {\n",
              "        text-align: right;\n",
              "    }\n",
              "</style>\n",
              "<table border=\"1\" class=\"dataframe\">\n",
              "  <thead>\n",
              "    <tr style=\"text-align: right;\">\n",
              "      <th></th>\n",
              "      <th>caseid</th>\n",
              "      <th>pregordr</th>\n",
              "      <th>howpreg_n</th>\n",
              "      <th>howpreg_p</th>\n",
              "      <th>moscurrp</th>\n",
              "      <th>nowprgdk</th>\n",
              "      <th>pregend1</th>\n",
              "      <th>pregend2</th>\n",
              "      <th>nbrnaliv</th>\n",
              "      <th>multbrth</th>\n",
              "      <th>...</th>\n",
              "      <th>laborfor_i</th>\n",
              "      <th>religion_i</th>\n",
              "      <th>metro_i</th>\n",
              "      <th>basewgt</th>\n",
              "      <th>adj_mod_basewgt</th>\n",
              "      <th>finalwgt</th>\n",
              "      <th>secu_p</th>\n",
              "      <th>sest</th>\n",
              "      <th>cmintvw</th>\n",
              "      <th>totalwgt_lb</th>\n",
              "    </tr>\n",
              "  </thead>\n",
              "  <tbody>\n",
              "    <tr>\n",
              "      <th>0</th>\n",
              "      <td>1</td>\n",
              "      <td>1</td>\n",
              "      <td>NaN</td>\n",
              "      <td>NaN</td>\n",
              "      <td>NaN</td>\n",
              "      <td>NaN</td>\n",
              "      <td>6.0</td>\n",
              "      <td>NaN</td>\n",
              "      <td>1.0</td>\n",
              "      <td>NaN</td>\n",
              "      <td>...</td>\n",
              "      <td>0</td>\n",
              "      <td>0</td>\n",
              "      <td>0</td>\n",
              "      <td>3410.389399</td>\n",
              "      <td>3869.349602</td>\n",
              "      <td>6448.271112</td>\n",
              "      <td>2</td>\n",
              "      <td>9</td>\n",
              "      <td>1231</td>\n",
              "      <td>8.8125</td>\n",
              "    </tr>\n",
              "    <tr>\n",
              "      <th>2</th>\n",
              "      <td>2</td>\n",
              "      <td>1</td>\n",
              "      <td>NaN</td>\n",
              "      <td>NaN</td>\n",
              "      <td>NaN</td>\n",
              "      <td>NaN</td>\n",
              "      <td>5.0</td>\n",
              "      <td>NaN</td>\n",
              "      <td>3.0</td>\n",
              "      <td>5.0</td>\n",
              "      <td>...</td>\n",
              "      <td>0</td>\n",
              "      <td>0</td>\n",
              "      <td>0</td>\n",
              "      <td>7226.301740</td>\n",
              "      <td>8567.549110</td>\n",
              "      <td>12999.542264</td>\n",
              "      <td>2</td>\n",
              "      <td>12</td>\n",
              "      <td>1231</td>\n",
              "      <td>9.1250</td>\n",
              "    </tr>\n",
              "    <tr>\n",
              "      <th>5</th>\n",
              "      <td>6</td>\n",
              "      <td>1</td>\n",
              "      <td>NaN</td>\n",
              "      <td>NaN</td>\n",
              "      <td>NaN</td>\n",
              "      <td>NaN</td>\n",
              "      <td>6.0</td>\n",
              "      <td>NaN</td>\n",
              "      <td>1.0</td>\n",
              "      <td>NaN</td>\n",
              "      <td>...</td>\n",
              "      <td>0</td>\n",
              "      <td>0</td>\n",
              "      <td>0</td>\n",
              "      <td>4870.926435</td>\n",
              "      <td>5325.196999</td>\n",
              "      <td>8874.440799</td>\n",
              "      <td>1</td>\n",
              "      <td>23</td>\n",
              "      <td>1231</td>\n",
              "      <td>8.5625</td>\n",
              "    </tr>\n",
              "    <tr>\n",
              "      <th>8</th>\n",
              "      <td>7</td>\n",
              "      <td>1</td>\n",
              "      <td>NaN</td>\n",
              "      <td>NaN</td>\n",
              "      <td>NaN</td>\n",
              "      <td>NaN</td>\n",
              "      <td>5.0</td>\n",
              "      <td>NaN</td>\n",
              "      <td>1.0</td>\n",
              "      <td>NaN</td>\n",
              "      <td>...</td>\n",
              "      <td>0</td>\n",
              "      <td>0</td>\n",
              "      <td>0</td>\n",
              "      <td>3409.579565</td>\n",
              "      <td>3787.539000</td>\n",
              "      <td>6911.879921</td>\n",
              "      <td>2</td>\n",
              "      <td>14</td>\n",
              "      <td>1233</td>\n",
              "      <td>7.5625</td>\n",
              "    </tr>\n",
              "    <tr>\n",
              "      <th>10</th>\n",
              "      <td>12</td>\n",
              "      <td>1</td>\n",
              "      <td>NaN</td>\n",
              "      <td>NaN</td>\n",
              "      <td>NaN</td>\n",
              "      <td>NaN</td>\n",
              "      <td>5.0</td>\n",
              "      <td>NaN</td>\n",
              "      <td>1.0</td>\n",
              "      <td>NaN</td>\n",
              "      <td>...</td>\n",
              "      <td>0</td>\n",
              "      <td>0</td>\n",
              "      <td>0</td>\n",
              "      <td>3612.781968</td>\n",
              "      <td>4146.013572</td>\n",
              "      <td>6909.331618</td>\n",
              "      <td>1</td>\n",
              "      <td>31</td>\n",
              "      <td>1231</td>\n",
              "      <td>7.8125</td>\n",
              "    </tr>\n",
              "  </tbody>\n",
              "</table>\n",
              "<p>5 rows × 244 columns</p>\n",
              "</div>\n",
              "    <div class=\"colab-df-buttons\">\n",
              "\n",
              "  <div class=\"colab-df-container\">\n",
              "    <button class=\"colab-df-convert\" onclick=\"convertToInteractive('df-1769ece1-287c-4ae1-a8a8-79b074eaccff')\"\n",
              "            title=\"Convert this dataframe to an interactive table.\"\n",
              "            style=\"display:none;\">\n",
              "\n",
              "  <svg xmlns=\"http://www.w3.org/2000/svg\" height=\"24px\" viewBox=\"0 -960 960 960\">\n",
              "    <path d=\"M120-120v-720h720v720H120Zm60-500h600v-160H180v160Zm220 220h160v-160H400v160Zm0 220h160v-160H400v160ZM180-400h160v-160H180v160Zm440 0h160v-160H620v160ZM180-180h160v-160H180v160Zm440 0h160v-160H620v160Z\"/>\n",
              "  </svg>\n",
              "    </button>\n",
              "\n",
              "  <style>\n",
              "    .colab-df-container {\n",
              "      display:flex;\n",
              "      gap: 12px;\n",
              "    }\n",
              "\n",
              "    .colab-df-convert {\n",
              "      background-color: #E8F0FE;\n",
              "      border: none;\n",
              "      border-radius: 50%;\n",
              "      cursor: pointer;\n",
              "      display: none;\n",
              "      fill: #1967D2;\n",
              "      height: 32px;\n",
              "      padding: 0 0 0 0;\n",
              "      width: 32px;\n",
              "    }\n",
              "\n",
              "    .colab-df-convert:hover {\n",
              "      background-color: #E2EBFA;\n",
              "      box-shadow: 0px 1px 2px rgba(60, 64, 67, 0.3), 0px 1px 3px 1px rgba(60, 64, 67, 0.15);\n",
              "      fill: #174EA6;\n",
              "    }\n",
              "\n",
              "    .colab-df-buttons div {\n",
              "      margin-bottom: 4px;\n",
              "    }\n",
              "\n",
              "    [theme=dark] .colab-df-convert {\n",
              "      background-color: #3B4455;\n",
              "      fill: #D2E3FC;\n",
              "    }\n",
              "\n",
              "    [theme=dark] .colab-df-convert:hover {\n",
              "      background-color: #434B5C;\n",
              "      box-shadow: 0px 1px 3px 1px rgba(0, 0, 0, 0.15);\n",
              "      filter: drop-shadow(0px 1px 2px rgba(0, 0, 0, 0.3));\n",
              "      fill: #FFFFFF;\n",
              "    }\n",
              "  </style>\n",
              "\n",
              "    <script>\n",
              "      const buttonEl =\n",
              "        document.querySelector('#df-1769ece1-287c-4ae1-a8a8-79b074eaccff button.colab-df-convert');\n",
              "      buttonEl.style.display =\n",
              "        google.colab.kernel.accessAllowed ? 'block' : 'none';\n",
              "\n",
              "      async function convertToInteractive(key) {\n",
              "        const element = document.querySelector('#df-1769ece1-287c-4ae1-a8a8-79b074eaccff');\n",
              "        const dataTable =\n",
              "          await google.colab.kernel.invokeFunction('convertToInteractive',\n",
              "                                                    [key], {});\n",
              "        if (!dataTable) return;\n",
              "\n",
              "        const docLinkHtml = 'Like what you see? Visit the ' +\n",
              "          '<a target=\"_blank\" href=https://colab.research.google.com/notebooks/data_table.ipynb>data table notebook</a>'\n",
              "          + ' to learn more about interactive tables.';\n",
              "        element.innerHTML = '';\n",
              "        dataTable['output_type'] = 'display_data';\n",
              "        await google.colab.output.renderOutput(dataTable, element);\n",
              "        const docLink = document.createElement('div');\n",
              "        docLink.innerHTML = docLinkHtml;\n",
              "        element.appendChild(docLink);\n",
              "      }\n",
              "    </script>\n",
              "  </div>\n",
              "\n",
              "\n",
              "    <div id=\"df-0e49de41-7427-492b-b200-a06249abf061\">\n",
              "      <button class=\"colab-df-quickchart\" onclick=\"quickchart('df-0e49de41-7427-492b-b200-a06249abf061')\"\n",
              "                title=\"Suggest charts\"\n",
              "                style=\"display:none;\">\n",
              "\n",
              "<svg xmlns=\"http://www.w3.org/2000/svg\" height=\"24px\"viewBox=\"0 0 24 24\"\n",
              "     width=\"24px\">\n",
              "    <g>\n",
              "        <path d=\"M19 3H5c-1.1 0-2 .9-2 2v14c0 1.1.9 2 2 2h14c1.1 0 2-.9 2-2V5c0-1.1-.9-2-2-2zM9 17H7v-7h2v7zm4 0h-2V7h2v10zm4 0h-2v-4h2v4z\"/>\n",
              "    </g>\n",
              "</svg>\n",
              "      </button>\n",
              "\n",
              "<style>\n",
              "  .colab-df-quickchart {\n",
              "      --bg-color: #E8F0FE;\n",
              "      --fill-color: #1967D2;\n",
              "      --hover-bg-color: #E2EBFA;\n",
              "      --hover-fill-color: #174EA6;\n",
              "      --disabled-fill-color: #AAA;\n",
              "      --disabled-bg-color: #DDD;\n",
              "  }\n",
              "\n",
              "  [theme=dark] .colab-df-quickchart {\n",
              "      --bg-color: #3B4455;\n",
              "      --fill-color: #D2E3FC;\n",
              "      --hover-bg-color: #434B5C;\n",
              "      --hover-fill-color: #FFFFFF;\n",
              "      --disabled-bg-color: #3B4455;\n",
              "      --disabled-fill-color: #666;\n",
              "  }\n",
              "\n",
              "  .colab-df-quickchart {\n",
              "    background-color: var(--bg-color);\n",
              "    border: none;\n",
              "    border-radius: 50%;\n",
              "    cursor: pointer;\n",
              "    display: none;\n",
              "    fill: var(--fill-color);\n",
              "    height: 32px;\n",
              "    padding: 0;\n",
              "    width: 32px;\n",
              "  }\n",
              "\n",
              "  .colab-df-quickchart:hover {\n",
              "    background-color: var(--hover-bg-color);\n",
              "    box-shadow: 0 1px 2px rgba(60, 64, 67, 0.3), 0 1px 3px 1px rgba(60, 64, 67, 0.15);\n",
              "    fill: var(--button-hover-fill-color);\n",
              "  }\n",
              "\n",
              "  .colab-df-quickchart-complete:disabled,\n",
              "  .colab-df-quickchart-complete:disabled:hover {\n",
              "    background-color: var(--disabled-bg-color);\n",
              "    fill: var(--disabled-fill-color);\n",
              "    box-shadow: none;\n",
              "  }\n",
              "\n",
              "  .colab-df-spinner {\n",
              "    border: 2px solid var(--fill-color);\n",
              "    border-color: transparent;\n",
              "    border-bottom-color: var(--fill-color);\n",
              "    animation:\n",
              "      spin 1s steps(1) infinite;\n",
              "  }\n",
              "\n",
              "  @keyframes spin {\n",
              "    0% {\n",
              "      border-color: transparent;\n",
              "      border-bottom-color: var(--fill-color);\n",
              "      border-left-color: var(--fill-color);\n",
              "    }\n",
              "    20% {\n",
              "      border-color: transparent;\n",
              "      border-left-color: var(--fill-color);\n",
              "      border-top-color: var(--fill-color);\n",
              "    }\n",
              "    30% {\n",
              "      border-color: transparent;\n",
              "      border-left-color: var(--fill-color);\n",
              "      border-top-color: var(--fill-color);\n",
              "      border-right-color: var(--fill-color);\n",
              "    }\n",
              "    40% {\n",
              "      border-color: transparent;\n",
              "      border-right-color: var(--fill-color);\n",
              "      border-top-color: var(--fill-color);\n",
              "    }\n",
              "    60% {\n",
              "      border-color: transparent;\n",
              "      border-right-color: var(--fill-color);\n",
              "    }\n",
              "    80% {\n",
              "      border-color: transparent;\n",
              "      border-right-color: var(--fill-color);\n",
              "      border-bottom-color: var(--fill-color);\n",
              "    }\n",
              "    90% {\n",
              "      border-color: transparent;\n",
              "      border-bottom-color: var(--fill-color);\n",
              "    }\n",
              "  }\n",
              "</style>\n",
              "\n",
              "      <script>\n",
              "        async function quickchart(key) {\n",
              "          const quickchartButtonEl =\n",
              "            document.querySelector('#' + key + ' button');\n",
              "          quickchartButtonEl.disabled = true;  // To prevent multiple clicks.\n",
              "          quickchartButtonEl.classList.add('colab-df-spinner');\n",
              "          try {\n",
              "            const charts = await google.colab.kernel.invokeFunction(\n",
              "                'suggestCharts', [key], {});\n",
              "          } catch (error) {\n",
              "            console.error('Error during call to suggestCharts:', error);\n",
              "          }\n",
              "          quickchartButtonEl.classList.remove('colab-df-spinner');\n",
              "          quickchartButtonEl.classList.add('colab-df-quickchart-complete');\n",
              "        }\n",
              "        (() => {\n",
              "          let quickchartButtonEl =\n",
              "            document.querySelector('#df-0e49de41-7427-492b-b200-a06249abf061 button');\n",
              "          quickchartButtonEl.style.display =\n",
              "            google.colab.kernel.accessAllowed ? 'block' : 'none';\n",
              "        })();\n",
              "      </script>\n",
              "    </div>\n",
              "\n",
              "    </div>\n",
              "  </div>\n"
            ],
            "application/vnd.google.colaboratory.intrinsic+json": {
              "type": "dataframe",
              "variable_name": "male"
            }
          },
          "metadata": {},
          "execution_count": 108
        }
      ]
    },
    {
      "cell_type": "markdown",
      "id": "1cc5c0de",
      "metadata": {
        "id": "1cc5c0de"
      },
      "source": [
        "Make `Cdf` objects that represent the distribution of birth weights for male and female babies.\n",
        "Plot the two CDFs.\n",
        "What are the differences in the shape and location of the distributions?\n",
        "\n",
        "If a male baby weighs 8.5 pounds, what is his percentile rank? What is the weight of a female baby with the same percentile rank?"
      ]
    },
    {
      "cell_type": "code",
      "execution_count": 117,
      "id": "3e0c29d4",
      "metadata": {
        "id": "3e0c29d4"
      },
      "outputs": [],
      "source": [
        "# Solution goes here\n",
        "cdf_male = Cdf.from_seq(male['totalwgt_lb'])\n",
        "cdf_female = Cdf.from_seq(female['totalwgt_lb'])"
      ]
    },
    {
      "cell_type": "code",
      "execution_count": 110,
      "id": "94fcf178",
      "metadata": {
        "colab": {
          "base_uri": "https://localhost:8080/",
          "height": 752
        },
        "id": "94fcf178",
        "outputId": "239db621-ac59-4719-a185-06f0dcd29a85"
      },
      "outputs": [
        {
          "output_type": "display_data",
          "data": {
            "text/plain": [
              "<Figure size 1800x1050 with 1 Axes>"
            ],
            "image/png": "[encoded data removed]"
          },
          "metadata": {}
        }
      ],
      "source": [
        "# Solution goes here\n",
        "cdf_male.plot(label=\"male\", ls=\"--\")\n",
        "cdf_female.plot(label=\"female\", alpha=0.5)\n",
        "\n",
        "decorate(xlabel=\"Weight\", ylabel=\"CDF\")"
      ]
    },
    {
      "cell_type": "code",
      "execution_count": 113,
      "id": "d60f5e77",
      "metadata": {
        "colab": {
          "base_uri": "https://localhost:8080/"
        },
        "id": "d60f5e77",
        "outputId": "2debc315-d35e-4027-b842-0bcee6b2868b"
      },
      "outputs": [
        {
          "output_type": "execute_result",
          "data": {
            "text/plain": [
              "np.float64(79.68110321051498)"
            ]
          },
          "metadata": {},
          "execution_count": 113
        }
      ],
      "source": [
        "# Solution goes here\n",
        "percentile_rank(8.5, male['totalwgt_lb'])"
      ]
    },
    {
      "cell_type": "code",
      "execution_count": 118,
      "id": "c4d96906",
      "metadata": {
        "colab": {
          "base_uri": "https://localhost:8080/"
        },
        "id": "c4d96906",
        "outputId": "a1afb17a-f5ab-49d1-da56-13f52258a83c"
      },
      "outputs": [
        {
          "output_type": "execute_result",
          "data": {
            "text/plain": [
              "np.float64(7.0625)"
            ]
          },
          "metadata": {},
          "execution_count": 118
        }
      ],
      "source": [
        "# Solution goes here\n",
        "male_perc_rank = percentile_rank(8.5, male['totalwgt_lb'])\n",
        "percentile(male_perc_rank, female['totalwgt_lb'].values)"
      ]
    },
    {
      "cell_type": "code",
      "execution_count": 75,
      "id": "4dc8cd84",
      "metadata": {
        "id": "4dc8cd84"
      },
      "outputs": [],
      "source": [
        "# Solution goes here"
      ]
    },
    {
      "cell_type": "markdown",
      "id": "fd2489dd",
      "metadata": {
        "id": "fd2489dd"
      },
      "source": [
        "### Exercise 4.3\n",
        "\n",
        "From the NSFG dataset pregnancy data, select the `agepreg` column and make a `Cdf` to represent the distribution of age at conception for each pregnancy.\n",
        "Use the CDF to compute the percentage of ages less than or equal to 20, and the percentage less than or equal to 30.\n",
        "Use those results to compute the percentage between 20 and 30."
      ]
    },
    {
      "cell_type": "code",
      "execution_count": 120,
      "id": "b5f29514",
      "metadata": {
        "colab": {
          "base_uri": "https://localhost:8080/",
          "height": 255
        },
        "id": "b5f29514",
        "outputId": "977902f4-d3f5-4a36-eadc-495c756e7b5f"
      },
      "outputs": [
        {
          "output_type": "execute_result",
          "data": {
            "text/plain": [
              "   caseid  pregordr  howpreg_n  howpreg_p  moscurrp  nowprgdk  pregend1  \\\n",
              "0       1         1        NaN        NaN       NaN       NaN       6.0   \n",
              "1       1         2        NaN        NaN       NaN       NaN       6.0   \n",
              "2       2         1        NaN        NaN       NaN       NaN       5.0   \n",
              "3       2         2        NaN        NaN       NaN       NaN       6.0   \n",
              "4       2         3        NaN        NaN       NaN       NaN       6.0   \n",
              "\n",
              "   pregend2  nbrnaliv  multbrth  ...  laborfor_i  religion_i  metro_i  \\\n",
              "0       NaN       1.0       NaN  ...           0           0        0   \n",
              "1       NaN       1.0       NaN  ...           0           0        0   \n",
              "2       NaN       3.0       5.0  ...           0           0        0   \n",
              "3       NaN       1.0       NaN  ...           0           0        0   \n",
              "4       NaN       1.0       NaN  ...           0           0        0   \n",
              "\n",
              "       basewgt  adj_mod_basewgt      finalwgt  secu_p  sest  cmintvw  \\\n",
              "0  3410.389399      3869.349602   6448.271112       2     9     1231   \n",
              "1  3410.389399      3869.349602   6448.271112       2     9     1231   \n",
              "2  7226.301740      8567.549110  12999.542264       2    12     1231   \n",
              "3  7226.301740      8567.549110  12999.542264       2    12     1231   \n",
              "4  7226.301740      8567.549110  12999.542264       2    12     1231   \n",
              "\n",
              "   totalwgt_lb  \n",
              "0       8.8125  \n",
              "1       7.8750  \n",
              "2       9.1250  \n",
              "3       7.0000  \n",
              "4       6.1875  \n",
              "\n",
              "[5 rows x 244 columns]"
            ],
            "text/html": [
              "\n",
              "  <div id=\"df-002d6c20-68a7-4dd2-9d5f-372ad47313de\" class=\"colab-df-container\">\n",
              "    <div>\n",
              "<style scoped>\n",
              "    .dataframe tbody tr th:only-of-type {\n",
              "        vertical-align: middle;\n",
              "    }\n",
              "\n",
              "    .dataframe tbody tr th {\n",
              "        vertical-align: top;\n",
              "    }\n",
              "\n",
              "    .dataframe thead th {\n",
              "        text-align: right;\n",
              "    }\n",
              "</style>\n",
              "<table border=\"1\" class=\"dataframe\">\n",
              "  <thead>\n",
              "    <tr style=\"text-align: right;\">\n",
              "      <th></th>\n",
              "      <th>caseid</th>\n",
              "      <th>pregordr</th>\n",
              "      <th>howpreg_n</th>\n",
              "      <th>howpreg_p</th>\n",
              "      <th>moscurrp</th>\n",
              "      <th>nowprgdk</th>\n",
              "      <th>pregend1</th>\n",
              "      <th>pregend2</th>\n",
              "      <th>nbrnaliv</th>\n",
              "      <th>multbrth</th>\n",
              "      <th>...</th>\n",
              "      <th>laborfor_i</th>\n",
              "      <th>religion_i</th>\n",
              "      <th>metro_i</th>\n",
              "      <th>basewgt</th>\n",
              "      <th>adj_mod_basewgt</th>\n",
              "      <th>finalwgt</th>\n",
              "      <th>secu_p</th>\n",
              "      <th>sest</th>\n",
              "      <th>cmintvw</th>\n",
              "      <th>totalwgt_lb</th>\n",
              "    </tr>\n",
              "  </thead>\n",
              "  <tbody>\n",
              "    <tr>\n",
              "      <th>0</th>\n",
              "      <td>1</td>\n",
              "      <td>1</td>\n",
              "      <td>NaN</td>\n",
              "      <td>NaN</td>\n",
              "      <td>NaN</td>\n",
              "      <td>NaN</td>\n",
              "      <td>6.0</td>\n",
              "      <td>NaN</td>\n",
              "      <td>1.0</td>\n",
              "      <td>NaN</td>\n",
              "      <td>...</td>\n",
              "      <td>0</td>\n",
              "      <td>0</td>\n",
              "      <td>0</td>\n",
              "      <td>3410.389399</td>\n",
              "      <td>3869.349602</td>\n",
              "      <td>6448.271112</td>\n",
              "      <td>2</td>\n",
              "      <td>9</td>\n",
              "      <td>1231</td>\n",
              "      <td>8.8125</td>\n",
              "    </tr>\n",
              "    <tr>\n",
              "      <th>1</th>\n",
              "      <td>1</td>\n",
              "      <td>2</td>\n",
              "      <td>NaN</td>\n",
              "      <td>NaN</td>\n",
              "      <td>NaN</td>\n",
              "      <td>NaN</td>\n",
              "      <td>6.0</td>\n",
              "      <td>NaN</td>\n",
              "      <td>1.0</td>\n",
              "      <td>NaN</td>\n",
              "      <td>...</td>\n",
              "      <td>0</td>\n",
              "      <td>0</td>\n",
              "      <td>0</td>\n",
              "      <td>3410.389399</td>\n",
              "      <td>3869.349602</td>\n",
              "      <td>6448.271112</td>\n",
              "      <td>2</td>\n",
              "      <td>9</td>\n",
              "      <td>1231</td>\n",
              "      <td>7.8750</td>\n",
              "    </tr>\n",
              "    <tr>\n",
              "      <th>2</th>\n",
              "      <td>2</td>\n",
              "      <td>1</td>\n",
              "      <td>NaN</td>\n",
              "      <td>NaN</td>\n",
              "      <td>NaN</td>\n",
              "      <td>NaN</td>\n",
              "      <td>5.0</td>\n",
              "      <td>NaN</td>\n",
              "      <td>3.0</td>\n",
              "      <td>5.0</td>\n",
              "      <td>...</td>\n",
              "      <td>0</td>\n",
              "      <td>0</td>\n",
              "      <td>0</td>\n",
              "      <td>7226.301740</td>\n",
              "      <td>8567.549110</td>\n",
              "      <td>12999.542264</td>\n",
              "      <td>2</td>\n",
              "      <td>12</td>\n",
              "      <td>1231</td>\n",
              "      <td>9.1250</td>\n",
              "    </tr>\n",
              "    <tr>\n",
              "      <th>3</th>\n",
              "      <td>2</td>\n",
              "      <td>2</td>\n",
              "      <td>NaN</td>\n",
              "      <td>NaN</td>\n",
              "      <td>NaN</td>\n",
              "      <td>NaN</td>\n",
              "      <td>6.0</td>\n",
              "      <td>NaN</td>\n",
              "      <td>1.0</td>\n",
              "      <td>NaN</td>\n",
              "      <td>...</td>\n",
              "      <td>0</td>\n",
              "      <td>0</td>\n",
              "      <td>0</td>\n",
              "      <td>7226.301740</td>\n",
              "      <td>8567.549110</td>\n",
              "      <td>12999.542264</td>\n",
              "      <td>2</td>\n",
              "      <td>12</td>\n",
              "      <td>1231</td>\n",
              "      <td>7.0000</td>\n",
              "    </tr>\n",
              "    <tr>\n",
              "      <th>4</th>\n",
              "      <td>2</td>\n",
              "      <td>3</td>\n",
              "      <td>NaN</td>\n",
              "      <td>NaN</td>\n",
              "      <td>NaN</td>\n",
              "      <td>NaN</td>\n",
              "      <td>6.0</td>\n",
              "      <td>NaN</td>\n",
              "      <td>1.0</td>\n",
              "      <td>NaN</td>\n",
              "      <td>...</td>\n",
              "      <td>0</td>\n",
              "      <td>0</td>\n",
              "      <td>0</td>\n",
              "      <td>7226.301740</td>\n",
              "      <td>8567.549110</td>\n",
              "      <td>12999.542264</td>\n",
              "      <td>2</td>\n",
              "      <td>12</td>\n",
              "      <td>1231</td>\n",
              "      <td>6.1875</td>\n",
              "    </tr>\n",
              "  </tbody>\n",
              "</table>\n",
              "<p>5 rows × 244 columns</p>\n",
              "</div>\n",
              "    <div class=\"colab-df-buttons\">\n",
              "\n",
              "  <div class=\"colab-df-container\">\n",
              "    <button class=\"colab-df-convert\" onclick=\"convertToInteractive('df-002d6c20-68a7-4dd2-9d5f-372ad47313de')\"\n",
              "            title=\"Convert this dataframe to an interactive table.\"\n",
              "            style=\"display:none;\">\n",
              "\n",
              "  <svg xmlns=\"http://www.w3.org/2000/svg\" height=\"24px\" viewBox=\"0 -960 960 960\">\n",
              "    <path d=\"M120-120v-720h720v720H120Zm60-500h600v-160H180v160Zm220 220h160v-160H400v160Zm0 220h160v-160H400v160ZM180-400h160v-160H180v160Zm440 0h160v-160H620v160ZM180-180h160v-160H180v160Zm440 0h160v-160H620v160Z\"/>\n",
              "  </svg>\n",
              "    </button>\n",
              "\n",
              "  <style>\n",
              "    .colab-df-container {\n",
              "      display:flex;\n",
              "      gap: 12px;\n",
              "    }\n",
              "\n",
              "    .colab-df-convert {\n",
              "      background-color: #E8F0FE;\n",
              "      border: none;\n",
              "      border-radius: 50%;\n",
              "      cursor: pointer;\n",
              "      display: none;\n",
              "      fill: #1967D2;\n",
              "      height: 32px;\n",
              "      padding: 0 0 0 0;\n",
              "      width: 32px;\n",
              "    }\n",
              "\n",
              "    .colab-df-convert:hover {\n",
              "      background-color: #E2EBFA;\n",
              "      box-shadow: 0px 1px 2px rgba(60, 64, 67, 0.3), 0px 1px 3px 1px rgba(60, 64, 67, 0.15);\n",
              "      fill: #174EA6;\n",
              "    }\n",
              "\n",
              "    .colab-df-buttons div {\n",
              "      margin-bottom: 4px;\n",
              "    }\n",
              "\n",
              "    [theme=dark] .colab-df-convert {\n",
              "      background-color: #3B4455;\n",
              "      fill: #D2E3FC;\n",
              "    }\n",
              "\n",
              "    [theme=dark] .colab-df-convert:hover {\n",
              "      background-color: #434B5C;\n",
              "      box-shadow: 0px 1px 3px 1px rgba(0, 0, 0, 0.15);\n",
              "      filter: drop-shadow(0px 1px 2px rgba(0, 0, 0, 0.3));\n",
              "      fill: #FFFFFF;\n",
              "    }\n",
              "  </style>\n",
              "\n",
              "    <script>\n",
              "      const buttonEl =\n",
              "        document.querySelector('#df-002d6c20-68a7-4dd2-9d5f-372ad47313de button.colab-df-convert');\n",
              "      buttonEl.style.display =\n",
              "        google.colab.kernel.accessAllowed ? 'block' : 'none';\n",
              "\n",
              "      async function convertToInteractive(key) {\n",
              "        const element = document.querySelector('#df-002d6c20-68a7-4dd2-9d5f-372ad47313de');\n",
              "        const dataTable =\n",
              "          await google.colab.kernel.invokeFunction('convertToInteractive',\n",
              "                                                    [key], {});\n",
              "        if (!dataTable) return;\n",
              "\n",
              "        const docLinkHtml = 'Like what you see? Visit the ' +\n",
              "          '<a target=\"_blank\" href=https://colab.research.google.com/notebooks/data_table.ipynb>data table notebook</a>'\n",
              "          + ' to learn more about interactive tables.';\n",
              "        element.innerHTML = '';\n",
              "        dataTable['output_type'] = 'display_data';\n",
              "        await google.colab.output.renderOutput(dataTable, element);\n",
              "        const docLink = document.createElement('div');\n",
              "        docLink.innerHTML = docLinkHtml;\n",
              "        element.appendChild(docLink);\n",
              "      }\n",
              "    </script>\n",
              "  </div>\n",
              "\n",
              "\n",
              "    <div id=\"df-a69a4c40-81eb-4736-9ad6-646edf4c8051\">\n",
              "      <button class=\"colab-df-quickchart\" onclick=\"quickchart('df-a69a4c40-81eb-4736-9ad6-646edf4c8051')\"\n",
              "                title=\"Suggest charts\"\n",
              "                style=\"display:none;\">\n",
              "\n",
              "<svg xmlns=\"http://www.w3.org/2000/svg\" height=\"24px\"viewBox=\"0 0 24 24\"\n",
              "     width=\"24px\">\n",
              "    <g>\n",
              "        <path d=\"M19 3H5c-1.1 0-2 .9-2 2v14c0 1.1.9 2 2 2h14c1.1 0 2-.9 2-2V5c0-1.1-.9-2-2-2zM9 17H7v-7h2v7zm4 0h-2V7h2v10zm4 0h-2v-4h2v4z\"/>\n",
              "    </g>\n",
              "</svg>\n",
              "      </button>\n",
              "\n",
              "<style>\n",
              "  .colab-df-quickchart {\n",
              "      --bg-color: #E8F0FE;\n",
              "      --fill-color: #1967D2;\n",
              "      --hover-bg-color: #E2EBFA;\n",
              "      --hover-fill-color: #174EA6;\n",
              "      --disabled-fill-color: #AAA;\n",
              "      --disabled-bg-color: #DDD;\n",
              "  }\n",
              "\n",
              "  [theme=dark] .colab-df-quickchart {\n",
              "      --bg-color: #3B4455;\n",
              "      --fill-color: #D2E3FC;\n",
              "      --hover-bg-color: #434B5C;\n",
              "      --hover-fill-color: #FFFFFF;\n",
              "      --disabled-bg-color: #3B4455;\n",
              "      --disabled-fill-color: #666;\n",
              "  }\n",
              "\n",
              "  .colab-df-quickchart {\n",
              "    background-color: var(--bg-color);\n",
              "    border: none;\n",
              "    border-radius: 50%;\n",
              "    cursor: pointer;\n",
              "    display: none;\n",
              "    fill: var(--fill-color);\n",
              "    height: 32px;\n",
              "    padding: 0;\n",
              "    width: 32px;\n",
              "  }\n",
              "\n",
              "  .colab-df-quickchart:hover {\n",
              "    background-color: var(--hover-bg-color);\n",
              "    box-shadow: 0 1px 2px rgba(60, 64, 67, 0.3), 0 1px 3px 1px rgba(60, 64, 67, 0.15);\n",
              "    fill: var(--button-hover-fill-color);\n",
              "  }\n",
              "\n",
              "  .colab-df-quickchart-complete:disabled,\n",
              "  .colab-df-quickchart-complete:disabled:hover {\n",
              "    background-color: var(--disabled-bg-color);\n",
              "    fill: var(--disabled-fill-color);\n",
              "    box-shadow: none;\n",
              "  }\n",
              "\n",
              "  .colab-df-spinner {\n",
              "    border: 2px solid var(--fill-color);\n",
              "    border-color: transparent;\n",
              "    border-bottom-color: var(--fill-color);\n",
              "    animation:\n",
              "      spin 1s steps(1) infinite;\n",
              "  }\n",
              "\n",
              "  @keyframes spin {\n",
              "    0% {\n",
              "      border-color: transparent;\n",
              "      border-bottom-color: var(--fill-color);\n",
              "      border-left-color: var(--fill-color);\n",
              "    }\n",
              "    20% {\n",
              "      border-color: transparent;\n",
              "      border-left-color: var(--fill-color);\n",
              "      border-top-color: var(--fill-color);\n",
              "    }\n",
              "    30% {\n",
              "      border-color: transparent;\n",
              "      border-left-color: var(--fill-color);\n",
              "      border-top-color: var(--fill-color);\n",
              "      border-right-color: var(--fill-color);\n",
              "    }\n",
              "    40% {\n",
              "      border-color: transparent;\n",
              "      border-right-color: var(--fill-color);\n",
              "      border-top-color: var(--fill-color);\n",
              "    }\n",
              "    60% {\n",
              "      border-color: transparent;\n",
              "      border-right-color: var(--fill-color);\n",
              "    }\n",
              "    80% {\n",
              "      border-color: transparent;\n",
              "      border-right-color: var(--fill-color);\n",
              "      border-bottom-color: var(--fill-color);\n",
              "    }\n",
              "    90% {\n",
              "      border-color: transparent;\n",
              "      border-bottom-color: var(--fill-color);\n",
              "    }\n",
              "  }\n",
              "</style>\n",
              "\n",
              "      <script>\n",
              "        async function quickchart(key) {\n",
              "          const quickchartButtonEl =\n",
              "            document.querySelector('#' + key + ' button');\n",
              "          quickchartButtonEl.disabled = true;  // To prevent multiple clicks.\n",
              "          quickchartButtonEl.classList.add('colab-df-spinner');\n",
              "          try {\n",
              "            const charts = await google.colab.kernel.invokeFunction(\n",
              "                'suggestCharts', [key], {});\n",
              "          } catch (error) {\n",
              "            console.error('Error during call to suggestCharts:', error);\n",
              "          }\n",
              "          quickchartButtonEl.classList.remove('colab-df-spinner');\n",
              "          quickchartButtonEl.classList.add('colab-df-quickchart-complete');\n",
              "        }\n",
              "        (() => {\n",
              "          let quickchartButtonEl =\n",
              "            document.querySelector('#df-a69a4c40-81eb-4736-9ad6-646edf4c8051 button');\n",
              "          quickchartButtonEl.style.display =\n",
              "            google.colab.kernel.accessAllowed ? 'block' : 'none';\n",
              "        })();\n",
              "      </script>\n",
              "    </div>\n",
              "\n",
              "    </div>\n",
              "  </div>\n"
            ],
            "application/vnd.google.colaboratory.intrinsic+json": {
              "type": "dataframe",
              "variable_name": "preg"
            }
          },
          "metadata": {},
          "execution_count": 120
        }
      ],
      "source": [
        "from nsfg import read_fem_preg\n",
        "\n",
        "preg = read_fem_preg()\n",
        "preg.head()"
      ]
    },
    {
      "cell_type": "code",
      "execution_count": 121,
      "id": "5834fd4c",
      "metadata": {
        "colab": {
          "base_uri": "https://localhost:8080/",
          "height": 472
        },
        "id": "5834fd4c",
        "outputId": "3115d49f-4029-47cd-cbe0-435dec56666c"
      },
      "outputs": [
        {
          "output_type": "execute_result",
          "data": {
            "text/plain": [
              "agepreg\n",
              "10.33    0.000076\n",
              "10.50    0.000151\n",
              "10.83    0.000227\n",
              "10.91    0.000302\n",
              "11.08    0.000378\n",
              "           ...   \n",
              "43.16    0.999320\n",
              "43.25    0.999622\n",
              "43.58    0.999849\n",
              "43.91    0.999924\n",
              "44.08    1.000000\n",
              "Name: , Length: 373, dtype: float64"
            ],
            "text/html": [
              "<div>\n",
              "<style scoped>\n",
              "    .dataframe tbody tr th:only-of-type {\n",
              "        vertical-align: middle;\n",
              "    }\n",
              "\n",
              "    .dataframe tbody tr th {\n",
              "        vertical-align: top;\n",
              "    }\n",
              "\n",
              "    .dataframe thead th {\n",
              "        text-align: right;\n",
              "    }\n",
              "</style>\n",
              "<table border=\"1\" class=\"dataframe\">\n",
              "  <thead>\n",
              "    <tr style=\"text-align: right;\">\n",
              "      <th></th>\n",
              "      <th></th>\n",
              "    </tr>\n",
              "    <tr>\n",
              "      <th>agepreg</th>\n",
              "      <th></th>\n",
              "    </tr>\n",
              "  </thead>\n",
              "  <tbody>\n",
              "    <tr>\n",
              "      <th>10.33</th>\n",
              "      <td>0.000076</td>\n",
              "    </tr>\n",
              "    <tr>\n",
              "      <th>10.50</th>\n",
              "      <td>0.000151</td>\n",
              "    </tr>\n",
              "    <tr>\n",
              "      <th>10.83</th>\n",
              "      <td>0.000227</td>\n",
              "    </tr>\n",
              "    <tr>\n",
              "      <th>10.91</th>\n",
              "      <td>0.000302</td>\n",
              "    </tr>\n",
              "    <tr>\n",
              "      <th>11.08</th>\n",
              "      <td>0.000378</td>\n",
              "    </tr>\n",
              "    <tr>\n",
              "      <th>...</th>\n",
              "      <td>...</td>\n",
              "    </tr>\n",
              "    <tr>\n",
              "      <th>43.16</th>\n",
              "      <td>0.999320</td>\n",
              "    </tr>\n",
              "    <tr>\n",
              "      <th>43.25</th>\n",
              "      <td>0.999622</td>\n",
              "    </tr>\n",
              "    <tr>\n",
              "      <th>43.58</th>\n",
              "      <td>0.999849</td>\n",
              "    </tr>\n",
              "    <tr>\n",
              "      <th>43.91</th>\n",
              "      <td>0.999924</td>\n",
              "    </tr>\n",
              "    <tr>\n",
              "      <th>44.08</th>\n",
              "      <td>1.000000</td>\n",
              "    </tr>\n",
              "  </tbody>\n",
              "</table>\n",
              "<p>373 rows × 1 columns</p>\n",
              "</div><br><label><b>dtype:</b> float64</label>"
            ]
          },
          "metadata": {},
          "execution_count": 121
        }
      ],
      "source": [
        "# Solution goes here\n",
        "cdf_age = Cdf.from_seq(preg['agepreg'])\n",
        "cdf_age"
      ]
    },
    {
      "cell_type": "code",
      "execution_count": 128,
      "id": "988569df",
      "metadata": {
        "colab": {
          "base_uri": "https://localhost:8080/"
        },
        "id": "988569df",
        "outputId": "20f48db8-cb5a-4e0f-f93c-c9b00e533402"
      },
      "outputs": [
        {
          "output_type": "stream",
          "name": "stdout",
          "text": [
            "<= 20 :  24.718676837096893\n",
            "<= 30 :  80.46220074012537\n"
          ]
        }
      ],
      "source": [
        "# Solution goes here\n",
        "print(f\"<= 20 : \",cdf_age[20]*100)\n",
        "print(f\"<= 30 : \",cdf_age[30]*100)"
      ]
    },
    {
      "cell_type": "code",
      "execution_count": 129,
      "id": "0e66dcd3",
      "metadata": {
        "colab": {
          "base_uri": "https://localhost:8080/"
        },
        "id": "0e66dcd3",
        "outputId": "fca28be9-59f7-4efe-8e1a-e72535489cbe"
      },
      "outputs": [
        {
          "output_type": "stream",
          "name": "stdout",
          "text": [
            "percentage between 20 and 30 :  55.743523903028475\n"
          ]
        }
      ],
      "source": [
        "# Solution goes here\n",
        "print(f\"percentage between 20 and 30 : \", (cdf_age[30]*100) - (cdf_age[20]*100))"
      ]
    },
    {
      "cell_type": "code",
      "execution_count": 80,
      "id": "f92f4c46",
      "metadata": {
        "id": "f92f4c46"
      },
      "outputs": [],
      "source": [
        "# Solution goes here"
      ]
    },
    {
      "cell_type": "markdown",
      "id": "4e185577",
      "metadata": {
        "id": "4e185577"
      },
      "source": [
        "### Exercise 4.4\n",
        "\n",
        "Here are the running speeds of the people who finished the James Joyce Ramble, described earlier in this chapter."
      ]
    },
    {
      "cell_type": "code",
      "execution_count": 81,
      "id": "79362fdc",
      "metadata": {
        "id": "79362fdc"
      },
      "outputs": [],
      "source": [
        "speeds = results[\"MPH\"].values"
      ]
    },
    {
      "cell_type": "markdown",
      "id": "1080c340",
      "metadata": {
        "id": "1080c340"
      },
      "source": [
        "Make a `Cdf` that represents the distribution of these speeds, and use it to compute the median, IQR, and quartile skewness.\n",
        "Does the distribution skew to the left or right?"
      ]
    },
    {
      "cell_type": "code",
      "execution_count": 82,
      "id": "0d582d9c",
      "metadata": {
        "id": "0d582d9c"
      },
      "outputs": [],
      "source": [
        "# Solution goes here"
      ]
    },
    {
      "cell_type": "code",
      "execution_count": 83,
      "id": "068cf75b",
      "metadata": {
        "id": "068cf75b"
      },
      "outputs": [],
      "source": [
        "# Solution goes here"
      ]
    },
    {
      "cell_type": "markdown",
      "id": "ed782fef",
      "metadata": {
        "collapsed": true,
        "id": "ed782fef"
      },
      "source": [
        "### Exercise 4.5\n",
        "\n",
        "The numbers generated by `np.random.random` are supposed to be uniform between 0 and 1, which means that the CDF of a sample should be a straight line.\n",
        "Let's see if that's true.\n",
        "Here's a sample of 1001 numbers. Plot the CDF of this sample. Does it look like a straight line?"
      ]
    },
    {
      "cell_type": "code",
      "execution_count": 84,
      "id": "ff8cc9b5",
      "metadata": {
        "id": "ff8cc9b5"
      },
      "outputs": [],
      "source": [
        "t = np.random.random(1001)"
      ]
    },
    {
      "cell_type": "code",
      "execution_count": 85,
      "id": "388e8eb4",
      "metadata": {
        "id": "388e8eb4"
      },
      "outputs": [],
      "source": [
        "# Solution goes here"
      ]
    },
    {
      "cell_type": "code",
      "execution_count": 86,
      "id": "4ccaf819",
      "metadata": {
        "id": "4ccaf819"
      },
      "outputs": [],
      "source": [
        "# Solution goes here"
      ]
    },
    {
      "cell_type": "markdown",
      "id": "e27da3a4",
      "metadata": {
        "tags": [],
        "id": "e27da3a4"
      },
      "source": [
        "[Think Stats: Exploratory Data Analysis in Python, 3rd Edition](https://allendowney.github.io/ThinkStats/index.html)\n",
        "\n",
        "Copyright 2024 [Allen B. Downey](https://allendowney.com)\n",
        "\n",
        "Code license: [MIT License](https://mit-license.org/)\n",
        "\n",
        "Text license: [Creative Commons Attribution-NonCommercial-ShareAlike 4.0 International](https://creativecommons.org/licenses/by-nc-sa/4.0/)"
      ]
    }
  ],
  "metadata": {
    "celltoolbar": "Tags",
    "kernelspec": {
      "display_name": "Python 3 (ipykernel)",
      "language": "python",
      "name": "python3"
    },
    "language_info": {
      "codemirror_mode": {
        "name": "ipython",
        "version": 3
      },
      "file_extension": ".py",
      "mimetype": "text/x-python",
      "name": "python",
      "nbconvert_exporter": "python",
      "pygments_lexer": "ipython3",
      "version": "3.11.0"
    },
    "colab": {
      "provenance": []
    }
  },
  "nbformat": 4,
  "nbformat_minor": 5
}