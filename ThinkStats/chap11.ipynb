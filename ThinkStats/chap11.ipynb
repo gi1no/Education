{
  "cells": [
    {
      "cell_type": "markdown",
      "metadata": {
        "id": "view-in-github",
        "colab_type": "text"
      },
      "source": [
        "<a href=\"https://colab.research.google.com/github/gi1no/Education/blob/main/ThinkStats/chap11.ipynb\" target=\"_parent\"><img src=\"https://colab.research.google.com/assets/colab-badge.svg\" alt=\"Open In Colab\"/></a>"
      ]
    },
    {
      "cell_type": "markdown",
      "id": "418e407e",
      "metadata": {
        "id": "418e407e"
      },
      "source": [
        "The third edition of *Think Stats* is available now from [Bookshop.org](https://bookshop.org/a/98697/9781098190255) and [Amazon](https://amzn.to/42lmxwu) (those are affiliate links). If you are enjoying the free, online version, consider [buying me a coffee](https://buymeacoffee.com/allendowney)."
      ]
    },
    {
      "cell_type": "markdown",
      "id": "3e9baa5d",
      "metadata": {
        "id": "3e9baa5d"
      },
      "source": [
        "# Multiple Regression\n",
        "\n",
        "The linear least squares fit in the previous chapter is an example of **regression**, which is the more general problem of modeling the relationship between one set of variables, called **response variables** or dependent variables, and another set of variables, called **explanatory variables** or independent variables.\n",
        "\n",
        "In the examples in the previous chapter, there is only one response variable and one explanatory variable, which is called **simple regression**.\n",
        "In this chapter, we move on to **multiple regression**, with more than one explanatory variable, but still only one response variable.\n",
        "If there is more than one response variable, that's multivariate regression, which we won't cover in this book."
      ]
    },
    {
      "cell_type": "markdown",
      "id": "57b27bfc",
      "metadata": {
        "tags": [],
        "id": "57b27bfc"
      },
      "source": [
        "[Click here to run this notebook on Colab](https://colab.research.google.com/github/AllenDowney/ThinkStats/blob/v3/nb/chap11.ipynb)."
      ]
    },
    {
      "cell_type": "code",
      "execution_count": 1,
      "id": "08579655",
      "metadata": {
        "tags": [],
        "id": "08579655",
        "outputId": "2540c55e-ee3d-413e-c1c3-e0b0b0e57bc1",
        "colab": {
          "base_uri": "https://localhost:8080/"
        }
      },
      "outputs": [
        {
          "output_type": "stream",
          "name": "stdout",
          "text": [
            "Downloaded thinkstats.py\n"
          ]
        }
      ],
      "source": [
        "from os.path import basename, exists\n",
        "\n",
        "\n",
        "def download(url):\n",
        "    filename = basename(url)\n",
        "    if not exists(filename):\n",
        "        from urllib.request import urlretrieve\n",
        "\n",
        "        local, _ = urlretrieve(url, filename)\n",
        "        print(\"Downloaded \" + local)\n",
        "\n",
        "\n",
        "download(\"https://github.com/AllenDowney/ThinkStats/raw/v3/nb/thinkstats.py\")"
      ]
    },
    {
      "cell_type": "code",
      "execution_count": 2,
      "id": "4b829ec6",
      "metadata": {
        "tags": [],
        "id": "4b829ec6",
        "outputId": "f04e1e29-892d-40c1-8480-90c40cf80fbd",
        "colab": {
          "base_uri": "https://localhost:8080/"
        }
      },
      "outputs": [
        {
          "output_type": "stream",
          "name": "stdout",
          "text": [
            "Collecting empiricaldist\n",
            "  Downloading empiricaldist-0.9.0.tar.gz (14 kB)\n",
            "  Installing build dependencies ... \u001b[?25l\u001b[?25hdone\n",
            "  Getting requirements to build wheel ... \u001b[?25l\u001b[?25hdone\n",
            "  Preparing metadata (pyproject.toml) ... \u001b[?25l\u001b[?25hdone\n",
            "Requirement already satisfied: matplotlib in /usr/local/lib/python3.11/dist-packages (from empiricaldist) (3.10.0)\n",
            "Requirement already satisfied: numpy in /usr/local/lib/python3.11/dist-packages (from empiricaldist) (2.0.2)\n",
            "Requirement already satisfied: pandas in /usr/local/lib/python3.11/dist-packages (from empiricaldist) (2.2.2)\n",
            "Requirement already satisfied: scipy in /usr/local/lib/python3.11/dist-packages (from empiricaldist) (1.16.0)\n",
            "Requirement already satisfied: contourpy>=1.0.1 in /usr/local/lib/python3.11/dist-packages (from matplotlib->empiricaldist) (1.3.2)\n",
            "Requirement already satisfied: cycler>=0.10 in /usr/local/lib/python3.11/dist-packages (from matplotlib->empiricaldist) (0.12.1)\n",
            "Requirement already satisfied: fonttools>=4.22.0 in /usr/local/lib/python3.11/dist-packages (from matplotlib->empiricaldist) (4.59.0)\n",
            "Requirement already satisfied: kiwisolver>=1.3.1 in /usr/local/lib/python3.11/dist-packages (from matplotlib->empiricaldist) (1.4.8)\n",
            "Requirement already satisfied: packaging>=20.0 in /usr/local/lib/python3.11/dist-packages (from matplotlib->empiricaldist) (25.0)\n",
            "Requirement already satisfied: pillow>=8 in /usr/local/lib/python3.11/dist-packages (from matplotlib->empiricaldist) (11.3.0)\n",
            "Requirement already satisfied: pyparsing>=2.3.1 in /usr/local/lib/python3.11/dist-packages (from matplotlib->empiricaldist) (3.2.3)\n",
            "Requirement already satisfied: python-dateutil>=2.7 in /usr/local/lib/python3.11/dist-packages (from matplotlib->empiricaldist) (2.9.0.post0)\n",
            "Requirement already satisfied: pytz>=2020.1 in /usr/local/lib/python3.11/dist-packages (from pandas->empiricaldist) (2025.2)\n",
            "Requirement already satisfied: tzdata>=2022.7 in /usr/local/lib/python3.11/dist-packages (from pandas->empiricaldist) (2025.2)\n",
            "Requirement already satisfied: six>=1.5 in /usr/local/lib/python3.11/dist-packages (from python-dateutil>=2.7->matplotlib->empiricaldist) (1.17.0)\n",
            "Building wheels for collected packages: empiricaldist\n",
            "  Building wheel for empiricaldist (pyproject.toml) ... \u001b[?25l\u001b[?25hdone\n",
            "  Created wheel for empiricaldist: filename=empiricaldist-0.9.0-py3-none-any.whl size=14296 sha256=92b99566b1d45fb7545cefdb4bfc5f1260b3ef381bb30463f16548332b2cd238\n",
            "  Stored in directory: /root/.cache/pip/wheels/96/04/f1/a934ef1f5f3db621dc39566b2c7de45b8c6916044be6a9c9ac\n",
            "Successfully built empiricaldist\n",
            "Installing collected packages: empiricaldist\n",
            "Successfully installed empiricaldist-0.9.0\n"
          ]
        }
      ],
      "source": [
        "try:\n",
        "    import empiricaldist\n",
        "except ImportError:\n",
        "    %pip install empiricaldist"
      ]
    },
    {
      "cell_type": "code",
      "execution_count": 3,
      "id": "f2dfc492",
      "metadata": {
        "tags": [],
        "id": "f2dfc492"
      },
      "outputs": [],
      "source": [
        "import numpy as np\n",
        "import pandas as pd\n",
        "import matplotlib.pyplot as plt\n",
        "\n",
        "from thinkstats import decorate"
      ]
    },
    {
      "cell_type": "markdown",
      "id": "43363a26",
      "metadata": {
        "id": "43363a26"
      },
      "source": [
        "## StatsModels\n",
        "\n",
        "In the previous chapter we used the SciPy function `linregress` to compute least squares fits.\n",
        "This function performs simple regression, but not multiple regression.\n",
        "For that, we'll use `StatsModels`, a package that provides several forms of regression and other analyses.\n",
        "\n",
        "As an first example, we'll continue exploring the penguin data."
      ]
    },
    {
      "cell_type": "markdown",
      "id": "8092e2ce",
      "metadata": {
        "tags": [],
        "id": "8092e2ce"
      },
      "source": [
        "The following cell downloads the data from a repository created by Allison Horst.\n",
        "\n",
        "Horst AM, Hill AP, Gorman KB (2020). palmerpenguins: Palmer Archipelago (Antarctica) penguin data. R package version 0.1.0. https://allisonhorst.github.io/palmerpenguins/. doi: 10.5281/zenodo.3960218.\n",
        "\n",
        "The data was collected as part of the research that led to this paper: Gorman KB, Williams TD, Fraser WR (2014). Ecological sexual dimorphism and environmental variability within a community of Antarctic penguins (genus Pygoscelis). PLoS ONE 9(3):e90081. https://doi.org/10.1371/journal.pone.0090081"
      ]
    },
    {
      "cell_type": "code",
      "execution_count": 4,
      "id": "9718340f",
      "metadata": {
        "tags": [],
        "id": "9718340f",
        "outputId": "23972ffe-2b91-4440-d270-347236062b3c",
        "colab": {
          "base_uri": "https://localhost:8080/"
        }
      },
      "outputs": [
        {
          "output_type": "stream",
          "name": "stdout",
          "text": [
            "Downloaded penguins_raw.csv\n"
          ]
        }
      ],
      "source": [
        "download(\n",
        "    \"https://raw.githubusercontent.com/allisonhorst/palmerpenguins/c19a904462482430170bfe2c718775ddb7dbb885/inst/extdata/penguins_raw.csv\"\n",
        ")"
      ]
    },
    {
      "cell_type": "markdown",
      "id": "4200c1bf",
      "metadata": {
        "id": "4200c1bf"
      },
      "source": [
        "When we load the data, we'll use the following dictionary to give the columns names that don't contain spaces, which will make them easier to use with StatsModels."
      ]
    },
    {
      "cell_type": "code",
      "execution_count": 5,
      "id": "a0eab1db",
      "metadata": {
        "id": "a0eab1db"
      },
      "outputs": [],
      "source": [
        "columns = {\n",
        "    \"Body Mass (g)\": \"mass\",\n",
        "    \"Flipper Length (mm)\": \"flipper_length\",\n",
        "    \"Culmen Length (mm)\": \"culmen_length\",\n",
        "    \"Culmen Depth (mm)\": \"culmen_depth\",\n",
        "}"
      ]
    },
    {
      "cell_type": "markdown",
      "id": "43733749",
      "metadata": {
        "id": "43733749"
      },
      "source": [
        "Now we can load the data, drop the rows with missing mass, and rename the columns."
      ]
    },
    {
      "cell_type": "code",
      "execution_count": 6,
      "id": "8b193db2",
      "metadata": {
        "id": "8b193db2",
        "outputId": "d76a97cd-922c-4042-c048-8f1116165d37",
        "colab": {
          "base_uri": "https://localhost:8080/"
        }
      },
      "outputs": [
        {
          "output_type": "execute_result",
          "data": {
            "text/plain": [
              "(342, 17)"
            ]
          },
          "metadata": {},
          "execution_count": 6
        }
      ],
      "source": [
        "penguins = (\n",
        "    pd.read_csv(\"penguins_raw.csv\")\n",
        "    .dropna(subset=[\"Body Mass (g)\"])\n",
        "    .rename(columns=columns)\n",
        ")\n",
        "penguins.shape"
      ]
    },
    {
      "cell_type": "markdown",
      "id": "3c5d9a44",
      "metadata": {
        "id": "3c5d9a44"
      },
      "source": [
        "The dataset contains three species of penguins.\n",
        "We'll work with just the Adélie penguins."
      ]
    },
    {
      "cell_type": "code",
      "execution_count": 7,
      "id": "7ee55cf7",
      "metadata": {
        "id": "7ee55cf7",
        "outputId": "ea6ea8e5-76da-490b-d6ee-1296f822ff81",
        "colab": {
          "base_uri": "https://localhost:8080/"
        }
      },
      "outputs": [
        {
          "output_type": "execute_result",
          "data": {
            "text/plain": [
              "151"
            ]
          },
          "metadata": {},
          "execution_count": 7
        }
      ],
      "source": [
        "adelie = penguins.query('Species.str.startswith(\"Adelie\")').copy()\n",
        "len(adelie)"
      ]
    },
    {
      "cell_type": "markdown",
      "id": "b9a4f790",
      "metadata": {
        "id": "b9a4f790"
      },
      "source": [
        "In the previous chapter, we computed a least squares fit between the penguins' flipper lengths and weights."
      ]
    },
    {
      "cell_type": "code",
      "execution_count": 8,
      "id": "60142108",
      "metadata": {
        "id": "60142108"
      },
      "outputs": [],
      "source": [
        "flipper_length = adelie[\"flipper_length\"]\n",
        "body_mass = adelie[\"mass\"]"
      ]
    },
    {
      "cell_type": "markdown",
      "id": "c9a1010c",
      "metadata": {
        "id": "c9a1010c"
      },
      "source": [
        "As a reminder, here's how we did that with `linregress`."
      ]
    },
    {
      "cell_type": "code",
      "execution_count": 9,
      "id": "9b54e3f1",
      "metadata": {
        "id": "9b54e3f1",
        "outputId": "0ba4267f-de22-437b-9ef2-8caa2d45b670",
        "colab": {
          "base_uri": "https://localhost:8080/"
        }
      },
      "outputs": [
        {
          "output_type": "execute_result",
          "data": {
            "text/plain": [
              "(np.float64(-2535.8368022002514), np.float64(32.83168975115009))"
            ]
          },
          "metadata": {},
          "execution_count": 9
        }
      ],
      "source": [
        "from scipy.stats import linregress\n",
        "\n",
        "result_linregress = linregress(flipper_length, body_mass)\n",
        "result_linregress.intercept, result_linregress.slope"
      ]
    },
    {
      "cell_type": "markdown",
      "id": "d45fa482",
      "metadata": {
        "id": "d45fa482"
      },
      "source": [
        "`StatsModels` provides two interfaces (APIs) -- we'll use the \"formula\" API, which uses the Patsy formula language to specify the response and explanatory variables.\n",
        "The following formula string specifies that the response variable, `mass`, is a linear function of one explanatory variable, `flipper_length`."
      ]
    },
    {
      "cell_type": "code",
      "execution_count": 10,
      "id": "60e67076",
      "metadata": {
        "id": "60e67076"
      },
      "outputs": [],
      "source": [
        "formula = \"mass ~ flipper_length\""
      ]
    },
    {
      "cell_type": "markdown",
      "id": "a9e88039",
      "metadata": {
        "id": "a9e88039"
      },
      "source": [
        "We can pass this formula to the `StatsModels` function `ols`, along with the data."
      ]
    },
    {
      "cell_type": "code",
      "execution_count": 11,
      "id": "f0eb4f87",
      "metadata": {
        "id": "f0eb4f87",
        "outputId": "dfe00199-d6ab-4e17-e6b5-9646aa74217c",
        "colab": {
          "base_uri": "https://localhost:8080/",
          "height": 186
        }
      },
      "outputs": [
        {
          "output_type": "execute_result",
          "data": {
            "text/plain": [
              "statsmodels.regression.linear_model.OLS"
            ],
            "text/html": [
              "<div style=\"max-width:800px; border: 1px solid var(--colab-border-color);\"><style>\n",
              "      pre.function-repr-contents {\n",
              "        overflow-x: auto;\n",
              "        padding: 8px 12px;\n",
              "        max-height: 500px;\n",
              "      }\n",
              "\n",
              "      pre.function-repr-contents.function-repr-contents-collapsed {\n",
              "        cursor: pointer;\n",
              "        max-height: 100px;\n",
              "      }\n",
              "    </style>\n",
              "    <pre style=\"white-space: initial; background:\n",
              "         var(--colab-secondary-surface-color); padding: 8px 12px;\n",
              "         border-bottom: 1px solid var(--colab-border-color);\"><b>statsmodels.regression.linear_model.OLS</b><br/>def __init__(endog, exog=None, missing=&#x27;none&#x27;, hasconst=None, **kwargs)</pre><pre class=\"function-repr-contents function-repr-contents-collapsed\" style=\"\"><a class=\"filepath\" style=\"display:none\" href=\"#\">/usr/local/lib/python3.11/dist-packages/statsmodels/regression/linear_model.py</a>Ordinary Least Squares\n",
              "\n",
              "Parameters\n",
              "----------\n",
              "endog : array_like\n",
              "    A 1-d endogenous response variable. The dependent variable.\n",
              "exog : array_like\n",
              "    A nobs x k array where `nobs` is the number of observations and `k`\n",
              "    is the number of regressors. An intercept is not included by default\n",
              "    and should be added by the user. See\n",
              "    :func:`statsmodels.tools.add_constant`.\n",
              "missing : str\n",
              "    Available options are &#x27;none&#x27;, &#x27;drop&#x27;, and &#x27;raise&#x27;. If &#x27;none&#x27;, no nan\n",
              "    checking is done. If &#x27;drop&#x27;, any observations with nans are dropped.\n",
              "    If &#x27;raise&#x27;, an error is raised. Default is &#x27;none&#x27;.\n",
              "hasconst : None or bool\n",
              "    Indicates whether the RHS includes a user-supplied constant. If True,\n",
              "    a constant is not checked for and k_constant is set to 1 and all\n",
              "    result statistics are calculated as if a constant is present. If\n",
              "    False, a constant is not checked for and k_constant is set to 0.\n",
              "**kwargs\n",
              "    Extra arguments that are used to set model properties when using the\n",
              "    formula interface.\n",
              "\n",
              "Attributes\n",
              "----------\n",
              "weights : scalar\n",
              "    Has an attribute weights = array(1.0) due to inheritance from WLS.\n",
              "\n",
              "See Also\n",
              "--------\n",
              "WLS : Fit a linear model using Weighted Least Squares.\n",
              "GLS : Fit a linear model using Generalized Least Squares.\n",
              "\n",
              "Notes\n",
              "-----\n",
              "No constant is added by the model unless you are using formulas.\n",
              "\n",
              "Examples\n",
              "--------\n",
              "&gt;&gt;&gt; import statsmodels.api as sm\n",
              "&gt;&gt;&gt; import numpy as np\n",
              "&gt;&gt;&gt; duncan_prestige = sm.datasets.get_rdataset(&quot;Duncan&quot;, &quot;carData&quot;)\n",
              "&gt;&gt;&gt; Y = duncan_prestige.data[&#x27;income&#x27;]\n",
              "&gt;&gt;&gt; X = duncan_prestige.data[&#x27;education&#x27;]\n",
              "&gt;&gt;&gt; X = sm.add_constant(X)\n",
              "&gt;&gt;&gt; model = sm.OLS(Y,X)\n",
              "&gt;&gt;&gt; results = model.fit()\n",
              "&gt;&gt;&gt; results.params\n",
              "const        10.603498\n",
              "education     0.594859\n",
              "dtype: float64\n",
              "\n",
              "&gt;&gt;&gt; results.tvalues\n",
              "const        2.039813\n",
              "education    6.892802\n",
              "dtype: float64\n",
              "\n",
              "&gt;&gt;&gt; print(results.t_test([1, 0]))\n",
              "                             Test for Constraints\n",
              "==============================================================================\n",
              "                 coef    std err          t      P&gt;|t|      [0.025      0.975]\n",
              "------------------------------------------------------------------------------\n",
              "c0            10.6035      5.198      2.040      0.048       0.120      21.087\n",
              "==============================================================================\n",
              "\n",
              "&gt;&gt;&gt; print(results.f_test(np.identity(2)))\n",
              "&lt;F test: F=array([[159.63031026]]), p=1.2607168903696672e-20,\n",
              " df_denom=43, df_num=2&gt;</pre>\n",
              "      <script>\n",
              "      if (google.colab.kernel.accessAllowed && google.colab.files && google.colab.files.view) {\n",
              "        for (const element of document.querySelectorAll('.filepath')) {\n",
              "          element.style.display = 'block'\n",
              "          element.onclick = (event) => {\n",
              "            event.preventDefault();\n",
              "            event.stopPropagation();\n",
              "            google.colab.files.view(element.textContent, 860);\n",
              "          };\n",
              "        }\n",
              "      }\n",
              "      for (const element of document.querySelectorAll('.function-repr-contents')) {\n",
              "        element.onclick = (event) => {\n",
              "          event.preventDefault();\n",
              "          event.stopPropagation();\n",
              "          element.classList.toggle('function-repr-contents-collapsed');\n",
              "        };\n",
              "      }\n",
              "      </script>\n",
              "      </div>"
            ]
          },
          "metadata": {},
          "execution_count": 11
        }
      ],
      "source": [
        "import statsmodels.formula.api as smf\n",
        "\n",
        "model = smf.ols(formula, data=adelie)\n",
        "type(model)"
      ]
    },
    {
      "cell_type": "markdown",
      "id": "714a1994",
      "metadata": {
        "id": "714a1994"
      },
      "source": [
        "The name `ols` stands for \"ordinary least squares\", which indicates that this function computes a least squares fit under the most common, or \"ordinary\", set of assumptions.\n",
        "\n",
        "The result is an `OLS` object that represents the model.\n",
        "In general, a model is a simplified description of the relationship between variables.\n",
        "In this example, it's a linear model, which means that it assumes that the response variable is a linear function of the explanatory variables.\n",
        "\n",
        "The `fit` method fits the model to the data and returns a `RegressionResults` object that contains the result."
      ]
    },
    {
      "cell_type": "code",
      "execution_count": 12,
      "id": "5cb8a9cc",
      "metadata": {
        "id": "5cb8a9cc"
      },
      "outputs": [],
      "source": [
        "result_ols = model.fit()"
      ]
    },
    {
      "cell_type": "code",
      "execution_count": 13,
      "id": "d42b3143",
      "metadata": {
        "tags": [],
        "id": "d42b3143",
        "outputId": "15b860fd-b32e-435b-f43c-8846d630c3ba",
        "colab": {
          "base_uri": "https://localhost:8080/",
          "height": 138
        }
      },
      "outputs": [
        {
          "output_type": "execute_result",
          "data": {
            "text/plain": [
              "statsmodels.regression.linear_model.RegressionResultsWrapper"
            ],
            "text/html": [
              "<div style=\"max-width:800px; border: 1px solid var(--colab-border-color);\"><style>\n",
              "      pre.function-repr-contents {\n",
              "        overflow-x: auto;\n",
              "        padding: 8px 12px;\n",
              "        max-height: 500px;\n",
              "      }\n",
              "\n",
              "      pre.function-repr-contents.function-repr-contents-collapsed {\n",
              "        cursor: pointer;\n",
              "        max-height: 100px;\n",
              "      }\n",
              "    </style>\n",
              "    <pre style=\"white-space: initial; background:\n",
              "         var(--colab-secondary-surface-color); padding: 8px 12px;\n",
              "         border-bottom: 1px solid var(--colab-border-color);\"><b>statsmodels.regression.linear_model.RegressionResultsWrapper</b><br/>def __init__(results)</pre><pre class=\"function-repr-contents function-repr-contents-collapsed\" style=\"\"><a class=\"filepath\" style=\"display:none\" href=\"#\">/usr/local/lib/python3.11/dist-packages/statsmodels/regression/linear_model.py</a>Class which wraps a statsmodels estimation Results class and steps in to\n",
              "reattach metadata to results (if available)</pre>\n",
              "      <script>\n",
              "      if (google.colab.kernel.accessAllowed && google.colab.files && google.colab.files.view) {\n",
              "        for (const element of document.querySelectorAll('.filepath')) {\n",
              "          element.style.display = 'block'\n",
              "          element.onclick = (event) => {\n",
              "            event.preventDefault();\n",
              "            event.stopPropagation();\n",
              "            google.colab.files.view(element.textContent, 3243);\n",
              "          };\n",
              "        }\n",
              "      }\n",
              "      for (const element of document.querySelectorAll('.function-repr-contents')) {\n",
              "        element.onclick = (event) => {\n",
              "          event.preventDefault();\n",
              "          event.stopPropagation();\n",
              "          element.classList.toggle('function-repr-contents-collapsed');\n",
              "        };\n",
              "      }\n",
              "      </script>\n",
              "      </div>"
            ]
          },
          "metadata": {},
          "execution_count": 13
        }
      ],
      "source": [
        "# Technically it's a RegressionResultsWrapper\n",
        "\n",
        "type(result_ols)"
      ]
    },
    {
      "cell_type": "markdown",
      "id": "46df78bb",
      "metadata": {
        "id": "46df78bb"
      },
      "source": [
        "The `RegressionResults` object contains a lot of information, so `thinkstats` provides a function that just displays the information we need for now."
      ]
    },
    {
      "cell_type": "code",
      "execution_count": 14,
      "id": "dc69b9b2",
      "metadata": {
        "id": "dc69b9b2",
        "outputId": "48c88bb0-7b62-4d4c-d7a9-c3bc74cdfcbd",
        "colab": {
          "base_uri": "https://localhost:8080/",
          "height": 104
        }
      },
      "outputs": [
        {
          "output_type": "display_data",
          "data": {
            "text/plain": [
              "<class 'statsmodels.iolib.table.SimpleTable'>"
            ],
            "text/html": [
              "<table class=\"simpletable\">\n",
              "<tr>\n",
              "         <td></td>           <th>coef</th>     <th>std err</th>      <th>t</th>      <th>P>|t|</th>  <th>[0.025</th>    <th>0.975]</th>  \n",
              "</tr>\n",
              "<tr>\n",
              "  <th>Intercept</th>      <td>-2535.8368</td> <td>  964.798</td> <td>   -2.628</td> <td> 0.009</td> <td>-4442.291</td> <td> -629.382</td>\n",
              "</tr>\n",
              "<tr>\n",
              "  <th>flipper_length</th> <td>   32.8317</td> <td>    5.076</td> <td>    6.468</td> <td> 0.000</td> <td>   22.801</td> <td>   42.862</td>\n",
              "</tr>\n",
              "</table>"
            ],
            "text/latex": "\\begin{center}\n\\begin{tabular}{lcccccc}\n\\toprule\n                         & \\textbf{coef} & \\textbf{std err} & \\textbf{t} & \\textbf{P$> |$t$|$} & \\textbf{[0.025} & \\textbf{0.975]}  \\\\\n\\midrule\n\\textbf{Intercept}       &   -2535.8368  &      964.798     &    -2.628  &         0.009        &    -4442.291    &     -629.382     \\\\\n\\textbf{flipper\\_length} &      32.8317  &        5.076     &     6.468  &         0.000        &       22.801    &       42.862     \\\\\n\\bottomrule\n\\end{tabular}\n\\end{center}"
          },
          "metadata": {}
        },
        {
          "output_type": "display_data",
          "data": {
            "text/plain": [
              "<class 'statsmodels.iolib.table.SimpleTable'>"
            ],
            "text/html": [
              "<table class=\"simpletable\">\n",
              "<tr>\n",
              "  <td>R-squared:</td> <td>0.2192</td>\n",
              "</tr>\n",
              "</table>"
            ],
            "text/latex": "\\begin{center}\n\\begin{tabular}{cc}\n\\toprule\nR-squared: & 0.2192  \\\\\n\\bottomrule\n\\end{tabular}\n\\end{center}"
          },
          "metadata": {}
        }
      ],
      "source": [
        "from thinkstats import display_summary\n",
        "\n",
        "display_summary(result_ols)"
      ]
    },
    {
      "cell_type": "markdown",
      "id": "83799398",
      "metadata": {
        "id": "83799398"
      },
      "source": [
        "The first column contains the intercept and slope, which are the **coefficients** of the model.\n",
        "We can confirm that they are the same as the coefficients we got from `linregress`."
      ]
    },
    {
      "cell_type": "code",
      "execution_count": 15,
      "id": "f1655045",
      "metadata": {
        "id": "f1655045",
        "outputId": "8ef0c716-0763-48bc-ef5a-c0577bbd2a16",
        "colab": {
          "base_uri": "https://localhost:8080/"
        }
      },
      "outputs": [
        {
          "output_type": "execute_result",
          "data": {
            "text/plain": [
              "(np.float64(-2535.8368022002514), np.float64(32.83168975115009))"
            ]
          },
          "metadata": {},
          "execution_count": 15
        }
      ],
      "source": [
        "result_linregress.intercept, result_linregress.slope"
      ]
    },
    {
      "cell_type": "markdown",
      "id": "17921bca",
      "metadata": {
        "id": "17921bca"
      },
      "source": [
        "The second column contains the standard errors of the coefficients -- again, they are the same as the values we got from `linregress`."
      ]
    },
    {
      "cell_type": "code",
      "execution_count": 16,
      "id": "05152a64",
      "metadata": {
        "id": "05152a64",
        "outputId": "f18630ae-2061-490d-f98f-7756ddcaef06",
        "colab": {
          "base_uri": "https://localhost:8080/"
        }
      },
      "outputs": [
        {
          "output_type": "execute_result",
          "data": {
            "text/plain": [
              "(np.float64(964.7984274994059), np.float64(5.076138407990821))"
            ]
          },
          "metadata": {},
          "execution_count": 16
        }
      ],
      "source": [
        "result_linregress.intercept_stderr, result_linregress.stderr,"
      ]
    },
    {
      "cell_type": "markdown",
      "id": "041525fd",
      "metadata": {
        "id": "041525fd"
      },
      "source": [
        "The next column reports $t$ statistics, which are used to compute p-values -- we can ignore them, because the p-values are in the next column, labeled `P>|t|`.\n",
        "The p-value for `flipper_length` is rounded down to 0, but we can display it like this."
      ]
    },
    {
      "cell_type": "code",
      "execution_count": 17,
      "id": "66e01c46",
      "metadata": {
        "id": "66e01c46",
        "outputId": "d3d77114-0281-4ed4-840e-85893784018e",
        "colab": {
          "base_uri": "https://localhost:8080/"
        }
      },
      "outputs": [
        {
          "output_type": "execute_result",
          "data": {
            "text/plain": [
              "np.float64(1.3432645947789321e-09)"
            ]
          },
          "metadata": {},
          "execution_count": 17
        }
      ],
      "source": [
        "result_ols.pvalues[\"flipper_length\"]"
      ]
    },
    {
      "cell_type": "markdown",
      "id": "3312fcfd",
      "metadata": {
        "id": "3312fcfd"
      },
      "source": [
        "And confirm that `linregress` computed the same result."
      ]
    },
    {
      "cell_type": "code",
      "execution_count": 18,
      "id": "4f8aced0",
      "metadata": {
        "id": "4f8aced0",
        "outputId": "657f3466-4317-489e-bee0-18ae689ab4cf",
        "colab": {
          "base_uri": "https://localhost:8080/"
        }
      },
      "outputs": [
        {
          "output_type": "execute_result",
          "data": {
            "text/plain": [
              "np.float64(1.3432645947790051e-09)"
            ]
          },
          "metadata": {},
          "execution_count": 18
        }
      ],
      "source": [
        "result_linregress.pvalue"
      ]
    },
    {
      "cell_type": "markdown",
      "id": "79bf229f",
      "metadata": {
        "id": "79bf229f"
      },
      "source": [
        "The p-value is very small, which means that if there were actually no relationship between weight and flipper length, it is very unlikely we would see a slope as big as the estimated value by chance.\n",
        "\n",
        "The last two columns, labeled `[0.025` and `0.975]`, report 95% confidence intervals for the intercept and slope.\n",
        "So the 95% CI for the slope is [22.8, 42.9]."
      ]
    },
    {
      "cell_type": "markdown",
      "id": "900c1d78",
      "metadata": {
        "id": "900c1d78"
      },
      "source": [
        "The last line reports the $R^2$ value of the model, which is about 0.22 -- that means we can reduce MSE by about 22% if we use flipper length to predict weight, compared to using only the average weight.\n",
        "\n",
        "The $R^2$ value we get from simple correlation is the square of the correlation coefficient, $r$.\n",
        "So we can compare `rsquared` computed by `ols` with the square of the `rvalue` computed by `linregress`."
      ]
    },
    {
      "cell_type": "code",
      "execution_count": 19,
      "id": "f6d11864",
      "metadata": {
        "id": "f6d11864",
        "outputId": "85caf706-b6be-4126-c857-d640fe03d3ca",
        "colab": {
          "base_uri": "https://localhost:8080/"
        }
      },
      "outputs": [
        {
          "output_type": "execute_result",
          "data": {
            "text/plain": [
              "(np.float64(0.21921282646854878), np.float64(0.21921282646854875))"
            ]
          },
          "metadata": {},
          "execution_count": 19
        }
      ],
      "source": [
        "result_ols.rsquared, result_linregress.rvalue**2"
      ]
    },
    {
      "cell_type": "markdown",
      "id": "a79625c3",
      "metadata": {
        "id": "a79625c3"
      },
      "source": [
        "hey are the same except for a small difference due to floating-point approximation.\n",
        "\n",
        "Before we go on to multiple regression, let's compute one more simple regression, with `culmen_length` as the explanatory variable (the culmen is the top ridge of the bill)."
      ]
    },
    {
      "cell_type": "code",
      "execution_count": 20,
      "id": "81cb5eb2",
      "metadata": {
        "id": "81cb5eb2",
        "outputId": "7d7d0fdc-6da7-4cfc-d4e4-76012c2a13c8",
        "colab": {
          "base_uri": "https://localhost:8080/",
          "height": 104
        }
      },
      "outputs": [
        {
          "output_type": "display_data",
          "data": {
            "text/plain": [
              "<class 'statsmodels.iolib.table.SimpleTable'>"
            ],
            "text/html": [
              "<table class=\"simpletable\">\n",
              "<tr>\n",
              "        <td></td>           <th>coef</th>     <th>std err</th>      <th>t</th>      <th>P>|t|</th>  <th>[0.025</th>    <th>0.975]</th>  \n",
              "</tr>\n",
              "<tr>\n",
              "  <th>Intercept</th>     <td>   34.8830</td> <td>  458.439</td> <td>    0.076</td> <td> 0.939</td> <td> -870.998</td> <td>  940.764</td>\n",
              "</tr>\n",
              "<tr>\n",
              "  <th>culmen_length</th> <td>   94.4998</td> <td>   11.790</td> <td>    8.015</td> <td> 0.000</td> <td>   71.202</td> <td>  117.798</td>\n",
              "</tr>\n",
              "</table>"
            ],
            "text/latex": "\\begin{center}\n\\begin{tabular}{lcccccc}\n\\toprule\n                        & \\textbf{coef} & \\textbf{std err} & \\textbf{t} & \\textbf{P$> |$t$|$} & \\textbf{[0.025} & \\textbf{0.975]}  \\\\\n\\midrule\n\\textbf{Intercept}      &      34.8830  &      458.439     &     0.076  &         0.939        &     -870.998    &      940.764     \\\\\n\\textbf{culmen\\_length} &      94.4998  &       11.790     &     8.015  &         0.000        &       71.202    &      117.798     \\\\\n\\bottomrule\n\\end{tabular}\n\\end{center}"
          },
          "metadata": {}
        },
        {
          "output_type": "display_data",
          "data": {
            "text/plain": [
              "<class 'statsmodels.iolib.table.SimpleTable'>"
            ],
            "text/html": [
              "<table class=\"simpletable\">\n",
              "<tr>\n",
              "  <td>R-squared:</td> <td>0.3013</td>\n",
              "</tr>\n",
              "</table>"
            ],
            "text/latex": "\\begin{center}\n\\begin{tabular}{cc}\n\\toprule\nR-squared: & 0.3013  \\\\\n\\bottomrule\n\\end{tabular}\n\\end{center}"
          },
          "metadata": {}
        }
      ],
      "source": [
        "formula = \"mass ~ culmen_length\"\n",
        "result = smf.ols(formula, data=adelie).fit()\n",
        "display_summary(result)"
      ]
    },
    {
      "cell_type": "markdown",
      "id": "fa273683",
      "metadata": {
        "id": "fa273683"
      },
      "source": [
        "Again, the p-value of the slope is very small, which means that if there were actually no relationship between mass and culmen length, it is unlikely we would see a slope this big by chance.\n",
        "You might notice that the p-value associated with the intercept is large, but that's not a problem because we are not concerned about whether the intercept might be zero.\n",
        "In this model, the intercept is close to zero, but that's just a coincidence -- it doesn't indicate a problem with the model.\n",
        "\n",
        "The $R^2$ value for this model is about 0.30, so the reduction in MSE is a little higher if we use culmen length rather than flipper length as an explanatory variable (the $R^2$ value with flipper length is 0.22).\n",
        "Now, let's see what happens if we combine them."
      ]
    },
    {
      "cell_type": "markdown",
      "id": "5ce69ebd",
      "metadata": {
        "id": "5ce69ebd"
      },
      "source": [
        "## On To Multiple Regression\n",
        "\n",
        "Here's the Patsy formula for a multiple regression model where mass is a linear function of both flipper length and culmen length."
      ]
    },
    {
      "cell_type": "code",
      "execution_count": 21,
      "id": "d11da4db",
      "metadata": {
        "id": "d11da4db"
      },
      "outputs": [],
      "source": [
        "formula = \"mass ~ flipper_length + culmen_length\""
      ]
    },
    {
      "cell_type": "markdown",
      "id": "59de0004",
      "metadata": {
        "id": "59de0004"
      },
      "source": [
        "And here is the result of fitting this model to the data."
      ]
    },
    {
      "cell_type": "code",
      "execution_count": 22,
      "id": "68f063a7",
      "metadata": {
        "id": "68f063a7",
        "outputId": "42d3958a-4347-4e3a-d43f-6df71533c9f3",
        "colab": {
          "base_uri": "https://localhost:8080/",
          "height": 125
        }
      },
      "outputs": [
        {
          "output_type": "display_data",
          "data": {
            "text/plain": [
              "<class 'statsmodels.iolib.table.SimpleTable'>"
            ],
            "text/html": [
              "<table class=\"simpletable\">\n",
              "<tr>\n",
              "         <td></td>           <th>coef</th>     <th>std err</th>      <th>t</th>      <th>P>|t|</th>  <th>[0.025</th>    <th>0.975]</th>  \n",
              "</tr>\n",
              "<tr>\n",
              "  <th>Intercept</th>      <td>-3573.0817</td> <td>  866.739</td> <td>   -4.122</td> <td> 0.000</td> <td>-5285.864</td> <td>-1860.299</td>\n",
              "</tr>\n",
              "<tr>\n",
              "  <th>flipper_length</th> <td>   22.7024</td> <td>    4.742</td> <td>    4.787</td> <td> 0.000</td> <td>   13.331</td> <td>   32.074</td>\n",
              "</tr>\n",
              "<tr>\n",
              "  <th>culmen_length</th>  <td>   76.3402</td> <td>   11.644</td> <td>    6.556</td> <td> 0.000</td> <td>   53.331</td> <td>   99.350</td>\n",
              "</tr>\n",
              "</table>"
            ],
            "text/latex": "\\begin{center}\n\\begin{tabular}{lcccccc}\n\\toprule\n                         & \\textbf{coef} & \\textbf{std err} & \\textbf{t} & \\textbf{P$> |$t$|$} & \\textbf{[0.025} & \\textbf{0.975]}  \\\\\n\\midrule\n\\textbf{Intercept}       &   -3573.0817  &      866.739     &    -4.122  &         0.000        &    -5285.864    &    -1860.299     \\\\\n\\textbf{flipper\\_length} &      22.7024  &        4.742     &     4.787  &         0.000        &       13.331    &       32.074     \\\\\n\\textbf{culmen\\_length}  &      76.3402  &       11.644     &     6.556  &         0.000        &       53.331    &       99.350     \\\\\n\\bottomrule\n\\end{tabular}\n\\end{center}"
          },
          "metadata": {}
        },
        {
          "output_type": "display_data",
          "data": {
            "text/plain": [
              "<class 'statsmodels.iolib.table.SimpleTable'>"
            ],
            "text/html": [
              "<table class=\"simpletable\">\n",
              "<tr>\n",
              "  <td>R-squared:</td> <td>0.3949</td>\n",
              "</tr>\n",
              "</table>"
            ],
            "text/latex": "\\begin{center}\n\\begin{tabular}{cc}\n\\toprule\nR-squared: & 0.3949  \\\\\n\\bottomrule\n\\end{tabular}\n\\end{center}"
          },
          "metadata": {}
        }
      ],
      "source": [
        "result = smf.ols(formula, data=adelie).fit()\n",
        "display_summary(result)"
      ]
    },
    {
      "cell_type": "markdown",
      "id": "986123aa",
      "metadata": {
        "id": "986123aa"
      },
      "source": [
        "This model has three coefficients: an intercept and two slopes.\n",
        "The slope associated with flipper length is 22.7, which means we expect a penguin with a longer flipper, by one millimeter, to weight more, by 22.7 grams -- assuming that culmen length is the same.\n",
        "Similarly, we expect a penguin with a longer culmen, by one millimeter, to weight more, by 76.3 grams -- assuming that flipper length is the same."
      ]
    },
    {
      "cell_type": "markdown",
      "id": "2ea18102",
      "metadata": {
        "id": "2ea18102"
      },
      "source": [
        "The p-values associated with both slopes are small, which means that the contribution of both explanatory variables would be unlikely to happen by chance.\n",
        "\n",
        "And the $R^2$ value is 0.39, higher than the model with only culmen length (0.30) and the model with only flipper length (0.22).\n",
        "So predictions based on both explanatory variables are better than predictions based on either one alone.\n",
        "\n",
        "But they are not as much better as we might have hoped.\n",
        "If flipper length reduces MSE by 22% and culmen length reduces it by 30%, why don't the two of them together reduce it by a total of 52%?\n",
        "The reason is that the explanatory variables are correlated with each other."
      ]
    },
    {
      "cell_type": "code",
      "execution_count": 23,
      "id": "657912df",
      "metadata": {
        "id": "657912df",
        "outputId": "423a8cee-9d72-4fa9-ad63-becbb46950c7",
        "colab": {
          "base_uri": "https://localhost:8080/"
        }
      },
      "outputs": [
        {
          "output_type": "execute_result",
          "data": {
            "text/plain": [
              "np.float64(0.32578471516515944)"
            ]
          },
          "metadata": {},
          "execution_count": 23
        }
      ],
      "source": [
        "from thinkstats import corrcoef\n",
        "\n",
        "corrcoef(adelie, \"flipper_length\", \"culmen_length\")"
      ]
    },
    {
      "cell_type": "markdown",
      "id": "c8bd172b",
      "metadata": {
        "id": "c8bd172b"
      },
      "source": [
        "A penguin with a longer flipper also has a longer culmen, on average.\n",
        "The explanatory variables contain some information about each other, which means that they contain some of the same information about the response variable.\n",
        "When we add an explanatory variable to the model, the improvement in $R^2$ reflects only the new information provided by the new variable.\n",
        "\n",
        "We see the same pattern if we add culmen depth as a third explanatory variable."
      ]
    },
    {
      "cell_type": "code",
      "execution_count": 24,
      "id": "8d274c32",
      "metadata": {
        "id": "8d274c32",
        "outputId": "f5765d61-6baf-4d62-e183-d670af89c62c",
        "colab": {
          "base_uri": "https://localhost:8080/",
          "height": 146
        }
      },
      "outputs": [
        {
          "output_type": "display_data",
          "data": {
            "text/plain": [
              "<class 'statsmodels.iolib.table.SimpleTable'>"
            ],
            "text/html": [
              "<table class=\"simpletable\">\n",
              "<tr>\n",
              "         <td></td>           <th>coef</th>     <th>std err</th>      <th>t</th>      <th>P>|t|</th>  <th>[0.025</th>    <th>0.975]</th>  \n",
              "</tr>\n",
              "<tr>\n",
              "  <th>Intercept</th>      <td>-4341.3019</td> <td>  795.117</td> <td>   -5.460</td> <td> 0.000</td> <td>-5912.639</td> <td>-2769.964</td>\n",
              "</tr>\n",
              "<tr>\n",
              "  <th>flipper_length</th> <td>   17.4215</td> <td>    4.385</td> <td>    3.973</td> <td> 0.000</td> <td>    8.756</td> <td>   26.087</td>\n",
              "</tr>\n",
              "<tr>\n",
              "  <th>culmen_length</th>  <td>   55.3676</td> <td>   11.133</td> <td>    4.973</td> <td> 0.000</td> <td>   33.366</td> <td>   77.369</td>\n",
              "</tr>\n",
              "<tr>\n",
              "  <th>culmen_depth</th>   <td>  140.8946</td> <td>   24.216</td> <td>    5.818</td> <td> 0.000</td> <td>   93.037</td> <td>  188.752</td>\n",
              "</tr>\n",
              "</table>"
            ],
            "text/latex": "\\begin{center}\n\\begin{tabular}{lcccccc}\n\\toprule\n                         & \\textbf{coef} & \\textbf{std err} & \\textbf{t} & \\textbf{P$> |$t$|$} & \\textbf{[0.025} & \\textbf{0.975]}  \\\\\n\\midrule\n\\textbf{Intercept}       &   -4341.3019  &      795.117     &    -5.460  &         0.000        &    -5912.639    &    -2769.964     \\\\\n\\textbf{flipper\\_length} &      17.4215  &        4.385     &     3.973  &         0.000        &        8.756    &       26.087     \\\\\n\\textbf{culmen\\_length}  &      55.3676  &       11.133     &     4.973  &         0.000        &       33.366    &       77.369     \\\\\n\\textbf{culmen\\_depth}   &     140.8946  &       24.216     &     5.818  &         0.000        &       93.037    &      188.752     \\\\\n\\bottomrule\n\\end{tabular}\n\\end{center}"
          },
          "metadata": {}
        },
        {
          "output_type": "display_data",
          "data": {
            "text/plain": [
              "<class 'statsmodels.iolib.table.SimpleTable'>"
            ],
            "text/html": [
              "<table class=\"simpletable\">\n",
              "<tr>\n",
              "  <td>R-squared:</td> <td>0.5082</td>\n",
              "</tr>\n",
              "</table>"
            ],
            "text/latex": "\\begin{center}\n\\begin{tabular}{cc}\n\\toprule\nR-squared: & 0.5082  \\\\\n\\bottomrule\n\\end{tabular}\n\\end{center}"
          },
          "metadata": {}
        }
      ],
      "source": [
        "formula = \"mass ~ flipper_length + culmen_length + culmen_depth\"\n",
        "result = smf.ols(formula, data=adelie).fit()\n",
        "display_summary(result)"
      ]
    },
    {
      "cell_type": "markdown",
      "id": "35134365",
      "metadata": {
        "id": "35134365"
      },
      "source": [
        "This model has four coefficients.\n",
        "All of the p-values are small, which means that the contribution of each explanatory variable would be unlikely to happen by chance.\n",
        "And the $R^2$ value is about 0.51, somewhat better than the previous model with two explanatory variables (0.39), and better than either model with a single variable (0.22 and 0.30).\n",
        "\n",
        "But again, the incremental improvement is smaller than we might have hoped, because culmen depth is correlated with the other two measurements."
      ]
    },
    {
      "cell_type": "code",
      "execution_count": 25,
      "id": "f12b5e69",
      "metadata": {
        "id": "f12b5e69",
        "outputId": "592f87bf-39ec-451d-a1cc-c6b66d839526",
        "colab": {
          "base_uri": "https://localhost:8080/"
        }
      },
      "outputs": [
        {
          "output_type": "execute_result",
          "data": {
            "text/plain": [
              "[np.float64(0.30762017939668534), np.float64(0.39149169183587634)]"
            ]
          },
          "metadata": {},
          "execution_count": 25
        }
      ],
      "source": [
        "[\n",
        "    corrcoef(adelie, \"culmen_depth\", \"flipper_length\"),\n",
        "    corrcoef(adelie, \"culmen_depth\", \"culmen_length\"),\n",
        "]"
      ]
    },
    {
      "cell_type": "markdown",
      "id": "782d56de",
      "metadata": {
        "id": "782d56de"
      },
      "source": [
        "This example demonstrates a common use of multiple regression, combining multiple explanatory variables to make better predictions.\n",
        "Another common use is to quantify the contribution of one set of variables while controlling for the contribution of another set."
      ]
    },
    {
      "cell_type": "markdown",
      "id": "f24f9329",
      "metadata": {
        "id": "f24f9329"
      },
      "source": [
        "## Control Variables\n",
        "\n",
        "In Section [Chapter 4](section_comparing_cdfs) we saw that first babies are lighter than other babies, on average.\n",
        "And in [Chapter 9](section_test_correlation) we saw that birth weight is correlated with the mother's age -- older mothers have heavier babies on average.\n",
        "\n",
        "These results might be related.\n",
        "If mothers of first babies are younger than mothers of other babies -- which seems likely -- that might explain why their babies are lighter.\n",
        "We can use multiple regression to test this conjecture, by estimating the difference in birth weight between first babies and others while controlling for the mothers' ages.\n",
        "\n",
        "Instructions for downloading the NSFG data are in the notebook for this chapter."
      ]
    },
    {
      "cell_type": "markdown",
      "id": "c242a31c",
      "metadata": {
        "tags": [],
        "id": "c242a31c"
      },
      "source": [
        "The following cells download the data files and install `statadict`, which we need to read the data."
      ]
    },
    {
      "cell_type": "code",
      "execution_count": 26,
      "id": "d7f0275f",
      "metadata": {
        "tags": [],
        "id": "d7f0275f",
        "outputId": "542305a4-010f-4e60-a379-a13985e06b92",
        "colab": {
          "base_uri": "https://localhost:8080/"
        }
      },
      "outputs": [
        {
          "output_type": "stream",
          "name": "stdout",
          "text": [
            "Downloaded nsfg.py\n",
            "Downloaded 2002FemPreg.dct\n",
            "Downloaded 2002FemPreg.dat.gz\n"
          ]
        }
      ],
      "source": [
        "download(\"https://github.com/AllenDowney/ThinkStats/raw/v3/nb/nsfg.py\")\n",
        "download(\"https://github.com/AllenDowney/ThinkStats/raw/v3/data/2002FemPreg.dct\")\n",
        "download(\"https://github.com/AllenDowney/ThinkStats/raw/v3/data/2002FemPreg.dat.gz\")"
      ]
    },
    {
      "cell_type": "code",
      "execution_count": 27,
      "id": "c6328caf",
      "metadata": {
        "tags": [],
        "id": "c6328caf",
        "outputId": "b0141f71-a4dd-48e4-e77a-554a9f8b982d",
        "colab": {
          "base_uri": "https://localhost:8080/"
        }
      },
      "outputs": [
        {
          "output_type": "stream",
          "name": "stdout",
          "text": [
            "Collecting statadict\n",
            "  Downloading statadict-1.1.0-py3-none-any.whl.metadata (1.7 kB)\n",
            "Downloading statadict-1.1.0-py3-none-any.whl (9.4 kB)\n",
            "Installing collected packages: statadict\n",
            "Successfully installed statadict-1.1.0\n"
          ]
        }
      ],
      "source": [
        "try:\n",
        "    import statadict\n",
        "except ImportError:\n",
        "    %pip install statadict"
      ]
    },
    {
      "cell_type": "markdown",
      "id": "39692bf9",
      "metadata": {
        "id": "39692bf9"
      },
      "source": [
        "We can use `get_nsfg_groups` to read the data, select live births, and group live births into first babies and others."
      ]
    },
    {
      "cell_type": "code",
      "execution_count": 28,
      "id": "749b75c7",
      "metadata": {
        "id": "749b75c7"
      },
      "outputs": [],
      "source": [
        "from nsfg import get_nsfg_groups\n",
        "\n",
        "live, firsts, others = get_nsfg_groups()"
      ]
    },
    {
      "cell_type": "markdown",
      "id": "ee459af7",
      "metadata": {
        "id": "ee459af7"
      },
      "source": [
        "We'll use `dropna` to select the rows with valid birth weights, birth order, and mother's ages."
      ]
    },
    {
      "cell_type": "code",
      "execution_count": 29,
      "id": "bf9e310e",
      "metadata": {
        "id": "bf9e310e"
      },
      "outputs": [],
      "source": [
        "valid = live.dropna(subset=[\"agepreg\", \"birthord\", \"totalwgt_lb\"]).copy()"
      ]
    },
    {
      "cell_type": "markdown",
      "id": "766538f8",
      "metadata": {
        "id": "766538f8"
      },
      "source": [
        "Now we can use `StatsModels` to confirm that birth weight is correlated with age, and to estimate the slope -- assuming that it is a linear relationship."
      ]
    },
    {
      "cell_type": "code",
      "execution_count": 30,
      "id": "9cc0b70e",
      "metadata": {
        "id": "9cc0b70e",
        "outputId": "bb0a4b9f-3364-4a5a-96d0-c7df59f67c37",
        "colab": {
          "base_uri": "https://localhost:8080/",
          "height": 104
        }
      },
      "outputs": [
        {
          "output_type": "display_data",
          "data": {
            "text/plain": [
              "<class 'statsmodels.iolib.table.SimpleTable'>"
            ],
            "text/html": [
              "<table class=\"simpletable\">\n",
              "<tr>\n",
              "      <td></td>         <th>coef</th>     <th>std err</th>      <th>t</th>      <th>P>|t|</th>  <th>[0.025</th>    <th>0.975]</th>  \n",
              "</tr>\n",
              "<tr>\n",
              "  <th>Intercept</th> <td>    6.8304</td> <td>    0.068</td> <td>  100.470</td> <td> 0.000</td> <td>    6.697</td> <td>    6.964</td>\n",
              "</tr>\n",
              "<tr>\n",
              "  <th>agepreg</th>   <td>    0.0175</td> <td>    0.003</td> <td>    6.559</td> <td> 0.000</td> <td>    0.012</td> <td>    0.023</td>\n",
              "</tr>\n",
              "</table>"
            ],
            "text/latex": "\\begin{center}\n\\begin{tabular}{lcccccc}\n\\toprule\n                   & \\textbf{coef} & \\textbf{std err} & \\textbf{t} & \\textbf{P$> |$t$|$} & \\textbf{[0.025} & \\textbf{0.975]}  \\\\\n\\midrule\n\\textbf{Intercept} &       6.8304  &        0.068     &   100.470  &         0.000        &        6.697    &        6.964     \\\\\n\\textbf{agepreg}   &       0.0175  &        0.003     &     6.559  &         0.000        &        0.012    &        0.023     \\\\\n\\bottomrule\n\\end{tabular}\n\\end{center}"
          },
          "metadata": {}
        },
        {
          "output_type": "display_data",
          "data": {
            "text/plain": [
              "<class 'statsmodels.iolib.table.SimpleTable'>"
            ],
            "text/html": [
              "<table class=\"simpletable\">\n",
              "<tr>\n",
              "  <td>R-squared:</td> <td>0.004738</td>\n",
              "</tr>\n",
              "</table>"
            ],
            "text/latex": "\\begin{center}\n\\begin{tabular}{cc}\n\\toprule\nR-squared: & 0.004738  \\\\\n\\bottomrule\n\\end{tabular}\n\\end{center}"
          },
          "metadata": {}
        }
      ],
      "source": [
        "formula = \"totalwgt_lb ~ agepreg\"\n",
        "result_age = smf.ols(formula, data=valid).fit()\n",
        "display_summary(result_age)"
      ]
    },
    {
      "cell_type": "markdown",
      "id": "577fb2c5",
      "metadata": {
        "id": "577fb2c5"
      },
      "source": [
        "The slope is small, only 0.0175 pounds per year.\n",
        "So if two mothers differ in age by a decade, we expect their babies to differ in weight by 0.175 pounds.\n",
        "But the p-value is small, so this slope -- small as it is -- would be unlikely if there were actually no relationship.\n",
        "\n",
        "The $R^2$ value is also small, which means that mother's age is not very useful as a predictive variable.\n",
        "If we know the mother's age, our ability to predict the baby's weight is hardly improved at all.\n",
        "\n",
        "This combination of a small p-value and a small $R^2$ value is a common source of confusion, because it seems contradictory -- if the relationship is statistically significant, it seems like it should be predictive.\n",
        "But this example shows that there is no contradiction -- a relationship can be statistically significant but not very useful for prediction.\n",
        "If we visualize the results, we'll see why.\n",
        "First let's select the relevant columns."
      ]
    },
    {
      "cell_type": "code",
      "execution_count": 31,
      "id": "50251a38",
      "metadata": {
        "id": "50251a38"
      },
      "outputs": [],
      "source": [
        "totalwgt = valid[\"totalwgt_lb\"]\n",
        "agepreg = valid[\"agepreg\"]"
      ]
    },
    {
      "cell_type": "markdown",
      "id": "98c664a9",
      "metadata": {
        "id": "98c664a9"
      },
      "source": [
        "To compute the fitted line, we could extract the intercept and slope from `result_age`, but we don't have to.\n",
        "The `RegressionResults` object provides a `predict` method we can use instead.\n",
        "First we'll compute a range of values for `agepreg`."
      ]
    },
    {
      "cell_type": "code",
      "execution_count": 32,
      "id": "5356fcd5",
      "metadata": {
        "id": "5356fcd5"
      },
      "outputs": [],
      "source": [
        "agepreg_range = np.linspace(agepreg.min(), agepreg.max())"
      ]
    },
    {
      "cell_type": "markdown",
      "id": "c01d5264",
      "metadata": {
        "id": "c01d5264"
      },
      "source": [
        "To use `predict`, we have to put values for the explanatory variables in a `DataFrame`."
      ]
    },
    {
      "cell_type": "code",
      "execution_count": 33,
      "id": "ad3f2c5f",
      "metadata": {
        "id": "ad3f2c5f"
      },
      "outputs": [],
      "source": [
        "df = pd.DataFrame({\"agepreg\": agepreg_range})"
      ]
    },
    {
      "cell_type": "markdown",
      "id": "3aeba490",
      "metadata": {
        "id": "3aeba490"
      },
      "source": [
        "The columns in the `DataFrame` have to have the same names as the explanatory variables.\n",
        "Then we can pass it to `predict`."
      ]
    },
    {
      "cell_type": "code",
      "execution_count": 34,
      "id": "3f043955",
      "metadata": {
        "id": "3f043955"
      },
      "outputs": [],
      "source": [
        "fit_ys = result_age.predict(df)"
      ]
    },
    {
      "cell_type": "markdown",
      "id": "60aabcb7",
      "metadata": {
        "id": "60aabcb7"
      },
      "source": [
        "The result is a `Series` containing the predicted values.\n",
        "Here's what they look like, along with a scatter plot of the data."
      ]
    },
    {
      "cell_type": "code",
      "execution_count": 35,
      "id": "f4b5458c",
      "metadata": {
        "id": "f4b5458c",
        "outputId": "d8ca5263-517a-4c7f-e67b-2c08935778bb",
        "colab": {
          "base_uri": "https://localhost:8080/",
          "height": 271
        }
      },
      "outputs": [
        {
          "output_type": "display_data",
          "data": {
            "text/plain": [
              "<Figure size 450x262.5 with 1 Axes>"
            ],
            "image/png": "[encoded data removed]"
          },
          "metadata": {}
        }
      ],
      "source": [
        "plt.scatter(agepreg, totalwgt, marker=\".\", alpha=0.1, s=5)\n",
        "plt.plot(agepreg_range, fit_ys, color=\"C1\", label=\"linear model\")\n",
        "\n",
        "decorate(xlabel=\"Maternal age\", ylabel=\"Birth weight (pounds)\")"
      ]
    },
    {
      "cell_type": "markdown",
      "id": "27160c42",
      "metadata": {
        "id": "27160c42"
      },
      "source": [
        "Because the slope of the fitted line is small, we can barely see the difference in the expected birth weight between the youngest and oldest mothers.\n",
        "The variation in birth weight, at every maternal age, is much larger.\n",
        "\n",
        "Next we'll use `StatsModels` to confirm that first babies are lighter than others.\n",
        "To make that work, we'll create a Boolean `Series` that is `True` for first babies and `False` for others, and add it as a new column called `is_first`."
      ]
    },
    {
      "cell_type": "code",
      "execution_count": 36,
      "id": "6d848517",
      "metadata": {
        "id": "6d848517"
      },
      "outputs": [],
      "source": [
        "valid[\"is_first\"] = valid[\"birthord\"] == 1"
      ]
    },
    {
      "cell_type": "code",
      "execution_count": 37,
      "id": "2b37b8f6",
      "metadata": {
        "tags": [],
        "id": "2b37b8f6",
        "outputId": "d1f07267-ff51-4474-837a-4c7dc74f9bfd",
        "colab": {
          "base_uri": "https://localhost:8080/",
          "height": 178
        }
      },
      "outputs": [
        {
          "output_type": "execute_result",
          "data": {
            "text/plain": [
              "is_first\n",
              "False    4675\n",
              "True     4363\n",
              "Name: count, dtype: int64"
            ],
            "text/html": [
              "<div>\n",
              "<style scoped>\n",
              "    .dataframe tbody tr th:only-of-type {\n",
              "        vertical-align: middle;\n",
              "    }\n",
              "\n",
              "    .dataframe tbody tr th {\n",
              "        vertical-align: top;\n",
              "    }\n",
              "\n",
              "    .dataframe thead th {\n",
              "        text-align: right;\n",
              "    }\n",
              "</style>\n",
              "<table border=\"1\" class=\"dataframe\">\n",
              "  <thead>\n",
              "    <tr style=\"text-align: right;\">\n",
              "      <th></th>\n",
              "      <th>count</th>\n",
              "    </tr>\n",
              "    <tr>\n",
              "      <th>is_first</th>\n",
              "      <th></th>\n",
              "    </tr>\n",
              "  </thead>\n",
              "  <tbody>\n",
              "    <tr>\n",
              "      <th>False</th>\n",
              "      <td>4675</td>\n",
              "    </tr>\n",
              "    <tr>\n",
              "      <th>True</th>\n",
              "      <td>4363</td>\n",
              "    </tr>\n",
              "  </tbody>\n",
              "</table>\n",
              "</div><br><label><b>dtype:</b> int64</label>"
            ]
          },
          "metadata": {},
          "execution_count": 37
        }
      ],
      "source": [
        "from thinkstats import value_counts\n",
        "\n",
        "# check the results\n",
        "value_counts(valid[\"is_first\"])"
      ]
    },
    {
      "cell_type": "markdown",
      "id": "1879ed6a",
      "metadata": {
        "id": "1879ed6a"
      },
      "source": [
        "Here's the formula for a model with birth weight as the response variable and `is_first` as the explanatory variable.\n",
        "In the Patsy formula language, `C` and the parentheses around the variable name indicate that it is **categorical** -- that is, it represents categories like \"first baby\" rather than measurements like birth weight."
      ]
    },
    {
      "cell_type": "code",
      "execution_count": 38,
      "id": "14bb666d",
      "metadata": {
        "id": "14bb666d"
      },
      "outputs": [],
      "source": [
        "formula = \"totalwgt_lb ~ C(is_first)\""
      ]
    },
    {
      "cell_type": "markdown",
      "id": "87d84142",
      "metadata": {
        "id": "87d84142"
      },
      "source": [
        "Now we can fit the model and display the results, as usual."
      ]
    },
    {
      "cell_type": "code",
      "execution_count": 39,
      "id": "16135518",
      "metadata": {
        "id": "16135518",
        "outputId": "c7f58120-b0a1-42a0-9010-9fb8aa9f3cc6",
        "colab": {
          "base_uri": "https://localhost:8080/",
          "height": 104
        }
      },
      "outputs": [
        {
          "output_type": "display_data",
          "data": {
            "text/plain": [
              "<class 'statsmodels.iolib.table.SimpleTable'>"
            ],
            "text/html": [
              "<table class=\"simpletable\">\n",
              "<tr>\n",
              "           <td></td>              <th>coef</th>     <th>std err</th>      <th>t</th>      <th>P>|t|</th>  <th>[0.025</th>    <th>0.975]</th>  \n",
              "</tr>\n",
              "<tr>\n",
              "  <th>Intercept</th>           <td>    7.3259</td> <td>    0.021</td> <td>  356.007</td> <td> 0.000</td> <td>    7.286</td> <td>    7.366</td>\n",
              "</tr>\n",
              "<tr>\n",
              "  <th>C(is_first)[T.True]</th> <td>   -0.1248</td> <td>    0.030</td> <td>   -4.212</td> <td> 0.000</td> <td>   -0.183</td> <td>   -0.067</td>\n",
              "</tr>\n",
              "</table>"
            ],
            "text/latex": "\\begin{center}\n\\begin{tabular}{lcccccc}\n\\toprule\n                              & \\textbf{coef} & \\textbf{std err} & \\textbf{t} & \\textbf{P$> |$t$|$} & \\textbf{[0.025} & \\textbf{0.975]}  \\\\\n\\midrule\n\\textbf{Intercept}            &       7.3259  &        0.021     &   356.007  &         0.000        &        7.286    &        7.366     \\\\\n\\textbf{C(is\\_first)[T.True]} &      -0.1248  &        0.030     &    -4.212  &         0.000        &       -0.183    &       -0.067     \\\\\n\\bottomrule\n\\end{tabular}\n\\end{center}"
          },
          "metadata": {}
        },
        {
          "output_type": "display_data",
          "data": {
            "text/plain": [
              "<class 'statsmodels.iolib.table.SimpleTable'>"
            ],
            "text/html": [
              "<table class=\"simpletable\">\n",
              "<tr>\n",
              "  <td>R-squared:</td> <td>0.00196</td>\n",
              "</tr>\n",
              "</table>"
            ],
            "text/latex": "\\begin{center}\n\\begin{tabular}{cc}\n\\toprule\nR-squared: & 0.00196  \\\\\n\\bottomrule\n\\end{tabular}\n\\end{center}"
          },
          "metadata": {}
        }
      ],
      "source": [
        "result_first = smf.ols(formula, data=valid).fit()\n",
        "display_summary(result_first)"
      ]
    },
    {
      "cell_type": "markdown",
      "id": "7ae0449c",
      "metadata": {
        "id": "7ae0449c"
      },
      "source": [
        "In the results, the label `C(is_first)[T.True]` indicates that `is_first` is a categorical variable and the coefficient is associated with the value `True`.\n",
        "The `T` before `True` stands for \"treatment\" -- in the language of a controlled experiment, first babies are considered the treatment group and other babies are considered the reference group.\n",
        "These designations are arbitrary -- we could consider first babies to be the reference group and others to be the treatment group.\n",
        "But we need to know which is which in order to interpret the results.\n",
        "\n",
        "The intercept is about 7.3, which means that the average weight of the reference group is 7.3 pounds.\n",
        "The coefficient of `is_first` is -0.12, which means that the average weight of the treatment group -- first babies -- is 0.12 pounds lighter.\n",
        "We can check both of these results by computing them directly."
      ]
    },
    {
      "cell_type": "code",
      "execution_count": 40,
      "id": "3e6d1b88",
      "metadata": {
        "id": "3e6d1b88",
        "outputId": "6cbcf264-612b-4984-fc1b-7f5301840a0b",
        "colab": {
          "base_uri": "https://localhost:8080/"
        }
      },
      "outputs": [
        {
          "output_type": "execute_result",
          "data": {
            "text/plain": [
              "np.float64(7.325855614973262)"
            ]
          },
          "metadata": {},
          "execution_count": 40
        }
      ],
      "source": [
        "others[\"totalwgt_lb\"].mean()"
      ]
    },
    {
      "cell_type": "code",
      "execution_count": 41,
      "id": "4a76b734",
      "metadata": {
        "id": "4a76b734",
        "outputId": "a27bd7ef-610b-4429-c9f2-4a1ed615ce2c",
        "colab": {
          "base_uri": "https://localhost:8080/"
        }
      },
      "outputs": [
        {
          "output_type": "execute_result",
          "data": {
            "text/plain": [
              "np.float64(-0.12476118453549034)"
            ]
          },
          "metadata": {},
          "execution_count": 41
        }
      ],
      "source": [
        "diff_weight = firsts[\"totalwgt_lb\"].mean() - others[\"totalwgt_lb\"].mean()\n",
        "diff_weight"
      ]
    },
    {
      "cell_type": "markdown",
      "id": "7f2cbc19",
      "metadata": {
        "id": "7f2cbc19"
      },
      "source": [
        "In addition to these coefficients, `StatsModels` also computes p-values, confidence intervals, and $R^2$.\n",
        "The p-value associated with first babies is small, which means that the difference between the groups is statistically significant.\n",
        "And the $R^2$ value is small, which means that if we're trying to guess the weight of a baby, it doesn't help much to know whether it is a first baby.\n",
        "\n",
        "Now let's see if it's plausible that the difference in birth weight is due to the difference in maternal age.\n",
        "On average, mothers of first babies are about 3.6 years younger than other mothers."
      ]
    },
    {
      "cell_type": "code",
      "execution_count": 42,
      "id": "5206250a",
      "metadata": {
        "id": "5206250a",
        "outputId": "e1247d46-48d4-47b3-cb2b-d7a94a9db89f",
        "colab": {
          "base_uri": "https://localhost:8080/"
        }
      },
      "outputs": [
        {
          "output_type": "execute_result",
          "data": {
            "text/plain": [
              "np.float64(-3.5864347661500275)"
            ]
          },
          "metadata": {},
          "execution_count": 42
        }
      ],
      "source": [
        "diff_age = firsts[\"agepreg\"].mean() - others[\"agepreg\"].mean()\n",
        "diff_age"
      ]
    },
    {
      "cell_type": "markdown",
      "id": "23593ff3",
      "metadata": {
        "id": "23593ff3"
      },
      "source": [
        "And the slope of birth weight as a function of age is 0.0175 pounds per year."
      ]
    },
    {
      "cell_type": "code",
      "execution_count": 43,
      "id": "3e62d320",
      "metadata": {
        "id": "3e62d320",
        "outputId": "2474d874-6f14-47a4-8d41-4d5e414ccbea",
        "colab": {
          "base_uri": "https://localhost:8080/"
        }
      },
      "outputs": [
        {
          "output_type": "execute_result",
          "data": {
            "text/plain": [
              "np.float64(0.017453851471802638)"
            ]
          },
          "metadata": {},
          "execution_count": 43
        }
      ],
      "source": [
        "slope = result_age.params[\"agepreg\"]\n",
        "slope"
      ]
    },
    {
      "cell_type": "markdown",
      "id": "ad61e908",
      "metadata": {
        "id": "ad61e908"
      },
      "source": [
        "If we multiply the slope by the difference in ages, we get the expected difference in birth weight for first babies and others, due to mother's age."
      ]
    },
    {
      "cell_type": "code",
      "execution_count": 44,
      "id": "e65be931",
      "metadata": {
        "id": "e65be931",
        "outputId": "58fabc37-f24a-4ddc-8475-64917b612be0",
        "colab": {
          "base_uri": "https://localhost:8080/"
        }
      },
      "outputs": [
        {
          "output_type": "execute_result",
          "data": {
            "text/plain": [
              "np.float64(-0.0625970997216918)"
            ]
          },
          "metadata": {},
          "execution_count": 44
        }
      ],
      "source": [
        "slope * diff_age"
      ]
    },
    {
      "cell_type": "markdown",
      "id": "4eee213c",
      "metadata": {
        "id": "4eee213c"
      },
      "source": [
        "The result is 0.063 pounds, which is about half of the observed difference.\n",
        "So it seems like the observed difference in birth weight can be partly explained by the difference in mother's age.\n",
        "\n",
        "Using multiple regression, we can estimate coefficients for maternal age and first babies at the same time."
      ]
    },
    {
      "cell_type": "code",
      "execution_count": 45,
      "id": "33340364",
      "metadata": {
        "id": "33340364",
        "outputId": "c19cbd59-fd0b-4ab9-f9cb-998908c220f6",
        "colab": {
          "base_uri": "https://localhost:8080/",
          "height": 125
        }
      },
      "outputs": [
        {
          "output_type": "display_data",
          "data": {
            "text/plain": [
              "<class 'statsmodels.iolib.table.SimpleTable'>"
            ],
            "text/html": [
              "<table class=\"simpletable\">\n",
              "<tr>\n",
              "           <td></td>              <th>coef</th>     <th>std err</th>      <th>t</th>      <th>P>|t|</th>  <th>[0.025</th>    <th>0.975]</th>  \n",
              "</tr>\n",
              "<tr>\n",
              "  <th>Intercept</th>           <td>    6.9142</td> <td>    0.078</td> <td>   89.073</td> <td> 0.000</td> <td>    6.762</td> <td>    7.066</td>\n",
              "</tr>\n",
              "<tr>\n",
              "  <th>C(is_first)[T.True]</th> <td>   -0.0698</td> <td>    0.031</td> <td>   -2.236</td> <td> 0.025</td> <td>   -0.131</td> <td>   -0.009</td>\n",
              "</tr>\n",
              "<tr>\n",
              "  <th>agepreg</th>             <td>    0.0154</td> <td>    0.003</td> <td>    5.499</td> <td> 0.000</td> <td>    0.010</td> <td>    0.021</td>\n",
              "</tr>\n",
              "</table>"
            ],
            "text/latex": "\\begin{center}\n\\begin{tabular}{lcccccc}\n\\toprule\n                              & \\textbf{coef} & \\textbf{std err} & \\textbf{t} & \\textbf{P$> |$t$|$} & \\textbf{[0.025} & \\textbf{0.975]}  \\\\\n\\midrule\n\\textbf{Intercept}            &       6.9142  &        0.078     &    89.073  &         0.000        &        6.762    &        7.066     \\\\\n\\textbf{C(is\\_first)[T.True]} &      -0.0698  &        0.031     &    -2.236  &         0.025        &       -0.131    &       -0.009     \\\\\n\\textbf{agepreg}              &       0.0154  &        0.003     &     5.499  &         0.000        &        0.010    &        0.021     \\\\\n\\bottomrule\n\\end{tabular}\n\\end{center}"
          },
          "metadata": {}
        },
        {
          "output_type": "display_data",
          "data": {
            "text/plain": [
              "<class 'statsmodels.iolib.table.SimpleTable'>"
            ],
            "text/html": [
              "<table class=\"simpletable\">\n",
              "<tr>\n",
              "  <td>R-squared:</td> <td>0.005289</td>\n",
              "</tr>\n",
              "</table>"
            ],
            "text/latex": "\\begin{center}\n\\begin{tabular}{cc}\n\\toprule\nR-squared: & 0.005289  \\\\\n\\bottomrule\n\\end{tabular}\n\\end{center}"
          },
          "metadata": {}
        }
      ],
      "source": [
        "formula = \"totalwgt_lb ~ agepreg + C(is_first)\"\n",
        "result = smf.ols(formula, data=valid).fit()\n",
        "display_summary(result)"
      ]
    },
    {
      "cell_type": "markdown",
      "id": "fa2113bf",
      "metadata": {
        "id": "fa2113bf"
      },
      "source": [
        "The coefficient of `is_first` is -0.0698, which means that first babies are 0.0698 pounds lighter than others, on average, after accounting for the difference due to maternal age.\n",
        "That's about half of the difference we get without accounting for maternal age.\n",
        "\n",
        "And the p-value is 0.025, which is still considered statistically significant, but it is in the borderline range where we can't exclude the possibility that a difference this size could happen by chance.\n",
        "\n",
        "Because this model takes into account the weight difference due to maternal age, we can say that it **controls for** maternal age.\n",
        "But it assumes that the relationship between weight and maternal age is linear.\n",
        "So let's see if that's true."
      ]
    },
    {
      "cell_type": "markdown",
      "id": "aa7fd6f7",
      "metadata": {
        "id": "aa7fd6f7"
      },
      "source": [
        "## Nonlinear Relationships\n",
        "\n",
        "To check whether the contribution of `agepreg` might be nonlinear, we can add a new column to the dataset, which contains the values of `agepreg` squared."
      ]
    },
    {
      "cell_type": "code",
      "execution_count": 46,
      "id": "8641e353",
      "metadata": {
        "id": "8641e353"
      },
      "outputs": [],
      "source": [
        "valid[\"agepreg2\"] = valid[\"agepreg\"] ** 2"
      ]
    },
    {
      "cell_type": "markdown",
      "id": "f553302e",
      "metadata": {
        "id": "f553302e"
      },
      "source": [
        "Now we can define a model that includes a linear relationship *and* a quadratic relationship."
      ]
    },
    {
      "cell_type": "code",
      "execution_count": 47,
      "id": "895dd57b",
      "metadata": {
        "id": "895dd57b"
      },
      "outputs": [],
      "source": [
        "formula = \"totalwgt_lb ~ agepreg + agepreg2\""
      ]
    },
    {
      "cell_type": "markdown",
      "id": "74e460d0",
      "metadata": {
        "id": "74e460d0"
      },
      "source": [
        "We can fit the model in the usual way."
      ]
    },
    {
      "cell_type": "code",
      "execution_count": 48,
      "id": "7fe0861a",
      "metadata": {
        "id": "7fe0861a",
        "outputId": "36177ed5-457e-49ab-f6ee-794f0e58c71e",
        "colab": {
          "base_uri": "https://localhost:8080/",
          "height": 125
        }
      },
      "outputs": [
        {
          "output_type": "display_data",
          "data": {
            "text/plain": [
              "<class 'statsmodels.iolib.table.SimpleTable'>"
            ],
            "text/html": [
              "<table class=\"simpletable\">\n",
              "<tr>\n",
              "      <td></td>         <th>coef</th>     <th>std err</th>      <th>t</th>      <th>P>|t|</th>  <th>[0.025</th>    <th>0.975]</th>  \n",
              "</tr>\n",
              "<tr>\n",
              "  <th>Intercept</th> <td>    5.5720</td> <td>    0.275</td> <td>   20.226</td> <td> 0.000</td> <td>    5.032</td> <td>    6.112</td>\n",
              "</tr>\n",
              "<tr>\n",
              "  <th>agepreg</th>   <td>    0.1186</td> <td>    0.022</td> <td>    5.485</td> <td> 0.000</td> <td>    0.076</td> <td>    0.161</td>\n",
              "</tr>\n",
              "<tr>\n",
              "  <th>agepreg2</th>  <td>   -0.0019</td> <td>    0.000</td> <td>   -4.714</td> <td> 0.000</td> <td>   -0.003</td> <td>   -0.001</td>\n",
              "</tr>\n",
              "</table>"
            ],
            "text/latex": "\\begin{center}\n\\begin{tabular}{lcccccc}\n\\toprule\n                   & \\textbf{coef} & \\textbf{std err} & \\textbf{t} & \\textbf{P$> |$t$|$} & \\textbf{[0.025} & \\textbf{0.975]}  \\\\\n\\midrule\n\\textbf{Intercept} &       5.5720  &        0.275     &    20.226  &         0.000        &        5.032    &        6.112     \\\\\n\\textbf{agepreg}   &       0.1186  &        0.022     &     5.485  &         0.000        &        0.076    &        0.161     \\\\\n\\textbf{agepreg2}  &      -0.0019  &        0.000     &    -4.714  &         0.000        &       -0.003    &       -0.001     \\\\\n\\bottomrule\n\\end{tabular}\n\\end{center}"
          },
          "metadata": {}
        },
        {
          "output_type": "display_data",
          "data": {
            "text/plain": [
              "<class 'statsmodels.iolib.table.SimpleTable'>"
            ],
            "text/html": [
              "<table class=\"simpletable\">\n",
              "<tr>\n",
              "  <td>R-squared:</td> <td>0.00718</td>\n",
              "</tr>\n",
              "</table>"
            ],
            "text/latex": "\\begin{center}\n\\begin{tabular}{cc}\n\\toprule\nR-squared: & 0.00718  \\\\\n\\bottomrule\n\\end{tabular}\n\\end{center}"
          },
          "metadata": {}
        }
      ],
      "source": [
        "result_age2 = smf.ols(formula, data=valid).fit()\n",
        "display_summary(result_age2)"
      ]
    },
    {
      "cell_type": "markdown",
      "id": "49cd90c0",
      "metadata": {
        "id": "49cd90c0"
      },
      "source": [
        "The p-value associated with the quadratic term, `agepreg2`, is very small, which suggests that it contributes more information about birth weight than we would expect by chance.\n",
        "And the $R^2$ value for this model is 0.0072, higher than for the linear model (0.0047).\n",
        "\n",
        "By estimating coefficients for `agepreg` and `agepreg2`, we are effectively fitting a parabola to the data.\n",
        "To see that, we can use the `RegressionResults` object to generate predictions for a range of maternal ages.\n",
        "\n",
        "First we'll create a temporary `DataFrame` that contains columns named `agepreg` and `agepreg2`, based on the range of ages in `agepreg_range`."
      ]
    },
    {
      "cell_type": "code",
      "execution_count": 49,
      "id": "d8e92c66",
      "metadata": {
        "id": "d8e92c66"
      },
      "outputs": [],
      "source": [
        "df = pd.DataFrame({\"agepreg\": agepreg_range})\n",
        "df[\"agepreg2\"] = df[\"agepreg\"] ** 2"
      ]
    },
    {
      "cell_type": "markdown",
      "id": "00cb8b32",
      "metadata": {
        "id": "00cb8b32"
      },
      "source": [
        "Now we can use the `predict` method, passing the `DataFrame` as an argument and getting back a `Series` of predictions."
      ]
    },
    {
      "cell_type": "code",
      "execution_count": 50,
      "id": "653f1142",
      "metadata": {
        "id": "653f1142"
      },
      "outputs": [],
      "source": [
        "fit_ys = result_age2.predict(df)"
      ]
    },
    {
      "cell_type": "markdown",
      "id": "5f7028e1",
      "metadata": {
        "id": "5f7028e1"
      },
      "source": [
        "Here's what the fitted parabola looks like, along with a scatter plot of the data."
      ]
    },
    {
      "cell_type": "code",
      "execution_count": 51,
      "id": "e31ed85c",
      "metadata": {
        "id": "e31ed85c",
        "outputId": "86e1eba0-cb1f-4ac1-948a-1253dbab8d17",
        "colab": {
          "base_uri": "https://localhost:8080/",
          "height": 271
        }
      },
      "outputs": [
        {
          "output_type": "display_data",
          "data": {
            "text/plain": [
              "<Figure size 450x262.5 with 1 Axes>"
            ],
            "image/png": "[encoded data removed]"
          },
          "metadata": {}
        }
      ],
      "source": [
        "plt.scatter(agepreg, totalwgt, marker=\".\", alpha=0.1, s=5)\n",
        "plt.plot(agepreg_range, fit_ys, color=\"C1\", label=\"quadratic model\")\n",
        "\n",
        "decorate(xlabel=\"Maternal age\", ylabel=\"Birth weight (pounds)\")"
      ]
    },
    {
      "cell_type": "markdown",
      "id": "dae7e7da",
      "metadata": {
        "id": "dae7e7da"
      },
      "source": [
        "The curvature is subtle, but it suggests that birth weights are lower for the youngest and oldest mothers, and higher in the middle.\n",
        "\n",
        "The quadratic model captures the relationship between these variables better than the linear model, which means it can account more effectively for the difference in birth weight due to maternal age.\n",
        "So let's see what happens when we add `is_first` to the quadratic model."
      ]
    },
    {
      "cell_type": "code",
      "execution_count": 52,
      "id": "f307a218",
      "metadata": {
        "id": "f307a218",
        "outputId": "614348c2-bb2b-45c0-f44f-e5d4123701c8",
        "colab": {
          "base_uri": "https://localhost:8080/",
          "height": 146
        }
      },
      "outputs": [
        {
          "output_type": "display_data",
          "data": {
            "text/plain": [
              "<class 'statsmodels.iolib.table.SimpleTable'>"
            ],
            "text/html": [
              "<table class=\"simpletable\">\n",
              "<tr>\n",
              "           <td></td>              <th>coef</th>     <th>std err</th>      <th>t</th>      <th>P>|t|</th>  <th>[0.025</th>    <th>0.975]</th>  \n",
              "</tr>\n",
              "<tr>\n",
              "  <th>Intercept</th>           <td>    5.6923</td> <td>    0.286</td> <td>   19.937</td> <td> 0.000</td> <td>    5.133</td> <td>    6.252</td>\n",
              "</tr>\n",
              "<tr>\n",
              "  <th>C(is_first)[T.True]</th> <td>   -0.0504</td> <td>    0.031</td> <td>   -1.602</td> <td> 0.109</td> <td>   -0.112</td> <td>    0.011</td>\n",
              "</tr>\n",
              "<tr>\n",
              "  <th>agepreg</th>             <td>    0.1124</td> <td>    0.022</td> <td>    5.113</td> <td> 0.000</td> <td>    0.069</td> <td>    0.155</td>\n",
              "</tr>\n",
              "<tr>\n",
              "  <th>agepreg2</th>            <td>   -0.0018</td> <td>    0.000</td> <td>   -4.447</td> <td> 0.000</td> <td>   -0.003</td> <td>   -0.001</td>\n",
              "</tr>\n",
              "</table>"
            ],
            "text/latex": "\\begin{center}\n\\begin{tabular}{lcccccc}\n\\toprule\n                              & \\textbf{coef} & \\textbf{std err} & \\textbf{t} & \\textbf{P$> |$t$|$} & \\textbf{[0.025} & \\textbf{0.975]}  \\\\\n\\midrule\n\\textbf{Intercept}            &       5.6923  &        0.286     &    19.937  &         0.000        &        5.133    &        6.252     \\\\\n\\textbf{C(is\\_first)[T.True]} &      -0.0504  &        0.031     &    -1.602  &         0.109        &       -0.112    &        0.011     \\\\\n\\textbf{agepreg}              &       0.1124  &        0.022     &     5.113  &         0.000        &        0.069    &        0.155     \\\\\n\\textbf{agepreg2}             &      -0.0018  &        0.000     &    -4.447  &         0.000        &       -0.003    &       -0.001     \\\\\n\\bottomrule\n\\end{tabular}\n\\end{center}"
          },
          "metadata": {}
        },
        {
          "output_type": "display_data",
          "data": {
            "text/plain": [
              "<class 'statsmodels.iolib.table.SimpleTable'>"
            ],
            "text/html": [
              "<table class=\"simpletable\">\n",
              "<tr>\n",
              "  <td>R-squared:</td> <td>0.007462</td>\n",
              "</tr>\n",
              "</table>"
            ],
            "text/latex": "\\begin{center}\n\\begin{tabular}{cc}\n\\toprule\nR-squared: & 0.007462  \\\\\n\\bottomrule\n\\end{tabular}\n\\end{center}"
          },
          "metadata": {}
        }
      ],
      "source": [
        "formula = \"totalwgt_lb ~ agepreg + agepreg2 + C(is_first)\"\n",
        "result = smf.ols(formula, data=valid).fit()\n",
        "display_summary(result)"
      ]
    },
    {
      "cell_type": "markdown",
      "id": "938c9f8b",
      "metadata": {
        "id": "938c9f8b"
      },
      "source": [
        "With a more effective control for maternal age, the estimated difference between first babies and others is 0.0504 pounds, smaller than the estimate with just the linear model (0.0698 pounds).\n",
        "And the p-value associated with `is_first` is 0.109, which mean it is plausible that the remaining difference between these groups is due to chance.\n",
        "\n",
        "We can conclude that the difference in birth weight is explained -- at least in part and possibly in full -- by the difference in mother's age."
      ]
    },
    {
      "cell_type": "markdown",
      "id": "279304ea",
      "metadata": {
        "id": "279304ea"
      },
      "source": [
        "## Logistic Regression\n",
        "\n",
        "Linear regression is based on a model where the expected value of the response variable is the weighted sum of the explanatory variables and an intercept.\n",
        "This model is appropriate when the response variable is a continuous quantity like birth weight or penguin mass, but not when the response variable is a discrete quantity like a count or a category.\n",
        "\n",
        "For these kinds of response variables, we can use **generalized linear models** or GLMs.\n",
        "For example:\n",
        "\n",
        "* If the response variable is a count, we can use Poisson regression.\n",
        "\n",
        "* If it's categorical with only two categories, we can use logistic regression.\n",
        "\n",
        "* If it's categorical with more than two categories, we can use multinomial logistic regression.\n",
        "\n",
        "* If it's categorical and the categories can be arranged in order, we can use ordered logistic regression.\n",
        "\n",
        "We won't cover all of them in this book -- just **logistic regression**, which is the most widely used.\n",
        "As an example, we'll use the penguin dataset again, and see if we can tell whether a penguin is male or female, based on its weight and other measurements.\n",
        "\n",
        "`StatsModels` provides a function that does logistic regression -- it's called `logit` because that's the name of a mathematical function that appears in the definition of logistic regression.\n",
        "Before we can use the `logit` function, we have to transform the response variable so the values are `0` and `1`."
      ]
    },
    {
      "cell_type": "code",
      "execution_count": 53,
      "id": "3e6bda23",
      "metadata": {
        "id": "3e6bda23"
      },
      "outputs": [],
      "source": [
        "adelie[\"y\"] = (adelie[\"Sex\"] == \"MALE\").astype(int)"
      ]
    },
    {
      "cell_type": "code",
      "execution_count": 54,
      "id": "0f99922f",
      "metadata": {
        "tags": [],
        "id": "0f99922f",
        "outputId": "af90f525-1af6-4417-f8b1-879fc5abefb4",
        "colab": {
          "base_uri": "https://localhost:8080/",
          "height": 178
        }
      },
      "outputs": [
        {
          "output_type": "execute_result",
          "data": {
            "text/plain": [
              "y\n",
              "0    78\n",
              "1    73\n",
              "Name: count, dtype: int64"
            ],
            "text/html": [
              "<div>\n",
              "<style scoped>\n",
              "    .dataframe tbody tr th:only-of-type {\n",
              "        vertical-align: middle;\n",
              "    }\n",
              "\n",
              "    .dataframe tbody tr th {\n",
              "        vertical-align: top;\n",
              "    }\n",
              "\n",
              "    .dataframe thead th {\n",
              "        text-align: right;\n",
              "    }\n",
              "</style>\n",
              "<table border=\"1\" class=\"dataframe\">\n",
              "  <thead>\n",
              "    <tr style=\"text-align: right;\">\n",
              "      <th></th>\n",
              "      <th>count</th>\n",
              "    </tr>\n",
              "    <tr>\n",
              "      <th>y</th>\n",
              "      <th></th>\n",
              "    </tr>\n",
              "  </thead>\n",
              "  <tbody>\n",
              "    <tr>\n",
              "      <th>0</th>\n",
              "      <td>78</td>\n",
              "    </tr>\n",
              "    <tr>\n",
              "      <th>1</th>\n",
              "      <td>73</td>\n",
              "    </tr>\n",
              "  </tbody>\n",
              "</table>\n",
              "</div><br><label><b>dtype:</b> int64</label>"
            ]
          },
          "metadata": {},
          "execution_count": 54
        }
      ],
      "source": [
        "adelie[\"y\"].value_counts()"
      ]
    },
    {
      "cell_type": "markdown",
      "id": "8340edaf",
      "metadata": {
        "id": "8340edaf"
      },
      "source": [
        "We'll start with a simple model with `y` as the response variable and `mass` as the explanatory variable.\n",
        "Here's how we make and fit the model -- the argument `disp=False` suppresses messages about the fitting process."
      ]
    },
    {
      "cell_type": "code",
      "execution_count": 55,
      "id": "e08af339",
      "metadata": {
        "id": "e08af339"
      },
      "outputs": [],
      "source": [
        "model = smf.logit(\"y ~ mass\", data=adelie)\n",
        "result = model.fit(disp=False)"
      ]
    },
    {
      "cell_type": "markdown",
      "id": "d8faf342",
      "metadata": {
        "id": "d8faf342"
      },
      "source": [
        "And here are the results."
      ]
    },
    {
      "cell_type": "code",
      "execution_count": 56,
      "id": "f89cfc31",
      "metadata": {
        "id": "f89cfc31",
        "outputId": "b8ae4443-2ba0-40b8-929a-b2744e28698d",
        "colab": {
          "base_uri": "https://localhost:8080/",
          "height": 104
        }
      },
      "outputs": [
        {
          "output_type": "display_data",
          "data": {
            "text/plain": [
              "<class 'statsmodels.iolib.table.SimpleTable'>"
            ],
            "text/html": [
              "<table class=\"simpletable\">\n",
              "<tr>\n",
              "      <td></td>         <th>coef</th>     <th>std err</th>      <th>z</th>      <th>P>|z|</th>  <th>[0.025</th>    <th>0.975]</th>  \n",
              "</tr>\n",
              "<tr>\n",
              "  <th>Intercept</th> <td>  -25.9871</td> <td>    4.221</td> <td>   -6.156</td> <td> 0.000</td> <td>  -34.261</td> <td>  -17.713</td>\n",
              "</tr>\n",
              "<tr>\n",
              "  <th>mass</th>      <td>    0.0070</td> <td>    0.001</td> <td>    6.138</td> <td> 0.000</td> <td>    0.005</td> <td>    0.009</td>\n",
              "</tr>\n",
              "</table>"
            ],
            "text/latex": "\\begin{center}\n\\begin{tabular}{lcccccc}\n\\toprule\n                   & \\textbf{coef} & \\textbf{std err} & \\textbf{z} & \\textbf{P$> |$z$|$} & \\textbf{[0.025} & \\textbf{0.975]}  \\\\\n\\midrule\n\\textbf{Intercept} &     -25.9871  &        4.221     &    -6.156  &         0.000        &      -34.261    &      -17.713     \\\\\n\\textbf{mass}      &       0.0070  &        0.001     &     6.138  &         0.000        &        0.005    &        0.009     \\\\\n\\bottomrule\n\\end{tabular}\n\\end{center}"
          },
          "metadata": {}
        },
        {
          "output_type": "display_data",
          "data": {
            "text/plain": [
              "<class 'statsmodels.iolib.table.SimpleTable'>"
            ],
            "text/html": [
              "<table class=\"simpletable\">\n",
              "<tr>\n",
              "  <td>Pseudo R-squared:</td> <td>0.5264</td>\n",
              "</tr>\n",
              "</table>"
            ],
            "text/latex": "\\begin{center}\n\\begin{tabular}{cc}\n\\toprule\nPseudo R-squared: & 0.5264  \\\\\n\\bottomrule\n\\end{tabular}\n\\end{center}"
          },
          "metadata": {}
        }
      ],
      "source": [
        "display_summary(result)"
      ]
    },
    {
      "cell_type": "markdown",
      "id": "4b0f5a06",
      "metadata": {
        "id": "4b0f5a06"
      },
      "source": [
        "The coefficient of determination, $R^2$, does not apply to logistic regression, but there are several alternatives that are used as \"pseudo $R^2$ values.\"\n",
        "The pseudo $R^2$ value for this model is about 0.526, which doesn't mean much by itself, but we will use it to compare models.\n",
        "\n",
        "The coefficient of `mass` is positive, which means that heavier penguins are more likely to be male.\n",
        "Other than that, the coefficients are not easy to interpret -- we can understand the model better by plotting the predictions.\n",
        "We'll make a `DataFrame` with a range of values for `mass`, and use `predict` to compute a `Series` of predictions."
      ]
    },
    {
      "cell_type": "code",
      "execution_count": 57,
      "id": "c54e6c79",
      "metadata": {
        "id": "c54e6c79"
      },
      "outputs": [],
      "source": [
        "mass = adelie[\"mass\"]\n",
        "mass_range = np.linspace(mass.min(), mass.max())\n",
        "df = pd.DataFrame({\"mass\": mass_range})\n",
        "fit_ys = result.predict(df)"
      ]
    },
    {
      "cell_type": "markdown",
      "id": "ec78a6cf",
      "metadata": {
        "id": "ec78a6cf"
      },
      "source": [
        "Each predicted value is the probability a penguin is male as a function of its weight.\n",
        "Here's what the predicted values look like."
      ]
    },
    {
      "cell_type": "code",
      "execution_count": 58,
      "id": "f448d010",
      "metadata": {
        "id": "f448d010",
        "outputId": "30615b6c-3f43-46e9-ecc6-f0b3b83eb52f",
        "colab": {
          "base_uri": "https://localhost:8080/",
          "height": 272
        }
      },
      "outputs": [
        {
          "output_type": "display_data",
          "data": {
            "text/plain": [
              "<Figure size 450x262.5 with 1 Axes>"
            ],
            "image/png": "[encoded data removed]"
          },
          "metadata": {}
        }
      ],
      "source": [
        "plt.plot(mass_range, fit_ys)\n",
        "\n",
        "decorate(xlabel=\"Mass (g)\", ylabel=\"Prob(male)\")"
      ]
    },
    {
      "cell_type": "markdown",
      "id": "1275bc24",
      "metadata": {
        "id": "1275bc24"
      },
      "source": [
        "The lightest penguins are almost certain to be female, and the heaviest are likely to be male -- in the middle, a penguin weighing 3750 grams is about equally likely to be male or female.\n",
        "\n",
        "Now let's see what happens if we add the other measurements as explanatory variables."
      ]
    },
    {
      "cell_type": "code",
      "execution_count": 59,
      "id": "399c5393",
      "metadata": {
        "id": "399c5393",
        "outputId": "a2ce7ed9-0088-42e1-9bcf-12086f52f65b",
        "colab": {
          "base_uri": "https://localhost:8080/",
          "height": 167
        }
      },
      "outputs": [
        {
          "output_type": "display_data",
          "data": {
            "text/plain": [
              "<class 'statsmodels.iolib.table.SimpleTable'>"
            ],
            "text/html": [
              "<table class=\"simpletable\">\n",
              "<tr>\n",
              "         <td></td>           <th>coef</th>     <th>std err</th>      <th>z</th>      <th>P>|z|</th>  <th>[0.025</th>    <th>0.975]</th>  \n",
              "</tr>\n",
              "<tr>\n",
              "  <th>Intercept</th>      <td>  -60.6075</td> <td>   13.793</td> <td>   -4.394</td> <td> 0.000</td> <td>  -87.642</td> <td>  -33.573</td>\n",
              "</tr>\n",
              "<tr>\n",
              "  <th>mass</th>           <td>    0.0059</td> <td>    0.001</td> <td>    4.153</td> <td> 0.000</td> <td>    0.003</td> <td>    0.009</td>\n",
              "</tr>\n",
              "<tr>\n",
              "  <th>flipper_length</th> <td>   -0.0209</td> <td>    0.052</td> <td>   -0.403</td> <td> 0.687</td> <td>   -0.123</td> <td>    0.081</td>\n",
              "</tr>\n",
              "<tr>\n",
              "  <th>culmen_length</th>  <td>    0.6208</td> <td>    0.176</td> <td>    3.536</td> <td> 0.000</td> <td>    0.277</td> <td>    0.965</td>\n",
              "</tr>\n",
              "<tr>\n",
              "  <th>culmen_depth</th>   <td>    1.0111</td> <td>    0.349</td> <td>    2.896</td> <td> 0.004</td> <td>    0.327</td> <td>    1.695</td>\n",
              "</tr>\n",
              "</table>"
            ],
            "text/latex": "\\begin{center}\n\\begin{tabular}{lcccccc}\n\\toprule\n                         & \\textbf{coef} & \\textbf{std err} & \\textbf{z} & \\textbf{P$> |$z$|$} & \\textbf{[0.025} & \\textbf{0.975]}  \\\\\n\\midrule\n\\textbf{Intercept}       &     -60.6075  &       13.793     &    -4.394  &         0.000        &      -87.642    &      -33.573     \\\\\n\\textbf{mass}            &       0.0059  &        0.001     &     4.153  &         0.000        &        0.003    &        0.009     \\\\\n\\textbf{flipper\\_length} &      -0.0209  &        0.052     &    -0.403  &         0.687        &       -0.123    &        0.081     \\\\\n\\textbf{culmen\\_length}  &       0.6208  &        0.176     &     3.536  &         0.000        &        0.277    &        0.965     \\\\\n\\textbf{culmen\\_depth}   &       1.0111  &        0.349     &     2.896  &         0.004        &        0.327    &        1.695     \\\\\n\\bottomrule\n\\end{tabular}\n\\end{center}"
          },
          "metadata": {}
        },
        {
          "output_type": "display_data",
          "data": {
            "text/plain": [
              "<class 'statsmodels.iolib.table.SimpleTable'>"
            ],
            "text/html": [
              "<table class=\"simpletable\">\n",
              "<tr>\n",
              "  <td>Pseudo R-squared:</td> <td>0.6622</td>\n",
              "</tr>\n",
              "</table>"
            ],
            "text/latex": "\\begin{center}\n\\begin{tabular}{cc}\n\\toprule\nPseudo R-squared: & 0.6622  \\\\\n\\bottomrule\n\\end{tabular}\n\\end{center}"
          },
          "metadata": {}
        }
      ],
      "source": [
        "formula = \"y ~ mass + flipper_length + culmen_length + culmen_depth\"\n",
        "model = smf.logit(formula, data=adelie)\n",
        "result = model.fit(disp=False)\n",
        "display_summary(result)"
      ]
    },
    {
      "cell_type": "markdown",
      "id": "9577f69c",
      "metadata": {
        "id": "9577f69c"
      },
      "source": [
        "The pseudo $R^2$ value of this model is 0.662, higher than the previous model (0.526) -- so the additional measurements contain additional information that distinguishes male and female penguins.\n",
        "\n",
        "The p-values for culmen length and depth are small, which indicates that they contribute more information than we expect by chance.\n",
        "The p-value for flipper length is large, which suggests that if you know a penguin's weight and bill dimensions, flipper length doesn't contribute additional information.\n",
        "\n",
        "To understand this model, let's look at some of its predictions.\n",
        "We'll use the following function, which takes a sequence of masses and a specific value for `culmen_length`.\n",
        "It sets the other measurements to their mean values, computes predicted probabilities as a function of mass, and plots the results."
      ]
    },
    {
      "cell_type": "code",
      "execution_count": 60,
      "id": "27ccf471",
      "metadata": {
        "id": "27ccf471"
      },
      "outputs": [],
      "source": [
        "def plot_predictions(mass_range, culmen_length, **options):\n",
        "    \"\"\"Plot predicted probabilities as a function of mass.\"\"\"\n",
        "    df = pd.DataFrame({\"mass\": mass_range})\n",
        "    df[\"flipper_length\"] = adelie[\"flipper_length\"].mean()\n",
        "    df[\"culmen_length\"] = culmen_length\n",
        "    df[\"culmen_depth\"] = adelie[\"culmen_depth\"].mean()\n",
        "    fit_ys = result.predict(df)\n",
        "    plt.plot(mass_range, fit_ys, **options)"
      ]
    },
    {
      "cell_type": "markdown",
      "id": "5b6ccf67",
      "metadata": {
        "id": "5b6ccf67"
      },
      "source": [
        "Here's what the results look like for three values of `culmen_length`: one standard deviation above average, average, and one standard deviation below average."
      ]
    },
    {
      "cell_type": "code",
      "execution_count": 61,
      "id": "bbe111ce",
      "metadata": {
        "id": "bbe111ce"
      },
      "outputs": [],
      "source": [
        "culmen_length = adelie[\"culmen_length\"]\n",
        "m, s = culmen_length.mean(), culmen_length.std()"
      ]
    },
    {
      "cell_type": "code",
      "execution_count": 62,
      "id": "3f68ee5d",
      "metadata": {
        "id": "3f68ee5d",
        "outputId": "de5cb469-ca07-4fd1-b654-dbcc43ad18b2",
        "colab": {
          "base_uri": "https://localhost:8080/",
          "height": 272
        }
      },
      "outputs": [
        {
          "output_type": "display_data",
          "data": {
            "text/plain": [
              "<Figure size 450x262.5 with 1 Axes>"
            ],
            "image/png": "[encoded data removed]"
          },
          "metadata": {}
        }
      ],
      "source": [
        "plot_predictions(mass_range, m + s, ls=\"--\", label=\"Above average culmen length\")\n",
        "plot_predictions(mass_range, m, alpha=0.5, label=\"Average culmen length\")\n",
        "plot_predictions(mass_range, m - s, ls=\":\", label=\"Below average culmen length\")\n",
        "\n",
        "decorate(xlabel=\"Mass (g)\", ylabel=\"Prob(male)\")"
      ]
    },
    {
      "cell_type": "markdown",
      "id": "ccf09c20",
      "metadata": {
        "id": "ccf09c20"
      },
      "source": [
        "As we saw in the simpler model, heavier penguins are more likely to be male.\n",
        "Also, at any weight, a penguin with a longer bill is more likely to be male.\n",
        "\n",
        "This model is more useful than it might seem -- in fact, it is similar to models that were used in the original research paper this dataset was collected for.\n",
        "The primary topic of that research is sexual dimorphism, which is the degree to which male and female bodies differ.\n",
        "One way to quantify dimorphism is to use measurements to classify males and females.\n",
        "In a species with higher dimorphism, we expect these classifications to be more accurate."
      ]
    },
    {
      "cell_type": "markdown",
      "id": "75e2eac1",
      "metadata": {
        "tags": [],
        "id": "75e2eac1"
      },
      "source": [
        "The original paper is Gorman KB, Williams TD, Fraser WR (2014). Ecological sexual dimorphism and environmental variability within a community of Antarctic penguins (genus Pygoscelis). PLoS ONE 9(3):e90081. https://doi.org/10.1371/journal.pone.0090081"
      ]
    },
    {
      "cell_type": "markdown",
      "id": "72367f38",
      "metadata": {
        "id": "72367f38"
      },
      "source": [
        "To test this methodology, let's try the same model on a different species.\n",
        "In addition to the Adélie penguins we've worked with so far, the dataset also contains measurements from 123 Gentoo penguins.\n",
        "We'll use the following function to select them."
      ]
    },
    {
      "cell_type": "code",
      "execution_count": 63,
      "id": "66f85f4c",
      "metadata": {
        "id": "66f85f4c"
      },
      "outputs": [],
      "source": [
        "def get_species(penguins, species):\n",
        "    df = penguins.query(f'Species.str.startswith(\"{species}\")').copy()\n",
        "    df[\"y\"] = (df[\"Sex\"] == \"MALE\").astype(int)\n",
        "    return df"
      ]
    },
    {
      "cell_type": "code",
      "execution_count": 64,
      "id": "d4f57919",
      "metadata": {
        "id": "d4f57919",
        "outputId": "d96d57f6-1caf-410e-b750-c40883bc5c6e",
        "colab": {
          "base_uri": "https://localhost:8080/"
        }
      },
      "outputs": [
        {
          "output_type": "execute_result",
          "data": {
            "text/plain": [
              "123"
            ]
          },
          "metadata": {},
          "execution_count": 64
        }
      ],
      "source": [
        "gentoo = get_species(penguins, \"Gentoo\")\n",
        "len(gentoo)"
      ]
    },
    {
      "cell_type": "markdown",
      "id": "7e9a17a9",
      "metadata": {
        "id": "7e9a17a9"
      },
      "source": [
        "Here are the results of the logistic regression model."
      ]
    },
    {
      "cell_type": "code",
      "execution_count": 65,
      "id": "76af3a48",
      "metadata": {
        "id": "76af3a48",
        "outputId": "ac955bc0-2560-41c0-da21-0ab17da497c2",
        "colab": {
          "base_uri": "https://localhost:8080/",
          "height": 167
        }
      },
      "outputs": [
        {
          "output_type": "display_data",
          "data": {
            "text/plain": [
              "<class 'statsmodels.iolib.table.SimpleTable'>"
            ],
            "text/html": [
              "<table class=\"simpletable\">\n",
              "<tr>\n",
              "         <td></td>           <th>coef</th>     <th>std err</th>      <th>z</th>      <th>P>|z|</th>  <th>[0.025</th>    <th>0.975]</th>  \n",
              "</tr>\n",
              "<tr>\n",
              "  <th>Intercept</th>      <td> -173.9123</td> <td>   62.326</td> <td>   -2.790</td> <td> 0.005</td> <td> -296.069</td> <td>  -51.756</td>\n",
              "</tr>\n",
              "<tr>\n",
              "  <th>mass</th>           <td>    0.0105</td> <td>    0.004</td> <td>    2.948</td> <td> 0.003</td> <td>    0.004</td> <td>    0.017</td>\n",
              "</tr>\n",
              "<tr>\n",
              "  <th>flipper_length</th> <td>    0.2839</td> <td>    0.183</td> <td>    1.549</td> <td> 0.121</td> <td>   -0.075</td> <td>    0.643</td>\n",
              "</tr>\n",
              "<tr>\n",
              "  <th>culmen_length</th>  <td>    0.2734</td> <td>    0.285</td> <td>    0.958</td> <td> 0.338</td> <td>   -0.286</td> <td>    0.833</td>\n",
              "</tr>\n",
              "<tr>\n",
              "  <th>culmen_depth</th>   <td>    3.0843</td> <td>    1.291</td> <td>    2.389</td> <td> 0.017</td> <td>    0.554</td> <td>    5.614</td>\n",
              "</tr>\n",
              "</table>"
            ],
            "text/latex": "\\begin{center}\n\\begin{tabular}{lcccccc}\n\\toprule\n                         & \\textbf{coef} & \\textbf{std err} & \\textbf{z} & \\textbf{P$> |$z$|$} & \\textbf{[0.025} & \\textbf{0.975]}  \\\\\n\\midrule\n\\textbf{Intercept}       &    -173.9123  &       62.326     &    -2.790  &         0.005        &     -296.069    &      -51.756     \\\\\n\\textbf{mass}            &       0.0105  &        0.004     &     2.948  &         0.003        &        0.004    &        0.017     \\\\\n\\textbf{flipper\\_length} &       0.2839  &        0.183     &     1.549  &         0.121        &       -0.075    &        0.643     \\\\\n\\textbf{culmen\\_length}  &       0.2734  &        0.285     &     0.958  &         0.338        &       -0.286    &        0.833     \\\\\n\\textbf{culmen\\_depth}   &       3.0843  &        1.291     &     2.389  &         0.017        &        0.554    &        5.614     \\\\\n\\bottomrule\n\\end{tabular}\n\\end{center}"
          },
          "metadata": {}
        },
        {
          "output_type": "display_data",
          "data": {
            "text/plain": [
              "<class 'statsmodels.iolib.table.SimpleTable'>"
            ],
            "text/html": [
              "<table class=\"simpletable\">\n",
              "<tr>\n",
              "  <td>Pseudo R-squared:</td> <td>0.848</td>\n",
              "</tr>\n",
              "</table>"
            ],
            "text/latex": "\\begin{center}\n\\begin{tabular}{cc}\n\\toprule\nPseudo R-squared: & 0.848  \\\\\n\\bottomrule\n\\end{tabular}\n\\end{center}"
          },
          "metadata": {}
        }
      ],
      "source": [
        "formula = \"y ~ mass + flipper_length + culmen_length + culmen_depth\"\n",
        "model = smf.logit(formula, data=gentoo)\n",
        "result = model.fit(disp=False)\n",
        "display_summary(result)"
      ]
    },
    {
      "cell_type": "markdown",
      "id": "2c5116e1",
      "metadata": {
        "id": "2c5116e1"
      },
      "source": [
        "The pseudo-$R^2$ value is 0.848, higher than what we got with Adélie penguins (0.662).\n",
        "That means Gentoo penguins can be classified more accurately using physical measurements, compared to Adélie penguins, which suggests that Gentoo penguins are more dimorphic."
      ]
    },
    {
      "cell_type": "markdown",
      "id": "e0a3487c",
      "metadata": {
        "id": "e0a3487c"
      },
      "source": [
        "## Glossary\n",
        "\n",
        "-   **regression**: A method for estimating coefficients that fit a model to data.\n",
        "\n",
        "-   **response variables**: The variables a regression model tries to predict, also known as dependent variables.\n",
        "\n",
        "-   **explanatory variables**: The variables a model uses to predict the response variables, also known as independent variables.\n",
        "\n",
        "-   **simple regression**: A regression with one response variable and one explanatory variable.\n",
        "\n",
        "-   **multiple regression**: A regression with multiple explanatory variables, but only one response variable.\n",
        "\n",
        "-   **coefficients:** In a regression model, the coefficients are the intercept and the estimated slopes for the explanatory variables.\n",
        "\n",
        "-   **categorical variable**: A variable that can have one of a discrete set of values, usually not numerical.\n",
        "\n",
        "-   **control variable**: A variable included in a regression to separate the direct effect of an explanatory variable from an indirect effect.\n",
        "\n",
        "-   **generalized linear models:** A set of regression models based on different mathematical relationships between the explanatory and response variables.\n",
        "\n",
        "-   **logistic regression**: A generalized linear model used when the response variable has only two possible values.\n"
      ]
    },
    {
      "cell_type": "markdown",
      "id": "5e334137",
      "metadata": {
        "collapsed": true,
        "id": "5e334137"
      },
      "source": [
        "## Exercises"
      ]
    },
    {
      "cell_type": "markdown",
      "id": "b58247dd",
      "metadata": {
        "id": "b58247dd"
      },
      "source": [
        "### Exercise 11.1\n",
        "\n",
        "Are baby boys heavier than baby girls? To answer this question, we'll use the NSFG data again.\n",
        "\n",
        "Fit a linear regression model with `totalwgt_lb` as the response variable and `babysex` as a categorical explanatory variable -- the value of this variable is `1` for boys and `2` for girls.\n",
        "What is the estimated difference in weight?\n",
        "Is it statistically significant?\n",
        "What if you control for the mother's age -- does maternal age account for some or all of the apparent difference?"
      ]
    },
    {
      "cell_type": "code",
      "execution_count": 66,
      "id": "6d81b8fe",
      "metadata": {
        "id": "6d81b8fe"
      },
      "outputs": [],
      "source": [
        "# Solution goes here"
      ]
    },
    {
      "cell_type": "code",
      "execution_count": 67,
      "id": "95884e8b",
      "metadata": {
        "id": "95884e8b"
      },
      "outputs": [],
      "source": [
        "# Solution goes here"
      ]
    },
    {
      "cell_type": "code",
      "execution_count": 68,
      "id": "e4c06131",
      "metadata": {
        "id": "e4c06131"
      },
      "outputs": [],
      "source": [
        "# Solution goes here"
      ]
    },
    {
      "cell_type": "markdown",
      "id": "9069a93c",
      "metadata": {
        "id": "9069a93c"
      },
      "source": [
        "### Exercise 11.2\n",
        "\n",
        "The Trivers-Willard hypothesis suggests that for many mammals the sex ratio depends on \"maternal condition\" -- that is, factors like the mother's age, size, health, and social status.\n",
        "Some studies have shown this effect among humans, but results are mixed."
      ]
    },
    {
      "cell_type": "markdown",
      "id": "e79de0ac",
      "metadata": {
        "tags": [],
        "id": "e79de0ac"
      },
      "source": [
        "See <https://en.wikipedia.org/wiki/Trivers-Willard_hypothesis>."
      ]
    },
    {
      "cell_type": "markdown",
      "id": "20212e14",
      "metadata": {
        "id": "20212e14"
      },
      "source": [
        "Let's see if there is a relationship between mother's age and the probability of having a boy.\n",
        "Fit a logistic regression model with the baby's sex as the response variable and mother's age as an explanatory variable.\n",
        "Are older mothers more or less likely to have boys?\n",
        "What if you use a quadratic model of maternal age?"
      ]
    },
    {
      "cell_type": "markdown",
      "id": "580298f9",
      "metadata": {
        "tags": [],
        "id": "580298f9"
      },
      "source": [
        "In order to use `babysex` as a response variable in a logistic regression, we'll recode it with the value `1` for boys and `0` for girls."
      ]
    },
    {
      "cell_type": "code",
      "execution_count": 69,
      "id": "44329b47",
      "metadata": {
        "tags": [],
        "id": "44329b47"
      },
      "outputs": [],
      "source": [
        "valid[\"y\"] = (valid[\"babysex\"] == 1).astype(int)"
      ]
    },
    {
      "cell_type": "code",
      "execution_count": 70,
      "id": "16808423",
      "metadata": {
        "id": "16808423"
      },
      "outputs": [],
      "source": [
        "# Solution goes here"
      ]
    },
    {
      "cell_type": "code",
      "execution_count": 71,
      "id": "43630c65",
      "metadata": {
        "id": "43630c65"
      },
      "outputs": [],
      "source": [
        "# Solution goes here"
      ]
    },
    {
      "cell_type": "markdown",
      "id": "10888cd5",
      "metadata": {
        "id": "10888cd5"
      },
      "source": [
        "### Exercise 11.3\n",
        "\n",
        "For the Adelie penguins, fit a linear regression model that predicts penguin weights as a function of `flipper_length`, `culmen_depth`,  and `Sex` as a categorical variable.\n",
        "If we control for flipper length and culmen depth, how much heavier are male penguins?\n",
        "Generate and plot predictions for a range of flipper lengths, for male and female penguins, with `culmen_depth` set to its average value."
      ]
    },
    {
      "cell_type": "code",
      "execution_count": 72,
      "id": "5b6eae45",
      "metadata": {
        "id": "5b6eae45"
      },
      "outputs": [],
      "source": [
        "# Solution goes here"
      ]
    },
    {
      "cell_type": "code",
      "execution_count": 73,
      "id": "7c6507f0",
      "metadata": {
        "id": "7c6507f0"
      },
      "outputs": [],
      "source": [
        "# Solution goes here"
      ]
    },
    {
      "cell_type": "code",
      "execution_count": 74,
      "id": "23da96b4",
      "metadata": {
        "id": "23da96b4"
      },
      "outputs": [],
      "source": [
        "# Solution goes here"
      ]
    },
    {
      "cell_type": "markdown",
      "id": "1206873f",
      "metadata": {
        "id": "1206873f"
      },
      "source": [
        "### Exercise 11.4\n",
        "\n",
        "Let's see if Chinstrap penguins are more or less dimorphic than the other penguin species in the dataset, as quantified by the pseudo $R^2$ value of the model.\n",
        "Use `get_species` to select the Chinstrap penguins, then use logistic regression to fit a logistic regression model with sex as the response variable and all four measurements as explanatory variables.\n",
        "How does the pseudo $R^2$ value compare to the other models?"
      ]
    },
    {
      "cell_type": "code",
      "execution_count": 75,
      "id": "960cad44",
      "metadata": {
        "tags": [],
        "id": "960cad44",
        "outputId": "7b8ea633-e246-41a5-e080-cf77ad7b83cb",
        "colab": {
          "base_uri": "https://localhost:8080/"
        }
      },
      "outputs": [
        {
          "output_type": "execute_result",
          "data": {
            "text/plain": [
              "68"
            ]
          },
          "metadata": {},
          "execution_count": 75
        }
      ],
      "source": [
        "chinstrap = get_species(penguins, \"Chinstrap\")\n",
        "len(chinstrap)"
      ]
    },
    {
      "cell_type": "code",
      "execution_count": 76,
      "id": "c7889ec8",
      "metadata": {
        "id": "c7889ec8"
      },
      "outputs": [],
      "source": [
        "# Solution goes here"
      ]
    },
    {
      "cell_type": "code",
      "execution_count": 77,
      "id": "9728bed0",
      "metadata": {
        "id": "9728bed0"
      },
      "outputs": [],
      "source": [
        "# Solution goes here"
      ]
    },
    {
      "cell_type": "markdown",
      "id": "e27da3a4",
      "metadata": {
        "tags": [],
        "id": "e27da3a4"
      },
      "source": [
        "[Think Stats: Exploratory Data Analysis in Python, 3rd Edition](https://allendowney.github.io/ThinkStats/index.html)\n",
        "\n",
        "Copyright 2024 [Allen B. Downey](https://allendowney.com)\n",
        "\n",
        "Code license: [MIT License](https://mit-license.org/)\n",
        "\n",
        "Text license: [Creative Commons Attribution-NonCommercial-ShareAlike 4.0 International](https://creativecommons.org/licenses/by-nc-sa/4.0/)"
      ]
    }
  ],
  "metadata": {
    "celltoolbar": "Tags",
    "kernelspec": {
      "display_name": "Python 3 (ipykernel)",
      "language": "python",
      "name": "python3"
    },
    "language_info": {
      "codemirror_mode": {
        "name": "ipython",
        "version": 3
      },
      "file_extension": ".py",
      "mimetype": "text/x-python",
      "name": "python",
      "nbconvert_exporter": "python",
      "pygments_lexer": "ipython3",
      "version": "3.11.0"
    },
    "colab": {
      "provenance": [],
      "include_colab_link": true
    }
  },
  "nbformat": 4,
  "nbformat_minor": 5
}