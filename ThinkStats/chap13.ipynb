{
  "cells": [
    {
      "cell_type": "markdown",
      "metadata": {
        "id": "view-in-github",
        "colab_type": "text"
      },
      "source": [
        "<a href=\"https://colab.research.google.com/github/gi1no/Education/blob/main/ThinkStats/chap13.ipynb\" target=\"_parent\"><img src=\"https://colab.research.google.com/assets/colab-badge.svg\" alt=\"Open In Colab\"/></a>"
      ]
    },
    {
      "cell_type": "markdown",
      "id": "418e407e",
      "metadata": {
        "id": "418e407e"
      },
      "source": [
        "The third edition of *Think Stats* is available now from [Bookshop.org](https://bookshop.org/a/98697/9781098190255) and [Amazon](https://amzn.to/42lmxwu) (those are affiliate links). If you are enjoying the free, online version, consider [buying me a coffee](https://buymeacoffee.com/allendowney)."
      ]
    },
    {
      "cell_type": "markdown",
      "id": "210938a1",
      "metadata": {
        "id": "210938a1"
      },
      "source": [
        "# Survival analysis\n",
        "\n",
        "Survival analysis is a way to describe how long things last.\n",
        "It is often used to study human lifetimes, but it also applies to \"survival\" of mechanical and electronic components, or more generally to an interval in time before any kind of event -- or even an interval in space.\n",
        "\n",
        "We'll start with a simple example, the lifespans of light bulbs, and then consider a more substantial example, age at first marriage and how it has changed in the United States over the last 50 years."
      ]
    },
    {
      "cell_type": "markdown",
      "id": "67c201d7",
      "metadata": {
        "tags": [],
        "id": "67c201d7"
      },
      "source": [
        "[Click here to run this notebook on Colab](https://colab.research.google.com/github/AllenDowney/ThinkStats/blob/v3/nb/chap13.ipynb)."
      ]
    },
    {
      "cell_type": "code",
      "execution_count": 115,
      "id": "ef31aaeb",
      "metadata": {
        "tags": [],
        "id": "ef31aaeb"
      },
      "outputs": [],
      "source": [
        "from os.path import basename, exists\n",
        "\n",
        "\n",
        "def download(url):\n",
        "    filename = basename(url)\n",
        "    if not exists(filename):\n",
        "        from urllib.request import urlretrieve\n",
        "\n",
        "        local, _ = urlretrieve(url, filename)\n",
        "        print(\"Downloaded \" + local)\n",
        "\n",
        "\n",
        "download(\"https://github.com/AllenDowney/ThinkStats/raw/v3/nb/thinkstats.py\")"
      ]
    },
    {
      "cell_type": "code",
      "execution_count": 116,
      "id": "59b4d378",
      "metadata": {
        "tags": [],
        "id": "59b4d378"
      },
      "outputs": [],
      "source": [
        "try:\n",
        "    import empiricaldist\n",
        "except ImportError:\n",
        "    %pip install empiricaldist"
      ]
    },
    {
      "cell_type": "code",
      "execution_count": 117,
      "id": "babb4f14",
      "metadata": {
        "tags": [],
        "id": "babb4f14"
      },
      "outputs": [],
      "source": [
        "import numpy as np\n",
        "import pandas as pd\n",
        "import matplotlib.pyplot as plt\n",
        "\n",
        "from thinkstats import decorate"
      ]
    },
    {
      "cell_type": "markdown",
      "id": "6d47eaa6",
      "metadata": {
        "id": "6d47eaa6"
      },
      "source": [
        "## Survival Functions\n",
        "\n",
        "A fundamental concept in survival analysis is the **survival function**, which is the fraction of a population that survives longer than a given duration.\n",
        "As a first example, we'll compute a survival function for the lifespans of light bulbs.\n",
        "\n",
        "We'll use data from an experiment conducted in 2007.\n",
        "Researchers installed 50 new light bulbs and left them on continuously.\n",
        "They checked on the bulbs every 12 hours and recorded the lifespan of any that expired -- and ran the experiment until all 50 bulbs expired.\n",
        "Instructions for downloading the data are in the notebook for this chapter."
      ]
    },
    {
      "cell_type": "markdown",
      "id": "ed583685",
      "metadata": {
        "tags": [],
        "id": "ed583685"
      },
      "source": [
        "The following cell downloads the data, which is documented [here](https://gist.github.com/epogrebnyak/7933e16c0ad215742c4c104be4fbdeb1).\n",
        "\n",
        "Dataset from:\n",
        "    \n",
        "V.J. Menon and D.C. Agrawal,  Renewal Rate of Filament Lamps: Theory and Experiment. Journal of Failure Analysis and Prevention. December 2007, p. 421, Table 2/\n",
        "DOI: 10.1007/s11668-007-9074-9"
      ]
    },
    {
      "cell_type": "code",
      "execution_count": 118,
      "id": "f8675281",
      "metadata": {
        "tags": [],
        "id": "f8675281"
      },
      "outputs": [],
      "source": [
        "download(\n",
        "    \"https://gist.github.com/epogrebnyak/7933e16c0ad215742c4c104be4fbdeb1/raw/c932bc5b6aa6317770c4cbf43eb591511fec08f9/lamps.csv\"\n",
        ")"
      ]
    },
    {
      "cell_type": "markdown",
      "id": "fbc1e38f",
      "metadata": {
        "id": "fbc1e38f"
      },
      "source": [
        "We can read the data like this."
      ]
    },
    {
      "cell_type": "code",
      "execution_count": 119,
      "id": "86afc71c",
      "metadata": {
        "colab": {
          "base_uri": "https://localhost:8080/",
          "height": 237
        },
        "id": "86afc71c",
        "outputId": "647b1e5f-f3a7-4c05-e579-ce6c174aade3"
      },
      "outputs": [
        {
          "output_type": "execute_result",
          "data": {
            "text/plain": [
              "       h  f  K\n",
              "i             \n",
              "28  1812  1  4\n",
              "29  1836  1  3\n",
              "30  1860  1  2\n",
              "31  1980  1  1\n",
              "32  2568  1  0"
            ],
            "text/html": [
              "\n",
              "  <div id=\"df-943c1954-fcdf-45c2-b6d4-3d94514a4fe4\" class=\"colab-df-container\">\n",
              "    <div>\n",
              "<style scoped>\n",
              "    .dataframe tbody tr th:only-of-type {\n",
              "        vertical-align: middle;\n",
              "    }\n",
              "\n",
              "    .dataframe tbody tr th {\n",
              "        vertical-align: top;\n",
              "    }\n",
              "\n",
              "    .dataframe thead th {\n",
              "        text-align: right;\n",
              "    }\n",
              "</style>\n",
              "<table border=\"1\" class=\"dataframe\">\n",
              "  <thead>\n",
              "    <tr style=\"text-align: right;\">\n",
              "      <th></th>\n",
              "      <th>h</th>\n",
              "      <th>f</th>\n",
              "      <th>K</th>\n",
              "    </tr>\n",
              "    <tr>\n",
              "      <th>i</th>\n",
              "      <th></th>\n",
              "      <th></th>\n",
              "      <th></th>\n",
              "    </tr>\n",
              "  </thead>\n",
              "  <tbody>\n",
              "    <tr>\n",
              "      <th>28</th>\n",
              "      <td>1812</td>\n",
              "      <td>1</td>\n",
              "      <td>4</td>\n",
              "    </tr>\n",
              "    <tr>\n",
              "      <th>29</th>\n",
              "      <td>1836</td>\n",
              "      <td>1</td>\n",
              "      <td>3</td>\n",
              "    </tr>\n",
              "    <tr>\n",
              "      <th>30</th>\n",
              "      <td>1860</td>\n",
              "      <td>1</td>\n",
              "      <td>2</td>\n",
              "    </tr>\n",
              "    <tr>\n",
              "      <th>31</th>\n",
              "      <td>1980</td>\n",
              "      <td>1</td>\n",
              "      <td>1</td>\n",
              "    </tr>\n",
              "    <tr>\n",
              "      <th>32</th>\n",
              "      <td>2568</td>\n",
              "      <td>1</td>\n",
              "      <td>0</td>\n",
              "    </tr>\n",
              "  </tbody>\n",
              "</table>\n",
              "</div>\n",
              "    <div class=\"colab-df-buttons\">\n",
              "\n",
              "  <div class=\"colab-df-container\">\n",
              "    <button class=\"colab-df-convert\" onclick=\"convertToInteractive('df-943c1954-fcdf-45c2-b6d4-3d94514a4fe4')\"\n",
              "            title=\"Convert this dataframe to an interactive table.\"\n",
              "            style=\"display:none;\">\n",
              "\n",
              "  <svg xmlns=\"http://www.w3.org/2000/svg\" height=\"24px\" viewBox=\"0 -960 960 960\">\n",
              "    <path d=\"M120-120v-720h720v720H120Zm60-500h600v-160H180v160Zm220 220h160v-160H400v160Zm0 220h160v-160H400v160ZM180-400h160v-160H180v160Zm440 0h160v-160H620v160ZM180-180h160v-160H180v160Zm440 0h160v-160H620v160Z\"/>\n",
              "  </svg>\n",
              "    </button>\n",
              "\n",
              "  <style>\n",
              "    .colab-df-container {\n",
              "      display:flex;\n",
              "      gap: 12px;\n",
              "    }\n",
              "\n",
              "    .colab-df-convert {\n",
              "      background-color: #E8F0FE;\n",
              "      border: none;\n",
              "      border-radius: 50%;\n",
              "      cursor: pointer;\n",
              "      display: none;\n",
              "      fill: #1967D2;\n",
              "      height: 32px;\n",
              "      padding: 0 0 0 0;\n",
              "      width: 32px;\n",
              "    }\n",
              "\n",
              "    .colab-df-convert:hover {\n",
              "      background-color: #E2EBFA;\n",
              "      box-shadow: 0px 1px 2px rgba(60, 64, 67, 0.3), 0px 1px 3px 1px rgba(60, 64, 67, 0.15);\n",
              "      fill: #174EA6;\n",
              "    }\n",
              "\n",
              "    .colab-df-buttons div {\n",
              "      margin-bottom: 4px;\n",
              "    }\n",
              "\n",
              "    [theme=dark] .colab-df-convert {\n",
              "      background-color: #3B4455;\n",
              "      fill: #D2E3FC;\n",
              "    }\n",
              "\n",
              "    [theme=dark] .colab-df-convert:hover {\n",
              "      background-color: #434B5C;\n",
              "      box-shadow: 0px 1px 3px 1px rgba(0, 0, 0, 0.15);\n",
              "      filter: drop-shadow(0px 1px 2px rgba(0, 0, 0, 0.3));\n",
              "      fill: #FFFFFF;\n",
              "    }\n",
              "  </style>\n",
              "\n",
              "    <script>\n",
              "      const buttonEl =\n",
              "        document.querySelector('#df-943c1954-fcdf-45c2-b6d4-3d94514a4fe4 button.colab-df-convert');\n",
              "      buttonEl.style.display =\n",
              "        google.colab.kernel.accessAllowed ? 'block' : 'none';\n",
              "\n",
              "      async function convertToInteractive(key) {\n",
              "        const element = document.querySelector('#df-943c1954-fcdf-45c2-b6d4-3d94514a4fe4');\n",
              "        const dataTable =\n",
              "          await google.colab.kernel.invokeFunction('convertToInteractive',\n",
              "                                                    [key], {});\n",
              "        if (!dataTable) return;\n",
              "\n",
              "        const docLinkHtml = 'Like what you see? Visit the ' +\n",
              "          '<a target=\"_blank\" href=https://colab.research.google.com/notebooks/data_table.ipynb>data table notebook</a>'\n",
              "          + ' to learn more about interactive tables.';\n",
              "        element.innerHTML = '';\n",
              "        dataTable['output_type'] = 'display_data';\n",
              "        await google.colab.output.renderOutput(dataTable, element);\n",
              "        const docLink = document.createElement('div');\n",
              "        docLink.innerHTML = docLinkHtml;\n",
              "        element.appendChild(docLink);\n",
              "      }\n",
              "    </script>\n",
              "  </div>\n",
              "\n",
              "\n",
              "    <div id=\"df-8ac3f402-de6a-40b7-87c0-5df0af44663b\">\n",
              "      <button class=\"colab-df-quickchart\" onclick=\"quickchart('df-8ac3f402-de6a-40b7-87c0-5df0af44663b')\"\n",
              "                title=\"Suggest charts\"\n",
              "                style=\"display:none;\">\n",
              "\n",
              "<svg xmlns=\"http://www.w3.org/2000/svg\" height=\"24px\"viewBox=\"0 0 24 24\"\n",
              "     width=\"24px\">\n",
              "    <g>\n",
              "        <path d=\"M19 3H5c-1.1 0-2 .9-2 2v14c0 1.1.9 2 2 2h14c1.1 0 2-.9 2-2V5c0-1.1-.9-2-2-2zM9 17H7v-7h2v7zm4 0h-2V7h2v10zm4 0h-2v-4h2v4z\"/>\n",
              "    </g>\n",
              "</svg>\n",
              "      </button>\n",
              "\n",
              "<style>\n",
              "  .colab-df-quickchart {\n",
              "      --bg-color: #E8F0FE;\n",
              "      --fill-color: #1967D2;\n",
              "      --hover-bg-color: #E2EBFA;\n",
              "      --hover-fill-color: #174EA6;\n",
              "      --disabled-fill-color: #AAA;\n",
              "      --disabled-bg-color: #DDD;\n",
              "  }\n",
              "\n",
              "  [theme=dark] .colab-df-quickchart {\n",
              "      --bg-color: #3B4455;\n",
              "      --fill-color: #D2E3FC;\n",
              "      --hover-bg-color: #434B5C;\n",
              "      --hover-fill-color: #FFFFFF;\n",
              "      --disabled-bg-color: #3B4455;\n",
              "      --disabled-fill-color: #666;\n",
              "  }\n",
              "\n",
              "  .colab-df-quickchart {\n",
              "    background-color: var(--bg-color);\n",
              "    border: none;\n",
              "    border-radius: 50%;\n",
              "    cursor: pointer;\n",
              "    display: none;\n",
              "    fill: var(--fill-color);\n",
              "    height: 32px;\n",
              "    padding: 0;\n",
              "    width: 32px;\n",
              "  }\n",
              "\n",
              "  .colab-df-quickchart:hover {\n",
              "    background-color: var(--hover-bg-color);\n",
              "    box-shadow: 0 1px 2px rgba(60, 64, 67, 0.3), 0 1px 3px 1px rgba(60, 64, 67, 0.15);\n",
              "    fill: var(--button-hover-fill-color);\n",
              "  }\n",
              "\n",
              "  .colab-df-quickchart-complete:disabled,\n",
              "  .colab-df-quickchart-complete:disabled:hover {\n",
              "    background-color: var(--disabled-bg-color);\n",
              "    fill: var(--disabled-fill-color);\n",
              "    box-shadow: none;\n",
              "  }\n",
              "\n",
              "  .colab-df-spinner {\n",
              "    border: 2px solid var(--fill-color);\n",
              "    border-color: transparent;\n",
              "    border-bottom-color: var(--fill-color);\n",
              "    animation:\n",
              "      spin 1s steps(1) infinite;\n",
              "  }\n",
              "\n",
              "  @keyframes spin {\n",
              "    0% {\n",
              "      border-color: transparent;\n",
              "      border-bottom-color: var(--fill-color);\n",
              "      border-left-color: var(--fill-color);\n",
              "    }\n",
              "    20% {\n",
              "      border-color: transparent;\n",
              "      border-left-color: var(--fill-color);\n",
              "      border-top-color: var(--fill-color);\n",
              "    }\n",
              "    30% {\n",
              "      border-color: transparent;\n",
              "      border-left-color: var(--fill-color);\n",
              "      border-top-color: var(--fill-color);\n",
              "      border-right-color: var(--fill-color);\n",
              "    }\n",
              "    40% {\n",
              "      border-color: transparent;\n",
              "      border-right-color: var(--fill-color);\n",
              "      border-top-color: var(--fill-color);\n",
              "    }\n",
              "    60% {\n",
              "      border-color: transparent;\n",
              "      border-right-color: var(--fill-color);\n",
              "    }\n",
              "    80% {\n",
              "      border-color: transparent;\n",
              "      border-right-color: var(--fill-color);\n",
              "      border-bottom-color: var(--fill-color);\n",
              "    }\n",
              "    90% {\n",
              "      border-color: transparent;\n",
              "      border-bottom-color: var(--fill-color);\n",
              "    }\n",
              "  }\n",
              "</style>\n",
              "\n",
              "      <script>\n",
              "        async function quickchart(key) {\n",
              "          const quickchartButtonEl =\n",
              "            document.querySelector('#' + key + ' button');\n",
              "          quickchartButtonEl.disabled = true;  // To prevent multiple clicks.\n",
              "          quickchartButtonEl.classList.add('colab-df-spinner');\n",
              "          try {\n",
              "            const charts = await google.colab.kernel.invokeFunction(\n",
              "                'suggestCharts', [key], {});\n",
              "          } catch (error) {\n",
              "            console.error('Error during call to suggestCharts:', error);\n",
              "          }\n",
              "          quickchartButtonEl.classList.remove('colab-df-spinner');\n",
              "          quickchartButtonEl.classList.add('colab-df-quickchart-complete');\n",
              "        }\n",
              "        (() => {\n",
              "          let quickchartButtonEl =\n",
              "            document.querySelector('#df-8ac3f402-de6a-40b7-87c0-5df0af44663b button');\n",
              "          quickchartButtonEl.style.display =\n",
              "            google.colab.kernel.accessAllowed ? 'block' : 'none';\n",
              "        })();\n",
              "      </script>\n",
              "    </div>\n",
              "\n",
              "    </div>\n",
              "  </div>\n"
            ],
            "application/vnd.google.colaboratory.intrinsic+json": {
              "type": "dataframe",
              "summary": "{\n  \"name\": \"df\",\n  \"rows\": 5,\n  \"fields\": [\n    {\n      \"column\": \"i\",\n      \"properties\": {\n        \"dtype\": \"number\",\n        \"std\": 1,\n        \"min\": 28,\n        \"max\": 32,\n        \"num_unique_values\": 5,\n        \"samples\": [\n          29,\n          32,\n          30\n        ],\n        \"semantic_type\": \"\",\n        \"description\": \"\"\n      }\n    },\n    {\n      \"column\": \"h\",\n      \"properties\": {\n        \"dtype\": \"number\",\n        \"std\": 317,\n        \"min\": 1812,\n        \"max\": 2568,\n        \"num_unique_values\": 5,\n        \"samples\": [\n          1836,\n          2568,\n          1860\n        ],\n        \"semantic_type\": \"\",\n        \"description\": \"\"\n      }\n    },\n    {\n      \"column\": \"f\",\n      \"properties\": {\n        \"dtype\": \"number\",\n        \"std\": 0,\n        \"min\": 1,\n        \"max\": 1,\n        \"num_unique_values\": 1,\n        \"samples\": [\n          1\n        ],\n        \"semantic_type\": \"\",\n        \"description\": \"\"\n      }\n    },\n    {\n      \"column\": \"K\",\n      \"properties\": {\n        \"dtype\": \"number\",\n        \"std\": 1,\n        \"min\": 0,\n        \"max\": 4,\n        \"num_unique_values\": 5,\n        \"samples\": [\n          3\n        ],\n        \"semantic_type\": \"\",\n        \"description\": \"\"\n      }\n    }\n  ]\n}"
            }
          },
          "metadata": {},
          "execution_count": 119
        }
      ],
      "source": [
        "df = pd.read_csv(\"lamps.csv\", index_col=0)\n",
        "df.tail()"
      ]
    },
    {
      "cell_type": "markdown",
      "id": "14d09887",
      "metadata": {
        "id": "14d09887"
      },
      "source": [
        "The `h` column contains lifespans in hours.\n",
        "The `f` column records the number of bulbs that expired at each value of `h`.\n",
        "To represent the distribution of lifespans, we'll put these values in a `Pmf` object and normalize it."
      ]
    },
    {
      "cell_type": "code",
      "execution_count": 120,
      "id": "4f7e0d03",
      "metadata": {
        "colab": {
          "base_uri": "https://localhost:8080/"
        },
        "id": "4f7e0d03",
        "outputId": "5a771a8c-32d0-4c76-bc15-a5086ceccda2"
      },
      "outputs": [
        {
          "output_type": "execute_result",
          "data": {
            "text/plain": [
              "np.int64(50)"
            ]
          },
          "metadata": {},
          "execution_count": 120
        }
      ],
      "source": [
        "from empiricaldist import Pmf\n",
        "\n",
        "pmf_bulblife = Pmf(df[\"f\"].values, index=df[\"h\"])\n",
        "pmf_bulblife.normalize()"
      ]
    },
    {
      "cell_type": "markdown",
      "id": "c4e14bcc",
      "metadata": {
        "id": "c4e14bcc"
      },
      "source": [
        "We can use `make_cdf` to compute the CDF, which indicates the fraction of bulbs that expire at or before each value of `h`.\n",
        "For example, 78% of the bulbs expire at or before 1656 hours."
      ]
    },
    {
      "cell_type": "code",
      "execution_count": 121,
      "id": "921461a2",
      "metadata": {
        "colab": {
          "base_uri": "https://localhost:8080/"
        },
        "id": "921461a2",
        "outputId": "70176741-e4c1-495c-8b58-a2b0bf9f8c96"
      },
      "outputs": [
        {
          "output_type": "execute_result",
          "data": {
            "text/plain": [
              "np.float64(0.7800000000000002)"
            ]
          },
          "metadata": {},
          "execution_count": 121
        }
      ],
      "source": [
        "cdf_bulblife = pmf_bulblife.make_cdf()\n",
        "cdf_bulblife[1656]"
      ]
    },
    {
      "cell_type": "markdown",
      "id": "5c435353",
      "metadata": {
        "id": "5c435353"
      },
      "source": [
        "The survival function is the fraction of bulbs that expire *after* each value of `h`, which is the complement of the CDF.\n",
        "So we can compute it like this."
      ]
    },
    {
      "cell_type": "code",
      "execution_count": 122,
      "id": "37e908dd",
      "metadata": {
        "colab": {
          "base_uri": "https://localhost:8080/"
        },
        "id": "37e908dd",
        "outputId": "80c220e0-48ae-4cf4-d68a-059bb0e8c1c2"
      },
      "outputs": [
        {
          "output_type": "execute_result",
          "data": {
            "text/plain": [
              "np.float64(0.21999999999999975)"
            ]
          },
          "metadata": {},
          "execution_count": 122
        }
      ],
      "source": [
        "complementary_cdf = 1 - cdf_bulblife\n",
        "complementary_cdf[1656]"
      ]
    },
    {
      "cell_type": "markdown",
      "id": "3934a574",
      "metadata": {
        "id": "3934a574"
      },
      "source": [
        "22% of the bulbs expired after 1656 hours.\n",
        "\n",
        "The `empiricaldist` library provides a `Surv` object that represents a survival function, and a method called `make_surv` that makes one."
      ]
    },
    {
      "cell_type": "code",
      "execution_count": 123,
      "id": "1c58a46c",
      "metadata": {
        "colab": {
          "base_uri": "https://localhost:8080/"
        },
        "id": "1c58a46c",
        "outputId": "59eb345f-5f20-41f2-84a5-e6dee6139ef4"
      },
      "outputs": [
        {
          "output_type": "execute_result",
          "data": {
            "text/plain": [
              "np.float64(0.21999999999999997)"
            ]
          },
          "metadata": {},
          "execution_count": 123
        }
      ],
      "source": [
        "surv_bulblife = cdf_bulblife.make_surv()\n",
        "surv_bulblife[1656]"
      ]
    },
    {
      "cell_type": "markdown",
      "id": "88be6568",
      "metadata": {
        "id": "88be6568"
      },
      "source": [
        "If we plot the CDF and the survival function, we can see that they are complementary -- that is, their sum is 1 at all values of `h`."
      ]
    },
    {
      "cell_type": "code",
      "execution_count": 124,
      "id": "62e97cb9",
      "metadata": {
        "colab": {
          "base_uri": "https://localhost:8080/",
          "height": 272
        },
        "id": "62e97cb9",
        "outputId": "1e72814b-e962-4a4b-89b2-eb8377a7c46f"
      },
      "outputs": [
        {
          "output_type": "display_data",
          "data": {
            "text/plain": [
              "<Figure size 450x262.5 with 1 Axes>"
            ],
            "image/png": "[encoded data removed]"
          },
          "metadata": {}
        }
      ],
      "source": [
        "cdf_bulblife.plot(ls=\"--\", label=\"CDF\")\n",
        "surv_bulblife.plot(label=\"Survival\")\n",
        "\n",
        "decorate(xlabel=\"Light bulb duration (hours)\", ylabel=\"Probability\")"
      ]
    },
    {
      "cell_type": "markdown",
      "id": "17d475b0",
      "metadata": {
        "id": "17d475b0"
      },
      "source": [
        "In that sense, the CDF and survival function are equivalent -- if we are given either one, we can compute the other -- but in the context of survival analysis it is more common to work with survival curves.\n",
        "And computing a survival curve is a step toward the next important concept, the hazard function."
      ]
    },
    {
      "cell_type": "markdown",
      "id": "4eb025d9",
      "metadata": {
        "id": "4eb025d9"
      },
      "source": [
        "## Hazard Function\n",
        "\n",
        "In the light bulb dataset, each value of `h` represents a 12-hour interval ending at hour `h` -- which I will call \"interval `h`\".\n",
        "Suppose we know that a light bulb has survived up to interval `h`, and we would like to know the probability that it expires during interval `h`.\n",
        "To answer this question, we can use the survival function, which indicates the fraction of bulbs that survive past interval `h`, and the PMF, which indicates the fraction that expire during interval `h`.\n",
        "The sum of these is the fraction of bulbs that *could* expire during interval `h`, which are said to be \"at risk\".\n",
        "As an example, 26% of the bulbs were at risk during interval 1656."
      ]
    },
    {
      "cell_type": "code",
      "execution_count": 125,
      "id": "1554459a",
      "metadata": {
        "colab": {
          "base_uri": "https://localhost:8080/"
        },
        "id": "1554459a",
        "outputId": "a4e6ded7-0516-4358-ba02-07ca26a476a7"
      },
      "outputs": [
        {
          "output_type": "execute_result",
          "data": {
            "text/plain": [
              "np.float64(0.25999999999999995)"
            ]
          },
          "metadata": {},
          "execution_count": 125
        }
      ],
      "source": [
        "at_risk = pmf_bulblife + surv_bulblife\n",
        "at_risk[1656]"
      ]
    },
    {
      "cell_type": "markdown",
      "id": "14b55168",
      "metadata": {
        "id": "14b55168"
      },
      "source": [
        "And 4% of all bulbs expired during interval 1656."
      ]
    },
    {
      "cell_type": "code",
      "execution_count": 126,
      "id": "ba549c6d",
      "metadata": {
        "colab": {
          "base_uri": "https://localhost:8080/"
        },
        "id": "ba549c6d",
        "outputId": "f9911771-7259-4bc6-d0de-b3aa09f0ac30"
      },
      "outputs": [
        {
          "output_type": "execute_result",
          "data": {
            "text/plain": [
              "np.float64(0.04)"
            ]
          },
          "metadata": {},
          "execution_count": 126
        }
      ],
      "source": [
        "pmf_bulblife[1656]"
      ]
    },
    {
      "cell_type": "markdown",
      "id": "faa7b484",
      "metadata": {
        "id": "faa7b484"
      },
      "source": [
        "The **hazard** is the ratio of `pmf_bulblife` and `at_risk`."
      ]
    },
    {
      "cell_type": "code",
      "execution_count": 127,
      "id": "ea7b583d",
      "metadata": {
        "colab": {
          "base_uri": "https://localhost:8080/"
        },
        "id": "ea7b583d",
        "outputId": "2833c2ec-38b5-498c-ba01-d5b21ee17567"
      },
      "outputs": [
        {
          "output_type": "execute_result",
          "data": {
            "text/plain": [
              "np.float64(0.15384615384615388)"
            ]
          },
          "metadata": {},
          "execution_count": 127
        }
      ],
      "source": [
        "hazard = pmf_bulblife / at_risk\n",
        "hazard[1656]"
      ]
    },
    {
      "cell_type": "markdown",
      "id": "a55d6b93",
      "metadata": {
        "id": "a55d6b93"
      },
      "source": [
        "Of all bulbs that survived up to interval 1656, about 15% expired during interval 1656.\n",
        "\n",
        "Instead of computing the hazard function ourselves, we can use `empiricaldist`, which provides a `Hazard` object that represents a hazard function, and a `make_hazard` method that computes it."
      ]
    },
    {
      "cell_type": "code",
      "execution_count": 128,
      "id": "b15bbdaf",
      "metadata": {
        "colab": {
          "base_uri": "https://localhost:8080/"
        },
        "id": "b15bbdaf",
        "outputId": "73be6c33-a41c-44f4-d9c1-835d0fc7fa7d"
      },
      "outputs": [
        {
          "output_type": "execute_result",
          "data": {
            "text/plain": [
              "np.float64(0.15384615384615397)"
            ]
          },
          "metadata": {},
          "execution_count": 128
        }
      ],
      "source": [
        "hazard_bulblife = surv_bulblife.make_hazard()\n",
        "hazard_bulblife[1656]"
      ]
    },
    {
      "cell_type": "markdown",
      "id": "93b38bb1",
      "metadata": {
        "id": "93b38bb1"
      },
      "source": [
        "Here's what the hazard function looks like for the light bulbs."
      ]
    },
    {
      "cell_type": "code",
      "execution_count": 129,
      "id": "b61ff097",
      "metadata": {
        "colab": {
          "base_uri": "https://localhost:8080/",
          "height": 272
        },
        "id": "b61ff097",
        "outputId": "1aad0c61-f887-406d-a0b4-7303101eea40"
      },
      "outputs": [
        {
          "output_type": "display_data",
          "data": {
            "text/plain": [
              "<Figure size 450x262.5 with 1 Axes>"
            ],
            "image/png": "[encoded data removed]"
          },
          "metadata": {}
        }
      ],
      "source": [
        "hazard_bulblife.plot()\n",
        "decorate(xlabel=\"Light bulb duration (hours)\", ylabel=\"Hazard\")"
      ]
    },
    {
      "cell_type": "markdown",
      "id": "29c7abd4",
      "metadata": {
        "id": "29c7abd4"
      },
      "source": [
        "We can see that the hazard is higher in some places than others, but this way of visualizing the hazard function can be misleading, especially in parts of the range where we don't have much data.\n",
        "A better alternative is to plot the **cumulative hazard function**, which is the cumulative sum of the hazards."
      ]
    },
    {
      "cell_type": "code",
      "execution_count": 130,
      "id": "97ffdb68",
      "metadata": {
        "colab": {
          "base_uri": "https://localhost:8080/",
          "height": 272
        },
        "id": "97ffdb68",
        "outputId": "ef9a1242-312d-4a87-c629-ca265d944e15"
      },
      "outputs": [
        {
          "output_type": "display_data",
          "data": {
            "text/plain": [
              "<Figure size 450x262.5 with 1 Axes>"
            ],
            "image/png": "[encoded data removed]"
          },
          "metadata": {}
        }
      ],
      "source": [
        "cumulative_hazard = hazard_bulblife.cumsum()\n",
        "cumulative_hazard.plot()\n",
        "\n",
        "decorate(xlabel=\"Light bulb duration (hours)\", ylabel=\"Cumulative hazard\")"
      ]
    },
    {
      "cell_type": "markdown",
      "id": "8fd254a3",
      "metadata": {
        "id": "8fd254a3"
      },
      "source": [
        "Where the probability of expiring is high, the cumulative hazard function is steep.\n",
        "Where the probability of expiring is low, the cumulative hazard function is flat.\n",
        "In this example, we can see that the hazard is highest between 1500 and 2000 hours.\n",
        "After that, the hazard decreases -- although this outcome is based on just one unusually long-lived bulb, so it might look different in another dataset.\n",
        "\n",
        "Now that we have the general idea of survival and hazard functions, let's apply them to a more substantial dataset."
      ]
    },
    {
      "cell_type": "markdown",
      "id": "087c5cc4",
      "metadata": {
        "id": "087c5cc4"
      },
      "source": [
        "## Marriage Data\n",
        "\n",
        "In many countries, people are getting married later than they used to, and more people stay unmarried.\n",
        "To explore these trends in the United States, we'll use the tools of survival analysis and data from the National Survey of Family Growth (NSFG).\n",
        "\n",
        "The NSFG dataset we used in previous chapters is the pregnancy file, which contains one row for each pregnancy reported by the survey respondents.\n",
        "In this chapter, we'll work with the respondent file, which contains information about the respondents themselves.\n",
        "\n",
        "I have compiled responses from nine iterations of the survey, conducted between 1982 and 2019, and selected data related to marriage.\n",
        "Instructions for downloading this excerpt are in the notebook for this chapter."
      ]
    },
    {
      "cell_type": "markdown",
      "id": "09fd206c",
      "metadata": {
        "tags": [],
        "id": "09fd206c"
      },
      "source": [
        "The following cell downloads the data, which is a CSV file I created that combines data from several iterations of the NSFG survey, from 1982 to 2019.\n",
        "\n",
        "Details of the data preparation are in [this notebook](https://github.com/AllenDowney/MarriageNSFG/blob/master/clean_nsfg.ipynb)."
      ]
    },
    {
      "cell_type": "code",
      "execution_count": 131,
      "id": "c26c557c",
      "metadata": {
        "tags": [],
        "id": "c26c557c"
      },
      "outputs": [],
      "source": [
        "filename = \"marriage_nsfg_female.csv.gz\"\n",
        "download(\"https://github.com/AllenDowney/ThinkStats/raw/v3/data/\" + filename)"
      ]
    },
    {
      "cell_type": "markdown",
      "id": "e36c59f3",
      "metadata": {
        "id": "e36c59f3"
      },
      "source": [
        "We can read the data like this."
      ]
    },
    {
      "cell_type": "code",
      "execution_count": 132,
      "id": "8c404800",
      "metadata": {
        "colab": {
          "base_uri": "https://localhost:8080/"
        },
        "id": "8c404800",
        "outputId": "2db8ce21-26b8-4587-af06-0b3a40763f73"
      },
      "outputs": [
        {
          "output_type": "execute_result",
          "data": {
            "text/plain": [
              "(70183, 34)"
            ]
          },
          "metadata": {},
          "execution_count": 132
        }
      ],
      "source": [
        "resp = pd.read_csv(\"marriage_nsfg_female.csv.gz\")\n",
        "resp.shape"
      ]
    },
    {
      "cell_type": "markdown",
      "id": "41335859",
      "metadata": {
        "id": "41335859"
      },
      "source": [
        "The excerpt includes one row for each of more than 70,000 respondents, and has the following variables related to age and marriage.\n",
        "\n",
        "-   `cmbirth`: The respondent's date of birth, known for all respondents.\n",
        "\n",
        "-   `cmintvw`: The date the respondent was interviewed, known for all respondents.\n",
        "\n",
        "-   `cmmarrhx`: The date the respondent was first married, if applicable and known.\n",
        "\n",
        "-   `evrmarry`: 1 if the respondent had been married prior to the date of interview, 0 otherwise.\n",
        "\n",
        "The first three variables are encoded in \"century-months\" -- that is, the integer number of months since December 1899.\n",
        "So century-month 1 is January 1900.\n",
        "\n",
        "To explore generational changes, we'll group respondents by their decade of birth.\n",
        "We'll use the following function, which takes a value of `cmbirth` and computes the corresponding decade of birth.\n",
        "It uses the integer division operator `//` to divide by 10 and round down."
      ]
    },
    {
      "cell_type": "code",
      "execution_count": 133,
      "id": "edf30d65",
      "metadata": {
        "id": "edf30d65"
      },
      "outputs": [],
      "source": [
        "month0 = pd.to_datetime(\"1899-12-31\")\n",
        "\n",
        "\n",
        "def decade_of_birth(cmbirth):\n",
        "    date = month0 + pd.DateOffset(months=cmbirth)\n",
        "    return date.year // 10 * 10"
      ]
    },
    {
      "cell_type": "markdown",
      "id": "71dc5049",
      "metadata": {
        "id": "71dc5049"
      },
      "source": [
        "We can use this function and the `apply` method to compute each respondent's decade of birth and assign it to a new column called `cohort`.\n",
        "In this context, a **cohort** is a group of people with something in common -- like the decade they were born -- who are treated as a group for purposes of analysis.\n",
        "\n",
        "The result from `value_counts` shows the number of people in each cohort."
      ]
    },
    {
      "cell_type": "code",
      "execution_count": 134,
      "id": "4509f3db",
      "metadata": {
        "colab": {
          "base_uri": "https://localhost:8080/",
          "height": 366
        },
        "id": "4509f3db",
        "outputId": "aff0d5e7-e329-4fd7-bc7f-15469cfc35c7"
      },
      "outputs": [
        {
          "output_type": "execute_result",
          "data": {
            "text/plain": [
              "cohort\n",
              "1930      325\n",
              "1940     3608\n",
              "1950    10631\n",
              "1960    14953\n",
              "1970    16438\n",
              "1980    14271\n",
              "1990     8552\n",
              "2000     1405\n",
              "Name: count, dtype: int64"
            ],
            "text/html": [
              "<div>\n",
              "<style scoped>\n",
              "    .dataframe tbody tr th:only-of-type {\n",
              "        vertical-align: middle;\n",
              "    }\n",
              "\n",
              "    .dataframe tbody tr th {\n",
              "        vertical-align: top;\n",
              "    }\n",
              "\n",
              "    .dataframe thead th {\n",
              "        text-align: right;\n",
              "    }\n",
              "</style>\n",
              "<table border=\"1\" class=\"dataframe\">\n",
              "  <thead>\n",
              "    <tr style=\"text-align: right;\">\n",
              "      <th></th>\n",
              "      <th>count</th>\n",
              "    </tr>\n",
              "    <tr>\n",
              "      <th>cohort</th>\n",
              "      <th></th>\n",
              "    </tr>\n",
              "  </thead>\n",
              "  <tbody>\n",
              "    <tr>\n",
              "      <th>1930</th>\n",
              "      <td>325</td>\n",
              "    </tr>\n",
              "    <tr>\n",
              "      <th>1940</th>\n",
              "      <td>3608</td>\n",
              "    </tr>\n",
              "    <tr>\n",
              "      <th>1950</th>\n",
              "      <td>10631</td>\n",
              "    </tr>\n",
              "    <tr>\n",
              "      <th>1960</th>\n",
              "      <td>14953</td>\n",
              "    </tr>\n",
              "    <tr>\n",
              "      <th>1970</th>\n",
              "      <td>16438</td>\n",
              "    </tr>\n",
              "    <tr>\n",
              "      <th>1980</th>\n",
              "      <td>14271</td>\n",
              "    </tr>\n",
              "    <tr>\n",
              "      <th>1990</th>\n",
              "      <td>8552</td>\n",
              "    </tr>\n",
              "    <tr>\n",
              "      <th>2000</th>\n",
              "      <td>1405</td>\n",
              "    </tr>\n",
              "  </tbody>\n",
              "</table>\n",
              "</div><br><label><b>dtype:</b> int64</label>"
            ]
          },
          "metadata": {},
          "execution_count": 134
        }
      ],
      "source": [
        "from thinkstats import value_counts\n",
        "\n",
        "resp[\"cohort\"] = resp[\"cmbirth\"].apply(decade_of_birth)\n",
        "value_counts(resp[\"cohort\"])"
      ]
    },
    {
      "cell_type": "markdown",
      "id": "505bf1ef",
      "metadata": {
        "id": "505bf1ef"
      },
      "source": [
        "The dataset includes more than 10,000 respondents born in each decade from the 1950s to the 1980s, and fewer respondents in the earlier and later decades.\n",
        "\n",
        "Next we'll compute each respondent's age when married (if applicable) and their age when interviewed."
      ]
    },
    {
      "cell_type": "code",
      "execution_count": 135,
      "id": "3eb44770",
      "metadata": {
        "id": "3eb44770"
      },
      "outputs": [],
      "source": [
        "resp[\"agemarr\"] = (resp[\"cmmarrhx\"] - resp[\"cmbirth\"]) / 12\n",
        "resp[\"age\"] = (resp[\"cmintvw\"] - resp[\"cmbirth\"]) / 12"
      ]
    },
    {
      "cell_type": "markdown",
      "id": "19b69173",
      "metadata": {
        "id": "19b69173"
      },
      "source": [
        "To get started with this data, we'll use the following function, which takes as arguments a `DataFrame` and a list of cohorts, and returns a dictionary that maps from each cohort to a `Surv` object.\n",
        "For each cohort, it selects their ages at first marriage and uses `Surv.from_seq` to compute a survival function.\n",
        "The `dropna=False` argument includes `NaN` values in the survival function, so the result includes people who have not married."
      ]
    },
    {
      "cell_type": "code",
      "execution_count": 136,
      "id": "fc4be0d4",
      "metadata": {
        "id": "fc4be0d4"
      },
      "outputs": [],
      "source": [
        "from empiricaldist import Surv\n",
        "\n",
        "\n",
        "def make_survival_map(resp, cohorts):\n",
        "    surv_map = {}\n",
        "\n",
        "    grouped = resp.groupby(\"cohort\")\n",
        "    for cohort in cohorts:\n",
        "        group = grouped.get_group(cohort)\n",
        "        surv_map[cohort] = Surv.from_seq(group[\"agemarr\"], dropna=False)\n",
        "\n",
        "    return surv_map"
      ]
    },
    {
      "cell_type": "markdown",
      "id": "11347e50",
      "metadata": {
        "id": "11347e50"
      },
      "source": [
        "Here's how we use this function."
      ]
    },
    {
      "cell_type": "code",
      "execution_count": 137,
      "id": "2df6e305",
      "metadata": {
        "id": "2df6e305"
      },
      "outputs": [],
      "source": [
        "cohorts = [1980, 1960, 1940]\n",
        "surv_map = make_survival_map(resp, cohorts)"
      ]
    },
    {
      "cell_type": "markdown",
      "id": "e2f4c4a8",
      "metadata": {
        "id": "e2f4c4a8"
      },
      "source": [
        "And here are the results for people born in the 1940s, 1960s, and 1980s."
      ]
    },
    {
      "cell_type": "code",
      "execution_count": 138,
      "id": "5b8dfbbb",
      "metadata": {
        "tags": [],
        "id": "5b8dfbbb"
      },
      "outputs": [],
      "source": [
        "import matplotlib.pyplot as plt\n",
        "import cycler\n",
        "\n",
        "# Extract the default color cycle\n",
        "default_colors = plt.rcParams[\"axes.prop_cycle\"].by_key()[\"color\"]\n",
        "\n",
        "# Define the desired line styles\n",
        "linestyles = [\"--\", \"-\", \"-.\", \"--\", \"-\", \"-.\", \"--\", \"-\", \"-.\", \"--\"]\n",
        "\n",
        "# Ensure we cycle through styles and colors properly\n",
        "custom_cycler = cycler.cycler(color=default_colors) + cycler.cycler(\n",
        "    linestyle=linestyles\n",
        ")\n",
        "\n",
        "# Apply the new cycler\n",
        "plt.rc(\"axes\", prop_cycle=custom_cycler)"
      ]
    },
    {
      "cell_type": "code",
      "execution_count": 139,
      "id": "5e64993c",
      "metadata": {
        "colab": {
          "base_uri": "https://localhost:8080/",
          "height": 272
        },
        "id": "5e64993c",
        "outputId": "1fbaacde-a1c8-4c00-89b5-fd1361fd21f4"
      },
      "outputs": [
        {
          "output_type": "display_data",
          "data": {
            "text/plain": [
              "<Figure size 450x262.5 with 1 Axes>"
            ],
            "image/png": "[encoded data removed]"
          },
          "metadata": {}
        }
      ],
      "source": [
        "for cohort, surv in surv_map.items():\n",
        "    surv.plot(label=f\"{cohort}s\")\n",
        "\n",
        "ylim = [-0.05, 1.05]\n",
        "decorate(xlabel=\"Age\", ylabel=\"Prob never married\", ylim=ylim)"
      ]
    },
    {
      "cell_type": "markdown",
      "id": "be407678",
      "metadata": {
        "id": "be407678"
      },
      "source": [
        "If we take these results at face value, they show that people in earlier generations got married younger, and more of them got married eventually.\n",
        "However, we should not interpret these results yet, because they are not correct.\n",
        "There are two problems we have to address:\n",
        "\n",
        "* As discussed in [Chapter 1](section_nsfg), the NSFG uses stratified sampling, which means that it deliberately oversamples some groups.\n",
        "\n",
        "* Also, this way of computing the survival function does not properly take into account people who are not married yet.\n",
        "\n",
        "For the first problem, we'll use a kind of resampling called a **weighted bootstrap**.\n",
        "For the second problem, we'll use a method called Kaplan-Meier estimation.\n",
        "We'll start with resampling."
      ]
    },
    {
      "cell_type": "markdown",
      "id": "8ce39ee8",
      "metadata": {
        "id": "8ce39ee8"
      },
      "source": [
        "## Weighted Bootstrap\n",
        "\n",
        "The NSFG dataset includes a column called `finalwgt` that contains each respondent's sampling weight, which is the number of people in the population they represent.\n",
        "We can use these weights during the resampling process to correct for stratified sampling.\n",
        "The following function takes a `DataFrame` and the name of the column that contains the sampling weights.\n",
        "It resamples the rows of the `DataFrame`, taking the sampling weights into account, and returns a new `DataFrame`."
      ]
    },
    {
      "cell_type": "code",
      "execution_count": 140,
      "id": "d364c99d",
      "metadata": {
        "id": "d364c99d"
      },
      "outputs": [],
      "source": [
        "def resample_rows_weighted(df, column=\"finalwgt\"):\n",
        "    n = len(df)\n",
        "    weights = df[column]\n",
        "    return df.sample(n, weights=weights, replace=True)"
      ]
    },
    {
      "cell_type": "markdown",
      "id": "8aa60206",
      "metadata": {
        "id": "8aa60206"
      },
      "source": [
        "The current dataset includes respondents from several iterations of the survey, called cycles, so in order to resample, we have to group the respondents by cycle, resample each group, and then put the groups back together.\n",
        "That's what the following function does."
      ]
    },
    {
      "cell_type": "code",
      "execution_count": 141,
      "id": "3114969b",
      "metadata": {
        "id": "3114969b"
      },
      "outputs": [],
      "source": [
        "def resample_cycles(resp):\n",
        "    grouped = resp.groupby(\"cycle\")\n",
        "    samples = [resample_rows_weighted(group) for _, group in grouped]\n",
        "    return pd.concat(samples)"
      ]
    },
    {
      "cell_type": "markdown",
      "id": "21a1d844",
      "metadata": {
        "id": "21a1d844"
      },
      "source": [
        "To get started, we'll resample the data once."
      ]
    },
    {
      "cell_type": "code",
      "execution_count": 142,
      "id": "806a56be",
      "metadata": {
        "tags": [],
        "id": "806a56be"
      },
      "outputs": [],
      "source": [
        "# Seed the random number generator so we get the same results every time\n",
        "np.random.seed(1)"
      ]
    },
    {
      "cell_type": "code",
      "execution_count": 143,
      "id": "2057504b",
      "metadata": {
        "id": "2057504b"
      },
      "outputs": [],
      "source": [
        "sample = resample_cycles(resp)"
      ]
    },
    {
      "cell_type": "markdown",
      "id": "4b53774e",
      "metadata": {
        "id": "4b53774e"
      },
      "source": [
        "Later we'll resample the data several times, so we can see how much variation there is due to random sampling.\n",
        "\n",
        "The following figure shows the results with resampling, compared to the results from the previous section without resampling, shown as dotted lines."
      ]
    },
    {
      "cell_type": "code",
      "execution_count": 144,
      "id": "1dbee61f",
      "metadata": {
        "colab": {
          "base_uri": "https://localhost:8080/",
          "height": 272
        },
        "id": "1dbee61f",
        "outputId": "123a2a7f-8e1a-4587-a70b-6343aec3a0b2"
      },
      "outputs": [
        {
          "output_type": "display_data",
          "data": {
            "text/plain": [
              "<Figure size 450x262.5 with 1 Axes>"
            ],
            "image/png": "[encoded data removed]"
          },
          "metadata": {}
        }
      ],
      "source": [
        "for label, surv in surv_map.items():\n",
        "    surv.plot(ls=\":\", color=\"gray\", alpha=0.6)\n",
        "\n",
        "survs_resampled = make_survival_map(sample, cohorts)\n",
        "\n",
        "for label, surv in survs_resampled.items():\n",
        "    surv.plot(label=label)\n",
        "\n",
        "decorate(xlabel=\"Age\", ylabel=\"Prob never married\", ylim=ylim)"
      ]
    },
    {
      "cell_type": "code",
      "execution_count": 145,
      "id": "281eb5ec",
      "metadata": {
        "tags": [],
        "id": "281eb5ec"
      },
      "outputs": [],
      "source": [
        "plt.rc(\"axes\", prop_cycle=plt.rcParamsDefault[\"axes.prop_cycle\"])"
      ]
    },
    {
      "cell_type": "markdown",
      "id": "248037b7",
      "metadata": {
        "id": "248037b7"
      },
      "source": [
        "The difference, with and without resampling, is substantial, which shows that we need to correct for stratified sampling to get accurate results.\n",
        "\n",
        "Now let's get to the second problem, dealing with incomplete data."
      ]
    },
    {
      "cell_type": "markdown",
      "id": "e76885a6",
      "metadata": {
        "id": "e76885a6"
      },
      "source": [
        "## Estimating Hazard Functions\n",
        "\n",
        "In the light bulb example, we know the life spans for all 50 bulbs, so we can compute the survival function directly -- and we can use the survival function to compute the hazard function.\n",
        "\n",
        "In the marriage example, we know the age at first marriage for some respondents, the ones who had been married before they were interviewed.\n",
        "But for respondents who had never married, we don't know at what age they would marry in the future -- or if they will.\n",
        "\n",
        "This kind of missing data is said to be **censored**.\n",
        "That term might seem odd, because censored information is usually hidden deliberately, but in this case it is hidden just because we don't know the future.\n",
        "\n",
        "However, we have partial information we can work with: if someone is unmarried when they are surveyed, we know that the age when they get married (if they do) must be greater than their current age.\n",
        "\n",
        "We can use this partial information to estimate the hazard function; then we can use the hazard function to compute the survival function.\n",
        "This process is called **Kaplan-Meier estimation**.\n",
        "\n",
        "To demonstrate, I'll select just one cohort from the resampled data."
      ]
    },
    {
      "cell_type": "code",
      "execution_count": 146,
      "id": "4ebb98a2",
      "metadata": {
        "id": "4ebb98a2"
      },
      "outputs": [],
      "source": [
        "resp60 = sample.query(\"cohort == 1960\")"
      ]
    },
    {
      "cell_type": "markdown",
      "id": "b5d61e64",
      "metadata": {
        "id": "b5d61e64"
      },
      "source": [
        "For respondents who were married when they were surveyed, we'll select their age at first marriage.\n",
        "There are 9921 of them, which we'll call \"complete\" cases."
      ]
    },
    {
      "cell_type": "code",
      "execution_count": 147,
      "id": "ec4d381b",
      "metadata": {
        "colab": {
          "base_uri": "https://localhost:8080/"
        },
        "id": "ec4d381b",
        "outputId": "990304eb-9f4d-4056-fd97-a56949ec6a1b"
      },
      "outputs": [
        {
          "output_type": "execute_result",
          "data": {
            "text/plain": [
              "np.int64(9921)"
            ]
          },
          "metadata": {},
          "execution_count": 147
        }
      ],
      "source": [
        "complete = resp60.query(\"evrmarry == 1\")[\"agemarr\"]\n",
        "complete.count()"
      ]
    },
    {
      "cell_type": "markdown",
      "id": "4621c1e7",
      "metadata": {
        "id": "4621c1e7"
      },
      "source": [
        "For respondents who had not married, we'll select their age when they were surveyed.\n",
        "There are 5468 of them, which we'll call the \"ongoing\" cases."
      ]
    },
    {
      "cell_type": "code",
      "execution_count": 148,
      "id": "694093e2",
      "metadata": {
        "colab": {
          "base_uri": "https://localhost:8080/"
        },
        "id": "694093e2",
        "outputId": "8fd279ac-385d-41a7-d470-409e5b44d655"
      },
      "outputs": [
        {
          "output_type": "execute_result",
          "data": {
            "text/plain": [
              "np.int64(5468)"
            ]
          },
          "metadata": {},
          "execution_count": 148
        }
      ],
      "source": [
        "ongoing = resp60.query(\"evrmarry == 0\")[\"age\"]\n",
        "ongoing.count()"
      ]
    },
    {
      "cell_type": "markdown",
      "id": "f6e4e639",
      "metadata": {
        "id": "f6e4e639"
      },
      "source": [
        "Now, to estimate the hazard function, we'll compute the total number of cases that were \"at risk\" at each age, including everyone who was unmarried up to that age.\n",
        "It will be convenient to make a `FreqTab` object that counts the number of complete and ongoing cases at each age."
      ]
    },
    {
      "cell_type": "code",
      "execution_count": 149,
      "id": "93387c6a",
      "metadata": {
        "id": "93387c6a"
      },
      "outputs": [],
      "source": [
        "from empiricaldist import FreqTab\n",
        "\n",
        "ft_complete = FreqTab.from_seq(complete)\n",
        "ft_ongoing = FreqTab.from_seq(ongoing)"
      ]
    },
    {
      "cell_type": "markdown",
      "id": "9bf56293",
      "metadata": {
        "id": "9bf56293"
      },
      "source": [
        "As an example, there are 58 respondents who reported that they were married for the first time at age 25."
      ]
    },
    {
      "cell_type": "code",
      "execution_count": 150,
      "id": "6f4d2c49",
      "metadata": {
        "colab": {
          "base_uri": "https://localhost:8080/"
        },
        "id": "6f4d2c49",
        "outputId": "9fc85e1e-3d90-4a2d-cbd1-711a784730cb"
      },
      "outputs": [
        {
          "output_type": "execute_result",
          "data": {
            "text/plain": [
              "np.int64(58)"
            ]
          },
          "metadata": {},
          "execution_count": 150
        }
      ],
      "source": [
        "ft_complete[25]"
      ]
    },
    {
      "cell_type": "markdown",
      "id": "ebe807ef",
      "metadata": {
        "id": "ebe807ef"
      },
      "source": [
        "And another 5 respondents who were surveyed at age 25 and reported that they had never married."
      ]
    },
    {
      "cell_type": "code",
      "execution_count": 151,
      "id": "7d234834",
      "metadata": {
        "colab": {
          "base_uri": "https://localhost:8080/"
        },
        "id": "7d234834",
        "outputId": "bc124409-27ab-429f-a50c-81fae5f0af29"
      },
      "outputs": [
        {
          "output_type": "execute_result",
          "data": {
            "text/plain": [
              "np.int64(5)"
            ]
          },
          "metadata": {},
          "execution_count": 151
        }
      ],
      "source": [
        "ft_ongoing[25]"
      ]
    },
    {
      "cell_type": "markdown",
      "id": "4f416761",
      "metadata": {
        "id": "4f416761"
      },
      "source": [
        "From these `FreqTab` objects, we can compute unnormalized `Surv` objects that contain the number of complete and ongoing cases that exceed each age."
      ]
    },
    {
      "cell_type": "code",
      "execution_count": 152,
      "id": "730cc280",
      "metadata": {
        "id": "730cc280"
      },
      "outputs": [],
      "source": [
        "surv_complete = ft_complete.make_surv()\n",
        "surv_ongoing = ft_ongoing.make_surv()"
      ]
    },
    {
      "cell_type": "markdown",
      "id": "94879f5b",
      "metadata": {
        "id": "94879f5b"
      },
      "source": [
        "For example, there are 2848 people who reported getting married after age 25."
      ]
    },
    {
      "cell_type": "code",
      "execution_count": 153,
      "id": "8f591e82",
      "metadata": {
        "colab": {
          "base_uri": "https://localhost:8080/"
        },
        "id": "8f591e82",
        "outputId": "b3a03f1d-3829-400b-f55c-aa0d83faa79d"
      },
      "outputs": [
        {
          "output_type": "execute_result",
          "data": {
            "text/plain": [
              "np.int64(2848)"
            ]
          },
          "metadata": {},
          "execution_count": 153
        }
      ],
      "source": [
        "surv_complete[25]"
      ]
    },
    {
      "cell_type": "markdown",
      "id": "33c7f072",
      "metadata": {
        "id": "33c7f072"
      },
      "source": [
        "And 2273 people surveyed after age 25 who had never married."
      ]
    },
    {
      "cell_type": "code",
      "execution_count": 154,
      "id": "b8662dac",
      "metadata": {
        "colab": {
          "base_uri": "https://localhost:8080/"
        },
        "id": "b8662dac",
        "outputId": "3a2af43e-23eb-4458-d5ad-fbd70e352520"
      },
      "outputs": [
        {
          "output_type": "execute_result",
          "data": {
            "text/plain": [
              "np.int64(2273)"
            ]
          },
          "metadata": {},
          "execution_count": 154
        }
      ],
      "source": [
        "surv_ongoing[25]"
      ]
    },
    {
      "cell_type": "markdown",
      "id": "fea57db5",
      "metadata": {
        "id": "fea57db5"
      },
      "source": [
        "The sum of the four numbers we just computed is the number of respondents who were at risk -- that is, people who could have married at age 25.\n",
        "The term \"at risk\" is a legacy of survival analysis in medicine, where it often refers to risk of disease or death.\n",
        "It might seem incongruent in the context of marriage, which is generally considered a positive milestone.\n",
        "That said, here's how we compute it."
      ]
    },
    {
      "cell_type": "code",
      "execution_count": 155,
      "id": "c931e932",
      "metadata": {
        "colab": {
          "base_uri": "https://localhost:8080/"
        },
        "id": "c931e932",
        "outputId": "3a4de779-9adc-4f13-b70a-7799835d82a6"
      },
      "outputs": [
        {
          "output_type": "execute_result",
          "data": {
            "text/plain": [
              "np.int64(5184)"
            ]
          },
          "metadata": {},
          "execution_count": 155
        }
      ],
      "source": [
        "at_risk = ft_complete[25] + ft_ongoing[25] + surv_complete[25] + surv_ongoing[25]\n",
        "at_risk"
      ]
    },
    {
      "cell_type": "markdown",
      "id": "dabb90e5",
      "metadata": {
        "id": "dabb90e5"
      },
      "source": [
        "Of those, the number who actually married at age 25 is `ft_complete[25]`.\n",
        "So we can compute the hazard function at age 25 like this."
      ]
    },
    {
      "cell_type": "code",
      "execution_count": 156,
      "id": "81c6dece",
      "metadata": {
        "colab": {
          "base_uri": "https://localhost:8080/"
        },
        "id": "81c6dece",
        "outputId": "8cbae412-6d79-4553-8899-dbbce63da5ed"
      },
      "outputs": [
        {
          "output_type": "execute_result",
          "data": {
            "text/plain": [
              "np.float64(0.011188271604938271)"
            ]
          },
          "metadata": {},
          "execution_count": 156
        }
      ],
      "source": [
        "hazard = ft_complete[25] / at_risk\n",
        "hazard"
      ]
    },
    {
      "cell_type": "markdown",
      "id": "f2d412b3",
      "metadata": {
        "id": "f2d412b3"
      },
      "source": [
        "That's how we can compute the hazard function at a single age.\n",
        "Now let's compute the whole function, for all ages.\n",
        "We'll use the `union` method of the `Index` class to compute a Pandas `Index` that contains all of the ages from `ft_complete` and `ft_ongoing`, in order."
      ]
    },
    {
      "cell_type": "code",
      "execution_count": 157,
      "id": "5c6fa0c0",
      "metadata": {
        "id": "5c6fa0c0"
      },
      "outputs": [],
      "source": [
        "ts = pd.Index.union(ft_complete.index, ft_ongoing.index)"
      ]
    },
    {
      "cell_type": "markdown",
      "id": "05e430ae",
      "metadata": {
        "id": "05e430ae"
      },
      "source": [
        "Now we can compute the number of people at risk at every age, by looking up the ages in `ts` in each of the  `FreqTab` and `Surv` objects."
      ]
    },
    {
      "cell_type": "code",
      "execution_count": 158,
      "id": "c6fe9eb3",
      "metadata": {
        "id": "c6fe9eb3"
      },
      "outputs": [],
      "source": [
        "at_risk = ft_complete(ts) + ft_ongoing(ts) + surv_complete(ts) + surv_ongoing(ts)"
      ]
    },
    {
      "cell_type": "markdown",
      "id": "0246dcab",
      "metadata": {
        "id": "0246dcab"
      },
      "source": [
        "Finally, we can compute the hazard function at each age, and put the results into a `Hazard` object."
      ]
    },
    {
      "cell_type": "code",
      "execution_count": 159,
      "id": "6a2c4292",
      "metadata": {
        "id": "6a2c4292"
      },
      "outputs": [],
      "source": [
        "from empiricaldist import Hazard\n",
        "\n",
        "hs = ft_complete(ts) / at_risk\n",
        "hazard = Hazard(hs, ts)"
      ]
    },
    {
      "cell_type": "markdown",
      "id": "14e45eae",
      "metadata": {
        "id": "14e45eae"
      },
      "source": [
        "Here's what the cumulative hazard function looks like."
      ]
    },
    {
      "cell_type": "code",
      "execution_count": 160,
      "id": "6f0e2041",
      "metadata": {
        "colab": {
          "base_uri": "https://localhost:8080/",
          "height": 272
        },
        "id": "6f0e2041",
        "outputId": "e58a68d7-e399-4867-c382-8d3ab1f5e5c9"
      },
      "outputs": [
        {
          "output_type": "display_data",
          "data": {
            "text/plain": [
              "<Figure size 450x262.5 with 1 Axes>"
            ],
            "image/png": "[encoded data removed]"
          },
          "metadata": {}
        }
      ],
      "source": [
        "hazard.cumsum().plot()\n",
        "\n",
        "decorate(xlabel=\"Age\", ylabel=\"Cumulative hazard\")"
      ]
    },
    {
      "cell_type": "markdown",
      "id": "d1a94121",
      "metadata": {
        "id": "d1a94121"
      },
      "source": [
        "It is steepest between ages 20 and 30, which means that an unmarried person is at the greatest \"risk\" of getting married at these ages.\n",
        "After that, the cumulative hazard levels off, which means that the hazard gradually decreases."
      ]
    },
    {
      "cell_type": "markdown",
      "id": "7738dfd8",
      "metadata": {
        "id": "7738dfd8"
      },
      "source": [
        "## Estimating Survival Functions\n",
        "\n",
        "If we are given a survival function, we know how to compute the hazard function.\n",
        "Now let's go in the other direction.\n",
        "\n",
        "Here's one way to think of it.\n",
        "The hazard function indicates the probability of getting married at each age, if you have not already married.\n",
        "So the complement of the hazard function is the probability of staying unmarried at each age.\n",
        "\n",
        "In order to \"survive\" past a given age, `t`, you have to stay unmarried at every age up to and including `t`.\n",
        "And the probability of doing that is the product of the complementary hazard function, which we can compute like this."
      ]
    },
    {
      "cell_type": "code",
      "execution_count": 161,
      "id": "13eb81c3",
      "metadata": {
        "id": "13eb81c3"
      },
      "outputs": [],
      "source": [
        "ps = (1 - hazard).cumprod()"
      ]
    },
    {
      "cell_type": "markdown",
      "id": "67e5e406",
      "metadata": {
        "id": "67e5e406"
      },
      "source": [
        "The `Hazard` object has a `make_surv` method that does this computation."
      ]
    },
    {
      "cell_type": "code",
      "execution_count": 162,
      "id": "decf8dae",
      "metadata": {
        "id": "decf8dae"
      },
      "outputs": [],
      "source": [
        "surv = hazard.make_surv()"
      ]
    },
    {
      "cell_type": "markdown",
      "id": "5a95e4c0",
      "metadata": {
        "id": "5a95e4c0"
      },
      "source": [
        "Here's what the result looks like, compared to the previous result (dotted line), which corrected for stratified resampling, but did not handle censored data."
      ]
    },
    {
      "cell_type": "code",
      "execution_count": 163,
      "id": "1eac6104",
      "metadata": {
        "colab": {
          "base_uri": "https://localhost:8080/",
          "height": 272
        },
        "id": "1eac6104",
        "outputId": "22253240-4e3f-4615-d117-33b4150a801a"
      },
      "outputs": [
        {
          "output_type": "display_data",
          "data": {
            "text/plain": [
              "<Figure size 450x262.5 with 1 Axes>"
            ],
            "image/png": "[encoded data removed]"
          },
          "metadata": {}
        }
      ],
      "source": [
        "survs_resampled[1960].plot(ls=\":\", color=\"gray\", label=\"resampled\")\n",
        "surv.plot(label=\"Kaplan-Meier\")\n",
        "\n",
        "decorate(xlabel=\"Age\", ylabel=\"Prob never married\", ylim=ylim)"
      ]
    },
    {
      "cell_type": "markdown",
      "id": "a9db798a",
      "metadata": {
        "id": "a9db798a"
      },
      "source": [
        "We can see how important it is to handle censored data correctly.\n",
        "\n",
        "A survival function like this was the basis of a famous magazine article in 1986 -- *Newsweek* reported that a 40-year old unmarried woman was \"more likely to be killed by a terrorist\" than get married.\n",
        "That claim was widely reported and became part of popular culture, but it was wrong then (because it was based on faulty analysis) and turned out to be even more wrong (because of cultural changes that were already in progress).\n",
        "In 2006, *Newsweek* ran an another article acknowledging their error.\n",
        "\n",
        "I encourage you to read more about this article, the statistics it was based on, and the reaction.\n",
        "It should remind you of the ethical obligation to perform statistical analysis with care, interpret the results with appropriate skepticism, and present them to the public accurately and honestly."
      ]
    },
    {
      "cell_type": "markdown",
      "id": "aca661c4",
      "metadata": {
        "tags": [],
        "id": "aca661c4"
      },
      "source": [
        "[Snopes has a good article on the topic](https://www.snopes.com/fact-check/marry-go-round/)."
      ]
    },
    {
      "cell_type": "markdown",
      "id": "46eb9a0b",
      "metadata": {
        "id": "46eb9a0b"
      },
      "source": [
        "The following function encapsulates the steps of Kaplan-Meier estimation.\n",
        "It takes as arguments sequences of survival times for complete and ongoing cases, and returns a `Hazard` object."
      ]
    },
    {
      "cell_type": "code",
      "execution_count": 164,
      "id": "49ceaeb4",
      "metadata": {
        "id": "49ceaeb4"
      },
      "outputs": [],
      "source": [
        "def estimate_hazard(complete, ongoing):\n",
        "    \"\"\"Kaplan-Meier estimation.\"\"\"\n",
        "    ft_complete = FreqTab.from_seq(complete)\n",
        "    ft_ongoing = FreqTab.from_seq(ongoing)\n",
        "\n",
        "    surv_complete = ft_complete.make_surv()\n",
        "    surv_ongoing = ft_ongoing.make_surv()\n",
        "\n",
        "    ts = pd.Index.union(ft_complete.index, ft_ongoing.index)\n",
        "    at_risk = ft_complete(ts) + ft_ongoing(ts) + surv_complete(ts) + surv_ongoing(ts)\n",
        "\n",
        "    hs = ft_complete(ts) / at_risk\n",
        "    return Hazard(hs, ts)"
      ]
    },
    {
      "cell_type": "markdown",
      "id": "f7403b81",
      "metadata": {
        "id": "f7403b81"
      },
      "source": [
        "And here's a function that takes a group of respondents, extracts survival times, calls `estimate_hazard` to get the hazard function, and then computes the corresponding survival function."
      ]
    },
    {
      "cell_type": "code",
      "execution_count": 165,
      "id": "f667426d",
      "metadata": {
        "id": "f667426d"
      },
      "outputs": [],
      "source": [
        "def estimate_survival(group):\n",
        "    \"\"\"Estimate the survival function.\"\"\"\n",
        "    complete = group.query(\"evrmarry == 1\")[\"agemarr\"]\n",
        "    ongoing = group.query(\"evrmarry == 0\")[\"age\"]\n",
        "    hf = estimate_hazard(complete, ongoing)\n",
        "    sf = hf.make_surv()\n",
        "    return sf"
      ]
    },
    {
      "cell_type": "markdown",
      "id": "1201f8a1",
      "metadata": {
        "id": "1201f8a1"
      },
      "source": [
        "Soon we'll use these functions to compute confidence intervals for survival functions.\n",
        "But first let's see another way to compute Kaplan-Meier estimates."
      ]
    },
    {
      "cell_type": "markdown",
      "id": "ea5a0307",
      "metadata": {
        "id": "ea5a0307"
      },
      "source": [
        "## Lifelines\n",
        "\n",
        "A Python package called `lifelines` provides tools for survival analysis, including functions that compute Kaplan-Meier estimates."
      ]
    },
    {
      "cell_type": "markdown",
      "id": "5746e8a9",
      "metadata": {
        "tags": [],
        "id": "5746e8a9"
      },
      "source": [
        "The following cell installs `lifelines` if necessary."
      ]
    },
    {
      "cell_type": "code",
      "execution_count": 166,
      "id": "5fea8f7f",
      "metadata": {
        "tags": [],
        "id": "5fea8f7f"
      },
      "outputs": [],
      "source": [
        "try:\n",
        "    import lifelines\n",
        "except ImportError:\n",
        "    %pip install lifelines"
      ]
    },
    {
      "cell_type": "markdown",
      "id": "fb7df35e",
      "metadata": {
        "id": "fb7df35e"
      },
      "source": [
        "We can use it to confirm that the result in the previous section is correct.\n",
        "First we'll compute the survival function using `estimate_survival`."
      ]
    },
    {
      "cell_type": "code",
      "execution_count": 167,
      "id": "9a492356",
      "metadata": {
        "id": "9a492356"
      },
      "outputs": [],
      "source": [
        "surv = estimate_survival(resp60)"
      ]
    },
    {
      "cell_type": "markdown",
      "id": "82760b63",
      "metadata": {
        "id": "82760b63"
      },
      "source": [
        "Next we'll compute it using `lifelines`.\n",
        "First we'll get the data into the format `lifelines` requires."
      ]
    },
    {
      "cell_type": "code",
      "execution_count": 168,
      "id": "30ee30bd",
      "metadata": {
        "id": "30ee30bd"
      },
      "outputs": [],
      "source": [
        "complete = complete.dropna()\n",
        "durations = np.concatenate([complete, ongoing])\n",
        "event_observed = np.concatenate([np.ones(len(complete)), np.zeros(len(ongoing))])"
      ]
    },
    {
      "cell_type": "markdown",
      "id": "7c77a7d0",
      "metadata": {
        "id": "7c77a7d0"
      },
      "source": [
        "Now we can make a `KaplanMeierFitter` object and fit the data."
      ]
    },
    {
      "cell_type": "code",
      "execution_count": 169,
      "id": "50a2ae41",
      "metadata": {
        "colab": {
          "base_uri": "https://localhost:8080/"
        },
        "id": "50a2ae41",
        "outputId": "674f099b-c0f3-4a3b-8011-f282f7c421f7"
      },
      "outputs": [
        {
          "output_type": "execute_result",
          "data": {
            "text/plain": [
              "<lifelines.KaplanMeierFitter:\"KM_estimate\", fitted with 15389 total observations, 5468 right-censored observations>"
            ]
          },
          "metadata": {},
          "execution_count": 169
        }
      ],
      "source": [
        "from lifelines import KaplanMeierFitter\n",
        "\n",
        "kmf = KaplanMeierFitter()\n",
        "kmf.fit(durations=durations, event_observed=event_observed)"
      ]
    },
    {
      "cell_type": "markdown",
      "id": "cc060437",
      "metadata": {
        "id": "cc060437"
      },
      "source": [
        "After fitting the data, we can call the `plot` function to display the results, which include the estimated survival function and a confidence interval -- although the confidence interval is not correct in this case because it doesn't correct for stratified sampling."
      ]
    },
    {
      "cell_type": "code",
      "execution_count": 170,
      "id": "d6823204",
      "metadata": {
        "colab": {
          "base_uri": "https://localhost:8080/",
          "height": 272
        },
        "id": "d6823204",
        "outputId": "38ffc890-bb1b-474c-ebed-5f1e676c40ec"
      },
      "outputs": [
        {
          "output_type": "display_data",
          "data": {
            "text/plain": [
              "<Figure size 450x262.5 with 1 Axes>"
            ],
            "image/png": "[encoded data removed]"
          },
          "metadata": {}
        }
      ],
      "source": [
        "kmf.plot()\n",
        "\n",
        "decorate(xlabel=\"Age\", ylabel=\"Prob never married\", ylim=ylim)"
      ]
    },
    {
      "cell_type": "markdown",
      "id": "2ccce577",
      "metadata": {
        "id": "2ccce577"
      },
      "source": [
        "Unlike the survival function we computed, the one from `lifelines` starts from 0.\n",
        "But the rest of the function is the same, within floating-point error."
      ]
    },
    {
      "cell_type": "code",
      "execution_count": 171,
      "id": "676168a2",
      "metadata": {
        "colab": {
          "base_uri": "https://localhost:8080/"
        },
        "id": "676168a2",
        "outputId": "c4332f7e-ca1d-40d5-9612-227c9f1bf7cc"
      },
      "outputs": [
        {
          "output_type": "execute_result",
          "data": {
            "text/plain": [
              "True"
            ]
          },
          "metadata": {},
          "execution_count": 171
        }
      ],
      "source": [
        "ps = kmf.survival_function_[\"KM_estimate\"].drop(0)\n",
        "np.allclose(ps, surv)"
      ]
    },
    {
      "cell_type": "markdown",
      "id": "f2797be0",
      "metadata": {
        "id": "f2797be0"
      },
      "source": [
        "In the next section, we'll use weighted resampling to compute confidence intervals that take stratified sampling into account."
      ]
    },
    {
      "cell_type": "markdown",
      "id": "67f540f8",
      "metadata": {
        "id": "67f540f8"
      },
      "source": [
        "## Confidence Intervals\n",
        "\n",
        "The Kaplan-Meier estimate we computed is based on a single resampling of the dataset.\n",
        "To get an idea of how much variation there is due to random sampling, we'll run the analysis with several resamplings and plot the results.\n",
        "\n",
        "We'll use the following function, which takes a `DataFrame` and a list of cohorts, estimates the survival function for each cohort, and returns a dictionary that maps from each integer cohort to a `Surv` object.\n",
        "\n",
        "This function is identical to `make_survival_map`, except that it calls `estimate_survival`, which uses Kaplan-Meier estimation, rather than `Surv.from_seq`, which only works if there is no censored data."
      ]
    },
    {
      "cell_type": "code",
      "execution_count": 172,
      "id": "18198771",
      "metadata": {
        "id": "18198771"
      },
      "outputs": [],
      "source": [
        "def estimate_survival_map(resp, cohorts):\n",
        "    \"\"\"Make a dictionary from cohorts to Surv objects.\"\"\"\n",
        "    surv_map = {}\n",
        "\n",
        "    grouped = resp.groupby(\"cohort\")\n",
        "    for cohort in cohorts:\n",
        "        group = grouped.get_group(cohort)\n",
        "        surv_map[cohort] = estimate_survival(group)\n",
        "\n",
        "    return surv_map"
      ]
    },
    {
      "cell_type": "markdown",
      "id": "8420adfe",
      "metadata": {
        "id": "8420adfe"
      },
      "source": [
        "The following loop generates 101 random resamplings of the dataset and makes a list of 101 dictionaries containing the estimated survival functions."
      ]
    },
    {
      "cell_type": "code",
      "execution_count": 173,
      "id": "ea849411",
      "metadata": {
        "id": "ea849411"
      },
      "outputs": [],
      "source": [
        "cohorts = [1940, 1950, 1960, 1970, 1980, 1990]\n",
        "\n",
        "surv_maps = [estimate_survival_map(resample_cycles(resp), cohorts) for i in range(101)]"
      ]
    },
    {
      "cell_type": "markdown",
      "id": "cd1a6d86",
      "metadata": {
        "id": "cd1a6d86"
      },
      "source": [
        "To plot the results, we'll use the following function, which takes that list of dictionaries, an integer cohort, and a color string.\n",
        "It loops through the dictionaries, selects the survival function for the given cohort, and plots it with a nearly transparent line -- which is one way to visualize the variability between resamplings."
      ]
    },
    {
      "cell_type": "code",
      "execution_count": 174,
      "id": "f3bae783",
      "metadata": {
        "id": "f3bae783"
      },
      "outputs": [],
      "source": [
        "def plot_cohort(surv_maps, cohort, color):\n",
        "    \"\"\"Plot results for a single cohort.\"\"\"\n",
        "    survs = [surv_map[cohort] for surv_map in surv_maps]\n",
        "    for surv in survs:\n",
        "        surv.plot(color=color, alpha=0.05)\n",
        "\n",
        "    x, y = surv.index[-1], surv.iloc[-1]\n",
        "    plt.text(x + 1, y, f\"{cohort}s\", ha=\"left\", va=\"center\")"
      ]
    },
    {
      "cell_type": "markdown",
      "id": "d43b1876",
      "metadata": {
        "id": "d43b1876"
      },
      "source": [
        "Here are the results for birth cohorts from the 1940s to the 1990s."
      ]
    },
    {
      "cell_type": "code",
      "execution_count": 175,
      "id": "2af9b047",
      "metadata": {
        "colab": {
          "base_uri": "https://localhost:8080/",
          "height": 272
        },
        "id": "2af9b047",
        "outputId": "4101c7f9-840d-4cb4-cf0e-668a58273ffd"
      },
      "outputs": [
        {
          "output_type": "display_data",
          "data": {
            "text/plain": [
              "<Figure size 450x262.5 with 1 Axes>"
            ],
            "image/png": "[encoded data removed]"
          },
          "metadata": {}
        }
      ],
      "source": [
        "colors = [f\"C{i}\" for i in range(len(cohorts))]\n",
        "\n",
        "for cohort, color in zip(cohorts, colors):\n",
        "    plot_cohort(surv_maps, cohort, color)\n",
        "\n",
        "xlim = [8, 55]\n",
        "decorate(xlabel=\"Age\", ylabel=\"Prob never married\", xlim=xlim, ylim=ylim)"
      ]
    },
    {
      "cell_type": "markdown",
      "id": "b4d12c58",
      "metadata": {
        "id": "b4d12c58"
      },
      "source": [
        "This visualization is good enough for exploration, but the lines look blurry and some of the labels overlap.\n",
        "More work might be needed to make a publication-ready figure, but we'll keep it simple for now.\n",
        "\n",
        "Several patterns are visible:\n",
        "\n",
        "-   Women born in the 1940s married earliest -- cohorts born in the 1950s and 1960s married later, but about the same fraction stayed unmarried.\n",
        "\n",
        "-   Women born in the 1970s married later *and* stayed unmarried at higher rates than previous cohorts.\n",
        "\n",
        "-   Cohorts born in the 1980s and 1990s are marrying even later, and are on track to stay unmarried at even higher rates -- although these patterns could change in the future.\n",
        "\n",
        "We'll have to wait for the next data release from the NSFG to learn more."
      ]
    },
    {
      "cell_type": "markdown",
      "id": "8516df63",
      "metadata": {
        "id": "8516df63"
      },
      "source": [
        "## Expected Remaining Lifetime\n",
        "\n",
        "Given a distribution, we can compute the expected remaining lifetime as a function of elapsed time.\n",
        "For example, given the distribution of pregnancy lengths, we can compute the expected time until delivery.\n",
        "To demonstrate, we'll use pregnancy data from the NSFG."
      ]
    },
    {
      "cell_type": "markdown",
      "id": "ae87cc89",
      "metadata": {
        "tags": [],
        "id": "ae87cc89"
      },
      "source": [
        "The following cells download the data files and install `statadict`, which we need to read the data."
      ]
    },
    {
      "cell_type": "code",
      "execution_count": 176,
      "id": "5ababdb5",
      "metadata": {
        "tags": [],
        "id": "5ababdb5"
      },
      "outputs": [],
      "source": [
        "download(\"https://github.com/AllenDowney/ThinkStats/raw/v3/nb/nsfg.py\")\n",
        "download(\"https://github.com/AllenDowney/ThinkStats/raw/v3/data/2002FemPreg.dct\")\n",
        "download(\"https://github.com/AllenDowney/ThinkStats/raw/v3/data/2002FemPreg.dat.gz\")"
      ]
    },
    {
      "cell_type": "code",
      "execution_count": 177,
      "id": "d74f7f21",
      "metadata": {
        "tags": [],
        "id": "d74f7f21"
      },
      "outputs": [],
      "source": [
        "try:\n",
        "    import statadict\n",
        "except ImportError:\n",
        "    %pip install statadict"
      ]
    },
    {
      "cell_type": "markdown",
      "id": "02a1948b",
      "metadata": {
        "id": "02a1948b"
      },
      "source": [
        "We'll use `get_nsfg_groups` to read the data and divide it into first babies and others."
      ]
    },
    {
      "cell_type": "code",
      "execution_count": 178,
      "id": "7bd046bb",
      "metadata": {
        "id": "7bd046bb"
      },
      "outputs": [],
      "source": [
        "from nsfg import get_nsfg_groups\n",
        "\n",
        "live, firsts, others = get_nsfg_groups()"
      ]
    },
    {
      "cell_type": "markdown",
      "id": "0c100011",
      "metadata": {
        "id": "0c100011"
      },
      "source": [
        "We'll start with a single resampling of the data."
      ]
    },
    {
      "cell_type": "code",
      "execution_count": 179,
      "id": "1da91efd",
      "metadata": {
        "id": "1da91efd"
      },
      "outputs": [],
      "source": [
        "sample = resample_rows_weighted(live, \"finalwgt\")"
      ]
    },
    {
      "cell_type": "markdown",
      "id": "c1f98ba6",
      "metadata": {
        "id": "c1f98ba6"
      },
      "source": [
        "Here's the PMF of pregnancy durations."
      ]
    },
    {
      "cell_type": "code",
      "execution_count": 180,
      "id": "9aee3cd8",
      "metadata": {
        "id": "9aee3cd8"
      },
      "outputs": [],
      "source": [
        "pmf_durations = Pmf.from_seq(sample[\"prglngth\"])"
      ]
    },
    {
      "cell_type": "markdown",
      "id": "a89e875f",
      "metadata": {
        "id": "a89e875f"
      },
      "source": [
        "Now suppose it's the beginning of the 36th week of pregnancy.\n",
        "Remembering that the most common pregnancy length is 39 weeks, we expect the remaining time to be 3-4 weeks.\n",
        "To make that estimate more precise, we can identify the values in the distribution that equal or exceed 36 weeks."
      ]
    },
    {
      "cell_type": "code",
      "execution_count": 181,
      "id": "95e46cf9",
      "metadata": {
        "id": "95e46cf9"
      },
      "outputs": [],
      "source": [
        "t = 36\n",
        "is_remaining = pmf_durations.qs >= t"
      ]
    },
    {
      "cell_type": "markdown",
      "id": "e4daa199",
      "metadata": {
        "id": "e4daa199"
      },
      "source": [
        "Next we'll make a new `Pmf` object that contains only those values, shifted left so the current time is at 0."
      ]
    },
    {
      "cell_type": "code",
      "execution_count": 182,
      "id": "428e7f5c",
      "metadata": {
        "id": "428e7f5c"
      },
      "outputs": [],
      "source": [
        "ps = pmf_durations.ps[is_remaining]\n",
        "qs = pmf_durations.qs[is_remaining] - t\n",
        "\n",
        "pmf_remaining = Pmf(ps, qs)"
      ]
    },
    {
      "cell_type": "markdown",
      "id": "64ea758f",
      "metadata": {
        "id": "64ea758f"
      },
      "source": [
        "Because we selected a subset of the values in the `Pmf`, the probabilities no longer add up to 1, but we can normalize the `Pmf` so they do."
      ]
    },
    {
      "cell_type": "code",
      "execution_count": 183,
      "id": "c51c1284",
      "metadata": {
        "colab": {
          "base_uri": "https://localhost:8080/"
        },
        "id": "c51c1284",
        "outputId": "9f265a8b-16a4-47e9-fe35-ead09fc66727"
      },
      "outputs": [
        {
          "output_type": "execute_result",
          "data": {
            "text/plain": [
              "np.float64(0.9155006558810669)"
            ]
          },
          "metadata": {},
          "execution_count": 183
        }
      ],
      "source": [
        "pmf_remaining.normalize()"
      ]
    },
    {
      "cell_type": "markdown",
      "id": "4f496e92",
      "metadata": {
        "id": "4f496e92"
      },
      "source": [
        "Here's the result, which shows the distribution of remaining time at the beginning of the 36th week."
      ]
    },
    {
      "cell_type": "code",
      "execution_count": 184,
      "id": "91876b3a",
      "metadata": {
        "colab": {
          "base_uri": "https://localhost:8080/",
          "height": 272
        },
        "id": "91876b3a",
        "outputId": "26e1d0af-f89e-42cd-b6bf-61373e1cd091"
      },
      "outputs": [
        {
          "output_type": "display_data",
          "data": {
            "text/plain": [
              "<Figure size 450x262.5 with 1 Axes>"
            ],
            "image/png": "[encoded data removed]"
          },
          "metadata": {}
        }
      ],
      "source": [
        "pmf_remaining.bar(label=\"Week 36\")\n",
        "decorate(xlabel=\"Remaining duration (weeks)\", ylabel=\"PMF\")"
      ]
    },
    {
      "cell_type": "markdown",
      "id": "ac134d52",
      "metadata": {
        "id": "ac134d52"
      },
      "source": [
        "The mean of this distribution is the expected remaining time."
      ]
    },
    {
      "cell_type": "code",
      "execution_count": 185,
      "id": "4b1e43b6",
      "metadata": {
        "colab": {
          "base_uri": "https://localhost:8080/"
        },
        "id": "4b1e43b6",
        "outputId": "0a142fe1-8cf8-4d38-ad41-f18c1b080bf7"
      },
      "outputs": [
        {
          "output_type": "execute_result",
          "data": {
            "text/plain": [
              "np.float64(3.2145671641791043)"
            ]
          },
          "metadata": {},
          "execution_count": 185
        }
      ],
      "source": [
        "pmf_remaining.mean()"
      ]
    },
    {
      "cell_type": "markdown",
      "id": "cd2dee63",
      "metadata": {
        "id": "cd2dee63"
      },
      "source": [
        "The following function encapsulates these steps and computes the distribution of remaining time for a given `Pmf` at a given time, `t`."
      ]
    },
    {
      "cell_type": "code",
      "execution_count": 186,
      "id": "3c48a6c1",
      "metadata": {
        "id": "3c48a6c1"
      },
      "outputs": [],
      "source": [
        "def compute_pmf_remaining(pmf, t):\n",
        "    \"\"\"Distribution of remaining time.\"\"\"\n",
        "    is_remaining = pmf.qs >= t\n",
        "    ps = pmf.ps[is_remaining]\n",
        "    qs = pmf.qs[is_remaining] - t\n",
        "    pmf_remaining = Pmf(ps, qs)\n",
        "    pmf_remaining.normalize()\n",
        "    return pmf_remaining"
      ]
    },
    {
      "cell_type": "markdown",
      "id": "a6abc22f",
      "metadata": {
        "id": "a6abc22f"
      },
      "source": [
        "The following function takes a `Pmf` of pregnancy lengths and computes the expected remaining time at the beginning of each week from the 36th to the 43rd."
      ]
    },
    {
      "cell_type": "code",
      "execution_count": 187,
      "id": "d23b12e5",
      "metadata": {
        "id": "d23b12e5"
      },
      "outputs": [],
      "source": [
        "def expected_remaining(pmf):\n",
        "    index = range(36, 44)\n",
        "    expected = pd.Series(index=index)\n",
        "\n",
        "    for t in index:\n",
        "        pmf_remaining = compute_pmf_remaining(pmf, t)\n",
        "        expected[t] = pmf_remaining.mean()\n",
        "\n",
        "    return expected"
      ]
    },
    {
      "cell_type": "markdown",
      "id": "10a96c7d",
      "metadata": {
        "id": "10a96c7d"
      },
      "source": [
        "Here are the results for a single resampling of the data."
      ]
    },
    {
      "cell_type": "code",
      "execution_count": 188,
      "id": "e49921a7",
      "metadata": {
        "colab": {
          "base_uri": "https://localhost:8080/",
          "height": 335
        },
        "id": "e49921a7",
        "outputId": "2b8a9b2f-75ec-46c4-c65f-4b8bb6d717a5"
      },
      "outputs": [
        {
          "output_type": "execute_result",
          "data": {
            "text/plain": [
              "36    3.214567\n",
              "37    2.337714\n",
              "38    1.479095\n",
              "39    0.610133\n",
              "40    0.912517\n",
              "41    0.784211\n",
              "42    0.582301\n",
              "43    0.589372\n",
              "dtype: float64"
            ],
            "text/html": [
              "<div>\n",
              "<style scoped>\n",
              "    .dataframe tbody tr th:only-of-type {\n",
              "        vertical-align: middle;\n",
              "    }\n",
              "\n",
              "    .dataframe tbody tr th {\n",
              "        vertical-align: top;\n",
              "    }\n",
              "\n",
              "    .dataframe thead th {\n",
              "        text-align: right;\n",
              "    }\n",
              "</style>\n",
              "<table border=\"1\" class=\"dataframe\">\n",
              "  <thead>\n",
              "    <tr style=\"text-align: right;\">\n",
              "      <th></th>\n",
              "      <th>0</th>\n",
              "    </tr>\n",
              "  </thead>\n",
              "  <tbody>\n",
              "    <tr>\n",
              "      <th>36</th>\n",
              "      <td>3.214567</td>\n",
              "    </tr>\n",
              "    <tr>\n",
              "      <th>37</th>\n",
              "      <td>2.337714</td>\n",
              "    </tr>\n",
              "    <tr>\n",
              "      <th>38</th>\n",
              "      <td>1.479095</td>\n",
              "    </tr>\n",
              "    <tr>\n",
              "      <th>39</th>\n",
              "      <td>0.610133</td>\n",
              "    </tr>\n",
              "    <tr>\n",
              "      <th>40</th>\n",
              "      <td>0.912517</td>\n",
              "    </tr>\n",
              "    <tr>\n",
              "      <th>41</th>\n",
              "      <td>0.784211</td>\n",
              "    </tr>\n",
              "    <tr>\n",
              "      <th>42</th>\n",
              "      <td>0.582301</td>\n",
              "    </tr>\n",
              "    <tr>\n",
              "      <th>43</th>\n",
              "      <td>0.589372</td>\n",
              "    </tr>\n",
              "  </tbody>\n",
              "</table>\n",
              "</div><br><label><b>dtype:</b> float64</label>"
            ]
          },
          "metadata": {},
          "execution_count": 188
        }
      ],
      "source": [
        "expected = expected_remaining(pmf_durations)\n",
        "expected"
      ]
    },
    {
      "cell_type": "markdown",
      "id": "fda646a9",
      "metadata": {
        "id": "fda646a9"
      },
      "source": [
        "To see how much variation there is due to random sampling, we can run this analysis with several resamplings and plot the results."
      ]
    },
    {
      "cell_type": "code",
      "execution_count": 189,
      "id": "07444c29",
      "metadata": {
        "colab": {
          "base_uri": "https://localhost:8080/",
          "height": 272
        },
        "id": "07444c29",
        "outputId": "00060abe-9fc5-4b1e-84ec-d43aaf948a49"
      },
      "outputs": [
        {
          "output_type": "display_data",
          "data": {
            "text/plain": [
              "<Figure size 450x262.5 with 1 Axes>"
            ],
            "image/png": "[encoded data removed]"
          },
          "metadata": {}
        }
      ],
      "source": [
        "for i in range(21):\n",
        "    sample = resample_rows_weighted(live, \"finalwgt\")\n",
        "    pmf_durations = Pmf.from_seq(sample[\"prglngth\"])\n",
        "    expected = expected_remaining(pmf_durations)\n",
        "    expected.plot(color=\"C0\", alpha=0.1)\n",
        "\n",
        "decorate(\n",
        "    xlabel=\"Weeks of pregnancy\", ylabel=\"Expected remaining time (weeks)\", ylim=[0, 3.4]\n",
        ")"
      ]
    },
    {
      "cell_type": "markdown",
      "id": "0a86b74a",
      "metadata": {
        "id": "0a86b74a"
      },
      "source": [
        "Between weeks 36 and 39, the expected remaining time decreases until, at the beginning of the 39th week, it is about 0.6 weeks.\n",
        "But after that, the curve levels off.\n",
        "At the beginning of the 40th week, the expected remaining time is still close to 0.6 weeks -- actually a little higher -- and at the beginning of the 41st, 42nd, and 43rd, it is almost the same.\n",
        "For people waiting anxiously for a baby to be born, this behavior seems quite cruel."
      ]
    },
    {
      "cell_type": "markdown",
      "id": "36c47cb8",
      "metadata": {
        "id": "36c47cb8"
      },
      "source": [
        "## Glossary\n",
        "\n",
        "-   **survival analysis**: A set of methods for describing and predicting the time until an event of interest, often focused on lifetimes or durations.\n",
        "\n",
        "-   **survival function**: A function that maps from a time, $t$, to the probability of surviving beyond $t$.\n",
        "\n",
        "-   **hazard function**: A function that maps from $t$ to the fraction of cases that experience the event at $t$, out of all cases that survive until $t$ .\n",
        "\n",
        "-   **cumulative hazard function**: The cumulative sum of the hazard function, often useful for visualization.\n",
        "\n",
        "-   **weighted bootstrap:** A form of resampling that uses sampling weights to correct for stratified sampling by simulating a representative sample.\n",
        "\n",
        "-   **censored data**: Data that is only partially known because the event of interest has not yet occurred or was unobserved.\n",
        "\n",
        "-   **Kaplan-Meier estimation**: A method for estimating survival and hazard functions in datasets with censored observations.\n",
        "\n",
        "-   **cohort**: A set of subjects with shared characteristics -- like decade of birth -- analyzed as a group."
      ]
    },
    {
      "cell_type": "markdown",
      "id": "2976a19b",
      "metadata": {
        "collapsed": true,
        "id": "2976a19b"
      },
      "source": [
        "## Exercises"
      ]
    },
    {
      "cell_type": "markdown",
      "id": "b1c1fe48",
      "metadata": {
        "collapsed": true,
        "id": "b1c1fe48"
      },
      "source": [
        "### Exercise 13.1\n",
        "\n",
        "We can use the methods in this chapter to estimate hazard and survival functions for the duration of a marriage.\n",
        "To keep things simple, we'll consider only first marriages, and we'll focus on divorce as the endpoint, rather than separation or death.\n",
        "\n",
        "In the NSFG data, the `cmdivorcx` column contains the date of divorce for each respondent's first marriage, if applicable, encoded in century-months.\n",
        "Compute the duration of marriages that have ended in divorce, and the duration, so far, of marriages that are ongoing.\n",
        "\n",
        "* For complete cases, compute the elapsed time between `cmdivorcx` and `cmmarrhx`. If both values are valid -- not `NaN` -- that means the respondent's first marriage ended in divorce.\n",
        "\n",
        "* To identify ongoing cases, select people who have only married once and who are still married. You can use `fmarno`, which records the number of times each respondent has married, and `fmarital`, which encodes their marital status -- the value 1 indicates that the respondent is married.\n",
        "\n",
        "In some cases the values of these variables are only approximate, so you might find a small number of negative differences, but they should not be more than one year.\n",
        "\n",
        "Estimate the hazard and survival functions for the duration of marriage.\n",
        "Plot the cumulative hazard function -- when is the danger of divorce highest?\n",
        "Plot the survival function -- what fraction of marriages end in divorce?"
      ]
    },
    {
      "cell_type": "code",
      "execution_count": 190,
      "id": "2987d283",
      "metadata": {
        "tags": [],
        "id": "2987d283"
      },
      "outputs": [],
      "source": [
        "# I suggest you use a single resampling of the data\n",
        "\n",
        "sample = resample_cycles(resp)"
      ]
    },
    {
      "cell_type": "code",
      "execution_count": 210,
      "id": "1e8f7de7",
      "metadata": {
        "id": "1e8f7de7",
        "outputId": "27758b6c-4dfe-47b1-c005-87fb1ce11956",
        "colab": {
          "base_uri": "https://localhost:8080/",
          "height": 423
        }
      },
      "outputs": [
        {
          "output_type": "execute_result",
          "data": {
            "text/plain": [
              "       dur_marriage  fmarno  fmarital        age\n",
              "69207          29.0     2.0       1.0  29.833333\n",
              "65596           NaN     1.0       1.0  34.416667\n",
              "64695           NaN     0.0       6.0  19.416667\n",
              "69386           NaN     0.0       6.0  16.583333\n",
              "64810          24.0     2.0       1.0  33.833333\n",
              "...             ...     ...       ...        ...\n",
              "5261           36.0     1.0       NaN  35.500000\n",
              "343             NaN     1.0       NaN  37.500000\n",
              "3363            NaN     0.0       NaN  26.500000\n",
              "1665            NaN     1.0       NaN  31.500000\n",
              "1177            NaN     0.0       NaN  25.500000\n",
              "\n",
              "[70183 rows x 4 columns]"
            ],
            "text/html": [
              "\n",
              "  <div id=\"df-6a8dbdc6-9f32-4b3f-a4c6-32a098049f4c\" class=\"colab-df-container\">\n",
              "    <div>\n",
              "<style scoped>\n",
              "    .dataframe tbody tr th:only-of-type {\n",
              "        vertical-align: middle;\n",
              "    }\n",
              "\n",
              "    .dataframe tbody tr th {\n",
              "        vertical-align: top;\n",
              "    }\n",
              "\n",
              "    .dataframe thead th {\n",
              "        text-align: right;\n",
              "    }\n",
              "</style>\n",
              "<table border=\"1\" class=\"dataframe\">\n",
              "  <thead>\n",
              "    <tr style=\"text-align: right;\">\n",
              "      <th></th>\n",
              "      <th>dur_marriage</th>\n",
              "      <th>fmarno</th>\n",
              "      <th>fmarital</th>\n",
              "      <th>age</th>\n",
              "    </tr>\n",
              "  </thead>\n",
              "  <tbody>\n",
              "    <tr>\n",
              "      <th>69207</th>\n",
              "      <td>29.0</td>\n",
              "      <td>2.0</td>\n",
              "      <td>1.0</td>\n",
              "      <td>29.833333</td>\n",
              "    </tr>\n",
              "    <tr>\n",
              "      <th>65596</th>\n",
              "      <td>NaN</td>\n",
              "      <td>1.0</td>\n",
              "      <td>1.0</td>\n",
              "      <td>34.416667</td>\n",
              "    </tr>\n",
              "    <tr>\n",
              "      <th>64695</th>\n",
              "      <td>NaN</td>\n",
              "      <td>0.0</td>\n",
              "      <td>6.0</td>\n",
              "      <td>19.416667</td>\n",
              "    </tr>\n",
              "    <tr>\n",
              "      <th>69386</th>\n",
              "      <td>NaN</td>\n",
              "      <td>0.0</td>\n",
              "      <td>6.0</td>\n",
              "      <td>16.583333</td>\n",
              "    </tr>\n",
              "    <tr>\n",
              "      <th>64810</th>\n",
              "      <td>24.0</td>\n",
              "      <td>2.0</td>\n",
              "      <td>1.0</td>\n",
              "      <td>33.833333</td>\n",
              "    </tr>\n",
              "    <tr>\n",
              "      <th>...</th>\n",
              "      <td>...</td>\n",
              "      <td>...</td>\n",
              "      <td>...</td>\n",
              "      <td>...</td>\n",
              "    </tr>\n",
              "    <tr>\n",
              "      <th>5261</th>\n",
              "      <td>36.0</td>\n",
              "      <td>1.0</td>\n",
              "      <td>NaN</td>\n",
              "      <td>35.500000</td>\n",
              "    </tr>\n",
              "    <tr>\n",
              "      <th>343</th>\n",
              "      <td>NaN</td>\n",
              "      <td>1.0</td>\n",
              "      <td>NaN</td>\n",
              "      <td>37.500000</td>\n",
              "    </tr>\n",
              "    <tr>\n",
              "      <th>3363</th>\n",
              "      <td>NaN</td>\n",
              "      <td>0.0</td>\n",
              "      <td>NaN</td>\n",
              "      <td>26.500000</td>\n",
              "    </tr>\n",
              "    <tr>\n",
              "      <th>1665</th>\n",
              "      <td>NaN</td>\n",
              "      <td>1.0</td>\n",
              "      <td>NaN</td>\n",
              "      <td>31.500000</td>\n",
              "    </tr>\n",
              "    <tr>\n",
              "      <th>1177</th>\n",
              "      <td>NaN</td>\n",
              "      <td>0.0</td>\n",
              "      <td>NaN</td>\n",
              "      <td>25.500000</td>\n",
              "    </tr>\n",
              "  </tbody>\n",
              "</table>\n",
              "<p>70183 rows × 4 columns</p>\n",
              "</div>\n",
              "    <div class=\"colab-df-buttons\">\n",
              "\n",
              "  <div class=\"colab-df-container\">\n",
              "    <button class=\"colab-df-convert\" onclick=\"convertToInteractive('df-6a8dbdc6-9f32-4b3f-a4c6-32a098049f4c')\"\n",
              "            title=\"Convert this dataframe to an interactive table.\"\n",
              "            style=\"display:none;\">\n",
              "\n",
              "  <svg xmlns=\"http://www.w3.org/2000/svg\" height=\"24px\" viewBox=\"0 -960 960 960\">\n",
              "    <path d=\"M120-120v-720h720v720H120Zm60-500h600v-160H180v160Zm220 220h160v-160H400v160Zm0 220h160v-160H400v160ZM180-400h160v-160H180v160Zm440 0h160v-160H620v160ZM180-180h160v-160H180v160Zm440 0h160v-160H620v160Z\"/>\n",
              "  </svg>\n",
              "    </button>\n",
              "\n",
              "  <style>\n",
              "    .colab-df-container {\n",
              "      display:flex;\n",
              "      gap: 12px;\n",
              "    }\n",
              "\n",
              "    .colab-df-convert {\n",
              "      background-color: #E8F0FE;\n",
              "      border: none;\n",
              "      border-radius: 50%;\n",
              "      cursor: pointer;\n",
              "      display: none;\n",
              "      fill: #1967D2;\n",
              "      height: 32px;\n",
              "      padding: 0 0 0 0;\n",
              "      width: 32px;\n",
              "    }\n",
              "\n",
              "    .colab-df-convert:hover {\n",
              "      background-color: #E2EBFA;\n",
              "      box-shadow: 0px 1px 2px rgba(60, 64, 67, 0.3), 0px 1px 3px 1px rgba(60, 64, 67, 0.15);\n",
              "      fill: #174EA6;\n",
              "    }\n",
              "\n",
              "    .colab-df-buttons div {\n",
              "      margin-bottom: 4px;\n",
              "    }\n",
              "\n",
              "    [theme=dark] .colab-df-convert {\n",
              "      background-color: #3B4455;\n",
              "      fill: #D2E3FC;\n",
              "    }\n",
              "\n",
              "    [theme=dark] .colab-df-convert:hover {\n",
              "      background-color: #434B5C;\n",
              "      box-shadow: 0px 1px 3px 1px rgba(0, 0, 0, 0.15);\n",
              "      filter: drop-shadow(0px 1px 2px rgba(0, 0, 0, 0.3));\n",
              "      fill: #FFFFFF;\n",
              "    }\n",
              "  </style>\n",
              "\n",
              "    <script>\n",
              "      const buttonEl =\n",
              "        document.querySelector('#df-6a8dbdc6-9f32-4b3f-a4c6-32a098049f4c button.colab-df-convert');\n",
              "      buttonEl.style.display =\n",
              "        google.colab.kernel.accessAllowed ? 'block' : 'none';\n",
              "\n",
              "      async function convertToInteractive(key) {\n",
              "        const element = document.querySelector('#df-6a8dbdc6-9f32-4b3f-a4c6-32a098049f4c');\n",
              "        const dataTable =\n",
              "          await google.colab.kernel.invokeFunction('convertToInteractive',\n",
              "                                                    [key], {});\n",
              "        if (!dataTable) return;\n",
              "\n",
              "        const docLinkHtml = 'Like what you see? Visit the ' +\n",
              "          '<a target=\"_blank\" href=https://colab.research.google.com/notebooks/data_table.ipynb>data table notebook</a>'\n",
              "          + ' to learn more about interactive tables.';\n",
              "        element.innerHTML = '';\n",
              "        dataTable['output_type'] = 'display_data';\n",
              "        await google.colab.output.renderOutput(dataTable, element);\n",
              "        const docLink = document.createElement('div');\n",
              "        docLink.innerHTML = docLinkHtml;\n",
              "        element.appendChild(docLink);\n",
              "      }\n",
              "    </script>\n",
              "  </div>\n",
              "\n",
              "\n",
              "    <div id=\"df-55e355ce-8ec3-4e01-8329-fd31aa93df2e\">\n",
              "      <button class=\"colab-df-quickchart\" onclick=\"quickchart('df-55e355ce-8ec3-4e01-8329-fd31aa93df2e')\"\n",
              "                title=\"Suggest charts\"\n",
              "                style=\"display:none;\">\n",
              "\n",
              "<svg xmlns=\"http://www.w3.org/2000/svg\" height=\"24px\"viewBox=\"0 0 24 24\"\n",
              "     width=\"24px\">\n",
              "    <g>\n",
              "        <path d=\"M19 3H5c-1.1 0-2 .9-2 2v14c0 1.1.9 2 2 2h14c1.1 0 2-.9 2-2V5c0-1.1-.9-2-2-2zM9 17H7v-7h2v7zm4 0h-2V7h2v10zm4 0h-2v-4h2v4z\"/>\n",
              "    </g>\n",
              "</svg>\n",
              "      </button>\n",
              "\n",
              "<style>\n",
              "  .colab-df-quickchart {\n",
              "      --bg-color: #E8F0FE;\n",
              "      --fill-color: #1967D2;\n",
              "      --hover-bg-color: #E2EBFA;\n",
              "      --hover-fill-color: #174EA6;\n",
              "      --disabled-fill-color: #AAA;\n",
              "      --disabled-bg-color: #DDD;\n",
              "  }\n",
              "\n",
              "  [theme=dark] .colab-df-quickchart {\n",
              "      --bg-color: #3B4455;\n",
              "      --fill-color: #D2E3FC;\n",
              "      --hover-bg-color: #434B5C;\n",
              "      --hover-fill-color: #FFFFFF;\n",
              "      --disabled-bg-color: #3B4455;\n",
              "      --disabled-fill-color: #666;\n",
              "  }\n",
              "\n",
              "  .colab-df-quickchart {\n",
              "    background-color: var(--bg-color);\n",
              "    border: none;\n",
              "    border-radius: 50%;\n",
              "    cursor: pointer;\n",
              "    display: none;\n",
              "    fill: var(--fill-color);\n",
              "    height: 32px;\n",
              "    padding: 0;\n",
              "    width: 32px;\n",
              "  }\n",
              "\n",
              "  .colab-df-quickchart:hover {\n",
              "    background-color: var(--hover-bg-color);\n",
              "    box-shadow: 0 1px 2px rgba(60, 64, 67, 0.3), 0 1px 3px 1px rgba(60, 64, 67, 0.15);\n",
              "    fill: var(--button-hover-fill-color);\n",
              "  }\n",
              "\n",
              "  .colab-df-quickchart-complete:disabled,\n",
              "  .colab-df-quickchart-complete:disabled:hover {\n",
              "    background-color: var(--disabled-bg-color);\n",
              "    fill: var(--disabled-fill-color);\n",
              "    box-shadow: none;\n",
              "  }\n",
              "\n",
              "  .colab-df-spinner {\n",
              "    border: 2px solid var(--fill-color);\n",
              "    border-color: transparent;\n",
              "    border-bottom-color: var(--fill-color);\n",
              "    animation:\n",
              "      spin 1s steps(1) infinite;\n",
              "  }\n",
              "\n",
              "  @keyframes spin {\n",
              "    0% {\n",
              "      border-color: transparent;\n",
              "      border-bottom-color: var(--fill-color);\n",
              "      border-left-color: var(--fill-color);\n",
              "    }\n",
              "    20% {\n",
              "      border-color: transparent;\n",
              "      border-left-color: var(--fill-color);\n",
              "      border-top-color: var(--fill-color);\n",
              "    }\n",
              "    30% {\n",
              "      border-color: transparent;\n",
              "      border-left-color: var(--fill-color);\n",
              "      border-top-color: var(--fill-color);\n",
              "      border-right-color: var(--fill-color);\n",
              "    }\n",
              "    40% {\n",
              "      border-color: transparent;\n",
              "      border-right-color: var(--fill-color);\n",
              "      border-top-color: var(--fill-color);\n",
              "    }\n",
              "    60% {\n",
              "      border-color: transparent;\n",
              "      border-right-color: var(--fill-color);\n",
              "    }\n",
              "    80% {\n",
              "      border-color: transparent;\n",
              "      border-right-color: var(--fill-color);\n",
              "      border-bottom-color: var(--fill-color);\n",
              "    }\n",
              "    90% {\n",
              "      border-color: transparent;\n",
              "      border-bottom-color: var(--fill-color);\n",
              "    }\n",
              "  }\n",
              "</style>\n",
              "\n",
              "      <script>\n",
              "        async function quickchart(key) {\n",
              "          const quickchartButtonEl =\n",
              "            document.querySelector('#' + key + ' button');\n",
              "          quickchartButtonEl.disabled = true;  // To prevent multiple clicks.\n",
              "          quickchartButtonEl.classList.add('colab-df-spinner');\n",
              "          try {\n",
              "            const charts = await google.colab.kernel.invokeFunction(\n",
              "                'suggestCharts', [key], {});\n",
              "          } catch (error) {\n",
              "            console.error('Error during call to suggestCharts:', error);\n",
              "          }\n",
              "          quickchartButtonEl.classList.remove('colab-df-spinner');\n",
              "          quickchartButtonEl.classList.add('colab-df-quickchart-complete');\n",
              "        }\n",
              "        (() => {\n",
              "          let quickchartButtonEl =\n",
              "            document.querySelector('#df-55e355ce-8ec3-4e01-8329-fd31aa93df2e button');\n",
              "          quickchartButtonEl.style.display =\n",
              "            google.colab.kernel.accessAllowed ? 'block' : 'none';\n",
              "        })();\n",
              "      </script>\n",
              "    </div>\n",
              "\n",
              "    </div>\n",
              "  </div>\n"
            ],
            "application/vnd.google.colaboratory.intrinsic+json": {
              "type": "dataframe",
              "summary": "{\n  \"name\": \"sample[[\\\"dur_marriage\\\", \\\"fmarno\\\", \\\"fmarital\\\", \\\"age\\\"]]\",\n  \"rows\": 70183,\n  \"fields\": [\n    {\n      \"column\": \"dur_marriage\",\n      \"properties\": {\n        \"dtype\": \"number\",\n        \"std\": 58.398498803455354,\n        \"min\": -11.0,\n        \"max\": 323.0,\n        \"num_unique_values\": 277,\n        \"samples\": [\n          76.0,\n          105.0,\n          209.0\n        ],\n        \"semantic_type\": \"\",\n        \"description\": \"\"\n      }\n    },\n    {\n      \"column\": \"fmarno\",\n      \"properties\": {\n        \"dtype\": \"number\",\n        \"std\": 0.7037809110694103,\n        \"min\": 0.0,\n        \"max\": 8.0,\n        \"num_unique_values\": 8,\n        \"samples\": [\n          1.0,\n          5.0,\n          2.0\n        ],\n        \"semantic_type\": \"\",\n        \"description\": \"\"\n      }\n    },\n    {\n      \"column\": \"fmarital\",\n      \"properties\": {\n        \"dtype\": \"number\",\n        \"std\": 2.33356697049947,\n        \"min\": 1.0,\n        \"max\": 6.0,\n        \"num_unique_values\": 5,\n        \"samples\": [\n          6.0,\n          3.0,\n          4.0\n        ],\n        \"semantic_type\": \"\",\n        \"description\": \"\"\n      }\n    },\n    {\n      \"column\": \"age\",\n      \"properties\": {\n        \"dtype\": \"number\",\n        \"std\": 8.784532096844197,\n        \"min\": 14.5,\n        \"max\": 49.5,\n        \"num_unique_values\": 372,\n        \"samples\": [\n          40.75,\n          43.166666666666664,\n          34.916666666666664\n        ],\n        \"semantic_type\": \"\",\n        \"description\": \"\"\n      }\n    }\n  ]\n}"
            }
          },
          "metadata": {},
          "execution_count": 210
        }
      ],
      "source": [
        "# add a dur_marg column to sample dataframe of cmdivorcx minus cmmarrhx, where\n",
        "# cmdivorcx is not NaN.\n",
        "sample[\"dur_marriage\"] = sample[\"cmdivorcx\"] - sample[\"cmmarrhx\"]\n",
        "#display columns dur_marraige, fmarno, and fmarital from sample\n",
        "sample[[\"dur_marriage\", \"fmarno\", \"fmarital\", \"age\"]]"
      ]
    },
    {
      "cell_type": "code",
      "execution_count": 290,
      "id": "da245afc",
      "metadata": {
        "id": "da245afc",
        "outputId": "d4590d38-5e53-4cd1-e8ce-f83cd4060db8",
        "colab": {
          "base_uri": "https://localhost:8080/"
        }
      },
      "outputs": [
        {
          "output_type": "execute_result",
          "data": {
            "text/plain": [
              "np.int64(60176)"
            ]
          },
          "metadata": {},
          "execution_count": 290
        }
      ],
      "source": [
        "# divorced cases\n",
        "completem = sample.query(\"dur_marriage.isna()\")[\"age\"]\n",
        "completem.count()\n"
      ]
    },
    {
      "cell_type": "code",
      "execution_count": 291,
      "id": "0b21dc33",
      "metadata": {
        "id": "0b21dc33",
        "outputId": "c19fa65e-0f69-449e-80c3-a78700f17068",
        "colab": {
          "base_uri": "https://localhost:8080/"
        }
      },
      "outputs": [
        {
          "output_type": "execute_result",
          "data": {
            "text/plain": [
              "np.int64(3534)"
            ]
          },
          "metadata": {},
          "execution_count": 291
        }
      ],
      "source": [
        "#  ongoing cases, select people who have only married once and who are still married\n",
        "ongoingm = sample.query(\"fmarno == 1  & fmarital == 1\")[\"age\"]\n",
        "ongoingm.count()"
      ]
    },
    {
      "cell_type": "code",
      "execution_count": 292,
      "id": "a59ce5d0",
      "metadata": {
        "id": "a59ce5d0"
      },
      "outputs": [],
      "source": [
        "# Freq Tab and Survival  of both\n",
        "ft_completem = FreqTab.from_seq(completem)\n",
        "ft_ongoingm = FreqTab.from_seq(ongoingm)\n",
        "\n",
        "surv_completem= ft_completem.make_surv()\n",
        "surv_ongoingm = ft_ongoingm.make_surv()"
      ]
    },
    {
      "cell_type": "code",
      "execution_count": 299,
      "id": "ac6d78c0",
      "metadata": {
        "id": "ac6d78c0",
        "outputId": "264d8d5b-f449-4a36-ecf8-c6205484870a",
        "colab": {
          "base_uri": "https://localhost:8080/",
          "height": 271
        }
      },
      "outputs": [
        {
          "output_type": "display_data",
          "data": {
            "text/plain": [
              "<Figure size 450x262.5 with 1 Axes>"
            ],
            "image/png": "[encoded data removed]"
          },
          "metadata": {}
        }
      ],
      "source": [
        "# all cohorts and at risk\n",
        "tsm = pd.Index.union(ft_completem.index, ft_ongoingm.index)\n",
        "at_riskm = ft_completem(tsm) + ft_ongoingm(tsm) + surv_completem(tsm) + surv_ongoingm(tsm)\n",
        "\n",
        "# Cumulative Hazard and plot.  danger of divoce, anytime after 45 y.o.\n",
        "hsm = ft_ongoingm(tsm) / at_riskm\n",
        "hazard = Hazard(hsm, tsm)\n",
        "\n",
        "hazard.cumsum().plot()\n",
        "decorate(xlabel=\"Age\", ylabel=\"Cumulative hazard\")"
      ]
    },
    {
      "cell_type": "code",
      "source": [
        " # When is the danger of divorce highest?  45 y.o. from this dataset\n",
        " hazard.cumsum().idxmax()\n"
      ],
      "metadata": {
        "id": "wI0FSy9OX-Ch",
        "outputId": "c7cd61fa-540f-4e3e-bcb4-eb7fa2b5aae5",
        "colab": {
          "base_uri": "https://localhost:8080/"
        }
      },
      "id": "wI0FSy9OX-Ch",
      "execution_count": 306,
      "outputs": [
        {
          "output_type": "execute_result",
          "data": {
            "text/plain": [
              "np.float64(45.0)"
            ]
          },
          "metadata": {},
          "execution_count": 306
        }
      ]
    },
    {
      "cell_type": "code",
      "execution_count": 300,
      "id": "10415f38",
      "metadata": {
        "id": "10415f38",
        "outputId": "831f8500-c8dc-4474-d5f8-acf084707fb1",
        "colab": {
          "base_uri": "https://localhost:8080/",
          "height": 272
        }
      },
      "outputs": [
        {
          "output_type": "display_data",
          "data": {
            "text/plain": [
              "<Figure size 450x262.5 with 1 Axes>"
            ],
            "image/png": "[encoded data removed]"
          },
          "metadata": {}
        }
      ],
      "source": [
        "# Survival Plot.\n",
        "survm = hazard.make_surv()\n",
        "survm.plot()\n",
        "decorate(xlabel=\"Age\", ylabel=\"Probablity\")"
      ]
    },
    {
      "cell_type": "code",
      "source": [
        "# What percentage of marriages end in divorce? 755 from this dataset.\n",
        "survm.iloc[-1] * 100"
      ],
      "metadata": {
        "id": "HJQLwVisLITB",
        "outputId": "e9c4980e-31b1-4074-b5fa-b00bd995ca96",
        "colab": {
          "base_uri": "https://localhost:8080/"
        }
      },
      "id": "HJQLwVisLITB",
      "execution_count": 302,
      "outputs": [
        {
          "output_type": "execute_result",
          "data": {
            "text/plain": [
              "np.float64(74.89528413724102)"
            ]
          },
          "metadata": {},
          "execution_count": 302
        }
      ]
    },
    {
      "cell_type": "code",
      "execution_count": 199,
      "id": "db26f738",
      "metadata": {
        "id": "db26f738"
      },
      "outputs": [],
      "source": [
        "# Solution goes here"
      ]
    },
    {
      "cell_type": "markdown",
      "id": "f00344ce",
      "metadata": {
        "id": "f00344ce"
      },
      "source": [
        "### Exercise 13.2\n",
        "\n",
        "In 2012, a team of demographers at the University of Southern California estimated life expectancy for people born in Sweden in the early 1800s and 1900s.\n",
        "For ages from 0 to 91 years, they estimated the age-specific mortality rate, which is the fraction of people who die at a given age, out of all who survive until that age -- which you might recognize as the hazard function.\n",
        "\n",
        "I used an online graph digitizer to get the data from the figure in their paper and store it in a CSV file.\n",
        "Instructions for downloading the data are in the notebook for this chapter."
      ]
    },
    {
      "cell_type": "markdown",
      "id": "09436f45",
      "metadata": {
        "tags": [],
        "id": "09436f45"
      },
      "source": [
        "Data source: Beltrán-Sánchez, H., Crimmins, E. M., & Finch, C. E. (2012). Early cohort mortality predicts the rate of aging in the cohort: a historical analysis. *Journal of developmental origins of health and disease*, 3(5), 380-386.\n",
        "\n",
        "The following cell downloads the data."
      ]
    },
    {
      "cell_type": "code",
      "execution_count": 200,
      "id": "943f9319",
      "metadata": {
        "tags": [],
        "id": "943f9319"
      },
      "outputs": [],
      "source": [
        "download(\n",
        "    \"https://github.com/AllenDowney/ThinkStats/raw/v3/data/mortality_rates_beltran2012.csv\"\n",
        ")"
      ]
    },
    {
      "cell_type": "markdown",
      "id": "55b2141c",
      "metadata": {
        "id": "55b2141c"
      },
      "source": [
        "We can load the data like this."
      ]
    },
    {
      "cell_type": "code",
      "execution_count": 201,
      "id": "acac3b0a",
      "metadata": {
        "id": "acac3b0a"
      },
      "outputs": [],
      "source": [
        "mortality = pd.read_csv(\"mortality_rates_beltran2012.csv\", header=[0, 1]).dropna()"
      ]
    },
    {
      "cell_type": "markdown",
      "id": "47424a69",
      "metadata": {
        "id": "47424a69"
      },
      "source": [
        "The following function interpolates the data to make a hazard function with approximate mortality rates for each age from 0 to 99."
      ]
    },
    {
      "cell_type": "code",
      "execution_count": 202,
      "id": "9bf23ea0",
      "metadata": {
        "id": "9bf23ea0"
      },
      "outputs": [],
      "source": [
        "from scipy.interpolate import interp1d\n",
        "from empiricaldist import Hazard\n",
        "\n",
        "\n",
        "def make_hazard(ages, rates):\n",
        "    \"\"\"Make a Hazard function by interpolating a Series.\n",
        "\n",
        "    series: Series\n",
        "\n",
        "    returns: Hazard\n",
        "    \"\"\"\n",
        "    interp = interp1d(ages, rates, fill_value=\"extrapolate\")\n",
        "    xs = np.arange(0, 100)\n",
        "    ys = np.exp(interp(xs))\n",
        "    return Hazard(ys, xs)"
      ]
    },
    {
      "cell_type": "markdown",
      "id": "532d4550",
      "metadata": {
        "id": "532d4550"
      },
      "source": [
        "Now we can make a `Hazard` object like this."
      ]
    },
    {
      "cell_type": "code",
      "execution_count": 203,
      "id": "326d4796",
      "metadata": {
        "id": "326d4796"
      },
      "outputs": [],
      "source": [
        "ages = mortality[\"1800\", \"X\"].values\n",
        "rates = mortality[\"1800\", \"Y\"].values\n",
        "hazard = make_hazard(ages, rates)"
      ]
    },
    {
      "cell_type": "markdown",
      "id": "6db4827c",
      "metadata": {
        "id": "6db4827c"
      },
      "source": [
        "Here's what the mortality rates look like."
      ]
    },
    {
      "cell_type": "code",
      "execution_count": 204,
      "id": "6f09508c",
      "metadata": {
        "colab": {
          "base_uri": "https://localhost:8080/",
          "height": 272
        },
        "id": "6f09508c",
        "outputId": "ea71ad37-977c-4ff8-df85-04fbdbb4ffe4"
      },
      "outputs": [
        {
          "output_type": "display_data",
          "data": {
            "text/plain": [
              "<Figure size 450x262.5 with 1 Axes>"
            ],
            "image/png": "[encoded data removed]"
          },
          "metadata": {}
        }
      ],
      "source": [
        "hazard.plot()\n",
        "\n",
        "decorate(xlabel=\"Age (years)\", ylabel=\"Hazard\")"
      ]
    },
    {
      "cell_type": "markdown",
      "id": "a5c7085f",
      "metadata": {
        "id": "a5c7085f"
      },
      "source": [
        "Use `make_surv` to make a survival function based on these rates, and `make_cdf` to compute the corresponding CDF.\n",
        "Plot the results.\n",
        "\n",
        "Then use `make_pmf` to make a `Pmf` object that represents the distribution of lifetimes, and plot it.\n",
        "Finally, use `compute_pmf_remaining` to compute the average remaining lifetime at each age from 0 to 99.\n",
        "Plot the result.\n",
        "\n",
        "In the remaining lifetime curve, you should see a counterintuitive pattern -- for the first few years of life, remaining lifetime increases.\n",
        "Because infant mortality was so high in the early 1800s, an older child was expected to live longer than a younger child.\n",
        "After about age 5, life expectancy returns to the pattern we expect -- young people are expected to live longer than old people.\n",
        "\n",
        "If you are interested in this topic, you might like Chapter 5 of my book, *Probably Overthinking It*, which presents similarly counterintuitive results from many areas of statistics."
      ]
    },
    {
      "cell_type": "markdown",
      "id": "ed80e215",
      "metadata": {
        "tags": [],
        "id": "ed80e215"
      },
      "source": [
        "Available from <https://probablyoverthinking.it>."
      ]
    },
    {
      "cell_type": "code",
      "execution_count": 205,
      "id": "6e67ea80",
      "metadata": {
        "scrolled": true,
        "id": "6e67ea80"
      },
      "outputs": [],
      "source": [
        "# Solution goes here"
      ]
    },
    {
      "cell_type": "code",
      "execution_count": 206,
      "id": "b8821042",
      "metadata": {
        "id": "b8821042"
      },
      "outputs": [],
      "source": [
        "# Solution goes here"
      ]
    },
    {
      "cell_type": "code",
      "execution_count": 207,
      "id": "d00461f9",
      "metadata": {
        "id": "d00461f9"
      },
      "outputs": [],
      "source": [
        "# Solution goes here"
      ]
    },
    {
      "cell_type": "code",
      "execution_count": 208,
      "id": "a39f4c0f",
      "metadata": {
        "id": "a39f4c0f"
      },
      "outputs": [],
      "source": [
        "# Solution goes here"
      ]
    },
    {
      "cell_type": "code",
      "execution_count": 209,
      "id": "f51c3504",
      "metadata": {
        "id": "f51c3504"
      },
      "outputs": [],
      "source": [
        "# Solution goes here"
      ]
    },
    {
      "cell_type": "markdown",
      "id": "e27da3a4",
      "metadata": {
        "tags": [],
        "id": "e27da3a4"
      },
      "source": [
        "[Think Stats: Exploratory Data Analysis in Python, 3rd Edition](https://allendowney.github.io/ThinkStats/index.html)\n",
        "\n",
        "Copyright 2024 [Allen B. Downey](https://allendowney.com)\n",
        "\n",
        "Code license: [MIT License](https://mit-license.org/)\n",
        "\n",
        "Text license: [Creative Commons Attribution-NonCommercial-ShareAlike 4.0 International](https://creativecommons.org/licenses/by-nc-sa/4.0/)"
      ]
    }
  ],
  "metadata": {
    "celltoolbar": "Tags",
    "kernelspec": {
      "display_name": "Python 3 (ipykernel)",
      "language": "python",
      "name": "python3"
    },
    "language_info": {
      "codemirror_mode": {
        "name": "ipython",
        "version": 3
      },
      "file_extension": ".py",
      "mimetype": "text/x-python",
      "name": "python",
      "nbconvert_exporter": "python",
      "pygments_lexer": "ipython3",
      "version": "3.11.0"
    },
    "colab": {
      "provenance": [],
      "include_colab_link": true
    }
  },
  "nbformat": 4,
  "nbformat_minor": 5
}