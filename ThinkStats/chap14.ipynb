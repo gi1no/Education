{
  "cells": [
    {
      "cell_type": "markdown",
      "metadata": {
        "id": "view-in-github",
        "colab_type": "text"
      },
      "source": [
        "<a href=\"https://colab.research.google.com/github/gi1no/Education/blob/main/ThinkStats/chap14.ipynb\" target=\"_parent\"><img src=\"https://colab.research.google.com/assets/colab-badge.svg\" alt=\"Open In Colab\"/></a>"
      ]
    },
    {
      "cell_type": "markdown",
      "id": "418e407e",
      "metadata": {
        "id": "418e407e"
      },
      "source": [
        "The third edition of *Think Stats* is available now from [Bookshop.org](https://bookshop.org/a/98697/9781098190255) and [Amazon](https://amzn.to/42lmxwu) (those are affiliate links). If you are enjoying the free, online version, consider [buying me a coffee](https://buymeacoffee.com/allendowney)."
      ]
    },
    {
      "cell_type": "markdown",
      "id": "52c53da4",
      "metadata": {
        "tags": [],
        "id": "52c53da4"
      },
      "source": [
        "(chapter_analytic_methods)=\n",
        "# Analytic Methods\n",
        "\n",
        "This book has focused on computational methods like simulation and resampling, but some of the problems we solved have analytic solutions that can be much faster to compute.\n",
        "\n",
        "This chapter presents some of these methods and explains how they work.\n",
        "At the end of the chapter, I make suggestions for integrating computational and analytic methods for data analysis."
      ]
    },
    {
      "cell_type": "markdown",
      "id": "07a92b7f",
      "metadata": {
        "tags": [],
        "id": "07a92b7f"
      },
      "source": [
        "[Click here to run this notebook on Colab](https://colab.research.google.com/github/AllenDowney/ThinkStats/blob/v3/nb/chap14.ipynb)."
      ]
    },
    {
      "cell_type": "code",
      "execution_count": 64,
      "id": "f61641d6",
      "metadata": {
        "tags": [],
        "id": "f61641d6"
      },
      "outputs": [],
      "source": [
        "from os.path import basename, exists\n",
        "\n",
        "\n",
        "def download(url):\n",
        "    filename = basename(url)\n",
        "    if not exists(filename):\n",
        "        from urllib.request import urlretrieve\n",
        "\n",
        "        local, _ = urlretrieve(url, filename)\n",
        "        print(\"Downloaded \" + local)\n",
        "\n",
        "\n",
        "download(\"https://github.com/AllenDowney/ThinkStats/raw/v3/nb/thinkstats.py\")"
      ]
    },
    {
      "cell_type": "code",
      "execution_count": 65,
      "id": "dfb3ff15",
      "metadata": {
        "tags": [],
        "id": "dfb3ff15"
      },
      "outputs": [],
      "source": [
        "try:\n",
        "    import empiricaldist\n",
        "except ImportError:\n",
        "    %pip install empiricaldist"
      ]
    },
    {
      "cell_type": "code",
      "execution_count": 66,
      "id": "101a23bc",
      "metadata": {
        "tags": [],
        "id": "101a23bc"
      },
      "outputs": [],
      "source": [
        "import numpy as np\n",
        "import pandas as pd\n",
        "import matplotlib.pyplot as plt\n",
        "\n",
        "from thinkstats import decorate"
      ]
    },
    {
      "cell_type": "markdown",
      "id": "a66b3b13",
      "metadata": {
        "id": "a66b3b13"
      },
      "source": [
        "## Normal Probability Plots\n",
        "\n",
        "Many analytic methods are based on the properties of the normal distribution, for two reasons: distributions of many measurements in the real world are well-approximated by normal distributions, and normal distributions have mathematical properties that make them useful for analysis.\n",
        "\n",
        "To demonstrate the first point, we'll look at some of the measurements in the penguin dataset.\n",
        "Then we'll explore the mathematical properties of the normal distribution.\n",
        "Instructions for downloading the data are in the notebook for this chapter."
      ]
    },
    {
      "cell_type": "markdown",
      "id": "0f3e7431",
      "metadata": {
        "tags": [],
        "id": "0f3e7431"
      },
      "source": [
        "The following cell downloads the data from a repository created by Allison Horst.\n",
        "\n",
        "Horst AM, Hill AP, Gorman KB (2020). palmerpenguins: Palmer Archipelago (Antarctica) penguin data. R package version 0.1.0. https://allisonhorst.github.io/palmerpenguins/. doi: 10.5281/zenodo.3960218.\n",
        "\n",
        "The data was collected as part of the research that led to this paper: Gorman KB, Williams TD, Fraser WR (2014). Ecological sexual dimorphism and environmental variability within a community of Antarctic penguins (genus Pygoscelis). PLoS ONE 9(3):e90081. https://doi.org/10.1371/journal.pone.0090081"
      ]
    },
    {
      "cell_type": "code",
      "execution_count": 67,
      "id": "b5305102",
      "metadata": {
        "tags": [],
        "id": "b5305102"
      },
      "outputs": [],
      "source": [
        "download(\n",
        "    \"https://raw.githubusercontent.com/allisonhorst/palmerpenguins/c19a904462482430170bfe2c718775ddb7dbb885/inst/extdata/penguins_raw.csv\"\n",
        ")"
      ]
    },
    {
      "cell_type": "markdown",
      "id": "31ecea73",
      "metadata": {
        "id": "31ecea73"
      },
      "source": [
        "We can read the data like this."
      ]
    },
    {
      "cell_type": "code",
      "execution_count": 68,
      "id": "4b616c33",
      "metadata": {
        "colab": {
          "base_uri": "https://localhost:8080/"
        },
        "id": "4b616c33",
        "outputId": "c9db8397-ac40-4bde-b0d3-342203a86964"
      },
      "outputs": [
        {
          "output_type": "execute_result",
          "data": {
            "text/plain": [
              "(344, 17)"
            ]
          },
          "metadata": {},
          "execution_count": 68
        }
      ],
      "source": [
        "penguins = pd.read_csv(\"penguins_raw.csv\")\n",
        "penguins.shape"
      ]
    },
    {
      "cell_type": "markdown",
      "id": "cf96d0ee",
      "metadata": {
        "id": "cf96d0ee"
      },
      "source": [
        "The dataset contains measurements from three penguin species.\n",
        "For this example, we'll select the Adélie penguins."
      ]
    },
    {
      "cell_type": "code",
      "execution_count": 69,
      "id": "90473d57",
      "metadata": {
        "colab": {
          "base_uri": "https://localhost:8080/"
        },
        "id": "90473d57",
        "outputId": "a884b300-9eb5-48db-b0f2-75e27107c427"
      },
      "outputs": [
        {
          "output_type": "execute_result",
          "data": {
            "text/plain": [
              "152"
            ]
          },
          "metadata": {},
          "execution_count": 69
        }
      ],
      "source": [
        "adelie = penguins.query('Species.str.startswith(\"Adelie\")').copy()\n",
        "len(adelie)"
      ]
    },
    {
      "cell_type": "markdown",
      "id": "ebc1881b",
      "metadata": {
        "id": "ebc1881b"
      },
      "source": [
        "To see if penguin weights follow a normal distribution, we'll compute the empirical CDF of the data."
      ]
    },
    {
      "cell_type": "code",
      "execution_count": 70,
      "id": "125f106d",
      "metadata": {
        "id": "125f106d"
      },
      "outputs": [],
      "source": [
        "from empiricaldist import Cdf\n",
        "\n",
        "weights = adelie[\"Body Mass (g)\"].dropna()\n",
        "cdf_weights = Cdf.from_seq(weights)"
      ]
    },
    {
      "cell_type": "markdown",
      "id": "a8ad44ce",
      "metadata": {
        "id": "a8ad44ce"
      },
      "source": [
        "And we'll compute the analytic CDF of a normal distribution with the same mean and standard deviation."
      ]
    },
    {
      "cell_type": "code",
      "execution_count": 71,
      "id": "82688ccb",
      "metadata": {
        "colab": {
          "base_uri": "https://localhost:8080/"
        },
        "id": "82688ccb",
        "outputId": "a8339c0c-dd6f-42bc-f15f-34cf2a4f33bc"
      },
      "outputs": [
        {
          "output_type": "execute_result",
          "data": {
            "text/plain": [
              "(np.float64(3700.662251655629), 458.5661259101347)"
            ]
          },
          "metadata": {},
          "execution_count": 71
        }
      ],
      "source": [
        "m, s = weights.mean(), weights.std()\n",
        "m, s"
      ]
    },
    {
      "cell_type": "code",
      "execution_count": 72,
      "id": "a076e36d",
      "metadata": {
        "id": "a076e36d"
      },
      "outputs": [],
      "source": [
        "from scipy.stats import norm\n",
        "\n",
        "dist = norm(m, s)\n",
        "qs = np.linspace(m - 3.5 * s, m + 3.5 * s)\n",
        "ps = dist.cdf(qs)"
      ]
    },
    {
      "cell_type": "markdown",
      "id": "80ddb849",
      "metadata": {
        "id": "80ddb849"
      },
      "source": [
        "Here's what the CDF of the data looks like compared to the normal model."
      ]
    },
    {
      "cell_type": "code",
      "execution_count": 73,
      "id": "b992d5e4",
      "metadata": {
        "colab": {
          "base_uri": "https://localhost:8080/",
          "height": 272
        },
        "id": "b992d5e4",
        "outputId": "81316bd5-eeda-4cdf-e189-8656395a8981"
      },
      "outputs": [
        {
          "output_type": "display_data",
          "data": {
            "text/plain": [
              "<Figure size 450x262.5 with 1 Axes>"
            ],
            "image/png": "[encoded data removed]"
          },
          "metadata": {}
        }
      ],
      "source": [
        "model_options = dict(color=\"gray\", alpha=0.5, label=\"model\")\n",
        "plt.plot(qs, ps, **model_options)\n",
        "cdf_weights.plot(label=\"data\")\n",
        "\n",
        "decorate(ylabel=\"CDF\")"
      ]
    },
    {
      "cell_type": "markdown",
      "id": "9c7780bb",
      "metadata": {
        "id": "9c7780bb"
      },
      "source": [
        "The normal distribution might be a good enough model of this data, but it's certainly not a perfect fit.\n",
        "\n",
        "In general, plotting the CDF of the data and the CDF of a model is a good way to evaluate how well the model fits the data.\n",
        "But one drawback of this method is that it depends on how well we estimate the parameters of the model -- in this example, the mean and standard deviation.\n",
        "\n",
        "An alternative is a **normal probability plot**, which does not depend on our ability to estimate parameters.\n",
        "In a normal probability plot the $y$ values are the sorted measurements."
      ]
    },
    {
      "cell_type": "code",
      "execution_count": 74,
      "id": "0638de99",
      "metadata": {
        "id": "0638de99"
      },
      "outputs": [],
      "source": [
        "ys = np.sort(weights)"
      ]
    },
    {
      "cell_type": "markdown",
      "id": "9fc490c0",
      "metadata": {
        "id": "9fc490c0"
      },
      "source": [
        "And the $x$ values are the corresponding percentiles of a normal distribution, computed using the `ppf` method of the `norm` object, which computes the \"percent point function\", which is the inverse CDF."
      ]
    },
    {
      "cell_type": "code",
      "execution_count": 75,
      "id": "2d24b276",
      "metadata": {
        "id": "2d24b276"
      },
      "outputs": [],
      "source": [
        "n = len(weights)\n",
        "ps = (np.arange(n) + 0.5) / n\n",
        "xs = norm.ppf(ps)"
      ]
    },
    {
      "cell_type": "markdown",
      "id": "9860c3fb",
      "metadata": {
        "id": "9860c3fb"
      },
      "source": [
        "If the measurements are actually drawn from a normal distribution, the $y$ and $x$ values should fall on a straight line.\n",
        "To see how well they do, we can use `linregress` to fit a line."
      ]
    },
    {
      "cell_type": "code",
      "execution_count": 76,
      "id": "b1bebe9d",
      "metadata": {
        "id": "b1bebe9d"
      },
      "outputs": [],
      "source": [
        "from scipy.stats import linregress\n",
        "\n",
        "results = linregress(xs, ys)\n",
        "intercept, slope = results.intercept, results.slope\n",
        "\n",
        "fit_xs = np.linspace(-3, 3)\n",
        "fit_ys = intercept + slope * fit_xs"
      ]
    },
    {
      "cell_type": "markdown",
      "id": "020a663a",
      "metadata": {
        "id": "020a663a"
      },
      "source": [
        "The following figure shows the $x$ and $y$ values along with the fitted line."
      ]
    },
    {
      "cell_type": "code",
      "execution_count": 77,
      "id": "cdcc30c5",
      "metadata": {
        "colab": {
          "base_uri": "https://localhost:8080/",
          "height": 272
        },
        "id": "cdcc30c5",
        "outputId": "b7bf4768-2056-4592-f30c-5f48347a49a0"
      },
      "outputs": [
        {
          "output_type": "display_data",
          "data": {
            "text/plain": [
              "<Figure size 450x262.5 with 1 Axes>"
            ],
            "image/png": "[encoded data removed]"
          },
          "metadata": {}
        }
      ],
      "source": [
        "plt.plot(fit_xs, fit_ys, **model_options)\n",
        "plt.plot(xs, ys, label=\"data\")\n",
        "\n",
        "decorate(xlabel=\"Standard normal\", ylabel=\"Body mass (g)\")"
      ]
    },
    {
      "cell_type": "markdown",
      "id": "5381ed78",
      "metadata": {
        "id": "5381ed78"
      },
      "source": [
        "The normal probability plot is not a perfectly straight line, which indicates that the normal distribution is not a perfect model for this data.\n",
        "\n",
        "One reason is that the dataset includes male and female penguins, and the two groups have different means -- let's see what happens if we plot the groups separately.\n",
        "The following function encapsulates the steps we used to make a normal probability plot."
      ]
    },
    {
      "cell_type": "code",
      "execution_count": 78,
      "id": "976ff517",
      "metadata": {
        "id": "976ff517"
      },
      "outputs": [],
      "source": [
        "def normal_probability_plot(sample, **options):\n",
        "    \"\"\"Makes a normal probability plot with a fitted line.\"\"\"\n",
        "    n = len(sample)\n",
        "    ps = (np.arange(n) + 0.5) / n\n",
        "    xs = norm.ppf(ps)\n",
        "    ys = np.sort(sample)\n",
        "\n",
        "    results = linregress(xs, ys)\n",
        "    intercept, slope = results.intercept, results.slope\n",
        "\n",
        "    fit_xs = np.linspace(-3, 3)\n",
        "    fit_ys = intercept + slope * fit_xs\n",
        "\n",
        "    plt.plot(fit_xs, fit_ys, color=\"gray\", alpha=0.5)\n",
        "    plt.plot(xs, ys, **options)\n",
        "    decorate(xlabel=\"Standard normal\")"
      ]
    },
    {
      "cell_type": "markdown",
      "id": "e2447c63",
      "metadata": {
        "id": "e2447c63"
      },
      "source": [
        "Here's what the results look like for male and female penguins separately."
      ]
    },
    {
      "cell_type": "code",
      "execution_count": 79,
      "id": "f9ce4632",
      "metadata": {
        "colab": {
          "base_uri": "https://localhost:8080/",
          "height": 272
        },
        "id": "f9ce4632",
        "outputId": "be727b56-b2b4-4cca-a3c6-1e75358d6e44"
      },
      "outputs": [
        {
          "output_type": "display_data",
          "data": {
            "text/plain": [
              "<Figure size 450x262.5 with 1 Axes>"
            ],
            "image/png": "[encoded data removed]"
          },
          "metadata": {}
        }
      ],
      "source": [
        "grouped = adelie.groupby(\"Sex\")\n",
        "\n",
        "weights_male = grouped.get_group(\"MALE\")[\"Body Mass (g)\"]\n",
        "normal_probability_plot(weights_male, ls=\"--\", label=\"Male\")\n",
        "\n",
        "weights_female = grouped.get_group(\"FEMALE\")[\"Body Mass (g)\"]\n",
        "normal_probability_plot(weights_female, label=\"Female\")\n",
        "\n",
        "decorate(ylabel=\"Weight (g)\")"
      ]
    },
    {
      "cell_type": "markdown",
      "id": "fb725e29",
      "metadata": {
        "id": "fb725e29"
      },
      "source": [
        "The normal probability plots for both groups are close to a straight line, which indicates that the distributions of weight follow normal distributions.\n",
        "When we put the groups together, the distribution of their weights is a mixture of two normal distributions with different means -- and a mixture like that is not always well modeled by a normal distribution.\n",
        "\n",
        "Now let's consider some of the mathematical properties of normal distributions that make them so useful for analysis."
      ]
    },
    {
      "cell_type": "markdown",
      "id": "249a2d83",
      "metadata": {
        "id": "249a2d83"
      },
      "source": [
        "## Normal Distributions\n",
        "\n",
        "The following class defines an object that represents a normal distribution.\n",
        "It contains as attributes the parameters `mu` and `sigma2`, which represent the mean and variance of the distribution.\n",
        "The name `sigma2` is a reminder that variance is the square of the standard deviation, which is usually denoted `sigma`."
      ]
    },
    {
      "cell_type": "code",
      "execution_count": 80,
      "id": "0baee14d",
      "metadata": {
        "id": "0baee14d"
      },
      "outputs": [],
      "source": [
        "class Normal:\n",
        "    \"\"\"Represents a Normal distribution\"\"\"\n",
        "\n",
        "    def __init__(self, mu, sigma2):\n",
        "        \"\"\"Make a Normal object.\n",
        "\n",
        "        mu: mean\n",
        "        sigma2: variance\n",
        "        \"\"\"\n",
        "        self.mu = mu\n",
        "        self.sigma2 = sigma2\n",
        "\n",
        "    def __repr__(self):\n",
        "        \"\"\"Returns a string representation.\"\"\"\n",
        "        return f\"Normal({self.mu}, {self.sigma2})\"\n",
        "\n",
        "    __str__ = __repr__"
      ]
    },
    {
      "cell_type": "markdown",
      "id": "75c0586b",
      "metadata": {
        "id": "75c0586b"
      },
      "source": [
        "As an example, we'll create a `Normal` object that represents a normal distribution with the same mean and variance as the weights of the male penguins."
      ]
    },
    {
      "cell_type": "code",
      "execution_count": 81,
      "id": "1efbcfc0",
      "metadata": {
        "colab": {
          "base_uri": "https://localhost:8080/"
        },
        "id": "1efbcfc0",
        "outputId": "b80f0908-5d25-4e13-b4c0-57c36b756fb4"
      },
      "outputs": [
        {
          "output_type": "execute_result",
          "data": {
            "text/plain": [
              "Normal(4043.4931506849316, 120278.25342465758)"
            ]
          },
          "metadata": {},
          "execution_count": 81
        }
      ],
      "source": [
        "m, s = weights_male.mean(), weights_male.std()\n",
        "dist_male = Normal(m, s**2)\n",
        "dist_male"
      ]
    },
    {
      "cell_type": "markdown",
      "id": "1401fdd9",
      "metadata": {
        "id": "1401fdd9"
      },
      "source": [
        "And another `Normal` object with the same mean and variance as the weights of the female penguins."
      ]
    },
    {
      "cell_type": "code",
      "execution_count": 82,
      "id": "7ecc2c62",
      "metadata": {
        "colab": {
          "base_uri": "https://localhost:8080/"
        },
        "id": "7ecc2c62",
        "outputId": "f00ad262-b6c0-4cfc-dc88-1e6230550724"
      },
      "outputs": [
        {
          "output_type": "execute_result",
          "data": {
            "text/plain": [
              "Normal(3368.8356164383563, 72565.63926940637)"
            ]
          },
          "metadata": {},
          "execution_count": 82
        }
      ],
      "source": [
        "m, s = weights_female.mean(), weights_female.std()\n",
        "dist_female = Normal(m, s**2)\n",
        "dist_female"
      ]
    },
    {
      "cell_type": "markdown",
      "id": "4025ae97",
      "metadata": {
        "id": "4025ae97"
      },
      "source": [
        "Next we'll add a method to the `Normal` class that generates a random sample from a normal distribution.\n",
        "To add methods to an existing class, we'll use a Jupyter magic command, `add_method_to`, which is defined in the `thinkstats` module.\n",
        "This command is not part of Python -- it only works in Jupyter notebooks."
      ]
    },
    {
      "cell_type": "code",
      "execution_count": 83,
      "id": "5dacba9a",
      "metadata": {
        "id": "5dacba9a"
      },
      "outputs": [],
      "source": [
        "%%add_method_to Normal\n",
        "\n",
        "\n",
        "def sample(self, n):\n",
        "    \"\"\"Generate a random sample from this distribution.\"\"\"\n",
        "    sigma = np.sqrt(self.sigma2)\n",
        "    return np.random.normal(self.mu, sigma, n)"
      ]
    },
    {
      "cell_type": "markdown",
      "id": "ca6fa3fe",
      "metadata": {
        "id": "ca6fa3fe"
      },
      "source": [
        "We'll use `sample` to demonstrate the first useful property of a normal distribution: if you draw values from two normal distributions and add them, the distribution of the sum is also normal.\n",
        "\n",
        "As an example, we'll generate samples from the `Normal` objects we just made, add them together, and make a normal probability plot of the sums."
      ]
    },
    {
      "cell_type": "code",
      "execution_count": 84,
      "id": "f44bed89",
      "metadata": {
        "colab": {
          "base_uri": "https://localhost:8080/",
          "height": 272
        },
        "id": "f44bed89",
        "outputId": "697eba7a-9c1e-48e5-be2c-b4f8b1dff6ae"
      },
      "outputs": [
        {
          "output_type": "display_data",
          "data": {
            "text/plain": [
              "<Figure size 450x262.5 with 1 Axes>"
            ],
            "image/png": "[encoded data removed]"
          },
          "metadata": {}
        }
      ],
      "source": [
        "sample_sum = dist_male.sample(1000) + dist_female.sample(1000)\n",
        "normal_probability_plot(sample_sum)\n",
        "\n",
        "decorate(ylabel=\"Total weight (g)\")"
      ]
    },
    {
      "cell_type": "markdown",
      "id": "fec23c17",
      "metadata": {
        "id": "fec23c17"
      },
      "source": [
        "The normal probability plot looks like a straight line, which indicates that the sums follow a normal distribution.\n",
        "And that's not all -- if we know the parameters of the two distributions, we can compute the parameters of the distribution of the sum.\n",
        "The following method shows how."
      ]
    },
    {
      "cell_type": "code",
      "execution_count": 85,
      "id": "55aea182",
      "metadata": {
        "id": "55aea182"
      },
      "outputs": [],
      "source": [
        "%%add_method_to Normal\n",
        "\n",
        "\n",
        "def __add__(self, other):\n",
        "    \"\"\"Distribution of the sum of two normal distributions.\"\"\"\n",
        "    return Normal(self.mu + other.mu, self.sigma2 + other.sigma2)"
      ]
    },
    {
      "cell_type": "markdown",
      "id": "79c79e93",
      "metadata": {
        "id": "79c79e93"
      },
      "source": [
        "In the distribution of the sum, the mean is the sum of the means and the variance is the sum of the variances.\n",
        "Now that we've defined the special method `__add__`, we can use the `+` operator to \"add\" two distributions -- that is, to compute the distribution of their sum."
      ]
    },
    {
      "cell_type": "code",
      "execution_count": 86,
      "id": "2c113bc6",
      "metadata": {
        "colab": {
          "base_uri": "https://localhost:8080/"
        },
        "id": "2c113bc6",
        "outputId": "27d8f3bc-5f85-462a-90eb-5c349d415be3"
      },
      "outputs": [
        {
          "output_type": "execute_result",
          "data": {
            "text/plain": [
              "Normal(7412.328767123288, 192843.89269406395)"
            ]
          },
          "metadata": {},
          "execution_count": 86
        }
      ],
      "source": [
        "dist_sum = dist_male + dist_female\n",
        "dist_sum"
      ]
    },
    {
      "cell_type": "markdown",
      "id": "a44ddddb",
      "metadata": {
        "id": "a44ddddb"
      },
      "source": [
        "To confirm that this result is correct, we'll use the following method, which plots the analytic CDF of a normal distribution."
      ]
    },
    {
      "cell_type": "code",
      "execution_count": 87,
      "id": "b44c04a3",
      "metadata": {
        "id": "b44c04a3"
      },
      "outputs": [],
      "source": [
        "%%add_method_to Normal\n",
        "\n",
        "\n",
        "def plot_cdf(self, n_sigmas=3.5, **options):\n",
        "    \"\"\"Plot the CDF of this distribution.\"\"\"\n",
        "    mu, sigma = self.mu, np.sqrt(self.sigma2)\n",
        "    low, high = mu - n_sigmas * sigma, mu + n_sigmas * sigma\n",
        "    xs = np.linspace(low, high, 101)\n",
        "    ys = norm.cdf(xs, mu, sigma)\n",
        "    plt.plot(xs, ys, **options)"
      ]
    },
    {
      "cell_type": "markdown",
      "id": "040fe2fa",
      "metadata": {
        "id": "040fe2fa"
      },
      "source": [
        "Here's the result along with the empirical CDF of the sum of the random samples."
      ]
    },
    {
      "cell_type": "code",
      "execution_count": 88,
      "id": "a12aeec5",
      "metadata": {
        "colab": {
          "base_uri": "https://localhost:8080/",
          "height": 272
        },
        "id": "a12aeec5",
        "outputId": "67486bd1-828a-45b5-b7a2-230f61cbc53c"
      },
      "outputs": [
        {
          "output_type": "display_data",
          "data": {
            "text/plain": [
              "<Figure size 450x262.5 with 1 Axes>"
            ],
            "image/png": "[encoded data removed]"
          },
          "metadata": {}
        }
      ],
      "source": [
        "dist_sum.plot_cdf(**model_options)\n",
        "Cdf.from_seq(sample_sum).plot(label=\"sample\")\n",
        "\n",
        "decorate(xlabel=\"Total weight (g)\", ylabel=\"CDF\")"
      ]
    },
    {
      "cell_type": "markdown",
      "id": "f89ccf81",
      "metadata": {
        "id": "f89ccf81"
      },
      "source": [
        "It looks like the parameters we computed are correct, which confirms that we can add two normal distributions by adding their means and variances.\n",
        "\n",
        "As a corollary, if we generate `n` values from a normal distribution and add them up, the distribution of the sum is also a normal distribution.\n",
        "To demonstrate, we'll start by generating 73 values from the distribution of male weights and adding them up.\n",
        "The following loop does that 1001 times, so the result is a sample from the distribution of sums."
      ]
    },
    {
      "cell_type": "code",
      "execution_count": 89,
      "id": "b338ce4a",
      "metadata": {
        "colab": {
          "base_uri": "https://localhost:8080/"
        },
        "id": "b338ce4a",
        "outputId": "f1cc5af7-ab40-42dd-fc6d-893a6f30c518"
      },
      "outputs": [
        {
          "output_type": "execute_result",
          "data": {
            "text/plain": [
              "73"
            ]
          },
          "metadata": {},
          "execution_count": 89
        }
      ],
      "source": [
        "n = len(weights_male)\n",
        "sample_sums_male = [dist_male.sample(n).sum() for i in range(1001)]\n",
        "n"
      ]
    },
    {
      "cell_type": "markdown",
      "id": "799c0137",
      "metadata": {
        "id": "799c0137"
      },
      "source": [
        "The following method makes a `Normal` object that represents the distribution of the sums.\n",
        "To compute the parameters, we multiply both the mean and variance by `n`."
      ]
    },
    {
      "cell_type": "code",
      "execution_count": 90,
      "id": "e9d0e16f",
      "metadata": {
        "id": "e9d0e16f"
      },
      "outputs": [],
      "source": [
        "%%add_method_to Normal\n",
        "\n",
        "\n",
        "def sum(self, n):\n",
        "    \"\"\"Return the distribution of the sum of n values.\"\"\"\n",
        "    return Normal(n * self.mu, n * self.sigma2)"
      ]
    },
    {
      "cell_type": "markdown",
      "id": "394aef21",
      "metadata": {
        "id": "394aef21"
      },
      "source": [
        "Here's the distribution of the sum of `n` weights."
      ]
    },
    {
      "cell_type": "code",
      "execution_count": 91,
      "id": "dab094b4",
      "metadata": {
        "id": "dab094b4"
      },
      "outputs": [],
      "source": [
        "dist_sums_male = dist_male.sum(n)"
      ]
    },
    {
      "cell_type": "markdown",
      "id": "f92f17a0",
      "metadata": {
        "id": "f92f17a0"
      },
      "source": [
        "And here's how it compares to the empirical distribution of the random sample."
      ]
    },
    {
      "cell_type": "code",
      "execution_count": 92,
      "id": "47a89b6d",
      "metadata": {
        "colab": {
          "base_uri": "https://localhost:8080/",
          "height": 272
        },
        "id": "47a89b6d",
        "outputId": "a0a30071-96a0-485a-8138-49d6aa465641"
      },
      "outputs": [
        {
          "output_type": "display_data",
          "data": {
            "text/plain": [
              "<Figure size 450x262.5 with 1 Axes>"
            ],
            "image/png": "[encoded data removed]"
          },
          "metadata": {}
        }
      ],
      "source": [
        "dist_sums_male.plot_cdf(**model_options)\n",
        "Cdf.from_seq(sample_sums_male).plot(label=\"sample\")\n",
        "\n",
        "decorate(xlabel=\"Total weights (g)\", ylabel=\"CDF\")"
      ]
    },
    {
      "cell_type": "markdown",
      "id": "5088c9c2",
      "metadata": {
        "id": "5088c9c2"
      },
      "source": [
        "The analytic distribution fits the distribution of the sample, which confirms that the `sum` method is correct.\n",
        "So if we collect a sample of `n` measurements, we can compute the distribution of their sum."
      ]
    },
    {
      "cell_type": "markdown",
      "id": "ac5d17c5",
      "metadata": {
        "id": "ac5d17c5"
      },
      "source": [
        "## Distribution of Sample Means\n",
        "\n",
        "If we can compute the distribution of a sample sum, we can also compute the distribution of a sample mean.\n",
        "To do that, we'll use a third property of a normal distribution: if we multiply or divide by a constant, the result is a normal distribution.\n",
        "The following methods show how we compute the parameters of the distribution of a product or quotient."
      ]
    },
    {
      "cell_type": "code",
      "execution_count": 93,
      "id": "30b72270",
      "metadata": {
        "id": "30b72270"
      },
      "outputs": [],
      "source": [
        "%%add_method_to Normal\n",
        "\n",
        "\n",
        "def __mul__(self, factor):\n",
        "    \"\"\"Multiplies by a scalar.\"\"\"\n",
        "    return Normal(factor * self.mu, factor**2 * self.sigma2)"
      ]
    },
    {
      "cell_type": "code",
      "execution_count": 94,
      "id": "06428155",
      "metadata": {
        "id": "06428155"
      },
      "outputs": [],
      "source": [
        "%%add_method_to Normal\n",
        "\n",
        "\n",
        "def __truediv__(self, factor):\n",
        "    \"\"\"Divides by a scalar.\"\"\"\n",
        "    return self * (1 / factor)"
      ]
    },
    {
      "cell_type": "markdown",
      "id": "14e1fdc0",
      "metadata": {
        "id": "14e1fdc0"
      },
      "source": [
        "To compute the distribution of the product we multiply the mean by `factor` and the variance by the square of `factor`.\n",
        "We can use this property to compute the distribution of the sample means."
      ]
    },
    {
      "cell_type": "code",
      "execution_count": 95,
      "id": "f6f5f3e8",
      "metadata": {
        "id": "f6f5f3e8"
      },
      "outputs": [],
      "source": [
        "dist_mean_male = dist_sums_male / n"
      ]
    },
    {
      "cell_type": "markdown",
      "id": "1e438275",
      "metadata": {
        "id": "1e438275"
      },
      "source": [
        "To see if the result is correct, we'll also compute the means of the random samples."
      ]
    },
    {
      "cell_type": "code",
      "execution_count": 96,
      "id": "a80243eb",
      "metadata": {
        "id": "a80243eb"
      },
      "outputs": [],
      "source": [
        "sample_means_male = np.array(sample_sums_male) / n"
      ]
    },
    {
      "cell_type": "markdown",
      "id": "68efbe8a",
      "metadata": {
        "id": "68efbe8a"
      },
      "source": [
        "And compare the normal model to the empirical CDF of the sample means."
      ]
    },
    {
      "cell_type": "code",
      "execution_count": 97,
      "id": "d43572f9",
      "metadata": {
        "colab": {
          "base_uri": "https://localhost:8080/",
          "height": 272
        },
        "id": "d43572f9",
        "outputId": "f657e473-efbc-4534-b4e8-4008f3f7e6d3"
      },
      "outputs": [
        {
          "output_type": "display_data",
          "data": {
            "text/plain": [
              "<Figure size 450x262.5 with 1 Axes>"
            ],
            "image/png": "[encoded data removed]"
          },
          "metadata": {}
        }
      ],
      "source": [
        "dist_mean_male.plot_cdf(**model_options)\n",
        "Cdf.from_seq(sample_means_male).plot(label=\"sample\")\n",
        "\n",
        "decorate(xlabel=\"Average weight (g)\", ylabel=\"CDF\")"
      ]
    },
    {
      "cell_type": "markdown",
      "id": "f179135b",
      "metadata": {
        "id": "f179135b"
      },
      "source": [
        "The model and the simulation results agree, which shows that we can compute the distribution of the sample means analytically -- which is very fast, compared to resampling.\n",
        "\n",
        "Now that we know the sampling distribution of the mean, we can use it to compute the standard error, which is the standard deviation of the sampling distribution."
      ]
    },
    {
      "cell_type": "code",
      "execution_count": 98,
      "id": "288384ab",
      "metadata": {
        "colab": {
          "base_uri": "https://localhost:8080/"
        },
        "id": "288384ab",
        "outputId": "57b7921e-4019-4c81-89a9-b0737d61e2f9"
      },
      "outputs": [
        {
          "output_type": "execute_result",
          "data": {
            "text/plain": [
              "np.float64(40.59122204599278)"
            ]
          },
          "metadata": {},
          "execution_count": 98
        }
      ],
      "source": [
        "standard_error = np.sqrt(dist_mean_male.sigma2)\n",
        "standard_error"
      ]
    },
    {
      "cell_type": "markdown",
      "id": "8c59a783",
      "metadata": {
        "id": "8c59a783"
      },
      "source": [
        "This result suggests a shortcut we can use to compute the standard error directly, without computing the sampling distribution.\n",
        "In the sequence of steps we followed, we multiplied the variance by `n` and then divided by `n**2` -- the net effect was to divide the variance by `n`, which means we divided the standard deviation by the square root of `n`.\n",
        "\n",
        "So we can compute the standard error of the sample mean like this."
      ]
    },
    {
      "cell_type": "code",
      "execution_count": 99,
      "id": "c2ed43cb",
      "metadata": {
        "colab": {
          "base_uri": "https://localhost:8080/"
        },
        "id": "c2ed43cb",
        "outputId": "e8299adb-1c62-4032-c5a1-5f9d57f507df"
      },
      "outputs": [
        {
          "output_type": "execute_result",
          "data": {
            "text/plain": [
              "np.float64(40.59122204599278)"
            ]
          },
          "metadata": {},
          "execution_count": 99
        }
      ],
      "source": [
        "standard_error = weights_male.std() / np.sqrt(n)\n",
        "standard_error"
      ]
    },
    {
      "cell_type": "markdown",
      "id": "4f26c24d",
      "metadata": {
        "id": "4f26c24d"
      },
      "source": [
        "Now let's consider one more result we can compute with normal distributions, the distribution of differences."
      ]
    },
    {
      "cell_type": "markdown",
      "id": "d75191ea",
      "metadata": {
        "id": "d75191ea"
      },
      "source": [
        "## Distribution of Differences\n",
        "\n",
        "Putting together the steps from the previous section, here's how we can compute the distribution of sample means for the weights of the female penguins."
      ]
    },
    {
      "cell_type": "code",
      "execution_count": 100,
      "id": "dfb669f8",
      "metadata": {
        "colab": {
          "base_uri": "https://localhost:8080/"
        },
        "id": "dfb669f8",
        "outputId": "3035d9a7-a42d-4600-ed7a-08f680eca9ef"
      },
      "outputs": [
        {
          "output_type": "execute_result",
          "data": {
            "text/plain": [
              "Normal(3368.835616438356, 994.0498530055667)"
            ]
          },
          "metadata": {},
          "execution_count": 100
        }
      ],
      "source": [
        "n = len(weights_female)\n",
        "dist_mean_female = dist_female.sum(n) / n\n",
        "dist_mean_female"
      ]
    },
    {
      "cell_type": "markdown",
      "id": "e8c427ef",
      "metadata": {
        "id": "e8c427ef"
      },
      "source": [
        "Now we have sampling distributions for the average weight of male and female penguins -- let's compute the distribution of the differences.\n",
        "The following method computes the distribution of the difference between values from two normal distributions."
      ]
    },
    {
      "cell_type": "code",
      "execution_count": 101,
      "id": "ccc5b615",
      "metadata": {
        "id": "ccc5b615"
      },
      "outputs": [],
      "source": [
        "%%add_method_to Normal\n",
        "\n",
        "\n",
        "def __sub__(self, other):\n",
        "    \"\"\"Compute the distribution of a difference.\"\"\"\n",
        "    return Normal(self.mu - other.mu, self.sigma2 + other.sigma2)"
      ]
    },
    {
      "cell_type": "markdown",
      "id": "b0e41c7f",
      "metadata": {
        "id": "b0e41c7f"
      },
      "source": [
        "As you might expect, the mean of the differences is the difference of the means.\n",
        "But as you might not expect, the variance of the differences is not the difference of the variances -- it's the sum!\n",
        "To see why, imagine we perform subtraction in two steps:\n",
        "\n",
        "* If we negate the second distribution, the mean is negated but the variance is the same.\n",
        "\n",
        "* Then if we add in the first distribution, the variance of the sum is the sum of the variances.\n",
        "\n",
        "If that doesn't convince you, let's test it.\n",
        "Here's the analytic distribution of the differences."
      ]
    },
    {
      "cell_type": "code",
      "execution_count": 102,
      "id": "a5a76915",
      "metadata": {
        "colab": {
          "base_uri": "https://localhost:8080/"
        },
        "id": "a5a76915",
        "outputId": "03839f3c-4a86-4aca-c152-12ad4b26c740"
      },
      "outputs": [
        {
          "output_type": "execute_result",
          "data": {
            "text/plain": [
              "Normal(674.6575342465753, 2641.6971601926566)"
            ]
          },
          "metadata": {},
          "execution_count": 102
        }
      ],
      "source": [
        "dist_diff_means = dist_mean_male - dist_mean_female\n",
        "dist_diff_means"
      ]
    },
    {
      "cell_type": "markdown",
      "id": "3298c6aa",
      "metadata": {
        "id": "3298c6aa"
      },
      "source": [
        "And here's a random sample of differences."
      ]
    },
    {
      "cell_type": "code",
      "execution_count": 103,
      "id": "ce97b0e4",
      "metadata": {
        "id": "ce97b0e4"
      },
      "outputs": [],
      "source": [
        "sample_sums_female = [dist_female.sample(n).sum() for i in range(1001)]\n",
        "sample_means_female = np.array(sample_sums_female) / n\n",
        "sample_diff_means = sample_means_male - sample_means_female"
      ]
    },
    {
      "cell_type": "markdown",
      "id": "833be653",
      "metadata": {
        "id": "833be653"
      },
      "source": [
        "The following figure shows the empirical CDF of the random sample and the analytic CDF of the normal distribution."
      ]
    },
    {
      "cell_type": "code",
      "execution_count": 104,
      "id": "5a3c4db5",
      "metadata": {
        "scrolled": true,
        "colab": {
          "base_uri": "https://localhost:8080/",
          "height": 272
        },
        "id": "5a3c4db5",
        "outputId": "7d1b3fd1-e832-4d19-abc9-10101b432dbb"
      },
      "outputs": [
        {
          "output_type": "display_data",
          "data": {
            "text/plain": [
              "<Figure size 450x262.5 with 1 Axes>"
            ],
            "image/png": "[encoded data removed]"
          },
          "metadata": {}
        }
      ],
      "source": [
        "dist_diff_means.plot_cdf(**model_options)\n",
        "Cdf.from_seq(sample_diff_means).plot(label=\"sample\")\n",
        "\n",
        "decorate(xlabel=\"Difference in average weight (g)\", ylabel=\"CDF\")"
      ]
    },
    {
      "cell_type": "markdown",
      "id": "492d290f",
      "metadata": {
        "id": "492d290f"
      },
      "source": [
        "They agree, which confirms that we found the distribution of the differences correctly.\n",
        "We can use this distribution to compute a confidence interval for the difference in weights.\n",
        "We'll use the following method to compute the inverse CDF."
      ]
    },
    {
      "cell_type": "code",
      "execution_count": 105,
      "id": "53cf66c1",
      "metadata": {
        "id": "53cf66c1"
      },
      "outputs": [],
      "source": [
        "%%add_method_to Normal\n",
        "\n",
        "\n",
        "def ppf(self, xs):\n",
        "    sigma = np.sqrt(self.sigma2)\n",
        "    return norm.ppf(xs, self.mu, sigma)"
      ]
    },
    {
      "cell_type": "markdown",
      "id": "339941c6",
      "metadata": {
        "id": "339941c6"
      },
      "source": [
        "The 5th and 95th percentiles form a 90% confidence interval."
      ]
    },
    {
      "cell_type": "code",
      "execution_count": 106,
      "id": "21d807a4",
      "metadata": {
        "colab": {
          "base_uri": "https://localhost:8080/"
        },
        "id": "21d807a4",
        "outputId": "8af743a6-b0f0-4804-f016-fe8ca835f0d6"
      },
      "outputs": [
        {
          "output_type": "execute_result",
          "data": {
            "text/plain": [
              "array([590.1162635 , 759.19880499])"
            ]
          },
          "metadata": {},
          "execution_count": 106
        }
      ],
      "source": [
        "ci90 = dist_diff_means.ppf([0.05, 0.95])\n",
        "ci90"
      ]
    },
    {
      "cell_type": "markdown",
      "id": "57913169",
      "metadata": {
        "id": "57913169"
      },
      "source": [
        "We get approximately the same results from the random sample."
      ]
    },
    {
      "cell_type": "code",
      "execution_count": 107,
      "id": "5bcbbf0b",
      "metadata": {
        "colab": {
          "base_uri": "https://localhost:8080/"
        },
        "id": "5bcbbf0b",
        "outputId": "f14ef849-2d5b-44c1-fa4f-faecd3f7fcfc"
      },
      "outputs": [
        {
          "output_type": "execute_result",
          "data": {
            "text/plain": [
              "array([583.63021258, 761.43757695])"
            ]
          },
          "metadata": {},
          "execution_count": 107
        }
      ],
      "source": [
        "np.percentile(sample_diff_means, [5, 95])"
      ]
    },
    {
      "cell_type": "markdown",
      "id": "b34c147b",
      "metadata": {
        "id": "b34c147b"
      },
      "source": [
        "The analytic method is faster than resampling, and it is deterministic -- that is, not random.\n",
        "\n",
        "However, everything we've done so far is based on the assumption that the distribution of measurements is normal.\n",
        "That's not always true -- in fact, with real data it is never exactly true.\n",
        "But even if the distribution of the measurements isn't normal, if we add up many measurements, the distribution of their sum is often close to normal.\n",
        "That is the power of the Central Limit Theorem."
      ]
    },
    {
      "cell_type": "markdown",
      "id": "1fe595ea",
      "metadata": {
        "tags": [],
        "id": "1fe595ea"
      },
      "source": [
        "(section_central_limit_theorem)=\n",
        "## Central Limit Theorem\n",
        "\n",
        "As we saw in the previous sections, if we add values drawn from normal distributions, the distribution of the sum is normal.\n",
        "Most other distributions don't have this property -- for example, if we add values drawn from an exponential distribution, the distribution of the sum is not exponential.\n",
        "\n",
        "But for many distributions, if we generate `n` values and add them up, the distribution of the sum converges to normal as `n` increases.\n",
        "More specifically, if the distribution of the values has mean `m` and variance `s2` the distribution of the sum converges to a normal distribution with mean `n * m` and variance `n * s2`."
      ]
    },
    {
      "cell_type": "markdown",
      "id": "25a0241c",
      "metadata": {
        "id": "25a0241c"
      },
      "source": [
        "That conclusion is the Central Limit Theorem (CLT).\n",
        "It is one of the most useful tools for statistical analysis, but it comes with caveats:\n",
        "\n",
        "-   The values have to come from the same distribution (although this requirement can be relaxed).\n",
        "\n",
        "-   The values have to be drawn independently. If they are correlated, the CLT doesn't apply (although it can still work if the correlation is not too strong).\n",
        "\n",
        "-   The values have to be drawn from a distribution with finite mean and variance. So the CLT doesn't apply to some long-tailed distributions."
      ]
    },
    {
      "cell_type": "markdown",
      "id": "a64651d4",
      "metadata": {
        "id": "a64651d4"
      },
      "source": [
        "The Central Limit Theorem explains the prevalence of normal distributions in the natural world.\n",
        "Many characteristics of living things are affected by genetic and environmental factors whose effect is additive.\n",
        "The characteristics we measure are the sum of a large number of small effects, so their distribution tends to be normal.\n",
        "\n",
        "To see how the Central Limit Theorem works, and when it doesn't, let's try some experiments,\n",
        "starting with an exponential distribution.\n",
        "The following loop generates samples from an exponential distribution, adds them up, and makes a dictionary that maps from each sample size, `n`, to a list of 1001 sums."
      ]
    },
    {
      "cell_type": "code",
      "execution_count": 108,
      "id": "5345c6e2",
      "metadata": {
        "tags": [],
        "id": "5345c6e2"
      },
      "outputs": [],
      "source": [
        "np.random.seed(17)"
      ]
    },
    {
      "cell_type": "code",
      "execution_count": 109,
      "id": "c3c5b9d9",
      "metadata": {
        "id": "c3c5b9d9"
      },
      "outputs": [],
      "source": [
        "lam = 1\n",
        "df_sample_expo = pd.DataFrame()\n",
        "for n in [1, 10, 100]:\n",
        "    df_sample_expo[n] = [np.sum(np.random.exponential(lam, n)) for _ in range(1001)]"
      ]
    },
    {
      "cell_type": "markdown",
      "id": "6e6d3d30",
      "metadata": {
        "id": "6e6d3d30"
      },
      "source": [
        "Here are the averages for each list of sums."
      ]
    },
    {
      "cell_type": "code",
      "execution_count": 110,
      "id": "6c03e0d7",
      "metadata": {
        "colab": {
          "base_uri": "https://localhost:8080/",
          "height": 178
        },
        "id": "6c03e0d7",
        "outputId": "041cfaf5-fa2e-4494-894d-c659827d593b"
      },
      "outputs": [
        {
          "output_type": "execute_result",
          "data": {
            "text/plain": [
              "1        0.989885\n",
              "10       9.825744\n",
              "100    100.022555\n",
              "dtype: float64"
            ],
            "text/html": [
              "<div>\n",
              "<style scoped>\n",
              "    .dataframe tbody tr th:only-of-type {\n",
              "        vertical-align: middle;\n",
              "    }\n",
              "\n",
              "    .dataframe tbody tr th {\n",
              "        vertical-align: top;\n",
              "    }\n",
              "\n",
              "    .dataframe thead th {\n",
              "        text-align: right;\n",
              "    }\n",
              "</style>\n",
              "<table border=\"1\" class=\"dataframe\">\n",
              "  <thead>\n",
              "    <tr style=\"text-align: right;\">\n",
              "      <th></th>\n",
              "      <th>0</th>\n",
              "    </tr>\n",
              "  </thead>\n",
              "  <tbody>\n",
              "    <tr>\n",
              "      <th>1</th>\n",
              "      <td>0.989885</td>\n",
              "    </tr>\n",
              "    <tr>\n",
              "      <th>10</th>\n",
              "      <td>9.825744</td>\n",
              "    </tr>\n",
              "    <tr>\n",
              "      <th>100</th>\n",
              "      <td>100.022555</td>\n",
              "    </tr>\n",
              "  </tbody>\n",
              "</table>\n",
              "</div><br><label><b>dtype:</b> float64</label>"
            ]
          },
          "metadata": {},
          "execution_count": 110
        }
      ],
      "source": [
        "df_sample_expo.mean()"
      ]
    },
    {
      "cell_type": "markdown",
      "id": "fe1f710a",
      "metadata": {
        "id": "fe1f710a"
      },
      "source": [
        "The average value from this distribution is 1, so if we add up 10 values, the average of the sum is close to 10, and if we add up 100 values the average of the sum is close to 100."
      ]
    },
    {
      "cell_type": "markdown",
      "id": "d0231880",
      "metadata": {
        "tags": [],
        "id": "d0231880"
      },
      "source": [
        "This function takes the `DataFrame` we just made and makes a normal probability plot for each list of sums."
      ]
    },
    {
      "cell_type": "code",
      "execution_count": 111,
      "id": "8f957be2",
      "metadata": {
        "tags": [],
        "id": "8f957be2"
      },
      "outputs": [],
      "source": [
        "def normal_plot_samples(df_sample, ylabel=\"\"):\n",
        "    \"\"\"Normal probability plots for samples of sums.\"\"\"\n",
        "    plt.figure(figsize=(6.8, 2.6))\n",
        "    for i, n in enumerate(df_sample):\n",
        "        plt.subplot(1, 3, i + 1)\n",
        "        normal_probability_plot(df_sample[n])\n",
        "        decorate(\n",
        "            title=\"n=%d\" % n,\n",
        "            xticks=[],\n",
        "            yticks=[],\n",
        "            xlabel=\"Standard normal\",\n",
        "            ylabel=ylabel,\n",
        "        )"
      ]
    },
    {
      "cell_type": "markdown",
      "id": "42166062",
      "metadata": {
        "id": "42166062"
      },
      "source": [
        "The following figure shows normal probability plots for the three lists of sums (the definition of `normal_plot_samples` is in the notebook for this chapter)."
      ]
    },
    {
      "cell_type": "code",
      "execution_count": 112,
      "id": "8955b2c9",
      "metadata": {
        "colab": {
          "base_uri": "https://localhost:8080/",
          "height": 204
        },
        "id": "8955b2c9",
        "outputId": "213156ed-6fa0-42fe-c2b9-816bab21a030"
      },
      "outputs": [
        {
          "output_type": "display_data",
          "data": {
            "text/plain": [
              "<Figure size 510x195 with 3 Axes>"
            ],
            "image/png": "[encoded data removed]"
          },
          "metadata": {}
        }
      ],
      "source": [
        "normal_plot_samples(df_sample_expo, ylabel=\"Sum of exponential values\")"
      ]
    },
    {
      "cell_type": "markdown",
      "id": "0a347e4e",
      "metadata": {
        "id": "0a347e4e"
      },
      "source": [
        "When `n=1`, the distribution of the sum is exponential, so the normal probability plot is not a straight line.\n",
        "But with `n=10` the distribution of the sum is approximately normal, and with `n=100` it is almost indistinguishable from normal.\n",
        "\n",
        "For distributions that are less skewed than an exponential, the distribution of the sum converges to normal more quickly -- that is, for smaller values of `n`.\n",
        "For distributions that are more skewed, it takes longer.\n",
        "As an example, let's look at sums of values from a lognormal distribution."
      ]
    },
    {
      "cell_type": "code",
      "execution_count": 113,
      "id": "3f2234ae",
      "metadata": {
        "id": "3f2234ae"
      },
      "outputs": [],
      "source": [
        "mu, sigma = 3.0, 1.0\n",
        "df_sample_lognormal = pd.DataFrame()\n",
        "for n in [1, 10, 100]:\n",
        "    df_sample_lognormal[n] = [\n",
        "        np.sum(np.random.lognormal(mu, sigma, n)) for _ in range(1001)\n",
        "    ]"
      ]
    },
    {
      "cell_type": "markdown",
      "id": "89b97114",
      "metadata": {
        "id": "89b97114"
      },
      "source": [
        "Here are the normal probability plots for the same range of sample sizes."
      ]
    },
    {
      "cell_type": "code",
      "execution_count": 114,
      "id": "7a807d6d",
      "metadata": {
        "colab": {
          "base_uri": "https://localhost:8080/",
          "height": 204
        },
        "id": "7a807d6d",
        "outputId": "9d28f686-ad27-4962-e050-ddd003767537"
      },
      "outputs": [
        {
          "output_type": "display_data",
          "data": {
            "text/plain": [
              "<Figure size 510x195 with 3 Axes>"
            ],
            "image/png": "[encoded data removed]"
          },
          "metadata": {}
        }
      ],
      "source": [
        "normal_plot_samples(df_sample_lognormal, ylabel=\"Sum of lognormal values\")"
      ]
    },
    {
      "cell_type": "markdown",
      "id": "a3ef356c",
      "metadata": {
        "id": "a3ef356c"
      },
      "source": [
        "When `n=1`, a normal model does not fit the distribution, and it is not much better with `n=10`.\n",
        "Even with `n=100`, the tails of the distribution clearly deviate from the model.\n",
        "\n",
        "The mean and variance of the lognormal distribution are finite, so the distribution of the sum converges to normal eventually.\n",
        "But for some highly skewed distributions, it might not converge at any practical sample size.\n",
        "And in some cases, it doesn't happen at all."
      ]
    },
    {
      "cell_type": "markdown",
      "id": "d8f12f6e",
      "metadata": {
        "id": "d8f12f6e"
      },
      "source": [
        "## The Limits of the Central Limit Theorem\n",
        "\n",
        "Pareto distributions are even more skewed than lognormal.\n",
        "Depending on the parameters, some Pareto distributions do not have finite mean and variance -- in those cases, the Central Limit Theorem does not apply.\n",
        "\n",
        "To demonstrate, we'll generate values from a Pareto distribution with parameter `alpha=1`, which has infinite mean and variance."
      ]
    },
    {
      "cell_type": "code",
      "execution_count": 115,
      "id": "7f98ab93",
      "metadata": {
        "id": "7f98ab93"
      },
      "outputs": [],
      "source": [
        "alpha = 1.0\n",
        "df_sample = pd.DataFrame()\n",
        "for n in [1, 10, 100]:\n",
        "    df_sample[n] = [np.sum(np.random.pareto(alpha, n)) for _ in range(1001)]"
      ]
    },
    {
      "cell_type": "markdown",
      "id": "869e2345",
      "metadata": {
        "id": "869e2345"
      },
      "source": [
        "Here's what the normal probability plots look like for a range of sample sizes."
      ]
    },
    {
      "cell_type": "code",
      "execution_count": 116,
      "id": "5a039a30",
      "metadata": {
        "colab": {
          "base_uri": "https://localhost:8080/",
          "height": 204
        },
        "id": "5a039a30",
        "outputId": "549cd6c3-ed4c-4e52-bf8d-75540026be02"
      },
      "outputs": [
        {
          "output_type": "display_data",
          "data": {
            "text/plain": [
              "<Figure size 510x195 with 3 Axes>"
            ],
            "image/png": "[encoded data removed]"
          },
          "metadata": {}
        }
      ],
      "source": [
        "normal_plot_samples(df_sample, ylabel=\"Sum of Pareto values\")"
      ]
    },
    {
      "cell_type": "markdown",
      "id": "0cec0afd",
      "metadata": {
        "id": "0cec0afd"
      },
      "source": [
        "Even with `n=100`, the distribution of the sum is nothing like a normal distribution.\n",
        "\n",
        "I also mentioned that the CLT does not apply if the values are correlated.\n",
        "To test that, we'll use a function called `generate_expo_correlated` to generate values from an exponential distribution where the serial correlation -- that is, the correlation between successive elements in the sample -- is the given value, `rho`.\n",
        "This function is defined in the notebook for this chapter."
      ]
    },
    {
      "cell_type": "code",
      "execution_count": 117,
      "id": "7bf8b9c0",
      "metadata": {
        "tags": [],
        "id": "7bf8b9c0"
      },
      "outputs": [],
      "source": [
        "def generate_normal_correlated(n, rho):\n",
        "    \"\"\"Generates an array of correlated values from a standard normal dist.\"\"\"\n",
        "    xs = np.empty(n)\n",
        "    xs[0] = np.random.normal(0, 1)\n",
        "\n",
        "    sigma = np.sqrt(1 - rho**2)\n",
        "    for i in range(1, n):\n",
        "        xs[i] = rho * xs[i - 1] + np.random.normal(0, sigma)\n",
        "\n",
        "    return xs"
      ]
    },
    {
      "cell_type": "markdown",
      "id": "060814fb",
      "metadata": {
        "tags": [],
        "id": "060814fb"
      },
      "source": [
        "Given a correlated sequence from a normal distribution, the following function generates a correlated sequence from an exponential distribution."
      ]
    },
    {
      "cell_type": "code",
      "execution_count": 118,
      "id": "e0de13ae",
      "metadata": {
        "tags": [],
        "id": "e0de13ae"
      },
      "outputs": [],
      "source": [
        "from scipy.stats import expon\n",
        "\n",
        "\n",
        "def generate_expo_correlated(n, rho):\n",
        "    \"\"\"Generates a sequence of correlated values from an exponential dist.\"\"\"\n",
        "    normal = generate_normal_correlated(n, rho)\n",
        "    uniform = norm.cdf(normal)\n",
        "    expo = expon.ppf(uniform)\n",
        "    return expo"
      ]
    },
    {
      "cell_type": "markdown",
      "id": "40f5e287",
      "metadata": {
        "tags": [],
        "id": "40f5e287"
      },
      "source": [
        "It starts with a sequence of correlated normal values and uses the normal CDF to transform them to a sequence of values from a uniform distribution between 0 and 1.\n",
        "Then it uses the exponential inverse CDF to transform them to a sequence of exponential values."
      ]
    },
    {
      "cell_type": "markdown",
      "id": "fa600477",
      "metadata": {
        "id": "fa600477"
      },
      "source": [
        "The following loop makes a `DataFrame` with one column for each sample size and 1001 sums in each column."
      ]
    },
    {
      "cell_type": "code",
      "execution_count": 119,
      "id": "9054d1e4",
      "metadata": {
        "id": "9054d1e4"
      },
      "outputs": [],
      "source": [
        "rho = 0.8\n",
        "df_sample = pd.DataFrame()\n",
        "for n in [1, 10, 100]:\n",
        "    df_sample[n] = [np.sum(generate_expo_correlated(n, rho)) for _ in range(1001)]"
      ]
    },
    {
      "cell_type": "markdown",
      "id": "10ff357a",
      "metadata": {
        "id": "10ff357a"
      },
      "source": [
        "Here are the normal probability plots for the distribution of these sums."
      ]
    },
    {
      "cell_type": "code",
      "execution_count": 120,
      "id": "be3de5f3",
      "metadata": {
        "colab": {
          "base_uri": "https://localhost:8080/",
          "height": 204
        },
        "id": "be3de5f3",
        "outputId": "71183c36-20ec-42ee-a1a5-54b3820748c3"
      },
      "outputs": [
        {
          "output_type": "display_data",
          "data": {
            "text/plain": [
              "<Figure size 510x195 with 3 Axes>"
            ],
            "image/png": "[encoded data removed]"
          },
          "metadata": {}
        }
      ],
      "source": [
        "normal_plot_samples(df_sample, ylabel=\"Sum of correlated values\")"
      ]
    },
    {
      "cell_type": "markdown",
      "id": "0e44ca00",
      "metadata": {
        "id": "0e44ca00"
      },
      "source": [
        "With `rho=0.8`, there is a strong correlation between successive elements, and the distribution of the sum converges slowly.\n",
        "If there is also a strong correlation between distant elements of the sequence, it might not converge at all.\n",
        "\n",
        "The previous section shows that the Central Limit Theorem works, and this section shows what happens when it doesn't.\n",
        "Now let's see how we can use it."
      ]
    },
    {
      "cell_type": "markdown",
      "id": "1093a914",
      "metadata": {
        "id": "1093a914"
      },
      "source": [
        "## Applying the CLT\n",
        "\n",
        "To see why the Central Limit Theorem is useful, let's get back to the example in [Chapter 9](section_diff_means): testing the apparent difference in mean pregnancy length for first babies and others.\n",
        "We'll use the NSFG data again -- instructions for downloading it are in the notebook for this chapter."
      ]
    },
    {
      "cell_type": "markdown",
      "id": "4a245eae",
      "metadata": {
        "tags": [],
        "id": "4a245eae"
      },
      "source": [
        "The following cell downloads the data."
      ]
    },
    {
      "cell_type": "code",
      "execution_count": 121,
      "id": "eb1410e5",
      "metadata": {
        "tags": [],
        "id": "eb1410e5"
      },
      "outputs": [],
      "source": [
        "download(\"https://github.com/AllenDowney/ThinkStats/raw/v3/nb/nsfg.py\")\n",
        "download(\"https://github.com/AllenDowney/ThinkStats/raw/v3/data/2002FemPreg.dct\")\n",
        "download(\"https://github.com/AllenDowney/ThinkStats/raw/v3/data/2002FemPreg.dat.gz\")"
      ]
    },
    {
      "cell_type": "markdown",
      "id": "6e6532d8",
      "metadata": {
        "id": "6e6532d8"
      },
      "source": [
        "We'll use `get_nsfg_groups` to read the data and divide it into first babies and others."
      ]
    },
    {
      "cell_type": "code",
      "execution_count": 122,
      "id": "0e95be2a",
      "metadata": {
        "colab": {
          "base_uri": "https://localhost:8080/"
        },
        "id": "0e95be2a",
        "outputId": "06d1ae52-3ca9-40a5-fbb7-4cbf11e4ccc3"
      },
      "outputs": [
        {
          "output_type": "stream",
          "name": "stdout",
          "text": [
            "Requirement already satisfied: statadict in /usr/local/lib/python3.11/dist-packages (1.1.0)\n"
          ]
        }
      ],
      "source": [
        "!pip install  statadict\n",
        "from nsfg import get_nsfg_groups\n",
        "\n",
        "live, firsts, others = get_nsfg_groups()"
      ]
    },
    {
      "cell_type": "markdown",
      "id": "fa118107",
      "metadata": {
        "id": "fa118107"
      },
      "source": [
        "As we've seen, first babies are born a little later, on average -- the apparent difference is about 0.078 weeks."
      ]
    },
    {
      "cell_type": "code",
      "execution_count": 123,
      "id": "6564a11c",
      "metadata": {
        "colab": {
          "base_uri": "https://localhost:8080/"
        },
        "id": "6564a11c",
        "outputId": "07cb8b9f-35d0-4f7a-803d-9bc337e7da4c"
      },
      "outputs": [
        {
          "output_type": "execute_result",
          "data": {
            "text/plain": [
              "np.float64(0.07803726677754952)"
            ]
          },
          "metadata": {},
          "execution_count": 123
        }
      ],
      "source": [
        "delta = firsts[\"prglngth\"].mean() - others[\"prglngth\"].mean()\n",
        "delta"
      ]
    },
    {
      "cell_type": "markdown",
      "id": "4677bb23",
      "metadata": {
        "id": "4677bb23"
      },
      "source": [
        "To see whether this difference might have happened by chance, we'll assume as a null hypothesis that the mean and variance of pregnancy lengths is actually the same for both groups, so we can estimate it using all live births."
      ]
    },
    {
      "cell_type": "code",
      "execution_count": 124,
      "id": "b7cd0412",
      "metadata": {
        "id": "b7cd0412"
      },
      "outputs": [],
      "source": [
        "all_lengths = live[\"prglngth\"]\n",
        "m, s2 = all_lengths.mean(), all_lengths.var()"
      ]
    },
    {
      "cell_type": "markdown",
      "id": "7e52e723",
      "metadata": {
        "id": "7e52e723"
      },
      "source": [
        "The distribution of pregnancy lengths does not follow a normal distribution -- nevertheless, we can use a normal distribution to approximate the sampling distribution of the mean.\n",
        "\n",
        "The following function takes a sequence of values and returns a `Normal` object that represents the sampling distribution of the mean of a sample with the given size, `n`, drawn from a normal distribution with the same mean and variance as the data."
      ]
    },
    {
      "cell_type": "code",
      "execution_count": 125,
      "id": "fd578a55",
      "metadata": {
        "id": "fd578a55"
      },
      "outputs": [],
      "source": [
        "def sampling_dist_mean(data, n):\n",
        "    mean, var = data.mean(), data.var()\n",
        "    dist = Normal(mean, var)\n",
        "    return dist.sum(n) / n"
      ]
    },
    {
      "cell_type": "markdown",
      "id": "19cbfbec",
      "metadata": {
        "id": "19cbfbec"
      },
      "source": [
        "Here's a normal approximation to the sampling distribution of mean weight for first births, under the null hypothesis."
      ]
    },
    {
      "cell_type": "code",
      "execution_count": 126,
      "id": "c4dee8c3",
      "metadata": {
        "colab": {
          "base_uri": "https://localhost:8080/"
        },
        "id": "c4dee8c3",
        "outputId": "6a4033eb-d870-4c52-a61b-7b6dabb4de95"
      },
      "outputs": [
        {
          "output_type": "execute_result",
          "data": {
            "text/plain": [
              "np.int64(4363)"
            ]
          },
          "metadata": {},
          "execution_count": 126
        }
      ],
      "source": [
        "n1 = firsts[\"totalwgt_lb\"].count()\n",
        "dist_firsts = sampling_dist_mean(all_lengths, n1)\n",
        "n1"
      ]
    },
    {
      "cell_type": "markdown",
      "id": "8ce02922",
      "metadata": {
        "id": "8ce02922"
      },
      "source": [
        "And here's the sampling distribution for other babies."
      ]
    },
    {
      "cell_type": "code",
      "execution_count": 127,
      "id": "b3a1c17a",
      "metadata": {
        "colab": {
          "base_uri": "https://localhost:8080/"
        },
        "id": "b3a1c17a",
        "outputId": "b76eccb5-819b-47d0-f7ef-5ec9a6763931"
      },
      "outputs": [
        {
          "output_type": "execute_result",
          "data": {
            "text/plain": [
              "np.int64(4675)"
            ]
          },
          "metadata": {},
          "execution_count": 127
        }
      ],
      "source": [
        "n2 = others[\"totalwgt_lb\"].count()\n",
        "dist_others = sampling_dist_mean(all_lengths, n2)\n",
        "n2"
      ]
    },
    {
      "cell_type": "markdown",
      "id": "e712960d",
      "metadata": {
        "id": "e712960d"
      },
      "source": [
        "We can compute the sampling distribution of the difference like this."
      ]
    },
    {
      "cell_type": "code",
      "execution_count": 128,
      "id": "750e153c",
      "metadata": {
        "colab": {
          "base_uri": "https://localhost:8080/"
        },
        "id": "750e153c",
        "outputId": "7ffd7aef-7d2f-4c1d-d11a-cdd1295dee29"
      },
      "outputs": [
        {
          "output_type": "execute_result",
          "data": {
            "text/plain": [
              "Normal(0.0, 0.0032358375679305716)"
            ]
          },
          "metadata": {},
          "execution_count": 128
        }
      ],
      "source": [
        "dist_diff = dist_firsts - dist_others\n",
        "dist_diff"
      ]
    },
    {
      "cell_type": "markdown",
      "id": "85e57085",
      "metadata": {
        "id": "85e57085"
      },
      "source": [
        "The mean is 0, which makes sense because if we draw two samples from the same distribution, we expect the difference in means to be 0, on average.\n",
        "The variance of the sampling distribution is 0.0032, which indicates how much variation we expect in the difference due to chance.\n",
        "\n",
        "To confirm that this distribution approximates the sampling distribution, we can also estimate it by resampling."
      ]
    },
    {
      "cell_type": "code",
      "execution_count": 129,
      "id": "abc82799",
      "metadata": {
        "id": "abc82799"
      },
      "outputs": [],
      "source": [
        "sample_firsts = [np.random.choice(all_lengths, n1).mean() for i in range(1001)]\n",
        "sample_others = [np.random.choice(all_lengths, n2).mean() for i in range(1001)]\n",
        "sample_diffs = np.subtract(sample_firsts, sample_others)"
      ]
    },
    {
      "cell_type": "markdown",
      "id": "74e2a274",
      "metadata": {
        "id": "74e2a274"
      },
      "source": [
        "Here's the empirical CDF of the resampled differences compared to the normal model.\n",
        "The vertical dotted lines show the observed difference, positive and negative."
      ]
    },
    {
      "cell_type": "code",
      "execution_count": 130,
      "id": "abbbe574",
      "metadata": {
        "colab": {
          "base_uri": "https://localhost:8080/",
          "height": 272
        },
        "id": "abbbe574",
        "outputId": "238759fd-ddca-4445-9e41-69c957d29d9e"
      },
      "outputs": [
        {
          "output_type": "display_data",
          "data": {
            "text/plain": [
              "<Figure size 450x262.5 with 1 Axes>"
            ],
            "image/png": "[encoded data removed]"
          },
          "metadata": {}
        }
      ],
      "source": [
        "dist_diff.plot_cdf(**model_options)\n",
        "Cdf.from_seq(sample_diffs).plot(label=\"sample\")\n",
        "plt.axvline(delta, ls=\":\")\n",
        "plt.axvline(-delta, ls=\":\")\n",
        "\n",
        "decorate(xlabel=\"Difference in pregnancy length\", ylabel=\"CDF\")"
      ]
    },
    {
      "cell_type": "markdown",
      "id": "89d22318",
      "metadata": {
        "id": "89d22318"
      },
      "source": [
        "In this example, the sample sizes are large and the skewness of the measurements is modest, so the sampling distribution is well approximated by a normal distribution.\n",
        "Therefore, we can use the normal CDF to compute a p-value.\n",
        "The following method computes the CDF of a normal distribution."
      ]
    },
    {
      "cell_type": "code",
      "execution_count": 131,
      "id": "0c328609",
      "metadata": {
        "id": "0c328609"
      },
      "outputs": [],
      "source": [
        "%%add_method_to Normal\n",
        "\n",
        "\n",
        "def cdf(self, xs):\n",
        "    sigma = np.sqrt(self.sigma2)\n",
        "    return norm.cdf(xs, self.mu, sigma)"
      ]
    },
    {
      "cell_type": "markdown",
      "id": "f95cd9ca",
      "metadata": {
        "id": "f95cd9ca"
      },
      "source": [
        "Here's the probability of a difference as large as `delta` under the null hypothesis, which is the area under the right tail of the sampling distribution."
      ]
    },
    {
      "cell_type": "code",
      "execution_count": 132,
      "id": "74bf6c31",
      "metadata": {
        "colab": {
          "base_uri": "https://localhost:8080/"
        },
        "id": "74bf6c31",
        "outputId": "a30abb9e-86d6-48c4-8e78-516903a644e0"
      },
      "outputs": [
        {
          "output_type": "execute_result",
          "data": {
            "text/plain": [
              "np.float64(0.08505405315527037)"
            ]
          },
          "metadata": {},
          "execution_count": 132
        }
      ],
      "source": [
        "right = 1 - dist_diff.cdf(delta)\n",
        "right"
      ]
    },
    {
      "cell_type": "markdown",
      "id": "558c5533",
      "metadata": {
        "id": "558c5533"
      },
      "source": [
        "And here's the probability of a difference as negative as `-delta`, which is the area under the left tail."
      ]
    },
    {
      "cell_type": "code",
      "execution_count": 133,
      "id": "356d9768",
      "metadata": {
        "colab": {
          "base_uri": "https://localhost:8080/"
        },
        "id": "356d9768",
        "outputId": "8ea2c64b-56b3-485d-b458-d412020674dc"
      },
      "outputs": [
        {
          "output_type": "execute_result",
          "data": {
            "text/plain": [
              "np.float64(0.08505405315527031)"
            ]
          },
          "metadata": {},
          "execution_count": 133
        }
      ],
      "source": [
        "left = dist_diff.cdf(-delta)\n",
        "left"
      ]
    },
    {
      "cell_type": "markdown",
      "id": "f7f8b49e",
      "metadata": {
        "id": "f7f8b49e"
      },
      "source": [
        "`left` and `right` are the same because the normal distribution is symmetric.\n",
        "The sum of the two is the probability of a difference as large as `delta`, positive or negative."
      ]
    },
    {
      "cell_type": "code",
      "execution_count": 134,
      "id": "9cc48212",
      "metadata": {
        "colab": {
          "base_uri": "https://localhost:8080/"
        },
        "id": "9cc48212",
        "outputId": "426dc277-8a27-4794-e2ab-990bc7fe8ee8"
      },
      "outputs": [
        {
          "output_type": "execute_result",
          "data": {
            "text/plain": [
              "np.float64(0.17010810631054069)"
            ]
          },
          "metadata": {},
          "execution_count": 134
        }
      ],
      "source": [
        "left + right"
      ]
    },
    {
      "cell_type": "markdown",
      "id": "c7c262b4",
      "metadata": {
        "id": "c7c262b4"
      },
      "source": [
        "The resulting p-value is 0.170, which is consistent with the estimate we computed by resampling in [Chapter 9](section_diff_means).\n",
        "\n",
        "The way we computed this p-value is similar to an **independent sample $t$ test**.\n",
        "SciPy provides a function called `ttest_ind` that takes two samples and computes a p-value for the difference in their means."
      ]
    },
    {
      "cell_type": "code",
      "execution_count": 135,
      "id": "aca62308",
      "metadata": {
        "colab": {
          "base_uri": "https://localhost:8080/"
        },
        "id": "aca62308",
        "outputId": "13296fb0-44b8-45c6-eec9-2578fa39dcaf"
      },
      "outputs": [
        {
          "output_type": "execute_result",
          "data": {
            "text/plain": [
              "np.float64(0.16755412639415004)"
            ]
          },
          "metadata": {},
          "execution_count": 135
        }
      ],
      "source": [
        "from scipy.stats import ttest_ind\n",
        "\n",
        "result = ttest_ind(firsts[\"prglngth\"], others[\"prglngth\"])\n",
        "result.pvalue"
      ]
    },
    {
      "cell_type": "markdown",
      "id": "7a41a935",
      "metadata": {
        "id": "7a41a935"
      },
      "source": [
        "When the sample sizes are large, the result of the $t$ test is close to what we computed with normal distributions.\n",
        "The $t$ test is so called because it is based on a **t distribution** rather than a normal distribution.\n",
        "The $t$ distribution is also useful for testing whether a correlation is statistically significant, as we'll see in the next section."
      ]
    },
    {
      "cell_type": "markdown",
      "id": "76a90067",
      "metadata": {
        "id": "76a90067"
      },
      "source": [
        "## Correlation Test\n",
        "\n",
        "In [Chapter 9](section_test_correlation) we used a permutation test for the correlation between birth weight and mother's age, and found that it is statistically significant, with p-value less than 0.001.\n",
        "\n",
        "Now we can do the same thing analytically.\n",
        "The method is based on this mathematical result: If we generate two samples with size `n` from normal distributions, compute Pearson's correlation, `r`, and then transform the correlation with this function:"
      ]
    },
    {
      "cell_type": "code",
      "execution_count": 136,
      "id": "f093f5c6",
      "metadata": {
        "id": "f093f5c6"
      },
      "outputs": [],
      "source": [
        "def transform_correlation(r, n):\n",
        "    return r * np.sqrt((n - 2) / (1 - r**2))"
      ]
    },
    {
      "cell_type": "markdown",
      "id": "aa1082fa",
      "metadata": {
        "id": "aa1082fa"
      },
      "source": [
        "The transformed correlations follow a $t$ distribution with parameter `n-2`.\n",
        "To see what that looks like, we'll use the following function to generate uncorrelated samples from a standard normal distribution."
      ]
    },
    {
      "cell_type": "code",
      "execution_count": 137,
      "id": "1cbd4f76",
      "metadata": {
        "id": "1cbd4f76"
      },
      "outputs": [],
      "source": [
        "def generate_data(n):\n",
        "    \"\"\"Uncorrelated sequences from a standard normal.\"\"\"\n",
        "    xs = np.random.normal(0, 1, n)\n",
        "    ys = np.random.normal(0, 1, n)\n",
        "    return xs, ys"
      ]
    },
    {
      "cell_type": "markdown",
      "id": "a64d42ec",
      "metadata": {
        "id": "a64d42ec"
      },
      "source": [
        "And the following function to compute their correlation."
      ]
    },
    {
      "cell_type": "code",
      "execution_count": 138,
      "id": "459d2014",
      "metadata": {
        "id": "459d2014"
      },
      "outputs": [],
      "source": [
        "def correlation(data):\n",
        "    xs, ys = data\n",
        "    return np.corrcoef(xs, ys)[0, 1]"
      ]
    },
    {
      "cell_type": "markdown",
      "id": "2e0e089a",
      "metadata": {
        "id": "2e0e089a"
      },
      "source": [
        "The following loop generates many pairs of samples, computes their correlation, and puts the results in a list."
      ]
    },
    {
      "cell_type": "code",
      "execution_count": 139,
      "id": "bcc51c46",
      "metadata": {
        "id": "bcc51c46"
      },
      "outputs": [],
      "source": [
        "n = 100\n",
        "rs = [correlation(generate_data(n)) for i in range(1001)]"
      ]
    },
    {
      "cell_type": "markdown",
      "id": "3f3bed9a",
      "metadata": {
        "id": "3f3bed9a"
      },
      "source": [
        "Next we'll compute the transformed correlations."
      ]
    },
    {
      "cell_type": "code",
      "execution_count": 140,
      "id": "0838a9b4",
      "metadata": {
        "id": "0838a9b4"
      },
      "outputs": [],
      "source": [
        "ts = transform_correlation(np.array(rs), n)"
      ]
    },
    {
      "cell_type": "markdown",
      "id": "8f185627",
      "metadata": {
        "id": "8f185627"
      },
      "source": [
        "To check whether these `ts` follow a $t$ distribution, we'll use the following function, which makes an object that represents the CDF of a $t$ distribution."
      ]
    },
    {
      "cell_type": "code",
      "execution_count": 141,
      "id": "a5ff7e5a",
      "metadata": {
        "id": "a5ff7e5a"
      },
      "outputs": [],
      "source": [
        "from scipy.stats import t as student_t\n",
        "\n",
        "\n",
        "def make_student_cdf(df):\n",
        "    \"\"\"Computes the CDF of a Student t distribution.\"\"\"\n",
        "    ts = np.linspace(-3, 3, 101)\n",
        "    ps = student_t.cdf(ts, df=df)\n",
        "    return Cdf(ps, ts)"
      ]
    },
    {
      "cell_type": "markdown",
      "id": "62adbbfc",
      "metadata": {
        "id": "62adbbfc"
      },
      "source": [
        "The parameter of the $t$ distribution is called `df`, which stands for \"degrees of freedom\".\n",
        "The following figure shows the CDF of a $t$ distribution with parameter `n-2` along with the empirical CDF of the transformed correlations."
      ]
    },
    {
      "cell_type": "code",
      "execution_count": 142,
      "id": "433b9e2a",
      "metadata": {
        "colab": {
          "base_uri": "https://localhost:8080/",
          "height": 272
        },
        "id": "433b9e2a",
        "outputId": "85454bdd-ee2f-4c30-c94f-26762170e86d"
      },
      "outputs": [
        {
          "output_type": "display_data",
          "data": {
            "text/plain": [
              "<Figure size 450x262.5 with 1 Axes>"
            ],
            "image/png": "[encoded data removed]"
          },
          "metadata": {}
        }
      ],
      "source": [
        "make_student_cdf(df=n - 2).plot(**model_options)\n",
        "\n",
        "cdf_ts = Cdf.from_seq(ts)\n",
        "cdf_ts.plot(label=\"random normals\")\n",
        "\n",
        "decorate(xlabel=\"Transformed correlation\", ylabel=\"CDF\")"
      ]
    },
    {
      "cell_type": "markdown",
      "id": "3f9f8866",
      "metadata": {
        "id": "3f9f8866"
      },
      "source": [
        "This shows that if we draw uncorrelated samples from normal distributions, their transformed correlations follow a $t$ distribution.\n",
        "\n",
        "If we draw samples from other distributions, their transformed correlations don't follow a $t$ distribution exactly, but they converge to a $t$ distribution as the sample size increases.\n",
        "Let's see if this applies to the correlation of maternal age and birth weight.\n",
        "From the `DataFrame` of live births, we'll select the rows with valid data."
      ]
    },
    {
      "cell_type": "code",
      "execution_count": 143,
      "id": "8bff6f69",
      "metadata": {
        "colab": {
          "base_uri": "https://localhost:8080/"
        },
        "id": "8bff6f69",
        "outputId": "320b6062-3f43-4160-f93a-934e5ad50142"
      },
      "outputs": [
        {
          "output_type": "execute_result",
          "data": {
            "text/plain": [
              "9038"
            ]
          },
          "metadata": {},
          "execution_count": 143
        }
      ],
      "source": [
        "valid = live.dropna(subset=[\"agepreg\", \"totalwgt_lb\"])\n",
        "n = len(valid)\n",
        "n"
      ]
    },
    {
      "cell_type": "markdown",
      "id": "67e8beb7",
      "metadata": {
        "id": "67e8beb7"
      },
      "source": [
        "The actual correlation is about 0.07."
      ]
    },
    {
      "cell_type": "code",
      "execution_count": 144,
      "id": "af2b5f83",
      "metadata": {
        "colab": {
          "base_uri": "https://localhost:8080/"
        },
        "id": "af2b5f83",
        "outputId": "dbf07ada-66c3-4c4b-896f-cf27ad5a92ee"
      },
      "outputs": [
        {
          "output_type": "execute_result",
          "data": {
            "text/plain": [
              "np.float64(0.0688339703541091)"
            ]
          },
          "metadata": {},
          "execution_count": 144
        }
      ],
      "source": [
        "data = valid[\"agepreg\"].values, valid[\"totalwgt_lb\"].values\n",
        "r_actual = correlation(data)\n",
        "r_actual"
      ]
    },
    {
      "cell_type": "markdown",
      "id": "f9e159ce",
      "metadata": {
        "id": "f9e159ce"
      },
      "source": [
        "As we did in [Chapter 9](section_test_correlation), we can simulate the null hypothesis by permuting the samples."
      ]
    },
    {
      "cell_type": "code",
      "execution_count": 145,
      "id": "a3c281f6",
      "metadata": {
        "id": "a3c281f6"
      },
      "outputs": [],
      "source": [
        "def permute(data):\n",
        "    \"\"\"Shuffle the x values.\"\"\"\n",
        "    xs, ys = data\n",
        "    new_xs = xs.copy()\n",
        "    np.random.shuffle(new_xs)\n",
        "    return new_xs, ys"
      ]
    },
    {
      "cell_type": "markdown",
      "id": "073c8bd3",
      "metadata": {
        "id": "073c8bd3"
      },
      "source": [
        "If we generate many permutations and compute their correlations, the result is a sample from the distribution of correlations under the null hypothesis."
      ]
    },
    {
      "cell_type": "code",
      "execution_count": 146,
      "id": "8d901850",
      "metadata": {
        "id": "8d901850"
      },
      "outputs": [],
      "source": [
        "permuted_corrs = [correlation(permute(data)) for i in range(1001)]"
      ]
    },
    {
      "cell_type": "markdown",
      "id": "135fc475",
      "metadata": {
        "id": "135fc475"
      },
      "source": [
        "And we can compute the transformed correlations like this."
      ]
    },
    {
      "cell_type": "code",
      "execution_count": 147,
      "id": "167b4847",
      "metadata": {
        "id": "167b4847"
      },
      "outputs": [],
      "source": [
        "ts = transform_correlation(np.array(permuted_corrs), n)"
      ]
    },
    {
      "cell_type": "markdown",
      "id": "77383d1d",
      "metadata": {
        "id": "77383d1d"
      },
      "source": [
        "The following figure shows the empirical CDF of the `ts` along with the CDF of the $t$ distribution with parameter `n-2`."
      ]
    },
    {
      "cell_type": "code",
      "execution_count": 148,
      "id": "6bd62d55",
      "metadata": {
        "colab": {
          "base_uri": "https://localhost:8080/",
          "height": 272
        },
        "id": "6bd62d55",
        "outputId": "b64a9161-34ad-4dcd-9472-7446957fba6e"
      },
      "outputs": [
        {
          "output_type": "display_data",
          "data": {
            "text/plain": [
              "<Figure size 450x262.5 with 1 Axes>"
            ],
            "image/png": "[encoded data removed]"
          },
          "metadata": {}
        }
      ],
      "source": [
        "make_student_cdf(n - 2).plot(**model_options)\n",
        "Cdf.from_seq(ts).plot(label=\"permuted data\")\n",
        "\n",
        "decorate(xlabel=\"Transformed correlation\", ylabel=\"CDF\")"
      ]
    },
    {
      "cell_type": "markdown",
      "id": "7e529ac6",
      "metadata": {
        "id": "7e529ac6"
      },
      "source": [
        "The model fits the empirical distribution well, which means we can use it to compute a p-value for the observed correlation.\n",
        "First we'll transform the observed correlation."
      ]
    },
    {
      "cell_type": "code",
      "execution_count": 149,
      "id": "2aa20fb8",
      "metadata": {
        "id": "2aa20fb8"
      },
      "outputs": [],
      "source": [
        "t_actual = transform_correlation(r_actual, n)"
      ]
    },
    {
      "cell_type": "markdown",
      "id": "4baa82fa",
      "metadata": {
        "id": "4baa82fa"
      },
      "source": [
        "Now we can use the CDF of the $t$ distribution to compute the probability of a value as large as `t_actual` under the null hypothesis."
      ]
    },
    {
      "cell_type": "code",
      "execution_count": 150,
      "id": "561a79d0",
      "metadata": {
        "colab": {
          "base_uri": "https://localhost:8080/"
        },
        "id": "561a79d0",
        "outputId": "a9ffaafe-e668-430c-99bf-54faac593844"
      },
      "outputs": [
        {
          "output_type": "execute_result",
          "data": {
            "text/plain": [
              "np.float64(2.861466619208386e-11)"
            ]
          },
          "metadata": {},
          "execution_count": 150
        }
      ],
      "source": [
        "right = 1 - student_t.cdf(t_actual, df=n - 2)\n",
        "right"
      ]
    },
    {
      "cell_type": "markdown",
      "id": "08c27265",
      "metadata": {
        "id": "08c27265"
      },
      "source": [
        "We can also compute the probability of a value as negative as `-t_actual`."
      ]
    },
    {
      "cell_type": "code",
      "execution_count": 151,
      "id": "e52caba5",
      "metadata": {
        "colab": {
          "base_uri": "https://localhost:8080/"
        },
        "id": "e52caba5",
        "outputId": "20b6b12d-9eb3-4e37-e001-16dcd8613df9"
      },
      "outputs": [
        {
          "output_type": "execute_result",
          "data": {
            "text/plain": [
              "np.float64(2.8614735536574016e-11)"
            ]
          },
          "metadata": {},
          "execution_count": 151
        }
      ],
      "source": [
        "left = student_t.cdf(-t_actual, df=n - 2)\n",
        "left"
      ]
    },
    {
      "cell_type": "markdown",
      "id": "f7984129",
      "metadata": {
        "id": "f7984129"
      },
      "source": [
        "The sum of the two is the probability of a correlation as big as `r_actual`, positive or negative."
      ]
    },
    {
      "cell_type": "code",
      "execution_count": 152,
      "id": "32a943e8",
      "metadata": {
        "colab": {
          "base_uri": "https://localhost:8080/"
        },
        "id": "32a943e8",
        "outputId": "b3cc52d8-3fa3-4394-b2e5-1f75602abe86"
      },
      "outputs": [
        {
          "output_type": "execute_result",
          "data": {
            "text/plain": [
              "np.float64(5.722940172865787e-11)"
            ]
          },
          "metadata": {},
          "execution_count": 152
        }
      ],
      "source": [
        "left + right"
      ]
    },
    {
      "cell_type": "markdown",
      "id": "aff9bf61",
      "metadata": {
        "id": "aff9bf61"
      },
      "source": [
        "SciPy provides a function that does the same calculation and returns the p-value of the observed correlation."
      ]
    },
    {
      "cell_type": "code",
      "execution_count": 153,
      "id": "612bccac",
      "metadata": {
        "colab": {
          "base_uri": "https://localhost:8080/"
        },
        "id": "612bccac",
        "outputId": "a6e52737-5bdb-4778-af27-c4f63221a1b0"
      },
      "outputs": [
        {
          "output_type": "execute_result",
          "data": {
            "text/plain": [
              "np.float64(5.722947107314364e-11)"
            ]
          },
          "metadata": {},
          "execution_count": 153
        }
      ],
      "source": [
        "from scipy.stats import pearsonr\n",
        "\n",
        "corr, p_value = pearsonr(*data)\n",
        "p_value"
      ]
    },
    {
      "cell_type": "markdown",
      "id": "4d80df7d",
      "metadata": {
        "id": "4d80df7d"
      },
      "source": [
        "The results are nearly the same.\n",
        "\n",
        "Based on the resampling results, we concluded that the p-value was less than 0.001, but we could not say how much less without running a very large number of resamplings.\n",
        "With analytic methods, we can compute small p-values quickly.\n",
        "\n",
        "However, in practice it might not matter.\n",
        "Generally, if a p-value is smaller than 0.001, we can conclude that the observed effect is unlikely to be due to chance.\n",
        "It is not usually important to know precisely how unlikely."
      ]
    },
    {
      "cell_type": "markdown",
      "id": "c29e5091",
      "metadata": {
        "id": "c29e5091"
      },
      "source": [
        "## Chi-squared Test\n",
        "\n",
        "In [Chapter 9](section_testing_proportions) we tested whether a die is crooked, based on this set of observed outcomes."
      ]
    },
    {
      "cell_type": "code",
      "execution_count": 154,
      "id": "5b66ea48",
      "metadata": {
        "colab": {
          "base_uri": "https://localhost:8080/",
          "height": 303
        },
        "id": "5b66ea48",
        "outputId": "19398b03-7d82-44aa-e180-4d5d786a849d"
      },
      "outputs": [
        {
          "output_type": "execute_result",
          "data": {
            "text/plain": [
              "outcome\n",
              "1     8\n",
              "2     9\n",
              "3    19\n",
              "4     5\n",
              "5     8\n",
              "6    11\n",
              "dtype: int64"
            ],
            "text/html": [
              "<div>\n",
              "<style scoped>\n",
              "    .dataframe tbody tr th:only-of-type {\n",
              "        vertical-align: middle;\n",
              "    }\n",
              "\n",
              "    .dataframe tbody tr th {\n",
              "        vertical-align: top;\n",
              "    }\n",
              "\n",
              "    .dataframe thead th {\n",
              "        text-align: right;\n",
              "    }\n",
              "</style>\n",
              "<table border=\"1\" class=\"dataframe\">\n",
              "  <thead>\n",
              "    <tr style=\"text-align: right;\">\n",
              "      <th></th>\n",
              "      <th>0</th>\n",
              "    </tr>\n",
              "    <tr>\n",
              "      <th>outcome</th>\n",
              "      <th></th>\n",
              "    </tr>\n",
              "  </thead>\n",
              "  <tbody>\n",
              "    <tr>\n",
              "      <th>1</th>\n",
              "      <td>8</td>\n",
              "    </tr>\n",
              "    <tr>\n",
              "      <th>2</th>\n",
              "      <td>9</td>\n",
              "    </tr>\n",
              "    <tr>\n",
              "      <th>3</th>\n",
              "      <td>19</td>\n",
              "    </tr>\n",
              "    <tr>\n",
              "      <th>4</th>\n",
              "      <td>5</td>\n",
              "    </tr>\n",
              "    <tr>\n",
              "      <th>5</th>\n",
              "      <td>8</td>\n",
              "    </tr>\n",
              "    <tr>\n",
              "      <th>6</th>\n",
              "      <td>11</td>\n",
              "    </tr>\n",
              "  </tbody>\n",
              "</table>\n",
              "</div><br><label><b>dtype:</b> int64</label>"
            ]
          },
          "metadata": {},
          "execution_count": 154
        }
      ],
      "source": [
        "from empiricaldist import Hist\n",
        "\n",
        "qs = np.arange(1, 7)\n",
        "freqs = [8, 9, 19, 5, 8, 11]\n",
        "observed = Hist(freqs, qs)\n",
        "observed.index.name = \"outcome\"\n",
        "observed"
      ]
    },
    {
      "cell_type": "markdown",
      "id": "32eb0c94",
      "metadata": {
        "id": "32eb0c94"
      },
      "source": [
        "First we computed the expected frequency for each outcome."
      ]
    },
    {
      "cell_type": "code",
      "execution_count": 155,
      "id": "7e6e0511",
      "metadata": {
        "id": "7e6e0511"
      },
      "outputs": [],
      "source": [
        "num_rolls = observed.sum()\n",
        "outcomes = observed.qs\n",
        "expected = Hist(num_rolls / 6, outcomes)"
      ]
    },
    {
      "cell_type": "markdown",
      "id": "a104b3e1",
      "metadata": {
        "id": "a104b3e1"
      },
      "source": [
        "Then we used the following function to compute the chi-squared statistic."
      ]
    },
    {
      "cell_type": "code",
      "execution_count": 156,
      "id": "e170a976",
      "metadata": {
        "id": "e170a976"
      },
      "outputs": [],
      "source": [
        "def chi_squared_stat(observed, expected):\n",
        "    diffs = (observed - expected) ** 2\n",
        "    ratios = diffs / expected\n",
        "    return np.sum(ratios.values.flatten())"
      ]
    },
    {
      "cell_type": "code",
      "execution_count": 157,
      "id": "6f87b64b",
      "metadata": {
        "id": "6f87b64b"
      },
      "outputs": [],
      "source": [
        "observed_chi2 = chi_squared_stat(observed, expected)"
      ]
    },
    {
      "cell_type": "markdown",
      "id": "9eea3ee6",
      "metadata": {
        "id": "9eea3ee6"
      },
      "source": [
        "The chi-squared statistic is widely used for this kind of data because its sampling distribution under the null hypothesis converges to a distribution we can compute efficiently -- not coincidentally, it is called a **chi-squared distribution**.\n",
        "To see what it looks like, we'll use the following function, which simulates rolling a fair die."
      ]
    },
    {
      "cell_type": "code",
      "execution_count": 158,
      "id": "8d3a4e1b",
      "metadata": {
        "id": "8d3a4e1b"
      },
      "outputs": [],
      "source": [
        "def simulate_dice(observed):\n",
        "    n = np.sum(observed)\n",
        "    rolls = np.random.choice(observed.qs, n, replace=True)\n",
        "    hist = Hist.from_seq(rolls)\n",
        "    return hist"
      ]
    },
    {
      "cell_type": "markdown",
      "id": "122f792d",
      "metadata": {
        "id": "122f792d"
      },
      "source": [
        "The following loop runs the simulation many times and computes the chi-squared statistic of the outcomes."
      ]
    },
    {
      "cell_type": "code",
      "execution_count": 159,
      "id": "21c97c1e",
      "metadata": {
        "id": "21c97c1e"
      },
      "outputs": [],
      "source": [
        "simulated_chi_squared = [\n",
        "    chi_squared_stat(simulate_dice(observed), expected) for i in range(1001)\n",
        "]\n",
        "cdf_simulated = Cdf.from_seq(simulated_chi_squared)"
      ]
    },
    {
      "cell_type": "markdown",
      "id": "1e2806c8",
      "metadata": {
        "id": "1e2806c8"
      },
      "source": [
        "To check whether the results follow a chi-squared distribution, we'll use the following function, which computes the CDF of a chi-squared distribution with parameter `df`."
      ]
    },
    {
      "cell_type": "code",
      "execution_count": 160,
      "id": "3e2be4ba",
      "metadata": {
        "id": "3e2be4ba"
      },
      "outputs": [],
      "source": [
        "from scipy.stats import chi2 as chi2_dist\n",
        "\n",
        "\n",
        "def chi_squared_cdf(df):\n",
        "    \"\"\"Discrete approximation of the chi-squared CDF.\"\"\"\n",
        "    xs = np.linspace(0, 21, 101)\n",
        "    ps = chi2_dist.cdf(xs, df=df)\n",
        "    return Cdf(ps, xs)"
      ]
    },
    {
      "cell_type": "markdown",
      "id": "d66f4fd7",
      "metadata": {
        "id": "d66f4fd7"
      },
      "source": [
        "With `n` possible outcomes, the simulated chi-squared statistics should follow a chi-squared distribution with parameter `n-1`."
      ]
    },
    {
      "cell_type": "code",
      "execution_count": 161,
      "id": "a4801a28",
      "metadata": {
        "id": "a4801a28"
      },
      "outputs": [],
      "source": [
        "n = len(observed)\n",
        "cdf_model = chi_squared_cdf(df=n - 1)"
      ]
    },
    {
      "cell_type": "markdown",
      "id": "b84864e4",
      "metadata": {
        "id": "b84864e4"
      },
      "source": [
        "Here's the empirical CDF of the simulated chi-squared statistics along with the CDF of the chi-squared distribution."
      ]
    },
    {
      "cell_type": "code",
      "execution_count": 162,
      "id": "aca6b307",
      "metadata": {
        "colab": {
          "base_uri": "https://localhost:8080/",
          "height": 272
        },
        "id": "aca6b307",
        "outputId": "d6a47d49-4d9c-40b0-8ebe-05310d40940b"
      },
      "outputs": [
        {
          "output_type": "display_data",
          "data": {
            "text/plain": [
              "<Figure size 450x262.5 with 1 Axes>"
            ],
            "image/png": "[encoded data removed]"
          },
          "metadata": {}
        }
      ],
      "source": [
        "cdf_model.plot(**model_options)\n",
        "cdf_simulated.plot(label=\"simulation\")\n",
        "\n",
        "decorate(xlabel=\"Chi-squared statistic\", ylabel=\"CDF\")"
      ]
    },
    {
      "cell_type": "markdown",
      "id": "5c9789d9",
      "metadata": {
        "id": "5c9789d9"
      },
      "source": [
        "The model fits the simulation results well, so we can use it to compute the probability of a value as large as `observed_chi2` under the null hypothesis."
      ]
    },
    {
      "cell_type": "code",
      "execution_count": 163,
      "id": "761861dc",
      "metadata": {
        "colab": {
          "base_uri": "https://localhost:8080/"
        },
        "id": "761861dc",
        "outputId": "c589d407-0b6a-4c09-d935-07f402971fa7"
      },
      "outputs": [
        {
          "output_type": "execute_result",
          "data": {
            "text/plain": [
              "np.float64(0.04069938850404997)"
            ]
          },
          "metadata": {},
          "execution_count": 163
        }
      ],
      "source": [
        "p_value = 1 - chi2_dist.cdf(observed_chi2, df=n - 1)\n",
        "p_value"
      ]
    },
    {
      "cell_type": "markdown",
      "id": "844c297f",
      "metadata": {
        "id": "844c297f"
      },
      "source": [
        "SciPy provides a function that does the same computation."
      ]
    },
    {
      "cell_type": "code",
      "execution_count": 164,
      "id": "e924fa1e",
      "metadata": {
        "id": "e924fa1e"
      },
      "outputs": [],
      "source": [
        "from scipy.stats import chisquare\n",
        "\n",
        "chi2_stat, p_value = chisquare(f_obs=observed, f_exp=expected)"
      ]
    },
    {
      "cell_type": "markdown",
      "id": "c3cbe47e",
      "metadata": {
        "id": "c3cbe47e"
      },
      "source": [
        "The result is the same as the p-value we computed."
      ]
    },
    {
      "cell_type": "code",
      "execution_count": 165,
      "id": "f403b881",
      "metadata": {
        "colab": {
          "base_uri": "https://localhost:8080/"
        },
        "id": "f403b881",
        "outputId": "61d40fe9-55c5-4a3d-d04d-f3e91ebeeef5"
      },
      "outputs": [
        {
          "output_type": "execute_result",
          "data": {
            "text/plain": [
              "np.float64(0.040699388504049985)"
            ]
          },
          "metadata": {},
          "execution_count": 165
        }
      ],
      "source": [
        "p_value"
      ]
    },
    {
      "cell_type": "markdown",
      "id": "158635d2",
      "metadata": {
        "id": "158635d2"
      },
      "source": [
        "The advantage of the chi-squared statistic is that its distribution under the null hypothesis can be computed efficiently.\n",
        "But in context, it might not be the statistic that best quantifies the difference between the observed and expected outcomes."
      ]
    },
    {
      "cell_type": "markdown",
      "id": "9ffdd14a",
      "metadata": {
        "id": "9ffdd14a"
      },
      "source": [
        "## Computation and Analysis\n",
        "\n",
        "This book focuses on computational methods like resampling and permutation.\n",
        "These methods have several advantages over analysis:\n",
        "\n",
        "-   They are easier to explain and understand. For example, one of the most difficult topics in an introductory statistics class is hypothesis testing. Many students don't really understand what p-values are. I think the approach we took in [Chapter 9](chapter_hypothesis_testing) -- simulating the null hypothesis and computing test statistics -- makes the fundamental idea clearer.\n",
        "\n",
        "-   They are robust and versatile. Analytic methods are often based on assumptions that don't hold in practice. Computational methods require fewer assumptions, and can be adapted and extended more easily.\n",
        "\n",
        "-   They are debuggable. Analytic methods are often like a black box: you plug in numbers and they spit out results. But it's easy to make subtle errors, hard to be confident that the results are right, and hard to diagnose the problem if they are not. Computational methods lend themselves to incremental development and testing, which fosters confidence in the results."
      ]
    },
    {
      "cell_type": "markdown",
      "id": "6a568fca",
      "metadata": {
        "id": "6a568fca"
      },
      "source": [
        "But there are drawbacks:\n",
        "\n",
        "* Computational methods can be slow.\n",
        "\n",
        "* Randomized methods like resampling don't produce the same results every time, which makes it harder to check that they are correct.\n",
        "\n",
        "Taking into account these pros and cons, I recommend the following process:\n",
        "\n",
        "1.  Use computational methods during exploration. If you find a satisfactory answer and the run time is acceptable, you can stop.\n",
        "\n",
        "2.  If run time is not acceptable, look for opportunities to optimize. Using analytic methods is one of several methods of optimization.\n",
        "\n",
        "3.  If replacing a computational method with an analytic method is appropriate, use the computational method as a basis of comparison, providing mutual validation between the computational and analytic results.\n",
        "\n",
        "For many practical problems, the run time of computational methods is not a problem, and we don't have to go past the first step."
      ]
    },
    {
      "cell_type": "markdown",
      "id": "63cb74f8",
      "metadata": {
        "id": "63cb74f8"
      },
      "source": [
        "## Glossary\n",
        "\n",
        "- **normal probability plot:** A plot that compares observed values with the quantiles of a normal distribution to see how closely the data follow a normal distribution.\n",
        "\n",
        "- **independent sample $t$ test:** A method for computing the p-value of an observed difference between the means of two independent groups.\n",
        "\n",
        "- **$t$ distribution:** A distribution used to model the sampling distribution of a difference in means under the null hypothesis that the difference is 0, as well as the sampling distribution of transformed correlations.\n",
        "\n",
        "- **chi-squared distribution:** A distribution used to model the sampling distribution of the chi-squared statistic.\n",
        "\n",
        "- **chi-squared statistic:** A test statistic that quantifies the magnitude of the difference between two discrete distributions."
      ]
    },
    {
      "cell_type": "markdown",
      "id": "73e9a0da",
      "metadata": {
        "collapsed": true,
        "id": "73e9a0da"
      },
      "source": [
        "## Exercises"
      ]
    },
    {
      "cell_type": "markdown",
      "id": "c4273899",
      "metadata": {
        "id": "c4273899"
      },
      "source": [
        "### Exercise 14.1\n",
        "\n",
        "In this chapter we compared the weights of male and female penguins and computed a confidence interval for the difference.\n",
        "Now let's do the same for flipper length.\n",
        "The observed difference is about 4.6 mm."
      ]
    },
    {
      "cell_type": "code",
      "execution_count": 166,
      "id": "90ea3112",
      "metadata": {
        "colab": {
          "base_uri": "https://localhost:8080/"
        },
        "id": "90ea3112",
        "outputId": "19a5fc5a-7a75-4256-c0b3-6f835760807f"
      },
      "outputs": [
        {
          "output_type": "execute_result",
          "data": {
            "text/plain": [
              "np.float64(4.616438356164366)"
            ]
          },
          "metadata": {},
          "execution_count": 166
        }
      ],
      "source": [
        "grouped = adelie.groupby(\"Sex\")\n",
        "\n",
        "lengths_male = grouped.get_group(\"MALE\")[\"Flipper Length (mm)\"]\n",
        "lengths_female = grouped.get_group(\"FEMALE\")[\"Flipper Length (mm)\"]\n",
        "observed_diff = lengths_male.mean() - lengths_female.mean()\n",
        "observed_diff"
      ]
    },
    {
      "cell_type": "markdown",
      "id": "00b740ff",
      "metadata": {
        "id": "00b740ff"
      },
      "source": [
        "Use `sampling_dist_mean` to make `Normal` objects that represent sampling distributions for the mean flipper length in the two groups -- noting that the groups are not the same size.\n",
        "Then compute the sampling distribution of the difference and a 90% confidence interval."
      ]
    },
    {
      "cell_type": "code",
      "execution_count": 167,
      "id": "75114d77",
      "metadata": {
        "id": "75114d77"
      },
      "outputs": [],
      "source": [
        "# Solution goes here"
      ]
    },
    {
      "cell_type": "code",
      "execution_count": 168,
      "id": "c05bd9c3",
      "metadata": {
        "id": "c05bd9c3"
      },
      "outputs": [],
      "source": [
        "# Solution goes here"
      ]
    },
    {
      "cell_type": "code",
      "execution_count": 169,
      "id": "c63f5104",
      "metadata": {
        "id": "c63f5104"
      },
      "outputs": [],
      "source": [
        "# Solution goes here"
      ]
    },
    {
      "cell_type": "code",
      "execution_count": 170,
      "id": "aeba3ea5",
      "metadata": {
        "id": "aeba3ea5"
      },
      "outputs": [],
      "source": [
        "# Solution goes here"
      ]
    },
    {
      "cell_type": "code",
      "execution_count": 171,
      "id": "b6425b32",
      "metadata": {
        "id": "b6425b32"
      },
      "outputs": [],
      "source": [
        "# Solution goes here"
      ]
    },
    {
      "cell_type": "markdown",
      "id": "5e7c008e",
      "metadata": {
        "id": "5e7c008e"
      },
      "source": [
        "### Exercise 14.2\n",
        "\n",
        "Using the NSFG data, we computed the correlation between a baby's birth weight and the mother's age, and we used a $t$ distribution to compute a p-value.\n",
        "Now let's do the same with birth weight and father's age, which is recorded in the `hpagelb` column."
      ]
    },
    {
      "cell_type": "code",
      "execution_count": 172,
      "id": "609ac7a1",
      "metadata": {
        "colab": {
          "base_uri": "https://localhost:8080/"
        },
        "id": "609ac7a1",
        "outputId": "24e3ce26-225a-473b-cd49-36225b31dd1c"
      },
      "outputs": [
        {
          "output_type": "execute_result",
          "data": {
            "text/plain": [
              "8933"
            ]
          },
          "metadata": {},
          "execution_count": 172
        }
      ],
      "source": [
        "valid = live.dropna(subset=[\"hpagelb\", \"totalwgt_lb\"])\n",
        "n = len(valid)\n",
        "n"
      ]
    },
    {
      "cell_type": "markdown",
      "id": "b0f16c8a",
      "metadata": {
        "id": "b0f16c8a"
      },
      "source": [
        "The observed correlation is about 0.065."
      ]
    },
    {
      "cell_type": "code",
      "execution_count": 173,
      "id": "2498abe9",
      "metadata": {
        "colab": {
          "base_uri": "https://localhost:8080/"
        },
        "id": "2498abe9",
        "outputId": "a6461dde-cab0-4e96-d115-1edf0043fd82"
      },
      "outputs": [
        {
          "output_type": "execute_result",
          "data": {
            "text/plain": [
              "np.float64(0.06468629895432174)"
            ]
          },
          "metadata": {},
          "execution_count": 173
        }
      ],
      "source": [
        "data = valid[\"hpagelb\"].values, valid[\"totalwgt_lb\"].values\n",
        "r_actual = correlation(data)\n",
        "r_actual"
      ]
    },
    {
      "cell_type": "markdown",
      "id": "d6b9435e",
      "metadata": {
        "id": "d6b9435e"
      },
      "source": [
        "Compute the transformed correlation, `t_actual`.\n",
        "Use the CDF of the $t$ distribution to compute a p-value -- is this correlation statistically significant?\n",
        "Use the SciPy function `pearsonr` to check your results."
      ]
    },
    {
      "cell_type": "code",
      "execution_count": 174,
      "id": "a1f97e6b",
      "metadata": {
        "id": "a1f97e6b"
      },
      "outputs": [],
      "source": [
        "# Solution goes here"
      ]
    },
    {
      "cell_type": "code",
      "execution_count": 175,
      "id": "7a927896",
      "metadata": {
        "id": "7a927896"
      },
      "outputs": [],
      "source": [
        "# Solution goes here"
      ]
    },
    {
      "cell_type": "code",
      "execution_count": 176,
      "id": "af04a9f7",
      "metadata": {
        "id": "af04a9f7"
      },
      "outputs": [],
      "source": [
        "# Solution goes here"
      ]
    },
    {
      "cell_type": "markdown",
      "id": "38991254",
      "metadata": {
        "id": "38991254"
      },
      "source": [
        "### Exercise 14.3\n",
        "\n",
        "In one of the exercises in [Chapter 9](chapter_hypothesis_testing) we considered the Trivers-Willard hypothesis, which suggests that for many mammals the sex ratio depends on \"maternal condition\" -- that is, factors like the mother's age, size, health, and social status.\n",
        "Some studies have shown this effect among humans, but results are mixed.\n",
        "\n",
        "As an example, and a chance to practice a chi-squared test, let's see if there's a relationship between the sex of a baby and the mother's marital status.\n",
        "The notebook for this chapter has instructions to help you get started."
      ]
    },
    {
      "cell_type": "markdown",
      "id": "a666cc01",
      "metadata": {
        "tags": [],
        "id": "a666cc01"
      },
      "source": [
        "First we'll partition mothers of male and female babies."
      ]
    },
    {
      "cell_type": "code",
      "execution_count": 177,
      "id": "c8fde0a8",
      "metadata": {
        "tags": [],
        "id": "c8fde0a8"
      },
      "outputs": [],
      "source": [
        "male = live.query(\"babysex == 1\")\n",
        "female = live.query(\"babysex == 2\")"
      ]
    },
    {
      "cell_type": "markdown",
      "id": "79253118",
      "metadata": {
        "tags": [],
        "id": "79253118"
      },
      "source": [
        "Now we'll make a `DataFrame` with one column for each group and one row for each value of `fmarital`, which encodes marital status like this:\n",
        "\n",
        "```\n",
        "1  married\n",
        "2  widowed\n",
        "3  divorces\n",
        "4  separated\n",
        "5  never married\n",
        "```"
      ]
    },
    {
      "cell_type": "code",
      "execution_count": 178,
      "id": "3518a7f7",
      "metadata": {
        "tags": [],
        "colab": {
          "base_uri": "https://localhost:8080/",
          "height": 237
        },
        "id": "3518a7f7",
        "outputId": "a1da0662-a22e-40b4-8bc5-fa864f3de44c"
      },
      "outputs": [
        {
          "output_type": "execute_result",
          "data": {
            "text/plain": [
              "          male  female\n",
              "fmarital              \n",
              "1         2576    2559\n",
              "2           56      54\n",
              "3          568     572\n",
              "4          355     330\n",
              "5         1086     985"
            ],
            "text/html": [
              "\n",
              "  <div id=\"df-ae606557-02f5-41c6-8d1b-32b4a5150f0d\" class=\"colab-df-container\">\n",
              "    <div>\n",
              "<style scoped>\n",
              "    .dataframe tbody tr th:only-of-type {\n",
              "        vertical-align: middle;\n",
              "    }\n",
              "\n",
              "    .dataframe tbody tr th {\n",
              "        vertical-align: top;\n",
              "    }\n",
              "\n",
              "    .dataframe thead th {\n",
              "        text-align: right;\n",
              "    }\n",
              "</style>\n",
              "<table border=\"1\" class=\"dataframe\">\n",
              "  <thead>\n",
              "    <tr style=\"text-align: right;\">\n",
              "      <th></th>\n",
              "      <th>male</th>\n",
              "      <th>female</th>\n",
              "    </tr>\n",
              "    <tr>\n",
              "      <th>fmarital</th>\n",
              "      <th></th>\n",
              "      <th></th>\n",
              "    </tr>\n",
              "  </thead>\n",
              "  <tbody>\n",
              "    <tr>\n",
              "      <th>1</th>\n",
              "      <td>2576</td>\n",
              "      <td>2559</td>\n",
              "    </tr>\n",
              "    <tr>\n",
              "      <th>2</th>\n",
              "      <td>56</td>\n",
              "      <td>54</td>\n",
              "    </tr>\n",
              "    <tr>\n",
              "      <th>3</th>\n",
              "      <td>568</td>\n",
              "      <td>572</td>\n",
              "    </tr>\n",
              "    <tr>\n",
              "      <th>4</th>\n",
              "      <td>355</td>\n",
              "      <td>330</td>\n",
              "    </tr>\n",
              "    <tr>\n",
              "      <th>5</th>\n",
              "      <td>1086</td>\n",
              "      <td>985</td>\n",
              "    </tr>\n",
              "  </tbody>\n",
              "</table>\n",
              "</div>\n",
              "    <div class=\"colab-df-buttons\">\n",
              "\n",
              "  <div class=\"colab-df-container\">\n",
              "    <button class=\"colab-df-convert\" onclick=\"convertToInteractive('df-ae606557-02f5-41c6-8d1b-32b4a5150f0d')\"\n",
              "            title=\"Convert this dataframe to an interactive table.\"\n",
              "            style=\"display:none;\">\n",
              "\n",
              "  <svg xmlns=\"http://www.w3.org/2000/svg\" height=\"24px\" viewBox=\"0 -960 960 960\">\n",
              "    <path d=\"M120-120v-720h720v720H120Zm60-500h600v-160H180v160Zm220 220h160v-160H400v160Zm0 220h160v-160H400v160ZM180-400h160v-160H180v160Zm440 0h160v-160H620v160ZM180-180h160v-160H180v160Zm440 0h160v-160H620v160Z\"/>\n",
              "  </svg>\n",
              "    </button>\n",
              "\n",
              "  <style>\n",
              "    .colab-df-container {\n",
              "      display:flex;\n",
              "      gap: 12px;\n",
              "    }\n",
              "\n",
              "    .colab-df-convert {\n",
              "      background-color: #E8F0FE;\n",
              "      border: none;\n",
              "      border-radius: 50%;\n",
              "      cursor: pointer;\n",
              "      display: none;\n",
              "      fill: #1967D2;\n",
              "      height: 32px;\n",
              "      padding: 0 0 0 0;\n",
              "      width: 32px;\n",
              "    }\n",
              "\n",
              "    .colab-df-convert:hover {\n",
              "      background-color: #E2EBFA;\n",
              "      box-shadow: 0px 1px 2px rgba(60, 64, 67, 0.3), 0px 1px 3px 1px rgba(60, 64, 67, 0.15);\n",
              "      fill: #174EA6;\n",
              "    }\n",
              "\n",
              "    .colab-df-buttons div {\n",
              "      margin-bottom: 4px;\n",
              "    }\n",
              "\n",
              "    [theme=dark] .colab-df-convert {\n",
              "      background-color: #3B4455;\n",
              "      fill: #D2E3FC;\n",
              "    }\n",
              "\n",
              "    [theme=dark] .colab-df-convert:hover {\n",
              "      background-color: #434B5C;\n",
              "      box-shadow: 0px 1px 3px 1px rgba(0, 0, 0, 0.15);\n",
              "      filter: drop-shadow(0px 1px 2px rgba(0, 0, 0, 0.3));\n",
              "      fill: #FFFFFF;\n",
              "    }\n",
              "  </style>\n",
              "\n",
              "    <script>\n",
              "      const buttonEl =\n",
              "        document.querySelector('#df-ae606557-02f5-41c6-8d1b-32b4a5150f0d button.colab-df-convert');\n",
              "      buttonEl.style.display =\n",
              "        google.colab.kernel.accessAllowed ? 'block' : 'none';\n",
              "\n",
              "      async function convertToInteractive(key) {\n",
              "        const element = document.querySelector('#df-ae606557-02f5-41c6-8d1b-32b4a5150f0d');\n",
              "        const dataTable =\n",
              "          await google.colab.kernel.invokeFunction('convertToInteractive',\n",
              "                                                    [key], {});\n",
              "        if (!dataTable) return;\n",
              "\n",
              "        const docLinkHtml = 'Like what you see? Visit the ' +\n",
              "          '<a target=\"_blank\" href=https://colab.research.google.com/notebooks/data_table.ipynb>data table notebook</a>'\n",
              "          + ' to learn more about interactive tables.';\n",
              "        element.innerHTML = '';\n",
              "        dataTable['output_type'] = 'display_data';\n",
              "        await google.colab.output.renderOutput(dataTable, element);\n",
              "        const docLink = document.createElement('div');\n",
              "        docLink.innerHTML = docLinkHtml;\n",
              "        element.appendChild(docLink);\n",
              "      }\n",
              "    </script>\n",
              "  </div>\n",
              "\n",
              "\n",
              "    <div id=\"df-051ed3ff-e222-4d55-a0af-1d7f969c2836\">\n",
              "      <button class=\"colab-df-quickchart\" onclick=\"quickchart('df-051ed3ff-e222-4d55-a0af-1d7f969c2836')\"\n",
              "                title=\"Suggest charts\"\n",
              "                style=\"display:none;\">\n",
              "\n",
              "<svg xmlns=\"http://www.w3.org/2000/svg\" height=\"24px\"viewBox=\"0 0 24 24\"\n",
              "     width=\"24px\">\n",
              "    <g>\n",
              "        <path d=\"M19 3H5c-1.1 0-2 .9-2 2v14c0 1.1.9 2 2 2h14c1.1 0 2-.9 2-2V5c0-1.1-.9-2-2-2zM9 17H7v-7h2v7zm4 0h-2V7h2v10zm4 0h-2v-4h2v4z\"/>\n",
              "    </g>\n",
              "</svg>\n",
              "      </button>\n",
              "\n",
              "<style>\n",
              "  .colab-df-quickchart {\n",
              "      --bg-color: #E8F0FE;\n",
              "      --fill-color: #1967D2;\n",
              "      --hover-bg-color: #E2EBFA;\n",
              "      --hover-fill-color: #174EA6;\n",
              "      --disabled-fill-color: #AAA;\n",
              "      --disabled-bg-color: #DDD;\n",
              "  }\n",
              "\n",
              "  [theme=dark] .colab-df-quickchart {\n",
              "      --bg-color: #3B4455;\n",
              "      --fill-color: #D2E3FC;\n",
              "      --hover-bg-color: #434B5C;\n",
              "      --hover-fill-color: #FFFFFF;\n",
              "      --disabled-bg-color: #3B4455;\n",
              "      --disabled-fill-color: #666;\n",
              "  }\n",
              "\n",
              "  .colab-df-quickchart {\n",
              "    background-color: var(--bg-color);\n",
              "    border: none;\n",
              "    border-radius: 50%;\n",
              "    cursor: pointer;\n",
              "    display: none;\n",
              "    fill: var(--fill-color);\n",
              "    height: 32px;\n",
              "    padding: 0;\n",
              "    width: 32px;\n",
              "  }\n",
              "\n",
              "  .colab-df-quickchart:hover {\n",
              "    background-color: var(--hover-bg-color);\n",
              "    box-shadow: 0 1px 2px rgba(60, 64, 67, 0.3), 0 1px 3px 1px rgba(60, 64, 67, 0.15);\n",
              "    fill: var(--button-hover-fill-color);\n",
              "  }\n",
              "\n",
              "  .colab-df-quickchart-complete:disabled,\n",
              "  .colab-df-quickchart-complete:disabled:hover {\n",
              "    background-color: var(--disabled-bg-color);\n",
              "    fill: var(--disabled-fill-color);\n",
              "    box-shadow: none;\n",
              "  }\n",
              "\n",
              "  .colab-df-spinner {\n",
              "    border: 2px solid var(--fill-color);\n",
              "    border-color: transparent;\n",
              "    border-bottom-color: var(--fill-color);\n",
              "    animation:\n",
              "      spin 1s steps(1) infinite;\n",
              "  }\n",
              "\n",
              "  @keyframes spin {\n",
              "    0% {\n",
              "      border-color: transparent;\n",
              "      border-bottom-color: var(--fill-color);\n",
              "      border-left-color: var(--fill-color);\n",
              "    }\n",
              "    20% {\n",
              "      border-color: transparent;\n",
              "      border-left-color: var(--fill-color);\n",
              "      border-top-color: var(--fill-color);\n",
              "    }\n",
              "    30% {\n",
              "      border-color: transparent;\n",
              "      border-left-color: var(--fill-color);\n",
              "      border-top-color: var(--fill-color);\n",
              "      border-right-color: var(--fill-color);\n",
              "    }\n",
              "    40% {\n",
              "      border-color: transparent;\n",
              "      border-right-color: var(--fill-color);\n",
              "      border-top-color: var(--fill-color);\n",
              "    }\n",
              "    60% {\n",
              "      border-color: transparent;\n",
              "      border-right-color: var(--fill-color);\n",
              "    }\n",
              "    80% {\n",
              "      border-color: transparent;\n",
              "      border-right-color: var(--fill-color);\n",
              "      border-bottom-color: var(--fill-color);\n",
              "    }\n",
              "    90% {\n",
              "      border-color: transparent;\n",
              "      border-bottom-color: var(--fill-color);\n",
              "    }\n",
              "  }\n",
              "</style>\n",
              "\n",
              "      <script>\n",
              "        async function quickchart(key) {\n",
              "          const quickchartButtonEl =\n",
              "            document.querySelector('#' + key + ' button');\n",
              "          quickchartButtonEl.disabled = true;  // To prevent multiple clicks.\n",
              "          quickchartButtonEl.classList.add('colab-df-spinner');\n",
              "          try {\n",
              "            const charts = await google.colab.kernel.invokeFunction(\n",
              "                'suggestCharts', [key], {});\n",
              "          } catch (error) {\n",
              "            console.error('Error during call to suggestCharts:', error);\n",
              "          }\n",
              "          quickchartButtonEl.classList.remove('colab-df-spinner');\n",
              "          quickchartButtonEl.classList.add('colab-df-quickchart-complete');\n",
              "        }\n",
              "        (() => {\n",
              "          let quickchartButtonEl =\n",
              "            document.querySelector('#df-051ed3ff-e222-4d55-a0af-1d7f969c2836 button');\n",
              "          quickchartButtonEl.style.display =\n",
              "            google.colab.kernel.accessAllowed ? 'block' : 'none';\n",
              "        })();\n",
              "      </script>\n",
              "    </div>\n",
              "\n",
              "  <div id=\"id_0135e045-0aa0-4e9b-8699-d3c7f68d2466\">\n",
              "    <style>\n",
              "      .colab-df-generate {\n",
              "        background-color: #E8F0FE;\n",
              "        border: none;\n",
              "        border-radius: 50%;\n",
              "        cursor: pointer;\n",
              "        display: none;\n",
              "        fill: #1967D2;\n",
              "        height: 32px;\n",
              "        padding: 0 0 0 0;\n",
              "        width: 32px;\n",
              "      }\n",
              "\n",
              "      .colab-df-generate:hover {\n",
              "        background-color: #E2EBFA;\n",
              "        box-shadow: 0px 1px 2px rgba(60, 64, 67, 0.3), 0px 1px 3px 1px rgba(60, 64, 67, 0.15);\n",
              "        fill: #174EA6;\n",
              "      }\n",
              "\n",
              "      [theme=dark] .colab-df-generate {\n",
              "        background-color: #3B4455;\n",
              "        fill: #D2E3FC;\n",
              "      }\n",
              "\n",
              "      [theme=dark] .colab-df-generate:hover {\n",
              "        background-color: #434B5C;\n",
              "        box-shadow: 0px 1px 3px 1px rgba(0, 0, 0, 0.15);\n",
              "        filter: drop-shadow(0px 1px 2px rgba(0, 0, 0, 0.3));\n",
              "        fill: #FFFFFF;\n",
              "      }\n",
              "    </style>\n",
              "    <button class=\"colab-df-generate\" onclick=\"generateWithVariable('observed')\"\n",
              "            title=\"Generate code using this dataframe.\"\n",
              "            style=\"display:none;\">\n",
              "\n",
              "  <svg xmlns=\"http://www.w3.org/2000/svg\" height=\"24px\"viewBox=\"0 0 24 24\"\n",
              "       width=\"24px\">\n",
              "    <path d=\"M7,19H8.4L18.45,9,17,7.55,7,17.6ZM5,21V16.75L18.45,3.32a2,2,0,0,1,2.83,0l1.4,1.43a1.91,1.91,0,0,1,.58,1.4,1.91,1.91,0,0,1-.58,1.4L9.25,21ZM18.45,9,17,7.55Zm-12,3A5.31,5.31,0,0,0,4.9,8.1,5.31,5.31,0,0,0,1,6.5,5.31,5.31,0,0,0,4.9,4.9,5.31,5.31,0,0,0,6.5,1,5.31,5.31,0,0,0,8.1,4.9,5.31,5.31,0,0,0,12,6.5,5.46,5.46,0,0,0,6.5,12Z\"/>\n",
              "  </svg>\n",
              "    </button>\n",
              "    <script>\n",
              "      (() => {\n",
              "      const buttonEl =\n",
              "        document.querySelector('#id_0135e045-0aa0-4e9b-8699-d3c7f68d2466 button.colab-df-generate');\n",
              "      buttonEl.style.display =\n",
              "        google.colab.kernel.accessAllowed ? 'block' : 'none';\n",
              "\n",
              "      buttonEl.onclick = () => {\n",
              "        google.colab.notebook.generateWithVariable('observed');\n",
              "      }\n",
              "      })();\n",
              "    </script>\n",
              "  </div>\n",
              "\n",
              "    </div>\n",
              "  </div>\n"
            ],
            "application/vnd.google.colaboratory.intrinsic+json": {
              "type": "dataframe",
              "variable_name": "observed",
              "summary": "{\n  \"name\": \"observed\",\n  \"rows\": 5,\n  \"fields\": [\n    {\n      \"column\": \"fmarital\",\n      \"properties\": {\n        \"dtype\": \"number\",\n        \"std\": 1,\n        \"min\": 1,\n        \"max\": 5,\n        \"num_unique_values\": 5,\n        \"samples\": [\n          2,\n          5,\n          3\n        ],\n        \"semantic_type\": \"\",\n        \"description\": \"\"\n      }\n    },\n    {\n      \"column\": \"male\",\n      \"properties\": {\n        \"dtype\": \"number\",\n        \"std\": 994,\n        \"min\": 56,\n        \"max\": 2576,\n        \"num_unique_values\": 5,\n        \"samples\": [\n          56,\n          1086,\n          568\n        ],\n        \"semantic_type\": \"\",\n        \"description\": \"\"\n      }\n    },\n    {\n      \"column\": \"female\",\n      \"properties\": {\n        \"dtype\": \"number\",\n        \"std\": 988,\n        \"min\": 54,\n        \"max\": 2559,\n        \"num_unique_values\": 5,\n        \"samples\": [\n          54,\n          985,\n          572\n        ],\n        \"semantic_type\": \"\",\n        \"description\": \"\"\n      }\n    }\n  ]\n}"
            }
          },
          "metadata": {},
          "execution_count": 178
        }
      ],
      "source": [
        "observed = pd.DataFrame()\n",
        "observed[\"male\"] = male[\"fmarital\"].value_counts().sort_index()\n",
        "observed[\"female\"] = female[\"fmarital\"].value_counts().sort_index()\n",
        "observed"
      ]
    },
    {
      "cell_type": "markdown",
      "id": "7928f300",
      "metadata": {
        "tags": [],
        "id": "7928f300"
      },
      "source": [
        "The null hypothesis is that the distribution of marital status is the same for both groups, so we can use the whole dataset to compute it."
      ]
    },
    {
      "cell_type": "code",
      "execution_count": 179,
      "id": "005067e7",
      "metadata": {
        "tags": [],
        "colab": {
          "base_uri": "https://localhost:8080/",
          "height": 255
        },
        "id": "005067e7",
        "outputId": "f80b8a7a-5427-4ec3-d975-ea473343deab"
      },
      "outputs": [
        {
          "output_type": "execute_result",
          "data": {
            "text/plain": [
              "fmarital\n",
              "1    0.561653\n",
              "2    0.012024\n",
              "3    0.124617\n",
              "4    0.075208\n",
              "5    0.226498\n",
              "Name: , dtype: float64"
            ],
            "text/html": [
              "<div>\n",
              "<style scoped>\n",
              "    .dataframe tbody tr th:only-of-type {\n",
              "        vertical-align: middle;\n",
              "    }\n",
              "\n",
              "    .dataframe tbody tr th {\n",
              "        vertical-align: top;\n",
              "    }\n",
              "\n",
              "    .dataframe thead th {\n",
              "        text-align: right;\n",
              "    }\n",
              "</style>\n",
              "<table border=\"1\" class=\"dataframe\">\n",
              "  <thead>\n",
              "    <tr style=\"text-align: right;\">\n",
              "      <th></th>\n",
              "      <th></th>\n",
              "    </tr>\n",
              "    <tr>\n",
              "      <th>fmarital</th>\n",
              "      <th></th>\n",
              "    </tr>\n",
              "  </thead>\n",
              "  <tbody>\n",
              "    <tr>\n",
              "      <th>1</th>\n",
              "      <td>0.561653</td>\n",
              "    </tr>\n",
              "    <tr>\n",
              "      <th>2</th>\n",
              "      <td>0.012024</td>\n",
              "    </tr>\n",
              "    <tr>\n",
              "      <th>3</th>\n",
              "      <td>0.124617</td>\n",
              "    </tr>\n",
              "    <tr>\n",
              "      <th>4</th>\n",
              "      <td>0.075208</td>\n",
              "    </tr>\n",
              "    <tr>\n",
              "      <th>5</th>\n",
              "      <td>0.226498</td>\n",
              "    </tr>\n",
              "  </tbody>\n",
              "</table>\n",
              "</div><br><label><b>dtype:</b> float64</label>"
            ]
          },
          "metadata": {},
          "execution_count": 179
        }
      ],
      "source": [
        "from empiricaldist import Pmf\n",
        "\n",
        "pmf_fmarital = Pmf.from_seq(live[\"fmarital\"])\n",
        "pmf_fmarital"
      ]
    },
    {
      "cell_type": "markdown",
      "id": "a996752f",
      "metadata": {
        "tags": [],
        "id": "a996752f"
      },
      "source": [
        "To compute the expected values, we multiply the probabilities in `pmf_marital` by the total number of cases in each column."
      ]
    },
    {
      "cell_type": "code",
      "execution_count": 180,
      "id": "67b30bc6",
      "metadata": {
        "tags": [],
        "colab": {
          "base_uri": "https://localhost:8080/",
          "height": 237
        },
        "id": "67b30bc6",
        "outputId": "909de650-9cbb-4acf-a5aa-ce6823f0ffa7"
      },
      "outputs": [
        {
          "output_type": "execute_result",
          "data": {
            "text/plain": [
              "                 male       female\n",
              "fmarital                          \n",
              "1         2606.630739  2527.437691\n",
              "2           55.805641    54.110188\n",
              "3          578.349366   560.778312\n",
              "4          349.038916   338.434631\n",
              "5         1051.175339  1019.239178"
            ],
            "text/html": [
              "\n",
              "  <div id=\"df-b26b0cc0-6993-4d9b-97aa-82e513a00e77\" class=\"colab-df-container\">\n",
              "    <div>\n",
              "<style scoped>\n",
              "    .dataframe tbody tr th:only-of-type {\n",
              "        vertical-align: middle;\n",
              "    }\n",
              "\n",
              "    .dataframe tbody tr th {\n",
              "        vertical-align: top;\n",
              "    }\n",
              "\n",
              "    .dataframe thead th {\n",
              "        text-align: right;\n",
              "    }\n",
              "</style>\n",
              "<table border=\"1\" class=\"dataframe\">\n",
              "  <thead>\n",
              "    <tr style=\"text-align: right;\">\n",
              "      <th></th>\n",
              "      <th>male</th>\n",
              "      <th>female</th>\n",
              "    </tr>\n",
              "    <tr>\n",
              "      <th>fmarital</th>\n",
              "      <th></th>\n",
              "      <th></th>\n",
              "    </tr>\n",
              "  </thead>\n",
              "  <tbody>\n",
              "    <tr>\n",
              "      <th>1</th>\n",
              "      <td>2606.630739</td>\n",
              "      <td>2527.437691</td>\n",
              "    </tr>\n",
              "    <tr>\n",
              "      <th>2</th>\n",
              "      <td>55.805641</td>\n",
              "      <td>54.110188</td>\n",
              "    </tr>\n",
              "    <tr>\n",
              "      <th>3</th>\n",
              "      <td>578.349366</td>\n",
              "      <td>560.778312</td>\n",
              "    </tr>\n",
              "    <tr>\n",
              "      <th>4</th>\n",
              "      <td>349.038916</td>\n",
              "      <td>338.434631</td>\n",
              "    </tr>\n",
              "    <tr>\n",
              "      <th>5</th>\n",
              "      <td>1051.175339</td>\n",
              "      <td>1019.239178</td>\n",
              "    </tr>\n",
              "  </tbody>\n",
              "</table>\n",
              "</div>\n",
              "    <div class=\"colab-df-buttons\">\n",
              "\n",
              "  <div class=\"colab-df-container\">\n",
              "    <button class=\"colab-df-convert\" onclick=\"convertToInteractive('df-b26b0cc0-6993-4d9b-97aa-82e513a00e77')\"\n",
              "            title=\"Convert this dataframe to an interactive table.\"\n",
              "            style=\"display:none;\">\n",
              "\n",
              "  <svg xmlns=\"http://www.w3.org/2000/svg\" height=\"24px\" viewBox=\"0 -960 960 960\">\n",
              "    <path d=\"M120-120v-720h720v720H120Zm60-500h600v-160H180v160Zm220 220h160v-160H400v160Zm0 220h160v-160H400v160ZM180-400h160v-160H180v160Zm440 0h160v-160H620v160ZM180-180h160v-160H180v160Zm440 0h160v-160H620v160Z\"/>\n",
              "  </svg>\n",
              "    </button>\n",
              "\n",
              "  <style>\n",
              "    .colab-df-container {\n",
              "      display:flex;\n",
              "      gap: 12px;\n",
              "    }\n",
              "\n",
              "    .colab-df-convert {\n",
              "      background-color: #E8F0FE;\n",
              "      border: none;\n",
              "      border-radius: 50%;\n",
              "      cursor: pointer;\n",
              "      display: none;\n",
              "      fill: #1967D2;\n",
              "      height: 32px;\n",
              "      padding: 0 0 0 0;\n",
              "      width: 32px;\n",
              "    }\n",
              "\n",
              "    .colab-df-convert:hover {\n",
              "      background-color: #E2EBFA;\n",
              "      box-shadow: 0px 1px 2px rgba(60, 64, 67, 0.3), 0px 1px 3px 1px rgba(60, 64, 67, 0.15);\n",
              "      fill: #174EA6;\n",
              "    }\n",
              "\n",
              "    .colab-df-buttons div {\n",
              "      margin-bottom: 4px;\n",
              "    }\n",
              "\n",
              "    [theme=dark] .colab-df-convert {\n",
              "      background-color: #3B4455;\n",
              "      fill: #D2E3FC;\n",
              "    }\n",
              "\n",
              "    [theme=dark] .colab-df-convert:hover {\n",
              "      background-color: #434B5C;\n",
              "      box-shadow: 0px 1px 3px 1px rgba(0, 0, 0, 0.15);\n",
              "      filter: drop-shadow(0px 1px 2px rgba(0, 0, 0, 0.3));\n",
              "      fill: #FFFFFF;\n",
              "    }\n",
              "  </style>\n",
              "\n",
              "    <script>\n",
              "      const buttonEl =\n",
              "        document.querySelector('#df-b26b0cc0-6993-4d9b-97aa-82e513a00e77 button.colab-df-convert');\n",
              "      buttonEl.style.display =\n",
              "        google.colab.kernel.accessAllowed ? 'block' : 'none';\n",
              "\n",
              "      async function convertToInteractive(key) {\n",
              "        const element = document.querySelector('#df-b26b0cc0-6993-4d9b-97aa-82e513a00e77');\n",
              "        const dataTable =\n",
              "          await google.colab.kernel.invokeFunction('convertToInteractive',\n",
              "                                                    [key], {});\n",
              "        if (!dataTable) return;\n",
              "\n",
              "        const docLinkHtml = 'Like what you see? Visit the ' +\n",
              "          '<a target=\"_blank\" href=https://colab.research.google.com/notebooks/data_table.ipynb>data table notebook</a>'\n",
              "          + ' to learn more about interactive tables.';\n",
              "        element.innerHTML = '';\n",
              "        dataTable['output_type'] = 'display_data';\n",
              "        await google.colab.output.renderOutput(dataTable, element);\n",
              "        const docLink = document.createElement('div');\n",
              "        docLink.innerHTML = docLinkHtml;\n",
              "        element.appendChild(docLink);\n",
              "      }\n",
              "    </script>\n",
              "  </div>\n",
              "\n",
              "\n",
              "    <div id=\"df-3db3fffd-8e74-4ce9-a244-1cb7e671da54\">\n",
              "      <button class=\"colab-df-quickchart\" onclick=\"quickchart('df-3db3fffd-8e74-4ce9-a244-1cb7e671da54')\"\n",
              "                title=\"Suggest charts\"\n",
              "                style=\"display:none;\">\n",
              "\n",
              "<svg xmlns=\"http://www.w3.org/2000/svg\" height=\"24px\"viewBox=\"0 0 24 24\"\n",
              "     width=\"24px\">\n",
              "    <g>\n",
              "        <path d=\"M19 3H5c-1.1 0-2 .9-2 2v14c0 1.1.9 2 2 2h14c1.1 0 2-.9 2-2V5c0-1.1-.9-2-2-2zM9 17H7v-7h2v7zm4 0h-2V7h2v10zm4 0h-2v-4h2v4z\"/>\n",
              "    </g>\n",
              "</svg>\n",
              "      </button>\n",
              "\n",
              "<style>\n",
              "  .colab-df-quickchart {\n",
              "      --bg-color: #E8F0FE;\n",
              "      --fill-color: #1967D2;\n",
              "      --hover-bg-color: #E2EBFA;\n",
              "      --hover-fill-color: #174EA6;\n",
              "      --disabled-fill-color: #AAA;\n",
              "      --disabled-bg-color: #DDD;\n",
              "  }\n",
              "\n",
              "  [theme=dark] .colab-df-quickchart {\n",
              "      --bg-color: #3B4455;\n",
              "      --fill-color: #D2E3FC;\n",
              "      --hover-bg-color: #434B5C;\n",
              "      --hover-fill-color: #FFFFFF;\n",
              "      --disabled-bg-color: #3B4455;\n",
              "      --disabled-fill-color: #666;\n",
              "  }\n",
              "\n",
              "  .colab-df-quickchart {\n",
              "    background-color: var(--bg-color);\n",
              "    border: none;\n",
              "    border-radius: 50%;\n",
              "    cursor: pointer;\n",
              "    display: none;\n",
              "    fill: var(--fill-color);\n",
              "    height: 32px;\n",
              "    padding: 0;\n",
              "    width: 32px;\n",
              "  }\n",
              "\n",
              "  .colab-df-quickchart:hover {\n",
              "    background-color: var(--hover-bg-color);\n",
              "    box-shadow: 0 1px 2px rgba(60, 64, 67, 0.3), 0 1px 3px 1px rgba(60, 64, 67, 0.15);\n",
              "    fill: var(--button-hover-fill-color);\n",
              "  }\n",
              "\n",
              "  .colab-df-quickchart-complete:disabled,\n",
              "  .colab-df-quickchart-complete:disabled:hover {\n",
              "    background-color: var(--disabled-bg-color);\n",
              "    fill: var(--disabled-fill-color);\n",
              "    box-shadow: none;\n",
              "  }\n",
              "\n",
              "  .colab-df-spinner {\n",
              "    border: 2px solid var(--fill-color);\n",
              "    border-color: transparent;\n",
              "    border-bottom-color: var(--fill-color);\n",
              "    animation:\n",
              "      spin 1s steps(1) infinite;\n",
              "  }\n",
              "\n",
              "  @keyframes spin {\n",
              "    0% {\n",
              "      border-color: transparent;\n",
              "      border-bottom-color: var(--fill-color);\n",
              "      border-left-color: var(--fill-color);\n",
              "    }\n",
              "    20% {\n",
              "      border-color: transparent;\n",
              "      border-left-color: var(--fill-color);\n",
              "      border-top-color: var(--fill-color);\n",
              "    }\n",
              "    30% {\n",
              "      border-color: transparent;\n",
              "      border-left-color: var(--fill-color);\n",
              "      border-top-color: var(--fill-color);\n",
              "      border-right-color: var(--fill-color);\n",
              "    }\n",
              "    40% {\n",
              "      border-color: transparent;\n",
              "      border-right-color: var(--fill-color);\n",
              "      border-top-color: var(--fill-color);\n",
              "    }\n",
              "    60% {\n",
              "      border-color: transparent;\n",
              "      border-right-color: var(--fill-color);\n",
              "    }\n",
              "    80% {\n",
              "      border-color: transparent;\n",
              "      border-right-color: var(--fill-color);\n",
              "      border-bottom-color: var(--fill-color);\n",
              "    }\n",
              "    90% {\n",
              "      border-color: transparent;\n",
              "      border-bottom-color: var(--fill-color);\n",
              "    }\n",
              "  }\n",
              "</style>\n",
              "\n",
              "      <script>\n",
              "        async function quickchart(key) {\n",
              "          const quickchartButtonEl =\n",
              "            document.querySelector('#' + key + ' button');\n",
              "          quickchartButtonEl.disabled = true;  // To prevent multiple clicks.\n",
              "          quickchartButtonEl.classList.add('colab-df-spinner');\n",
              "          try {\n",
              "            const charts = await google.colab.kernel.invokeFunction(\n",
              "                'suggestCharts', [key], {});\n",
              "          } catch (error) {\n",
              "            console.error('Error during call to suggestCharts:', error);\n",
              "          }\n",
              "          quickchartButtonEl.classList.remove('colab-df-spinner');\n",
              "          quickchartButtonEl.classList.add('colab-df-quickchart-complete');\n",
              "        }\n",
              "        (() => {\n",
              "          let quickchartButtonEl =\n",
              "            document.querySelector('#df-3db3fffd-8e74-4ce9-a244-1cb7e671da54 button');\n",
              "          quickchartButtonEl.style.display =\n",
              "            google.colab.kernel.accessAllowed ? 'block' : 'none';\n",
              "        })();\n",
              "      </script>\n",
              "    </div>\n",
              "\n",
              "  <div id=\"id_d7dd1c8d-c6d5-455a-b6b5-f82e8981678a\">\n",
              "    <style>\n",
              "      .colab-df-generate {\n",
              "        background-color: #E8F0FE;\n",
              "        border: none;\n",
              "        border-radius: 50%;\n",
              "        cursor: pointer;\n",
              "        display: none;\n",
              "        fill: #1967D2;\n",
              "        height: 32px;\n",
              "        padding: 0 0 0 0;\n",
              "        width: 32px;\n",
              "      }\n",
              "\n",
              "      .colab-df-generate:hover {\n",
              "        background-color: #E2EBFA;\n",
              "        box-shadow: 0px 1px 2px rgba(60, 64, 67, 0.3), 0px 1px 3px 1px rgba(60, 64, 67, 0.15);\n",
              "        fill: #174EA6;\n",
              "      }\n",
              "\n",
              "      [theme=dark] .colab-df-generate {\n",
              "        background-color: #3B4455;\n",
              "        fill: #D2E3FC;\n",
              "      }\n",
              "\n",
              "      [theme=dark] .colab-df-generate:hover {\n",
              "        background-color: #434B5C;\n",
              "        box-shadow: 0px 1px 3px 1px rgba(0, 0, 0, 0.15);\n",
              "        filter: drop-shadow(0px 1px 2px rgba(0, 0, 0, 0.3));\n",
              "        fill: #FFFFFF;\n",
              "      }\n",
              "    </style>\n",
              "    <button class=\"colab-df-generate\" onclick=\"generateWithVariable('expected')\"\n",
              "            title=\"Generate code using this dataframe.\"\n",
              "            style=\"display:none;\">\n",
              "\n",
              "  <svg xmlns=\"http://www.w3.org/2000/svg\" height=\"24px\"viewBox=\"0 0 24 24\"\n",
              "       width=\"24px\">\n",
              "    <path d=\"M7,19H8.4L18.45,9,17,7.55,7,17.6ZM5,21V16.75L18.45,3.32a2,2,0,0,1,2.83,0l1.4,1.43a1.91,1.91,0,0,1,.58,1.4,1.91,1.91,0,0,1-.58,1.4L9.25,21ZM18.45,9,17,7.55Zm-12,3A5.31,5.31,0,0,0,4.9,8.1,5.31,5.31,0,0,0,1,6.5,5.31,5.31,0,0,0,4.9,4.9,5.31,5.31,0,0,0,6.5,1,5.31,5.31,0,0,0,8.1,4.9,5.31,5.31,0,0,0,12,6.5,5.46,5.46,0,0,0,6.5,12Z\"/>\n",
              "  </svg>\n",
              "    </button>\n",
              "    <script>\n",
              "      (() => {\n",
              "      const buttonEl =\n",
              "        document.querySelector('#id_d7dd1c8d-c6d5-455a-b6b5-f82e8981678a button.colab-df-generate');\n",
              "      buttonEl.style.display =\n",
              "        google.colab.kernel.accessAllowed ? 'block' : 'none';\n",
              "\n",
              "      buttonEl.onclick = () => {\n",
              "        google.colab.notebook.generateWithVariable('expected');\n",
              "      }\n",
              "      })();\n",
              "    </script>\n",
              "  </div>\n",
              "\n",
              "    </div>\n",
              "  </div>\n"
            ],
            "application/vnd.google.colaboratory.intrinsic+json": {
              "type": "dataframe",
              "variable_name": "expected",
              "summary": "{\n  \"name\": \"expected\",\n  \"rows\": 5,\n  \"fields\": [\n    {\n      \"column\": \"fmarital\",\n      \"properties\": {\n        \"dtype\": \"number\",\n        \"std\": 1,\n        \"min\": 1,\n        \"max\": 5,\n        \"num_unique_values\": 5,\n        \"samples\": [\n          2,\n          5,\n          3\n        ],\n        \"semantic_type\": \"\",\n        \"description\": \"\"\n      }\n    },\n    {\n      \"column\": \"male\",\n      \"properties\": {\n        \"dtype\": \"number\",\n        \"std\": 1006.3731447134661,\n        \"min\": 55.80564057717534,\n        \"max\": 2606.6307389593353,\n        \"num_unique_values\": 5,\n        \"samples\": [\n          55.80564057717534,\n          1051.1753388718846,\n          578.3493659816353\n        ],\n        \"semantic_type\": \"\",\n        \"description\": \"\"\n      }\n    },\n    {\n      \"column\": \"female\",\n      \"properties\": {\n        \"dtype\": \"number\",\n        \"std\": 975.7981364383963,\n        \"min\": 54.11018801923918,\n        \"max\": 2527.4376912986445,\n        \"num_unique_values\": 5,\n        \"samples\": [\n          54.11018801923918,\n          1019.2391779623961,\n          560.7783121993879\n        ],\n        \"semantic_type\": \"\",\n        \"description\": \"\"\n      }\n    }\n  ]\n}"
            }
          },
          "metadata": {},
          "execution_count": 180
        }
      ],
      "source": [
        "expected = pd.DataFrame()\n",
        "expected[\"male\"] = pmf_fmarital * observed[\"male\"].sum()\n",
        "expected[\"female\"] = pmf_fmarital * observed[\"female\"].sum()\n",
        "expected"
      ]
    },
    {
      "cell_type": "markdown",
      "id": "f4ba5492",
      "metadata": {
        "tags": [],
        "id": "f4ba5492"
      },
      "source": [
        "Use `observed` and `expected` to compute a chi-squared statistic.\n",
        "Then use the CDF of the chi-squared distribution to compute a p-value.\n",
        "The degrees of freedom should be `n-1`, where `n` is the number of values in the observed `DataFrame`.\n",
        "Then use the SciPy function `chisquared` to compute the chi-squared statistic and p-value.\n",
        "Hint: use the argument `axis=None` to treat the entire `DataFrame` as a single test rather than one test for each column.\n",
        "\n",
        "Does this test provide support for the Trivers-Willard hypothesis?"
      ]
    },
    {
      "cell_type": "code",
      "execution_count": 181,
      "id": "3c584452",
      "metadata": {
        "id": "3c584452"
      },
      "outputs": [],
      "source": [
        "# Solution goes here"
      ]
    },
    {
      "cell_type": "code",
      "execution_count": 182,
      "id": "fbe52b8d",
      "metadata": {
        "id": "fbe52b8d"
      },
      "outputs": [],
      "source": [
        "# Solution goes here"
      ]
    },
    {
      "cell_type": "code",
      "execution_count": 183,
      "id": "d82cc9f2",
      "metadata": {
        "id": "d82cc9f2"
      },
      "outputs": [],
      "source": [
        "# Solution goes here"
      ]
    },
    {
      "cell_type": "code",
      "execution_count": 184,
      "id": "e7d15cea",
      "metadata": {
        "id": "e7d15cea"
      },
      "outputs": [],
      "source": [
        "# Solution goes here"
      ]
    },
    {
      "cell_type": "code",
      "execution_count": 185,
      "id": "33e34fd2",
      "metadata": {
        "id": "33e34fd2"
      },
      "outputs": [],
      "source": [
        "# Solution goes here"
      ]
    },
    {
      "cell_type": "markdown",
      "id": "1f4d4102",
      "metadata": {
        "id": "1f4d4102"
      },
      "source": [
        "### Exercise 14.4\n",
        "\n",
        "The method we used in this chapter to analyze differences between groups can be extended to analyze \"differences in differences\", which is a common experimental design.\n",
        "As an example, we'll use data from a 2014 paper that investigates the effects of an intervention intended to mitigate gender-stereotypical task allocation within student engineering teams."
      ]
    },
    {
      "cell_type": "markdown",
      "id": "8573a5be",
      "metadata": {
        "tags": [],
        "id": "8573a5be"
      },
      "source": [
        "Stein, L. A., Aragon, D., Moreno, D., & Goodman, J. (2014, October). Evidence for the persistent effects of an intervention to mitigate gender-stereotypical task allocation within student engineering teams. In *2014 IEEE Frontiers in Education Conference (FIE) Proceedings* (pp. 1-9). IEEE.\n",
        "\n",
        "Available from <http://ieeexplore.ieee.org/document/7044435/>."
      ]
    },
    {
      "cell_type": "markdown",
      "id": "c8623c0d",
      "metadata": {
        "id": "c8623c0d"
      },
      "source": [
        "Before and after the intervention, students responded to a survey that asked them to rate their contribution to each aspect of class projects on a 7-point scale.\n",
        "\n",
        "Before the intervention, male students reported higher scores for the programming aspect of the projects than female students: men reported an average score of 3.57 with standard error 0.28; women reported an average score of 1.91 with standard error 0.32.\n",
        "\n",
        "After the intervention, the gender gap was smaller: the average score for men was 3.44 (SE 0.16); the average score for women was 3.18 (SE 0.16).\n",
        "\n",
        "1. Make four `Normal` objects to represent the sampling distributions of the estimated means before and after the intervention, for both male and female students. Because we have standard errors for the estimated means, we don't need to know the sample size to get the parameters of the sampling distributions.\n",
        "\n",
        "2. Compute the sampling distributions of the gender gap -- the difference in means -- before and after the intervention.\n",
        "\n",
        "3. Then compute the sampling distribution of the difference in differences -- that is, the change in the size of the gap. Compute a 95% confidence interval and a p-value.\n",
        "\n",
        "Is there evidence that the size of the gender gap decreased after the intervention?"
      ]
    },
    {
      "cell_type": "code",
      "execution_count": 186,
      "id": "ef290a97",
      "metadata": {
        "id": "ef290a97"
      },
      "outputs": [],
      "source": [
        "# Solution goes here"
      ]
    },
    {
      "cell_type": "code",
      "execution_count": 187,
      "id": "327daf88",
      "metadata": {
        "id": "327daf88"
      },
      "outputs": [],
      "source": [
        "# Solution goes here"
      ]
    },
    {
      "cell_type": "code",
      "execution_count": 188,
      "id": "feb8e71c",
      "metadata": {
        "id": "feb8e71c"
      },
      "outputs": [],
      "source": [
        "# Solution goes here"
      ]
    },
    {
      "cell_type": "code",
      "execution_count": 189,
      "id": "d3476d14",
      "metadata": {
        "id": "d3476d14"
      },
      "outputs": [],
      "source": [
        "# Solution goes here"
      ]
    },
    {
      "cell_type": "code",
      "execution_count": 190,
      "id": "834ffcc1",
      "metadata": {
        "id": "834ffcc1"
      },
      "outputs": [],
      "source": [
        "# Solution goes here"
      ]
    },
    {
      "cell_type": "markdown",
      "id": "e27da3a4",
      "metadata": {
        "tags": [],
        "id": "e27da3a4"
      },
      "source": [
        "[Think Stats: Exploratory Data Analysis in Python, 3rd Edition](https://allendowney.github.io/ThinkStats/index.html)\n",
        "\n",
        "Copyright 2024 [Allen B. Downey](https://allendowney.com)\n",
        "\n",
        "Code license: [MIT License](https://mit-license.org/)\n",
        "\n",
        "Text license: [Creative Commons Attribution-NonCommercial-ShareAlike 4.0 International](https://creativecommons.org/licenses/by-nc-sa/4.0/)"
      ]
    }
  ],
  "metadata": {
    "celltoolbar": "Tags",
    "kernelspec": {
      "display_name": "Python 3 (ipykernel)",
      "language": "python",
      "name": "python3"
    },
    "language_info": {
      "codemirror_mode": {
        "name": "ipython",
        "version": 3
      },
      "file_extension": ".py",
      "mimetype": "text/x-python",
      "name": "python",
      "nbconvert_exporter": "python",
      "pygments_lexer": "ipython3",
      "version": "3.11.0"
    },
    "colab": {
      "provenance": [],
      "include_colab_link": true
    }
  },
  "nbformat": 4,
  "nbformat_minor": 5
}