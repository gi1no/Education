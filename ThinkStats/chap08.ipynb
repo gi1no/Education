{
  "cells": [
    {
      "cell_type": "markdown",
      "id": "418e407e",
      "metadata": {
        "id": "418e407e"
      },
      "source": [
        "The third edition of *Think Stats* is available now from [Bookshop.org](https://bookshop.org/a/98697/9781098190255) and [Amazon](https://amzn.to/42lmxwu) (those are affiliate links). If you are enjoying the free, online version, consider [buying me a coffee](https://buymeacoffee.com/allendowney)."
      ]
    },
    {
      "cell_type": "markdown",
      "id": "b8bba8eb",
      "metadata": {
        "id": "b8bba8eb"
      },
      "source": [
        "# Estimation\n",
        "\n",
        "Suppose you live in a town with a population of 10,000 people, and you want to predict who will win an upcoming election.\n",
        "In theory, you could ask everyone in town who they plan to vote for, and if they all answered honestly, you could make a reliable prediction.\n",
        "\n",
        "But even in a small town, it is probably not practical to survey the entire population.\n",
        "Fortunately, is it not necessary.\n",
        "If you survey a random subset of the people, you can use the sample to infer the voting preferences of the population.\n",
        "This process -- using a sample to make inferences about a population -- is called statistical inference.\n",
        "\n",
        "Statistical inference includes estimation, which is the topic of this chapter, and hypothesis testing, which is the topic of the next chapter."
      ]
    },
    {
      "cell_type": "markdown",
      "id": "17920223",
      "metadata": {
        "tags": [],
        "id": "17920223"
      },
      "source": [
        "[Click here to run this notebook on Colab](https://colab.research.google.com/github/AllenDowney/ThinkStats/blob/v3/nb/chap08.ipynb)."
      ]
    },
    {
      "cell_type": "code",
      "execution_count": 1,
      "id": "cddf1967",
      "metadata": {
        "tags": [],
        "id": "cddf1967"
      },
      "outputs": [],
      "source": [
        "from os.path import basename, exists\n",
        "\n",
        "\n",
        "def download(url):\n",
        "    filename = basename(url)\n",
        "    if not exists(filename):\n",
        "        from urllib.request import urlretrieve\n",
        "\n",
        "        local, _ = urlretrieve(url, filename)\n",
        "        print(\"Downloaded \" + local)\n",
        "\n",
        "\n",
        "download(\"https://github.com/AllenDowney/ThinkStats/raw/v3/nb/thinkstats.py\")"
      ]
    },
    {
      "cell_type": "code",
      "execution_count": 2,
      "id": "b96294dc",
      "metadata": {
        "tags": [],
        "id": "b96294dc"
      },
      "outputs": [],
      "source": [
        "try:\n",
        "    import empiricaldist\n",
        "except ImportError:\n",
        "    %pip install empiricaldist"
      ]
    },
    {
      "cell_type": "code",
      "execution_count": 3,
      "id": "bb3a6450",
      "metadata": {
        "tags": [],
        "id": "bb3a6450"
      },
      "outputs": [],
      "source": [
        "import numpy as np\n",
        "import pandas as pd\n",
        "import matplotlib.pyplot as plt\n",
        "\n",
        "from thinkstats import decorate"
      ]
    },
    {
      "cell_type": "markdown",
      "id": "e4bb0892",
      "metadata": {
        "tags": [],
        "id": "e4bb0892"
      },
      "source": [
        "(section_weighing_penguins)=\n",
        "## Weighing Penguins\n",
        "\n",
        "Suppose you are a researcher in Antarctica, studying local populations of penguins.\n",
        "One of your tasks is to monitor the average weight of the penguins as it varies over the course of the year.\n",
        "It would be impractical to weigh every penguin in the environment, so your plan is to collect a random sample of 10 penguins each week, weigh them, and use the sample to estimate the mean of the entire population -- which is called the **population mean**.\n",
        "\n",
        "There are many ways you could use the sample to estimate the population mean, but we'll consider just two: the sample mean and the sample median.\n",
        "They are both reasonable choices, but let's see which is better -- and think about what we mean by \"better\".\n",
        "\n",
        "For purposes of demonstration, we'll assume that penguin weights are drawn from a normal distribution with known mean and standard deviation, which I'll denote `mu` and `sigma` and assign values in kilograms."
      ]
    },
    {
      "cell_type": "code",
      "execution_count": 4,
      "id": "4229791a",
      "metadata": {
        "id": "4229791a"
      },
      "outputs": [],
      "source": [
        "mu = 3.7\n",
        "sigma = 0.46"
      ]
    },
    {
      "cell_type": "markdown",
      "id": "c32c96c1",
      "metadata": {
        "id": "c32c96c1"
      },
      "source": [
        "These values are the **parameters** of the normal distribution, which means that they specify a particular distribution.\n",
        "Given these parameters, we can use NumPy to simulate the sampling process and generate a sample of any size.\n",
        "For example, here's a hypothetical sample of 10 weights."
      ]
    },
    {
      "cell_type": "code",
      "execution_count": 5,
      "id": "1c632733",
      "metadata": {
        "tags": [],
        "id": "1c632733"
      },
      "outputs": [],
      "source": [
        "# Seed the random number generator so we get the same results every time\n",
        "np.random.seed(1)"
      ]
    },
    {
      "cell_type": "code",
      "execution_count": 6,
      "id": "f2429fdd",
      "metadata": {
        "id": "f2429fdd",
        "outputId": "ab39580c-3b36-484a-f8aa-248cabd93835",
        "colab": {
          "base_uri": "https://localhost:8080/"
        }
      },
      "outputs": [
        {
          "output_type": "execute_result",
          "data": {
            "text/plain": [
              "array([4.44719887, 3.41859205, 3.45704099, 3.20643443, 4.09808751,\n",
              "       2.6412922 , 4.50261341, 3.34984483, 3.84675798, 3.58528963])"
            ]
          },
          "metadata": {},
          "execution_count": 6
        }
      ],
      "source": [
        "sample = np.random.normal(mu, sigma, size=10)\n",
        "sample"
      ]
    },
    {
      "cell_type": "markdown",
      "id": "64cb97f8",
      "metadata": {
        "id": "64cb97f8"
      },
      "source": [
        "And here are the mean and median of the sample."
      ]
    },
    {
      "cell_type": "code",
      "execution_count": 7,
      "id": "bd68824a",
      "metadata": {
        "id": "bd68824a",
        "outputId": "6b441986-bd20-4089-9557-c214a69abc93",
        "colab": {
          "base_uri": "https://localhost:8080/"
        }
      },
      "outputs": [
        {
          "output_type": "execute_result",
          "data": {
            "text/plain": [
              "(np.float64(3.6553151902291945), np.float64(3.521165310619601))"
            ]
          },
          "metadata": {},
          "execution_count": 7
        }
      ],
      "source": [
        "np.mean(sample), np.median(sample)"
      ]
    },
    {
      "cell_type": "markdown",
      "id": "7dacf078",
      "metadata": {
        "id": "7dacf078"
      },
      "source": [
        "The mean and median are different enough that we should wonder which is a better estimate.\n",
        "To find out, we'll use the following function to generate hypothetical samples with the given size, `n`."
      ]
    },
    {
      "cell_type": "code",
      "execution_count": 8,
      "id": "5283fcbb",
      "metadata": {
        "id": "5283fcbb"
      },
      "outputs": [],
      "source": [
        "def make_sample(n):\n",
        "    return np.random.normal(mu, sigma, size=n)"
      ]
    },
    {
      "cell_type": "markdown",
      "id": "8751c2aa",
      "metadata": {
        "id": "8751c2aa"
      },
      "source": [
        "As a first experiment, let's see how the sample mean and sample median behave as the sample size increases.\n",
        "We'll use the NumPy function `logspace` to make a range of `ns` from 10 to 100,000, equally spaced on a logarithmic scale."
      ]
    },
    {
      "cell_type": "code",
      "execution_count": 9,
      "id": "7f7baff5",
      "metadata": {
        "id": "7f7baff5"
      },
      "outputs": [],
      "source": [
        "ns = np.logspace(1, 5).astype(int)"
      ]
    },
    {
      "cell_type": "markdown",
      "id": "0aa40e96",
      "metadata": {
        "id": "0aa40e96"
      },
      "source": [
        "We can use a list comprehension to generate a hypothetical sample for each value of `n`, compute the mean, and collect the results:"
      ]
    },
    {
      "cell_type": "code",
      "execution_count": 10,
      "id": "158c8c57",
      "metadata": {
        "id": "158c8c57"
      },
      "outputs": [],
      "source": [
        "means = [np.mean(make_sample(n)) for n in ns]"
      ]
    },
    {
      "cell_type": "markdown",
      "id": "58f75dca",
      "metadata": {
        "id": "58f75dca"
      },
      "source": [
        "And we'll do the same for the median."
      ]
    },
    {
      "cell_type": "code",
      "execution_count": 11,
      "id": "19649a68",
      "metadata": {
        "id": "19649a68"
      },
      "outputs": [],
      "source": [
        "medians = [np.median(make_sample(n)) for n in ns]"
      ]
    },
    {
      "cell_type": "markdown",
      "id": "645bebae",
      "metadata": {
        "id": "645bebae"
      },
      "source": [
        "A statistic, like the sample mean or median, that's used to estimate a property of a population is called an **estimator**.\n",
        "\n",
        "The following figure shows how these estimators behave as we increase the sample size.\n",
        "The horizontal line shows the actual mean in the population."
      ]
    },
    {
      "cell_type": "code",
      "execution_count": 12,
      "id": "ab87f873",
      "metadata": {
        "id": "ab87f873",
        "outputId": "713b0413-2d0e-496a-aebc-a394e74c6ec3",
        "colab": {
          "base_uri": "https://localhost:8080/",
          "height": 271
        }
      },
      "outputs": [
        {
          "output_type": "display_data",
          "data": {
            "text/plain": [
              "<Figure size 450x262.5 with 1 Axes>"
            ],
            "image/png": "[encoded data removed]"
          },
          "metadata": {}
        }
      ],
      "source": [
        "plt.axhline(mu, color=\"gray\", lw=1, alpha=0.5)\n",
        "plt.plot(ns, means, \"--\", label=\"mean\")\n",
        "plt.plot(ns, medians, alpha=0.5, label=\"median\")\n",
        "\n",
        "decorate(xlabel=\"Sample size\", xscale=\"log\", ylabel=\"Estimate\")"
      ]
    },
    {
      "cell_type": "markdown",
      "id": "eac134e5",
      "metadata": {
        "id": "eac134e5"
      },
      "source": [
        "For both estimators, the estimates converge to the actual value as the sample size increases.\n",
        "This demonstrates that they are **consistent**, which is one of the properties a good estimator should have.\n",
        "Based on this property, the mean and median seem equally good.\n",
        "\n",
        "In the previous figure, you might notice that the estimates are sometimes too high and sometimes too low -- and it looks like the variation is roughly symmetric around the true value.\n",
        "That suggests another experiment: if we collect many samples with the same size and compute many estimates, what is the average of the estimates?\n",
        "\n",
        "The following loop simulates this scenario by generating 10,001 samples of 10 penguins and computing the mean of each sample."
      ]
    },
    {
      "cell_type": "code",
      "execution_count": 13,
      "id": "581aea3f",
      "metadata": {
        "id": "581aea3f",
        "outputId": "a7dcd90e-2206-4da4-c4ca-d63b080d9a30",
        "colab": {
          "base_uri": "https://localhost:8080/"
        }
      },
      "outputs": [
        {
          "output_type": "execute_result",
          "data": {
            "text/plain": [
              "np.float64(3.70034508492869)"
            ]
          },
          "metadata": {},
          "execution_count": 13
        }
      ],
      "source": [
        "means = [np.mean(make_sample(n=10)) for i in range(10001)]\n",
        "np.mean(means)"
      ]
    },
    {
      "cell_type": "markdown",
      "id": "7d703c58",
      "metadata": {
        "id": "7d703c58"
      },
      "source": [
        "The average of the means is close to the actual mean we used to generate the samples: 3.7 kg.\n",
        "\n",
        "The following loop simulates the same scenario, but this time it computes the median of each sample."
      ]
    },
    {
      "cell_type": "code",
      "execution_count": 14,
      "id": "ecf9f53b",
      "metadata": {
        "id": "ecf9f53b",
        "outputId": "ed801fa1-7363-49a4-a14f-f3c0b553f714",
        "colab": {
          "base_uri": "https://localhost:8080/"
        }
      },
      "outputs": [
        {
          "output_type": "execute_result",
          "data": {
            "text/plain": [
              "np.float64(3.701214089907223)"
            ]
          },
          "metadata": {},
          "execution_count": 14
        }
      ],
      "source": [
        "medians = [np.median(make_sample(n=10)) for i in range(10001)]\n",
        "np.mean(medians)"
      ]
    },
    {
      "cell_type": "markdown",
      "id": "5f4b5d2d",
      "metadata": {
        "id": "5f4b5d2d"
      },
      "source": [
        "The average of these hypothetical medians is also very close to the actual population mean.\n",
        "\n",
        "These results demonstrate that the sample mean and median are **unbiased** estimators, which means that they are correct on average.\n",
        "The word \"bias\" means different things in different contexts, which can be a source of confusion.\n",
        "In this context, \"unbiased\" means that the average of the estimates is the actual value.\n",
        "\n",
        "So far, we've shown that both estimators are consistent and unbiased, but it's still not clear which is better.\n",
        "Let's try one more experiment: let's see which estimator is more accurate.\n",
        "The word \"accurate\" also means different things in different contexts -- as one way to quantify it, let's consider the **mean squared error** (MSE).\n",
        "The following function computes the differences between the estimates and the actual value, and returns the mean of the squares of these errors."
      ]
    },
    {
      "cell_type": "code",
      "execution_count": 15,
      "id": "c6ae3ee6",
      "metadata": {
        "id": "c6ae3ee6"
      },
      "outputs": [],
      "source": [
        "def mse(estimates, actual):\n",
        "    \"\"\"Mean squared error of a sequence of estimates.\"\"\"\n",
        "    errors = np.asarray(estimates) - actual\n",
        "    return np.mean(errors**2)"
      ]
    },
    {
      "cell_type": "markdown",
      "id": "88ab3d00",
      "metadata": {
        "id": "88ab3d00"
      },
      "source": [
        "Notice that we can only compute MSE if we know the actual value.\n",
        "In practice, we usually don't -- after all, if we knew the actual value, we wouldn't have to estimate it.\n",
        "But in our experiment, we know that the actual population mean is 3.7 kg, so we can use it to compute the MSE of the sample means."
      ]
    },
    {
      "cell_type": "code",
      "execution_count": 16,
      "id": "910b7b2b",
      "metadata": {
        "id": "910b7b2b",
        "outputId": "4baabdc5-bd88-46dd-a219-dd15e3703890",
        "colab": {
          "base_uri": "https://localhost:8080/"
        }
      },
      "outputs": [
        {
          "output_type": "execute_result",
          "data": {
            "text/plain": [
              "np.float64(0.020871984891289382)"
            ]
          },
          "metadata": {},
          "execution_count": 16
        }
      ],
      "source": [
        "mse(means, mu)"
      ]
    },
    {
      "cell_type": "markdown",
      "id": "b99fa21a",
      "metadata": {
        "id": "b99fa21a"
      },
      "source": [
        "If we have samples with size 10 and we use the sample mean to estimate the population mean, the average squared error is about 0.021 kilograms squared.\n",
        "Now here's the MSE of the sample medians."
      ]
    },
    {
      "cell_type": "code",
      "execution_count": 17,
      "id": "c6963a67",
      "metadata": {
        "id": "c6963a67",
        "outputId": "adfb13a3-9f21-440c-cea3-edcab0e4ee59",
        "colab": {
          "base_uri": "https://localhost:8080/"
        }
      },
      "outputs": [
        {
          "output_type": "execute_result",
          "data": {
            "text/plain": [
              "np.float64(0.029022273128644173)"
            ]
          },
          "metadata": {},
          "execution_count": 17
        }
      ],
      "source": [
        "mse(medians, mu)"
      ]
    },
    {
      "cell_type": "markdown",
      "id": "aacd846d",
      "metadata": {
        "id": "aacd846d"
      },
      "source": [
        "If we use the sample medians to estimate the population mean, the average squared error is about 0.029 kilograms squared.\n",
        "In this example, the sample mean is better than the sample median; and in general, if the data are drawn from a normal distribution, it is the *best* unbiased estimator of the population mean, in the sense that it minimizes MSE.\n",
        "\n",
        "Minimizing MSE is a good property for an estimator to have, but MSE is not always the best way to summarize errors.\n",
        "For one thing, it is hard to interpret.\n",
        "In this example, the units of MSE are kilograms squared, so it's hard to say what that means.\n",
        "\n",
        "One solution is to use the square root of MSE, called \"root mean squared error\", or RMSE.\n",
        "Another option is to use the average of the absolute values of the errors, called the \"mean absolute error\" or MAE.\n",
        "The following function computes MAE for a sequence of estimates."
      ]
    },
    {
      "cell_type": "code",
      "execution_count": 18,
      "id": "8a10dc2a",
      "metadata": {
        "id": "8a10dc2a"
      },
      "outputs": [],
      "source": [
        "def mae(estimates, actual):\n",
        "    \"\"\"Mean absolute error of a sequence of estimates.\"\"\"\n",
        "    errors = np.asarray(estimates) - actual\n",
        "    return np.mean(np.abs(errors))"
      ]
    },
    {
      "cell_type": "markdown",
      "id": "d5b18ba0",
      "metadata": {
        "id": "d5b18ba0"
      },
      "source": [
        "Here's the MAE of the sample means."
      ]
    },
    {
      "cell_type": "code",
      "execution_count": 19,
      "id": "9a56d759",
      "metadata": {
        "id": "9a56d759",
        "outputId": "e33248fd-f40b-4344-8a5e-69fb599a18cd",
        "colab": {
          "base_uri": "https://localhost:8080/"
        }
      },
      "outputs": [
        {
          "output_type": "execute_result",
          "data": {
            "text/plain": [
              "np.float64(0.11540433749505272)"
            ]
          },
          "metadata": {},
          "execution_count": 19
        }
      ],
      "source": [
        "mae(means, mu)"
      ]
    },
    {
      "cell_type": "markdown",
      "id": "4d862995",
      "metadata": {
        "id": "4d862995"
      },
      "source": [
        "And the sample medians."
      ]
    },
    {
      "cell_type": "code",
      "execution_count": 20,
      "id": "bec2793b",
      "metadata": {
        "id": "bec2793b",
        "outputId": "cd9585a1-9ceb-44a0-bc55-5051f52c32a7",
        "colab": {
          "base_uri": "https://localhost:8080/"
        }
      },
      "outputs": [
        {
          "output_type": "execute_result",
          "data": {
            "text/plain": [
              "np.float64(0.13654429774596036)"
            ]
          },
          "metadata": {},
          "execution_count": 20
        }
      ],
      "source": [
        "mae(medians, mu)"
      ]
    },
    {
      "cell_type": "markdown",
      "id": "1b4b5c7b",
      "metadata": {
        "id": "1b4b5c7b"
      },
      "source": [
        "On average, we expect the sample mean to be off by about 0.115 kg, and the sample median to be off by 0.137 kg.\n",
        "So the sample mean is probably the better choice, at least for this example."
      ]
    },
    {
      "cell_type": "markdown",
      "id": "5eb3abe3",
      "metadata": {
        "id": "5eb3abe3"
      },
      "source": [
        "## Robustness\n",
        "\n",
        "Now let's consider a different scenario.\n",
        "Suppose that 2% of the time, when you try to weigh a penguin, it accidentally presses the units button on the scale and the weight gets recorded in pounds instead of kilograms.\n",
        "Assuming that the error goes unnoticed, it introduces an outlier in the sample.\n",
        "\n",
        "The following function simulates this scenario, multiplying 2% of the weights by the\n",
        "conversion factor 2.2 pounds per kilogram."
      ]
    },
    {
      "cell_type": "code",
      "execution_count": 21,
      "id": "1d7d3582",
      "metadata": {
        "id": "1d7d3582"
      },
      "outputs": [],
      "source": [
        "def make_sample_with_errors(n):\n",
        "    sample = np.random.normal(mu, sigma, size=n)\n",
        "    factor = np.random.choice([1, 2.2], p=[0.98, 0.02], size=n)\n",
        "    return sample * factor"
      ]
    },
    {
      "cell_type": "markdown",
      "id": "2ae75609",
      "metadata": {
        "id": "2ae75609"
      },
      "source": [
        "To see what effect this has on the distribution, we'll generate a large sample."
      ]
    },
    {
      "cell_type": "code",
      "execution_count": 22,
      "id": "7d2b23be",
      "metadata": {
        "id": "7d2b23be"
      },
      "outputs": [],
      "source": [
        "sample = make_sample_with_errors(n=1000)"
      ]
    },
    {
      "cell_type": "markdown",
      "id": "c096e7c8",
      "metadata": {
        "id": "c096e7c8"
      },
      "source": [
        "To plot the distribution of the sample, we'll use KDE and the `Pdf` object from [Chapter 6](section_kernel_density_estimation)."
      ]
    },
    {
      "cell_type": "code",
      "execution_count": 23,
      "id": "7ef38ee0",
      "metadata": {
        "id": "7ef38ee0",
        "outputId": "dd2dac17-d257-4dab-f28b-468ac77843d8",
        "colab": {
          "base_uri": "https://localhost:8080/",
          "height": 272
        }
      },
      "outputs": [
        {
          "output_type": "display_data",
          "data": {
            "text/plain": [
              "<Figure size 450x262.5 with 1 Axes>"
            ],
            "image/png": "[encoded data removed]"
          },
          "metadata": {}
        }
      ],
      "source": [
        "from scipy.stats import gaussian_kde\n",
        "from thinkstats import Pdf\n",
        "\n",
        "kde = gaussian_kde(sample)\n",
        "domain = 0, 10\n",
        "pdf = Pdf(kde, domain)\n",
        "pdf.plot(label='estimated density')\n",
        "decorate(xlabel=\"Penguin weight (kg)\", ylabel=\"Density\")"
      ]
    },
    {
      "cell_type": "markdown",
      "id": "0a886569",
      "metadata": {
        "id": "0a886569"
      },
      "source": [
        "In addition to the mode near 3.7 kg, the measurement errors introduce a second mode near 8 kilograms.\n",
        "\n",
        "Now let's repeat the previous experiment, simulating many samples with size 10, computing the mean of each sample, and then computing the average of the sample means."
      ]
    },
    {
      "cell_type": "code",
      "execution_count": 24,
      "id": "1ab50ca1",
      "metadata": {
        "id": "1ab50ca1",
        "outputId": "ef18e1d4-8baa-4462-f8eb-1cce9d78b35f",
        "colab": {
          "base_uri": "https://localhost:8080/"
        }
      },
      "outputs": [
        {
          "output_type": "execute_result",
          "data": {
            "text/plain": [
              "np.float64(3.786352945690677)"
            ]
          },
          "metadata": {},
          "execution_count": 24
        }
      ],
      "source": [
        "means = [np.mean(make_sample_with_errors(n=10)) for i in range(10001)]\n",
        "np.mean(means)"
      ]
    },
    {
      "cell_type": "markdown",
      "id": "ea6a1e16",
      "metadata": {
        "id": "ea6a1e16"
      },
      "source": [
        "The measurement errors cause the sample mean to be higher, on average, than 3.7 kg.\n",
        "\n",
        "Now here's the same experiment using sample medians."
      ]
    },
    {
      "cell_type": "code",
      "execution_count": 25,
      "id": "69294688",
      "metadata": {
        "id": "69294688",
        "outputId": "f0e0abee-f2c7-4608-ea80-8aa7dd80f525",
        "colab": {
          "base_uri": "https://localhost:8080/"
        }
      },
      "outputs": [
        {
          "output_type": "execute_result",
          "data": {
            "text/plain": [
              "np.float64(3.7121869836715353)"
            ]
          },
          "metadata": {},
          "execution_count": 25
        }
      ],
      "source": [
        "medians = [np.median(make_sample_with_errors(n=10)) for i in range(10001)]\n",
        "np.mean(medians)"
      ]
    },
    {
      "cell_type": "markdown",
      "id": "a368c52e",
      "metadata": {
        "id": "a368c52e"
      },
      "source": [
        "The average of the sample medians is also higher than 3.7 kg, but it is not off by nearly as much.\n",
        "If we compare the MSE of the estimates, we see that the sample medians are substantially more accurate."
      ]
    },
    {
      "cell_type": "code",
      "execution_count": 26,
      "id": "c0620a58",
      "metadata": {
        "id": "c0620a58",
        "outputId": "78a0a4dc-8259-4721-b47e-491f8e5c8833",
        "colab": {
          "base_uri": "https://localhost:8080/"
        }
      },
      "outputs": [
        {
          "output_type": "execute_result",
          "data": {
            "text/plain": [
              "(np.float64(0.06853430354724438), np.float64(0.031164467796883758))"
            ]
          },
          "metadata": {},
          "execution_count": 26
        }
      ],
      "source": [
        "mse(means, mu), mse(medians, mu)"
      ]
    },
    {
      "cell_type": "markdown",
      "id": "cf65739b",
      "metadata": {
        "id": "cf65739b"
      },
      "source": [
        "If measurements actually come from a normal distribution, the sample mean minimizes MSE, but this scenario violates that assumption, so the sample mean doesn't minimize MSE.\n",
        "The sample median is less sensitive to outliers, so it is less biased and its MSE is smaller.\n",
        "Estimators that deal well with outliers -- and similar violations of assumptions -- are said to be **robust**."
      ]
    },
    {
      "cell_type": "markdown",
      "id": "981535aa",
      "metadata": {
        "tags": [],
        "id": "981535aa"
      },
      "source": [
        "(section_estimating_variance)=\n",
        "## Estimating Variance\n",
        "\n",
        "As another example, suppose we want to estimate variance in the penguins' weights.\n",
        "In [Chapter 1](section_summary_statistics), we saw that there are two ways to compute the variance of a sample.\n",
        "I promised to explain the difference later -- and later is now.\n",
        "\n",
        "The reason there are two ways to compute the variance of a sample is that one is a biased estimator of the population variance, and the other is unbiased.\n",
        "The following function computes the biased estimator, which is the sum of the squared deviations divided by `n`."
      ]
    },
    {
      "cell_type": "code",
      "execution_count": 27,
      "id": "1323320b",
      "metadata": {
        "id": "1323320b"
      },
      "outputs": [],
      "source": [
        "def biased_var(xs):\n",
        "    # Compute variance with n in the denominator\n",
        "    n = len(xs)\n",
        "    deviations = xs - np.mean(xs)\n",
        "    return np.sum(deviations**2) / n"
      ]
    },
    {
      "cell_type": "markdown",
      "id": "b5b80b87",
      "metadata": {
        "id": "b5b80b87"
      },
      "source": [
        "To test it, we'll simulate many samples with size 10, compute the biased variance of each sample, and then compute the average of the variances."
      ]
    },
    {
      "cell_type": "code",
      "execution_count": 28,
      "id": "0739a9d4",
      "metadata": {
        "id": "0739a9d4",
        "outputId": "f1d374c6-41df-4c47-fe31-87fe3a9e92cf",
        "colab": {
          "base_uri": "https://localhost:8080/"
        }
      },
      "outputs": [
        {
          "output_type": "execute_result",
          "data": {
            "text/plain": [
              "np.float64(0.19049277659404473)"
            ]
          },
          "metadata": {},
          "execution_count": 28
        }
      ],
      "source": [
        "biased_vars = [biased_var(make_sample(n=10)) for i in range(10001)]\n",
        "np.mean(biased_vars)"
      ]
    },
    {
      "cell_type": "markdown",
      "id": "86400c71",
      "metadata": {
        "id": "86400c71"
      },
      "source": [
        "The result is about 0.19, but in this case, we know that the actual population variance is about 0.21, so this version of the sample variance is too low on average -- which confirms that it is biased."
      ]
    },
    {
      "cell_type": "code",
      "execution_count": 29,
      "id": "e6969baf",
      "metadata": {
        "tags": [],
        "id": "e6969baf",
        "outputId": "334d735a-4c2b-4672-91b7-3ea812038138",
        "colab": {
          "base_uri": "https://localhost:8080/"
        }
      },
      "outputs": [
        {
          "output_type": "execute_result",
          "data": {
            "text/plain": [
              "0.2116"
            ]
          },
          "metadata": {},
          "execution_count": 29
        }
      ],
      "source": [
        "actual_var = sigma**2\n",
        "actual_var"
      ]
    },
    {
      "cell_type": "markdown",
      "id": "8ab9d50d",
      "metadata": {
        "id": "8ab9d50d"
      },
      "source": [
        "The following function computes the unbiased estimator, which is the sum of the squared deviations divided by `n-1`."
      ]
    },
    {
      "cell_type": "code",
      "execution_count": 30,
      "id": "b15c3444",
      "metadata": {
        "id": "b15c3444"
      },
      "outputs": [],
      "source": [
        "def unbiased_var(xs):\n",
        "    # Compute variance with n-1 in the denominator\n",
        "    n = len(xs)\n",
        "    deviations = xs - np.mean(xs)\n",
        "    return np.sum(deviations**2) / (n - 1)"
      ]
    },
    {
      "cell_type": "markdown",
      "id": "8957d10b",
      "metadata": {
        "id": "8957d10b"
      },
      "source": [
        "We can test it by generating many samples and computing the unbiased variance for each one."
      ]
    },
    {
      "cell_type": "code",
      "execution_count": 31,
      "id": "ddb825d1",
      "metadata": {
        "id": "ddb825d1",
        "outputId": "a5f84e5e-288b-4fe9-ba13-724ddbc00830",
        "colab": {
          "base_uri": "https://localhost:8080/"
        }
      },
      "outputs": [
        {
          "output_type": "execute_result",
          "data": {
            "text/plain": [
              "np.float64(0.21159109492300626)"
            ]
          },
          "metadata": {},
          "execution_count": 31
        }
      ],
      "source": [
        "unbiased_vars = [unbiased_var(make_sample(n=10)) for i in range(10001)]\n",
        "np.mean(unbiased_vars)"
      ]
    },
    {
      "cell_type": "markdown",
      "id": "14a7cde1",
      "metadata": {
        "id": "14a7cde1"
      },
      "source": [
        "The average of the unbiased sample variances is very close to the actual value -- which is what we expect if it is unbiased.\n",
        "\n",
        "With sample size 10, the difference between the biased and unbiased estimators is about 10%, which might be non-negligible.\n",
        "With sample size 100, the difference is only 1%, which is small enough that it probably doesn't matter in practice."
      ]
    },
    {
      "cell_type": "code",
      "execution_count": 32,
      "id": "7a2a0142",
      "metadata": {
        "tags": [],
        "id": "7a2a0142",
        "outputId": "d5cb63e8-c2d6-41b9-8f6f-18c12d719778",
        "colab": {
          "base_uri": "https://localhost:8080/"
        }
      },
      "outputs": [
        {
          "output_type": "execute_result",
          "data": {
            "text/plain": [
              "0.09999999999999998"
            ]
          },
          "metadata": {},
          "execution_count": 32
        }
      ],
      "source": [
        "n = 10\n",
        "1 - (n - 1) / n"
      ]
    },
    {
      "cell_type": "code",
      "execution_count": 33,
      "id": "ba98446c",
      "metadata": {
        "tags": [],
        "id": "ba98446c",
        "outputId": "ec6edda6-99ca-4817-a4e6-9cf844198aee",
        "colab": {
          "base_uri": "https://localhost:8080/"
        }
      },
      "outputs": [
        {
          "output_type": "execute_result",
          "data": {
            "text/plain": [
              "0.010000000000000009"
            ]
          },
          "metadata": {},
          "execution_count": 33
        }
      ],
      "source": [
        "n = 100\n",
        "1 - (n - 1) / n"
      ]
    },
    {
      "cell_type": "markdown",
      "id": "a6e4fdb6",
      "metadata": {
        "tags": [],
        "id": "a6e4fdb6"
      },
      "source": [
        "(section_sampling_distributions)=\n",
        "## Sampling Distributions\n",
        "\n",
        "So far we've been working with simulated data, assuming that penguin weights are drawn from a normal distribution with known parameters.\n",
        "Now let's see what happens with real data.\n",
        "\n",
        "Between 2007 and 2010, researchers at Palmer Station in Antarctica measured and weighed 342 penguins from local populations.\n",
        "The data they collected is freely available -- instructions for downloading it are in the notebook for this chapter."
      ]
    },
    {
      "cell_type": "markdown",
      "id": "8e2b1e65",
      "metadata": {
        "tags": [],
        "id": "8e2b1e65"
      },
      "source": [
        "The following cell downloads the data from a repository created by Allison Horst.\n",
        "\n",
        "Horst AM, Hill AP, Gorman KB (2020). palmerpenguins: Palmer Archipelago (Antarctica) penguin data. R package version 0.1.0. https://allisonhorst.github.io/palmerpenguins/. doi: 10.5281/zenodo.3960218.\n",
        "\n",
        "The data was collected as part of the research that led to this paper: Gorman KB, Williams TD, Fraser WR (2014). Ecological sexual dimorphism and environmental variability within a community of Antarctic penguins (genus Pygoscelis). PLoS ONE 9(3):e90081. https://doi.org/10.1371/journal.pone.0090081"
      ]
    },
    {
      "cell_type": "code",
      "execution_count": 34,
      "id": "c16ba016",
      "metadata": {
        "tags": [],
        "id": "c16ba016"
      },
      "outputs": [],
      "source": [
        "download(\n",
        "    \"https://raw.githubusercontent.com/allisonhorst/palmerpenguins/c19a904462482430170bfe2c718775ddb7dbb885/inst/extdata/penguins_raw.csv\"\n",
        ")"
      ]
    },
    {
      "cell_type": "markdown",
      "id": "23e818d1",
      "metadata": {
        "id": "23e818d1"
      },
      "source": [
        "We can use Pandas to read the data."
      ]
    },
    {
      "cell_type": "code",
      "execution_count": 35,
      "id": "0aede435",
      "metadata": {
        "id": "0aede435",
        "outputId": "f30f246f-c8a5-4113-9500-48c554bfbd83",
        "colab": {
          "base_uri": "https://localhost:8080/"
        }
      },
      "outputs": [
        {
          "output_type": "execute_result",
          "data": {
            "text/plain": [
              "(342, 17)"
            ]
          },
          "metadata": {},
          "execution_count": 35
        }
      ],
      "source": [
        "penguins = pd.read_csv(\"penguins_raw.csv\").dropna(subset=[\"Body Mass (g)\"])\n",
        "penguins.shape"
      ]
    },
    {
      "cell_type": "markdown",
      "id": "8841b218",
      "metadata": {
        "id": "8841b218"
      },
      "source": [
        "The dataset includes three penguin species."
      ]
    },
    {
      "cell_type": "code",
      "execution_count": 36,
      "id": "b32828eb",
      "metadata": {
        "id": "b32828eb",
        "outputId": "dd67fcc7-b00d-44ed-9d00-faa9a62cd850",
        "colab": {
          "base_uri": "https://localhost:8080/",
          "height": 209
        }
      },
      "outputs": [
        {
          "output_type": "execute_result",
          "data": {
            "text/plain": [
              "Species\n",
              "Adelie Penguin (Pygoscelis adeliae)          151\n",
              "Gentoo penguin (Pygoscelis papua)            123\n",
              "Chinstrap penguin (Pygoscelis antarctica)     68\n",
              "Name: count, dtype: int64"
            ],
            "text/html": [
              "<div>\n",
              "<style scoped>\n",
              "    .dataframe tbody tr th:only-of-type {\n",
              "        vertical-align: middle;\n",
              "    }\n",
              "\n",
              "    .dataframe tbody tr th {\n",
              "        vertical-align: top;\n",
              "    }\n",
              "\n",
              "    .dataframe thead th {\n",
              "        text-align: right;\n",
              "    }\n",
              "</style>\n",
              "<table border=\"1\" class=\"dataframe\">\n",
              "  <thead>\n",
              "    <tr style=\"text-align: right;\">\n",
              "      <th></th>\n",
              "      <th>count</th>\n",
              "    </tr>\n",
              "    <tr>\n",
              "      <th>Species</th>\n",
              "      <th></th>\n",
              "    </tr>\n",
              "  </thead>\n",
              "  <tbody>\n",
              "    <tr>\n",
              "      <th>Adelie Penguin (Pygoscelis adeliae)</th>\n",
              "      <td>151</td>\n",
              "    </tr>\n",
              "    <tr>\n",
              "      <th>Gentoo penguin (Pygoscelis papua)</th>\n",
              "      <td>123</td>\n",
              "    </tr>\n",
              "    <tr>\n",
              "      <th>Chinstrap penguin (Pygoscelis antarctica)</th>\n",
              "      <td>68</td>\n",
              "    </tr>\n",
              "  </tbody>\n",
              "</table>\n",
              "</div><br><label><b>dtype:</b> int64</label>"
            ]
          },
          "metadata": {},
          "execution_count": 36
        }
      ],
      "source": [
        "penguins[\"Species\"].value_counts()"
      ]
    },
    {
      "cell_type": "markdown",
      "id": "9a8c5ae0",
      "metadata": {
        "id": "9a8c5ae0"
      },
      "source": [
        "For the first example we'll select just the Chinstrap penguins."
      ]
    },
    {
      "cell_type": "code",
      "execution_count": 37,
      "id": "b63e96c2",
      "metadata": {
        "id": "b63e96c2"
      },
      "outputs": [],
      "source": [
        "chinstrap = penguins.query('Species.str.startswith(\"Chinstrap\")')"
      ]
    },
    {
      "cell_type": "markdown",
      "id": "3c6c5db4",
      "metadata": {
        "id": "3c6c5db4"
      },
      "source": [
        "We'll use this function to plot estimated PDFs."
      ]
    },
    {
      "cell_type": "code",
      "execution_count": 38,
      "id": "8ed61ac8",
      "metadata": {
        "id": "8ed61ac8"
      },
      "outputs": [],
      "source": [
        "def plot_kde(sample, name=\"estimated density\", **options):\n",
        "    kde = gaussian_kde(sample)\n",
        "    m, s = np.mean(sample), np.std(sample)\n",
        "    plt.axvline(m, color=\"gray\", ls=\":\")\n",
        "\n",
        "    domain = m - 4 * s, m + 4 * s\n",
        "    pdf = Pdf(kde, domain, name)\n",
        "    pdf.plot(**options)"
      ]
    },
    {
      "cell_type": "markdown",
      "id": "ced5fb7d",
      "metadata": {
        "id": "ced5fb7d"
      },
      "source": [
        "Here's the distribution of chinstrap penguin weights in kilograms.\n",
        "The vertical dotted line shows the sample mean."
      ]
    },
    {
      "cell_type": "code",
      "execution_count": 39,
      "id": "daff46dc",
      "metadata": {
        "id": "daff46dc",
        "outputId": "c02393b0-da52-48f8-c4a9-f6c27dc831d7",
        "colab": {
          "base_uri": "https://localhost:8080/",
          "height": 272
        }
      },
      "outputs": [
        {
          "output_type": "display_data",
          "data": {
            "text/plain": [
              "<Figure size 450x262.5 with 1 Axes>"
            ],
            "image/png": "[encoded data removed]"
          },
          "metadata": {}
        }
      ],
      "source": [
        "weights = chinstrap[\"Body Mass (g)\"] / 1000\n",
        "plot_kde(weights, \"weights\")\n",
        "decorate(xlabel=\"Penguin weight (kg)\", ylabel=\"Density\")"
      ]
    },
    {
      "cell_type": "markdown",
      "id": "a32eba6e",
      "metadata": {
        "id": "a32eba6e"
      },
      "source": [
        "The sample mean is about 3.7 kg."
      ]
    },
    {
      "cell_type": "code",
      "execution_count": 40,
      "id": "c3cdbfdf",
      "metadata": {
        "id": "c3cdbfdf",
        "outputId": "02e1be27-1ba6-4fae-b216-af86de080c31",
        "colab": {
          "base_uri": "https://localhost:8080/"
        }
      },
      "outputs": [
        {
          "output_type": "execute_result",
          "data": {
            "text/plain": [
              "np.float64(3.733088235294118)"
            ]
          },
          "metadata": {},
          "execution_count": 40
        }
      ],
      "source": [
        "sample_mean = np.mean(weights)\n",
        "sample_mean"
      ]
    },
    {
      "cell_type": "markdown",
      "id": "1d22df97",
      "metadata": {
        "id": "1d22df97"
      },
      "source": [
        "If you are asked to estimate the population mean, 3.7 kg is a reasonable choice -- but how precise is that estimate?\n",
        "\n",
        "One way to answer that question is to compute the **sampling distribution** of the mean, which shows how much the estimated mean varies from one sample to another.\n",
        "If we knew the actual mean and standard deviation in the population, we could model the sampling process and compute the sampling distribution.\n",
        "But if we knew the actual population mean, we wouldn't have to estimate it!\n",
        "\n",
        "Fortunately, there's a simple way to approximate the sampling distribution, called **resampling**.\n",
        "The core idea is to use the sample to make a model of the population, then use the model to simulate the sampling process.\n",
        "\n",
        "More specifically, we'll use **parametric resampling**, which means we'll use the sample to estimate the parameters of the population and then use a theoretical distribution to generate new samples.\n",
        "\n",
        "The following function implements this process with a normal distribution.\n",
        "Notice that the new samples are the same size as the original."
      ]
    },
    {
      "cell_type": "code",
      "execution_count": 41,
      "id": "bf1c85e7",
      "metadata": {
        "id": "bf1c85e7"
      },
      "outputs": [],
      "source": [
        "def resample(sample):\n",
        "    # Generate a sample from a normal distribution\n",
        "    m, s = np.mean(sample), np.std(sample)\n",
        "    return np.random.normal(m, s, len(sample))"
      ]
    },
    {
      "cell_type": "markdown",
      "id": "77a6bb34",
      "metadata": {
        "id": "77a6bb34"
      },
      "source": [
        "This loop uses `resample` to generate many samples and compute the mean of each one."
      ]
    },
    {
      "cell_type": "code",
      "execution_count": 42,
      "id": "121f81d5",
      "metadata": {
        "id": "121f81d5"
      },
      "outputs": [],
      "source": [
        "sample_means = [np.mean(resample(weights)) for i in range(1001)]"
      ]
    },
    {
      "cell_type": "markdown",
      "id": "6d5686a9",
      "metadata": {
        "id": "6d5686a9"
      },
      "source": [
        "The following figure shows the distribution of these sample means."
      ]
    },
    {
      "cell_type": "code",
      "execution_count": 43,
      "id": "057d5c03",
      "metadata": {
        "id": "057d5c03",
        "outputId": "ec72ceb3-ab1f-4b08-d426-aaff24f98aff",
        "colab": {
          "base_uri": "https://localhost:8080/",
          "height": 272
        }
      },
      "outputs": [
        {
          "output_type": "display_data",
          "data": {
            "text/plain": [
              "<Figure size 450x262.5 with 1 Axes>"
            ],
            "image/png": "[encoded data removed]"
          },
          "metadata": {}
        }
      ],
      "source": [
        "plot_kde(sample_means, \"sample means\")\n",
        "decorate(xlabel=\"Sample mean of weight (kg)\", ylabel=\"Density\")"
      ]
    },
    {
      "cell_type": "markdown",
      "id": "fca724e8",
      "metadata": {
        "id": "fca724e8"
      },
      "source": [
        "This result approximates the sampling distribution of the sample mean.\n",
        "It shows how much we expect the sample mean to vary if we collect many samples of the same size -- assuming that our model of the population is accurate.\n",
        "\n",
        "Informally, we can see that the sample mean could be as low as 3.55, if we collected another sample with the same size, or as high as 3.9."
      ]
    },
    {
      "cell_type": "markdown",
      "id": "99c32d10",
      "metadata": {
        "id": "99c32d10"
      },
      "source": [
        "## Standard Error\n",
        "\n",
        "To quantify the width of the sampling distribution, one option is to compute its standard deviation -- the result is called the **standard error**."
      ]
    },
    {
      "cell_type": "code",
      "execution_count": 44,
      "id": "2dd7b940",
      "metadata": {
        "id": "2dd7b940",
        "outputId": "e2c64026-d7fa-4b76-f5d5-aa03961bec59",
        "colab": {
          "base_uri": "https://localhost:8080/"
        }
      },
      "outputs": [
        {
          "output_type": "execute_result",
          "data": {
            "text/plain": [
              "np.float64(0.04626531069684985)"
            ]
          },
          "metadata": {},
          "execution_count": 44
        }
      ],
      "source": [
        "standard_error = np.std(sample_means)\n",
        "standard_error"
      ]
    },
    {
      "cell_type": "markdown",
      "id": "c8e4cfc9",
      "metadata": {
        "id": "c8e4cfc9"
      },
      "source": [
        "In this case, the standard error is about 0.045 kg -- so if we collect many samples, we expect the sample means to vary by about 0.045 kg, on average."
      ]
    },
    {
      "cell_type": "markdown",
      "id": "de079f18",
      "metadata": {
        "id": "de079f18"
      },
      "source": [
        "People often confuse standard error and standard deviation. Remember:\n",
        "\n",
        "* Standard deviation quantifies variation in measurements.\n",
        "\n",
        "* Standard error quantifies the precision of an estimate.\n",
        "\n",
        "In this dataset, the standard deviation of penguin weights is about 0.38 kg for chinstrap penguins."
      ]
    },
    {
      "cell_type": "code",
      "execution_count": 45,
      "id": "a092855b",
      "metadata": {
        "id": "a092855b",
        "outputId": "29d7b2ce-a9e6-425e-e364-134ec0426967",
        "colab": {
          "base_uri": "https://localhost:8080/"
        }
      },
      "outputs": [
        {
          "output_type": "execute_result",
          "data": {
            "text/plain": [
              "0.3814986213564681"
            ]
          },
          "metadata": {},
          "execution_count": 45
        }
      ],
      "source": [
        "np.std(weights)"
      ]
    },
    {
      "cell_type": "markdown",
      "id": "6d5c96ac",
      "metadata": {
        "id": "6d5c96ac"
      },
      "source": [
        "The standard error of the average weight is about 0.046 kg."
      ]
    },
    {
      "cell_type": "code",
      "execution_count": 46,
      "id": "23dfb8d2",
      "metadata": {
        "id": "23dfb8d2",
        "outputId": "521a7eaf-5195-45d2-a2b9-6ec6967b5300",
        "colab": {
          "base_uri": "https://localhost:8080/"
        }
      },
      "outputs": [
        {
          "output_type": "execute_result",
          "data": {
            "text/plain": [
              "np.float64(0.04626531069684985)"
            ]
          },
          "metadata": {},
          "execution_count": 46
        }
      ],
      "source": [
        "np.std(sample_means)"
      ]
    },
    {
      "cell_type": "markdown",
      "id": "8a9ae37b",
      "metadata": {
        "id": "8a9ae37b"
      },
      "source": [
        "Standard deviation tells you how much penguins differ in weight.\n",
        "Standard error tells you how precise an estimate is.\n",
        "They are answers to different questions.\n",
        "\n",
        "However, there is a relationship between them.\n",
        "If we know the standard deviation and sample size, we can approximate the standard error of the means like this:"
      ]
    },
    {
      "cell_type": "code",
      "execution_count": 47,
      "id": "6c913bd8",
      "metadata": {
        "id": "6c913bd8"
      },
      "outputs": [],
      "source": [
        "def approximate_standard_error(sample):\n",
        "    n = len(sample)\n",
        "    return np.std(sample) / np.sqrt(n)"
      ]
    },
    {
      "cell_type": "code",
      "execution_count": 48,
      "id": "1a9d1058",
      "metadata": {
        "id": "1a9d1058",
        "outputId": "fe20c63d-a2c8-4146-851d-5b6a8fd73318",
        "colab": {
          "base_uri": "https://localhost:8080/"
        }
      },
      "outputs": [
        {
          "output_type": "execute_result",
          "data": {
            "text/plain": [
              "np.float64(0.046263503290595163)"
            ]
          },
          "metadata": {},
          "execution_count": 48
        }
      ],
      "source": [
        "approximate_standard_error(weights)"
      ]
    },
    {
      "cell_type": "markdown",
      "id": "431934ea",
      "metadata": {
        "id": "431934ea"
      },
      "source": [
        "This result is close to what we got by resampling."
      ]
    },
    {
      "cell_type": "markdown",
      "id": "138cc65f",
      "metadata": {
        "id": "138cc65f"
      },
      "source": [
        "## Confidence Intervals\n",
        "\n",
        "Another way to summarize the sampling distribution is to compute a **confidence interval**.\n",
        "For example, a 90% confidence interval contains 90% of the values in the sampling distribution, which we can find by computing the 5th and 95th percentiles.\n",
        "Here's the 90% confidence interval for the average weight of chinstrap penguins."
      ]
    },
    {
      "cell_type": "code",
      "execution_count": 49,
      "id": "a1389ac6",
      "metadata": {
        "id": "a1389ac6",
        "outputId": "ddd6c6ae-0c7d-469e-a447-5e9fe212cbba",
        "colab": {
          "base_uri": "https://localhost:8080/"
        }
      },
      "outputs": [
        {
          "output_type": "execute_result",
          "data": {
            "text/plain": [
              "array([3.6576334 , 3.80737506])"
            ]
          },
          "metadata": {},
          "execution_count": 49
        }
      ],
      "source": [
        "ci90 = np.percentile(sample_means, [5, 95])\n",
        "ci90"
      ]
    },
    {
      "cell_type": "markdown",
      "id": "77a5217f",
      "metadata": {
        "id": "77a5217f"
      },
      "source": [
        "To interpret a confidence interval, it is tempting to say that there is a 90% chance that the true value of the population parameter falls in the 90% confidence interval.\n",
        "In this example, we would say there is a 90% chance that the population mean for chinstrap penguins is between 3.66 and 3.81 kg.\n",
        "\n",
        "Under a strict philosophy of probability called **frequentism**, this interpretation would not be allowed, and in many statistics books, you will be told that this interpretation is wrong.\n",
        "\n",
        "In my opinion, this prohibition is unnecessarily strict.\n",
        "Under reasonable philosophies of probability, a confidence interval means what people expect it to mean: there is a 90% chance that the true value falls in the 90% confidence interval.\n",
        "\n",
        "However, confidence intervals only quantify variability due to sampling -- that is, measuring only part of the population.\n",
        "The sampling distribution does not account for other sources of error, notably sampling bias and measurement error, which are the topics of the next section."
      ]
    },
    {
      "cell_type": "markdown",
      "id": "bb261f13",
      "metadata": {
        "id": "bb261f13"
      },
      "source": [
        "## Sources of Error\n",
        "\n",
        "Suppose that instead of the average weight of penguins in Antarctica, you want to know the average weight of women in the city where you live.\n",
        "You can't randomly choose a representative sample of women and weigh them.\n",
        "\n",
        "A simple alternative would be \"telephone sampling\" -- that is, you could choose random numbers from the phone book, call and ask to speak to an adult woman, and ask how much she weighs.\n",
        "But telephone sampling has obvious problems.\n",
        "\n",
        "For example, the sample is limited to people whose telephone numbers are listed, so it eliminates people without phones (who might be poorer than average) and people with unlisted numbers (who might be richer).\n",
        "Also, if you call home telephones during the day, you are less likely to sample people with jobs.\n",
        "And if you only sample the person who answers the phone, you are less likely to sample people who share a phone line."
      ]
    },
    {
      "cell_type": "markdown",
      "id": "f4732e1c",
      "metadata": {
        "id": "f4732e1c"
      },
      "source": [
        "If factors like income, employment, and household size are related to weight -- and it is plausible that they are -- the results of your survey would be affected one way or another.\n",
        "This problem is called **sampling bias** because it is a property of the sampling process.\n",
        "\n",
        "This sampling process is also vulnerable to self-selection, which is a kind of sampling bias.\n",
        "Some people will refuse to answer the question, and if the tendency to refuse is related to weight, that would affect the results.\n",
        "\n",
        "Finally, if you ask people how much they weigh, rather than weighing them, the results might not be accurate.\n",
        "Even helpful respondents might round up or down if they are uncomfortable with their actual weight.\n",
        "And not all respondents are helpful.\n",
        "These inaccuracies are examples of **measurement error**."
      ]
    },
    {
      "cell_type": "markdown",
      "id": "c2bafbb5",
      "metadata": {
        "id": "c2bafbb5"
      },
      "source": [
        "When you report an estimated quantity, it is useful to quantify variability due to sampling by reporting a standard error or a confidence interval.\n",
        "But remember that this variability is only one source of error, and often it is not the biggest."
      ]
    },
    {
      "cell_type": "markdown",
      "id": "5a72892f",
      "metadata": {
        "id": "5a72892f"
      },
      "source": [
        "## Glossary\n",
        "\n",
        "-   **population mean:** The true mean of a quantity in an entire population, as opposed to the sample mean, which is calculated from a subset.\n",
        "\n",
        "-   **parameter**: One of the values that specify a particular distribution in a set of distributions -- for example, the parameters of a normal distribution are the mean and standard deviation.\n",
        "\n",
        "-   **estimator**: A statistic calculated from a sample that is used to estimate a parameter of the population.\n",
        "\n",
        "-   **consistent:** An estimator is consistent if it converges to the actual value of a parameter as the sample size increases.\n",
        "\n",
        "-   **unbiased:** An estimator is unbiased if, for a particular sample size, the average of the sample estimates is the actual value of the parameter.\n",
        "\n",
        "-   **mean squared error (MSE)**: A measure of the accuracy of an estimator -- it's the average squared difference between estimated and true parameter values, assuming the true value is known.\n",
        "\n",
        "-   **robust:** An estimator is robust if it remains accurate even when a dataset contains outliers or errors -- or does not perfectly follow a theoretical distribution.\n",
        "\n",
        "-   **resampling:** A way to approximate the sampling distribution of an estimate by simulating the sampling process.\n",
        "\n",
        "-   **parametric resampling:** A kind of resampling that estimates population parameters from sample data and then uses a theoretical distribution to simulate the sampling process.\n",
        "\n",
        "-   **sampling distribution**: The distribution of a statistic across possible samples from the same population.\n",
        "\n",
        "-   **standard error**: The standard deviation of a sampling distribution, which quantifies the variability of an estimate due to random sampling (but not measurement error or non-representative sampling).\n",
        "\n",
        "-   **confidence interval**: An interval that contains the most likely values in a sampling distribution.\n",
        "\n",
        "-   **sampling bias**: A flaw in the way a sample is collected that makes it unrepresentative of the population.\n",
        "\n",
        "-   **measurement error**:  Inaccuracy in how data are observed, measured, or recorded."
      ]
    },
    {
      "cell_type": "markdown",
      "id": "697621aa",
      "metadata": {
        "id": "697621aa"
      },
      "source": [
        "## Exercises"
      ]
    },
    {
      "cell_type": "markdown",
      "id": "d975a2b7",
      "metadata": {
        "id": "d975a2b7"
      },
      "source": [
        "### Exercise 8.1\n",
        "\n",
        "One of the strengths of resampling methods is that they are easy to extend to other statistics.\n",
        "In this chapter, we computed the sample mean of penguin weights and then used resampling to approximate the sampling distribution of the mean.\n",
        "Now let's do the same for standard deviation.\n",
        "\n",
        "Compute the sample standard deviation of weights for chinstrap penguins.\n",
        "Then use `resample` to approximate the sampling distribution of the standard deviation.\n",
        "Use the sampling distribution to compute the standard error of the estimate and a 90% confidence interval."
      ]
    },
    {
      "cell_type": "code",
      "execution_count": 50,
      "id": "94b262f2",
      "metadata": {
        "id": "94b262f2",
        "outputId": "333b0019-4479-4b56-b248-f0fae4249fda",
        "colab": {
          "base_uri": "https://localhost:8080/"
        }
      },
      "outputs": [
        {
          "output_type": "execute_result",
          "data": {
            "text/plain": [
              "0.3814986213564681"
            ]
          },
          "metadata": {},
          "execution_count": 50
        }
      ],
      "source": [
        "# Solution goes here\n",
        "std_csp = np.std(weights)\n",
        "std_csp"
      ]
    },
    {
      "cell_type": "code",
      "execution_count": 51,
      "id": "b22cc0e7",
      "metadata": {
        "id": "b22cc0e7"
      },
      "outputs": [],
      "source": [
        "# Solution goes here\n",
        "sample_wt_std = [np.std(resample(weights)) for i in range(1001)]\n",
        "#sample_wt_std = np.std(sample_wt)\n",
        "#sample_wt_std"
      ]
    },
    {
      "cell_type": "code",
      "execution_count": 52,
      "id": "3d026a75",
      "metadata": {
        "id": "3d026a75",
        "outputId": "378af76e-ca98-45d4-8884-e43e12872dee",
        "colab": {
          "base_uri": "https://localhost:8080/"
        }
      },
      "outputs": [
        {
          "output_type": "stream",
          "name": "stdout",
          "text": [
            "std error:  0.00003265\n"
          ]
        }
      ],
      "source": [
        "# Solution goes here\n",
        "standard_error_wt = np.std(sample_wt_std) / len(sample_wt_std)  # Had to google this\n",
        "print (f\"std error:  {standard_error_wt:2.8f}\")"
      ]
    },
    {
      "cell_type": "code",
      "source": [
        "ci90_wt = np.percentile(sample_wt_std, [5, 95])\n",
        "ci90_wt"
      ],
      "metadata": {
        "id": "OzIxCYbEd2N3",
        "outputId": "787f0630-b8c1-46e1-c68a-1118db53907f",
        "colab": {
          "base_uri": "https://localhost:8080/"
        }
      },
      "id": "OzIxCYbEd2N3",
      "execution_count": 53,
      "outputs": [
        {
          "output_type": "execute_result",
          "data": {
            "text/plain": [
              "array([0.32584783, 0.43552134])"
            ]
          },
          "metadata": {},
          "execution_count": 53
        }
      ]
    },
    {
      "cell_type": "code",
      "execution_count": 54,
      "id": "52b0dd75",
      "metadata": {
        "id": "52b0dd75"
      },
      "outputs": [],
      "source": [
        "# Solution goes here"
      ]
    },
    {
      "cell_type": "markdown",
      "id": "f1aa3e0a",
      "metadata": {
        "id": "f1aa3e0a"
      },
      "source": [
        "### Exercise 8.2\n",
        "\n",
        "The Behavioral Risk Factor Surveillance System (BRFSS) dataset includes self-reported heights and weights for a sample of adults in the United States.\n",
        "Use this data to estimate the average height of male adults.\n",
        "Use resample to approximate the sampling distribution and compute a 90% confidence interval.\n",
        "\n",
        "Because the sample size is very large, the confidence interval is very small, which means that variability due to random sampling is small.\n",
        "But other sources of error might be bigger -- what other sources of error do you think affect the results?"
      ]
    },
    {
      "cell_type": "markdown",
      "id": "5628baa6",
      "metadata": {
        "tags": [],
        "id": "5628baa6"
      },
      "source": [
        "The following cells download the data, read it into a `DataFrame`, and select the heights of male respondents."
      ]
    },
    {
      "cell_type": "code",
      "execution_count": 55,
      "id": "61f82fdb",
      "metadata": {
        "tags": [],
        "id": "61f82fdb"
      },
      "outputs": [],
      "source": [
        "download(\"https://github.com/AllenDowney/ThinkStats/raw/v3/data/CDBRFS08.ASC.gz\")"
      ]
    },
    {
      "cell_type": "code",
      "execution_count": 56,
      "id": "fba01e54",
      "metadata": {
        "tags": [],
        "id": "fba01e54"
      },
      "outputs": [],
      "source": [
        "from thinkstats import read_brfss\n",
        "\n",
        "brfss = read_brfss()"
      ]
    },
    {
      "cell_type": "code",
      "execution_count": 57,
      "id": "fe5076e9",
      "metadata": {
        "tags": [],
        "id": "fe5076e9",
        "outputId": "66a11dc3-60b4-4873-9a95-86cb810e72ff",
        "colab": {
          "base_uri": "https://localhost:8080/",
          "height": 335
        }
      },
      "outputs": [
        {
          "output_type": "execute_result",
          "data": {
            "text/plain": [
              "count    154407.000000\n",
              "mean        178.066221\n",
              "std           7.723563\n",
              "min          61.000000\n",
              "25%         173.000000\n",
              "50%         178.000000\n",
              "75%         183.000000\n",
              "max         236.000000\n",
              "Name: htm3, dtype: float64"
            ],
            "text/html": [
              "<div>\n",
              "<style scoped>\n",
              "    .dataframe tbody tr th:only-of-type {\n",
              "        vertical-align: middle;\n",
              "    }\n",
              "\n",
              "    .dataframe tbody tr th {\n",
              "        vertical-align: top;\n",
              "    }\n",
              "\n",
              "    .dataframe thead th {\n",
              "        text-align: right;\n",
              "    }\n",
              "</style>\n",
              "<table border=\"1\" class=\"dataframe\">\n",
              "  <thead>\n",
              "    <tr style=\"text-align: right;\">\n",
              "      <th></th>\n",
              "      <th>htm3</th>\n",
              "    </tr>\n",
              "  </thead>\n",
              "  <tbody>\n",
              "    <tr>\n",
              "      <th>count</th>\n",
              "      <td>154407.000000</td>\n",
              "    </tr>\n",
              "    <tr>\n",
              "      <th>mean</th>\n",
              "      <td>178.066221</td>\n",
              "    </tr>\n",
              "    <tr>\n",
              "      <th>std</th>\n",
              "      <td>7.723563</td>\n",
              "    </tr>\n",
              "    <tr>\n",
              "      <th>min</th>\n",
              "      <td>61.000000</td>\n",
              "    </tr>\n",
              "    <tr>\n",
              "      <th>25%</th>\n",
              "      <td>173.000000</td>\n",
              "    </tr>\n",
              "    <tr>\n",
              "      <th>50%</th>\n",
              "      <td>178.000000</td>\n",
              "    </tr>\n",
              "    <tr>\n",
              "      <th>75%</th>\n",
              "      <td>183.000000</td>\n",
              "    </tr>\n",
              "    <tr>\n",
              "      <th>max</th>\n",
              "      <td>236.000000</td>\n",
              "    </tr>\n",
              "  </tbody>\n",
              "</table>\n",
              "</div><br><label><b>dtype:</b> float64</label>"
            ]
          },
          "metadata": {},
          "execution_count": 57
        }
      ],
      "source": [
        "male = brfss.query(\"sex == 1\")\n",
        "heights = male[\"htm3\"]\n",
        "heights.describe()"
      ]
    },
    {
      "cell_type": "code",
      "execution_count": 58,
      "id": "6fd5fdfe",
      "metadata": {
        "id": "6fd5fdfe",
        "outputId": "a1da1f72-c715-4965-a70a-a32bd31dd7b3",
        "colab": {
          "base_uri": "https://localhost:8080/"
        }
      },
      "outputs": [
        {
          "output_type": "execute_result",
          "data": {
            "text/plain": [
              "np.float64(178.06622109101272)"
            ]
          },
          "metadata": {},
          "execution_count": 58
        }
      ],
      "source": [
        "# Solution goes here\n",
        "# Average height\n",
        "heights.mean()"
      ]
    },
    {
      "cell_type": "code",
      "execution_count": 59,
      "id": "828067b1",
      "metadata": {
        "id": "828067b1"
      },
      "outputs": [],
      "source": [
        "# Solution goes here\n",
        "sample_heights = [(resample(heights)) for i in range(1001)]"
      ]
    },
    {
      "cell_type": "code",
      "execution_count": 60,
      "id": "2f4dfcc8",
      "metadata": {
        "id": "2f4dfcc8",
        "outputId": "882b5d37-67f3-4736-c099-0fb0159ecd5b",
        "colab": {
          "base_uri": "https://localhost:8080/"
        }
      },
      "outputs": [
        {
          "output_type": "execute_result",
          "data": {
            "text/plain": [
              "array([165.36270417, 190.7690824 ])"
            ]
          },
          "metadata": {},
          "execution_count": 60
        }
      ],
      "source": [
        "# Solution goes here\n",
        "ci90_heights = np.percentile(sample_heights, [5, 95])\n",
        "ci90_heights"
      ]
    },
    {
      "cell_type": "code",
      "execution_count": 61,
      "id": "eadf07a6",
      "metadata": {
        "id": "eadf07a6"
      },
      "outputs": [],
      "source": [
        "# Solution goes here"
      ]
    },
    {
      "cell_type": "markdown",
      "id": "813b08bf",
      "metadata": {
        "id": "813b08bf"
      },
      "source": [
        "### Exercise 8.3\n",
        "\n",
        "In games like soccer and hockey, the time between goals tends to follow an exponential distribution (as we saw in [Chapter 6](section_exponential_pdf)).\n",
        "Suppose we observe a sample of times between goals.\n",
        "If we assume that the sample came from an exponential distribution, how can we estimate the actual mean of the distribution?\n",
        "We might consider using either the sample mean or the sample median.\n",
        "Let's see if either of them is a consistent, unbiased estimator.\n",
        "For the experiments, we'll assume that the actual mean time between goals is 10 minutes."
      ]
    },
    {
      "cell_type": "code",
      "execution_count": 63,
      "id": "d53fc9a2",
      "metadata": {
        "id": "d53fc9a2"
      },
      "outputs": [],
      "source": [
        "actual_mean = 10"
      ]
    },
    {
      "cell_type": "markdown",
      "id": "2710c385",
      "metadata": {
        "id": "2710c385"
      },
      "source": [
        "The following function generates a sample from an exponential distribution with this mean and the given sample size."
      ]
    },
    {
      "cell_type": "code",
      "execution_count": 64,
      "id": "f70a53fb",
      "metadata": {
        "id": "f70a53fb"
      },
      "outputs": [],
      "source": [
        "def make_exponential(n):\n",
        "    return np.random.exponential(actual_mean, size=n)"
      ]
    },
    {
      "cell_type": "markdown",
      "id": "723aa5ab",
      "metadata": {
        "id": "723aa5ab"
      },
      "source": [
        "Use this function to generate samples with a range of sizes and compute the mean of each one. As `n` increases, do the sample means converge to the actual mean?\n",
        "\n",
        "Next, generate samples with a range of sizes and compute the median of each one.\n",
        "Do the sample medians converge to the actual median?"
      ]
    },
    {
      "cell_type": "markdown",
      "id": "6386dfd6",
      "metadata": {
        "tags": [],
        "id": "6386dfd6"
      },
      "source": [
        "Here's the actual median of an exponential distribution with the given mean."
      ]
    },
    {
      "cell_type": "code",
      "execution_count": 65,
      "id": "7574baca",
      "metadata": {
        "tags": [],
        "id": "7574baca",
        "outputId": "54a38dc3-af5a-4e29-93e0-5c904acc64f4",
        "colab": {
          "base_uri": "https://localhost:8080/"
        }
      },
      "outputs": [
        {
          "output_type": "execute_result",
          "data": {
            "text/plain": [
              "np.float64(6.931471805599453)"
            ]
          },
          "metadata": {},
          "execution_count": 65
        }
      ],
      "source": [
        "actual_median = np.log(2) * actual_mean\n",
        "actual_median"
      ]
    },
    {
      "cell_type": "code",
      "execution_count": 91,
      "id": "cff8b98c",
      "metadata": {
        "id": "cff8b98c"
      },
      "outputs": [],
      "source": [
        "# Solution goes here\n",
        "ns = np.logspace(1, 5).astype(int)\n",
        "\n",
        "means_8_3 = [np.mean(make_exponential(n)) for n in ns]\n",
        "\n",
        "medians_8_3 = [np.median(make_exponential(n)) for n in ns]"
      ]
    },
    {
      "cell_type": "code",
      "execution_count": 92,
      "id": "bb18a57a",
      "metadata": {
        "id": "bb18a57a",
        "outputId": "ef95b39a-3c11-4a46-f008-40550c0daddf",
        "colab": {
          "base_uri": "https://localhost:8080/",
          "height": 271
        }
      },
      "outputs": [
        {
          "output_type": "display_data",
          "data": {
            "text/plain": [
              "<Figure size 450x262.5 with 1 Axes>"
            ],
            "image/png": "[encoded data removed]"
          },
          "metadata": {}
        }
      ],
      "source": [
        "# Solution goes here\n",
        "\n",
        "plt.axhline(mu, color=\"gray\", lw=1, alpha=0.5)\n",
        "plt.plot(ns, means_8_3, \"--\", label=\"means_8_3\")\n",
        "plt.plot(ns, medians_8_3, alpha=0.5, label=\"medians_8_3\")\n",
        "\n",
        "decorate(xlabel=\"Sample size\", xscale=\"log\", ylabel=\"Estimate\")\n",
        "\n",
        "# Yes they converge"
      ]
    },
    {
      "cell_type": "markdown",
      "id": "6570cc98",
      "metadata": {
        "id": "6570cc98"
      },
      "source": [
        "Next, generate many samples with size 10 and check whether the sample mean is an unbiased estimator of the population mean."
      ]
    },
    {
      "cell_type": "code",
      "execution_count": 93,
      "id": "9828cd91",
      "metadata": {
        "id": "9828cd91",
        "outputId": "a8e45216-ee2b-40b9-a542-935a121af50a",
        "colab": {
          "base_uri": "https://localhost:8080/"
        }
      },
      "outputs": [
        {
          "output_type": "execute_result",
          "data": {
            "text/plain": [
              "np.float64(10.018032175057188)"
            ]
          },
          "metadata": {},
          "execution_count": 93
        }
      ],
      "source": [
        "# Solution goes here\n",
        "means_ub = [np.mean(make_exponential(n=10)) for i in range(10001)]\n",
        "np.mean(means_ub)\n"
      ]
    },
    {
      "cell_type": "markdown",
      "id": "9e6802e3",
      "metadata": {
        "id": "9e6802e3"
      },
      "source": [
        "Finally, check whether the sample median is an unbiased estimator of the population median."
      ]
    },
    {
      "cell_type": "code",
      "execution_count": 95,
      "id": "83601a99",
      "metadata": {
        "id": "83601a99",
        "outputId": "00e60148-679b-470d-8e97-d7e70d1eadac",
        "colab": {
          "base_uri": "https://localhost:8080/"
        }
      },
      "outputs": [
        {
          "output_type": "execute_result",
          "data": {
            "text/plain": [
              "np.float64(7.048667389228765)"
            ]
          },
          "metadata": {},
          "execution_count": 95
        }
      ],
      "source": [
        "# Solution goes here\n",
        "median_ub = [np.median(make_exponential(n=10)) for i in range(10001)]\n",
        "np.median(median_ub)"
      ]
    },
    {
      "cell_type": "code",
      "execution_count": 70,
      "id": "b007876c",
      "metadata": {
        "id": "b007876c"
      },
      "outputs": [],
      "source": [
        "# Solution goes here\n",
        "# Unbiased"
      ]
    },
    {
      "cell_type": "markdown",
      "id": "7bdfad9f",
      "metadata": {
        "id": "7bdfad9f"
      },
      "source": [
        "### Exercise 8.4\n",
        "\n",
        "In this chapter we tested a biased estimator of variance and showed that it is, in fact, biased.\n",
        "And we showed that the unbiased estimator is unbiased.\n",
        "Now let's try standard deviation.\n",
        "\n",
        "To estimate the standard deviation of a population, we can compute the square root of the biased or unbiased estimator of variance, like this:"
      ]
    },
    {
      "cell_type": "code",
      "execution_count": 71,
      "id": "20d8a441",
      "metadata": {
        "id": "20d8a441"
      },
      "outputs": [],
      "source": [
        "def biased_std(sample):\n",
        "    # Square root of the biased estimator of variance\n",
        "    var = biased_var(sample)\n",
        "    return np.sqrt(var)"
      ]
    },
    {
      "cell_type": "code",
      "execution_count": 72,
      "id": "84b78ba0",
      "metadata": {
        "id": "84b78ba0"
      },
      "outputs": [],
      "source": [
        "def unbiased_std(sample):\n",
        "    # Square root of the unbiased estimator of variance\n",
        "    var = unbiased_var(sample)\n",
        "    return np.sqrt(var)"
      ]
    },
    {
      "cell_type": "markdown",
      "id": "067a2358",
      "metadata": {
        "id": "067a2358"
      },
      "source": [
        "Use `make_sample` to compute many samples of size 10 from a normal distribution with mean 3.7 and standard deviation 0.46.\n",
        "Check whether either of these is an unbiased estimator of standard deviation."
      ]
    },
    {
      "cell_type": "code",
      "execution_count": 73,
      "id": "b2a9e6c1",
      "metadata": {
        "tags": [],
        "id": "b2a9e6c1",
        "outputId": "33c27b7c-637c-4262-a378-8a401cf174ec",
        "colab": {
          "base_uri": "https://localhost:8080/"
        }
      },
      "outputs": [
        {
          "output_type": "execute_result",
          "data": {
            "text/plain": [
              "array([4.5279695 , 3.63873421, 3.05908609, 3.38864733, 4.04844244,\n",
              "       4.22572342, 3.6426567 , 3.91281234, 3.84432827, 3.88534373])"
            ]
          },
          "metadata": {},
          "execution_count": 73
        }
      ],
      "source": [
        "# Here's an example using `make_sample`\n",
        "\n",
        "mu, sigma = 3.7, 0.46\n",
        "make_sample(n=10)"
      ]
    },
    {
      "cell_type": "code",
      "execution_count": 74,
      "id": "046bc9b3",
      "metadata": {
        "id": "046bc9b3"
      },
      "outputs": [],
      "source": [
        "# Solution goes here"
      ]
    },
    {
      "cell_type": "code",
      "execution_count": 75,
      "id": "94f66f8c",
      "metadata": {
        "id": "94f66f8c"
      },
      "outputs": [],
      "source": [
        "# Solution goes here"
      ]
    },
    {
      "cell_type": "code",
      "execution_count": 76,
      "id": "36eec7b0",
      "metadata": {
        "id": "36eec7b0"
      },
      "outputs": [],
      "source": [
        "# Solution goes here"
      ]
    },
    {
      "cell_type": "markdown",
      "id": "e22c8726",
      "metadata": {
        "id": "e22c8726"
      },
      "source": [
        "### Exercise 8.5\n",
        "\n",
        "This exercise is based on the German tank problem, which is a simplified version of an actual analysis performed by the Economic Warfare Division of the American Embassy in London during World War II.\n",
        "\n",
        "Suppose you are an Allied spy and your job is to estimate how many tanks the Germans have built.\n",
        "As data, you have serial numbers recovered from `k` captured tanks.\n",
        "\n",
        "If we assume that the Germans have `N` tanks numbered from 1 to `N`, and that all tanks in this range were equally likely to be captured, we can estimate `N` like this:"
      ]
    },
    {
      "cell_type": "code",
      "execution_count": 77,
      "id": "ea4bba76",
      "metadata": {
        "id": "ea4bba76"
      },
      "outputs": [],
      "source": [
        "def estimate_tanks(sample):\n",
        "    m = np.max(sample)\n",
        "    k = len(sample)\n",
        "    return m + (m - k) / k"
      ]
    },
    {
      "cell_type": "markdown",
      "id": "788d2692",
      "metadata": {
        "id": "788d2692"
      },
      "source": [
        "As an example, suppose `N` is 122."
      ]
    },
    {
      "cell_type": "code",
      "execution_count": 78,
      "id": "07c52cf8",
      "metadata": {
        "id": "07c52cf8"
      },
      "outputs": [],
      "source": [
        "N = 122\n",
        "tanks = np.arange(1, N + 1)"
      ]
    },
    {
      "cell_type": "markdown",
      "id": "321fe853",
      "metadata": {
        "id": "321fe853"
      },
      "source": [
        "We can use the following function to generate a random sample of `k` tanks."
      ]
    },
    {
      "cell_type": "code",
      "execution_count": 79,
      "id": "1d1a8817",
      "metadata": {
        "id": "1d1a8817"
      },
      "outputs": [],
      "source": [
        "def sample_tanks(k):\n",
        "    return np.random.choice(tanks, replace=False, size=k)"
      ]
    },
    {
      "cell_type": "markdown",
      "id": "8aa6da08",
      "metadata": {
        "id": "8aa6da08"
      },
      "source": [
        "Here's an example."
      ]
    },
    {
      "cell_type": "code",
      "execution_count": 80,
      "id": "3a816c6e",
      "metadata": {
        "tags": [],
        "id": "3a816c6e"
      },
      "outputs": [],
      "source": [
        "np.random.seed(17)"
      ]
    },
    {
      "cell_type": "code",
      "execution_count": 81,
      "id": "079cfc10",
      "metadata": {
        "id": "079cfc10",
        "outputId": "f5b3bb71-352c-4626-f639-431dd44fb92c",
        "colab": {
          "base_uri": "https://localhost:8080/"
        }
      },
      "outputs": [
        {
          "output_type": "execute_result",
          "data": {
            "text/plain": [
              "array([74, 71, 95, 10, 17])"
            ]
          },
          "metadata": {},
          "execution_count": 81
        }
      ],
      "source": [
        "sample = sample_tanks(5)\n",
        "sample"
      ]
    },
    {
      "cell_type": "markdown",
      "id": "8ca6107e",
      "metadata": {
        "id": "8ca6107e"
      },
      "source": [
        "And here is the estimate based on this sample."
      ]
    },
    {
      "cell_type": "code",
      "execution_count": 82,
      "id": "b01c0bc3",
      "metadata": {
        "id": "b01c0bc3",
        "outputId": "43eb9faf-6b55-49c9-dfc4-745b08b94072",
        "colab": {
          "base_uri": "https://localhost:8080/"
        }
      },
      "outputs": [
        {
          "output_type": "execute_result",
          "data": {
            "text/plain": [
              "np.float64(113.0)"
            ]
          },
          "metadata": {},
          "execution_count": 82
        }
      ],
      "source": [
        "estimate_tanks(sample)"
      ]
    },
    {
      "cell_type": "markdown",
      "id": "c14f0c9b",
      "metadata": {
        "id": "c14f0c9b"
      },
      "source": [
        "Check whether this estimator is biased."
      ]
    },
    {
      "cell_type": "code",
      "execution_count": 83,
      "id": "58708ab6",
      "metadata": {
        "id": "58708ab6"
      },
      "outputs": [],
      "source": [
        "# Solution goes here"
      ]
    },
    {
      "cell_type": "markdown",
      "id": "d5db0077",
      "metadata": {
        "tags": [],
        "id": "d5db0077"
      },
      "source": [
        "For more on this problem, see [this Wikipedia page][https://en.wikipedia.org/wiki/German_tank_problem] and Ruggles and Brodie, \"An Empirical Approach to Economic Intelligence in World War II\", Journal of the American Statistical Association, March 1947, available [here](https://web.archive.org/web/20170123132042/https://www.cia.gov/library/readingroom/docs/CIA-RDP79R01001A001300010013-3.pdf).\n",
        "\n",
        "For an explanation of how this estimator works, you might like [this video](https://www.youtube.com/watch?v=WLCwMRJBhuI)."
      ]
    },
    {
      "cell_type": "markdown",
      "id": "d6a88e85",
      "metadata": {
        "id": "d6a88e85"
      },
      "source": [
        "### Exercise 8.6\n",
        "\n",
        "In several sports -- especially basketball -- many players and fans believe in a phenomenon called the \"hot hand\", which implies that a player who has hit several consecutive shots is more likely to hit the next, and a player who has missed several times is more likely to miss.\n",
        "\n",
        "A famous paper proposed a way to test whether the hot hand is real or an illusion, by looking at sequences of hits and misses from professional basketball games.\n",
        "For each player, the authors computed the overall probability of making a shot, and the conditional probability of making a shot after three consecutive hits.\n",
        "For eight out of nine players, they found that the probability of making a shot was *lower* after three hits.\n",
        "Based on this and other results, they concluded that there is \"no evidence for a positive correlation between the outcomes of successive shots\".\n",
        "And for several decades, many people believed that the hot hand had been debunked.\n",
        "\n",
        "However, this conclusion is based on a statistical error, at least in part.\n",
        "A 2018 paper showed that the statistic used in the first paper -- the probability of making a shot after three hits -- is biased.\n",
        "Even if the probability of making every shot is exactly 0.5, and there is actually no correlation between the outcomes, the probability of making a shot after three hits is *less than 0.5*.\n",
        "\n",
        "It is not obvious why that's true, which is why the error went undetected for so long, and I won't try to explain it here.\n",
        "But we can use the methods from this chapter to check it.\n",
        "We'll use the following function to generate a sequence of 0s and 1s with probability 0.5 and no correlation."
      ]
    },
    {
      "cell_type": "code",
      "execution_count": 84,
      "id": "01f60a68",
      "metadata": {
        "id": "01f60a68"
      },
      "outputs": [],
      "source": [
        "def make_hits_and_misses(n):\n",
        "    # Generate a random sequence of 0s and 1s\n",
        "    return np.random.choice([0, 1], size=n)"
      ]
    },
    {
      "cell_type": "markdown",
      "id": "f58fe14a",
      "metadata": {
        "id": "f58fe14a"
      },
      "source": [
        "In the notebook for this chapter, I provide a function that finds all subsequences of three hits (1s) and returns the element of the sequence that follows."
      ]
    },
    {
      "cell_type": "code",
      "execution_count": 85,
      "id": "64129e4b",
      "metadata": {
        "tags": [],
        "id": "64129e4b"
      },
      "outputs": [],
      "source": [
        "import numpy as np\n",
        "\n",
        "\n",
        "def get_successors(seq, target_sum=3):\n",
        "    \"\"\"Get the successors of each subsequence that sums to a target value.\n",
        "\n",
        "    Parameters:\n",
        "    seq (array-like): Sequence of 1s and 0s.\n",
        "    target_sum (int): The target sum of the subsequence. Default is 3.\n",
        "\n",
        "    Returns:\n",
        "    np.ndarray: Array of successors to subsequences that sum to `target_sum`.\n",
        "    \"\"\"\n",
        "    # Check if the input sequence is too short\n",
        "    if len(seq) < 3:\n",
        "        return np.array([])\n",
        "\n",
        "    # Compute the sum of each subsequence of length 3\n",
        "    kernel = [1, 1, 1]\n",
        "    corr = np.correlate(seq, kernel, mode=\"valid\")\n",
        "\n",
        "    # Find the indices where the subsequence sums to the target value\n",
        "    indices = np.nonzero(corr == target_sum)[0]\n",
        "\n",
        "    # Remove cases where the subsequence is at the end of the sequence\n",
        "    indices = indices[indices < len(seq) - 3]\n",
        "\n",
        "    # Find the successors of each valid subsequence\n",
        "    successors = seq[indices + 3] if len(indices) > 0 else np.array([])\n",
        "\n",
        "    return successors"
      ]
    },
    {
      "cell_type": "markdown",
      "id": "aa111baa",
      "metadata": {
        "id": "aa111baa"
      },
      "source": [
        "Generate a large number of sequences with length 100 and for each sequence, find each shot that follows three hits.\n",
        "Compute the percentage of these shots that are hits.\n",
        "Hint: if the sequence does not contain three consecutive hits, the function returns an empty sequence, so your code will have to handle that.\n",
        "\n",
        "If you run this simulation many times, what is the average percentage of hits?\n",
        "How does this result vary as you increase or decrease the length of the sequence?"
      ]
    },
    {
      "cell_type": "code",
      "execution_count": 86,
      "id": "33d52f27",
      "metadata": {
        "id": "33d52f27"
      },
      "outputs": [],
      "source": [
        "# Solution goes here"
      ]
    },
    {
      "cell_type": "code",
      "execution_count": 87,
      "id": "c7d57dbe",
      "metadata": {
        "id": "c7d57dbe"
      },
      "outputs": [],
      "source": [
        "# Solution goes here"
      ]
    },
    {
      "cell_type": "code",
      "execution_count": 88,
      "id": "cdddacde",
      "metadata": {
        "id": "cdddacde"
      },
      "outputs": [],
      "source": [
        "# Solution goes here"
      ]
    },
    {
      "cell_type": "code",
      "execution_count": 89,
      "id": "d1015188",
      "metadata": {
        "id": "d1015188"
      },
      "outputs": [],
      "source": [
        "# Solution goes here"
      ]
    },
    {
      "cell_type": "code",
      "execution_count": 90,
      "id": "d4ce3666",
      "metadata": {
        "id": "d4ce3666"
      },
      "outputs": [],
      "source": [
        "# Solution goes here"
      ]
    },
    {
      "cell_type": "markdown",
      "id": "3722a5fe",
      "metadata": {
        "id": "3722a5fe"
      },
      "source": [
        "The famous paper is Gilovich, T., Vallone, R., & Tversky, A. (1985). The hot hand in basketball: On the misperception of random sequences. *Cognitive psychology*, 17(3), 295-314.\n",
        "\n",
        "The paper showing the statistical error is Miller, J. B., & Sanjurjo, A. (2018). Surprised by the hot hand fallacy? A truth in the law of small numbers. *Econometrica*, 86(6), 2019-2047."
      ]
    },
    {
      "cell_type": "markdown",
      "id": "41f996df",
      "metadata": {
        "tags": [],
        "id": "41f996df"
      },
      "source": [
        "The first paper is [available here](https://www.joelvelasco.net/teaching/122/Gilo.Vallone.Tversky.pdf).\n",
        "The second is [available here](https://marketing.wharton.upenn.edu/wp-content/uploads/2018/11/Paper-Joshua-Miller.pdf).\n",
        "For an overview of the topic and an explanation of the error, [you might like this video](https://www.youtube.com/watch?v=CR5vT44ZMK8)."
      ]
    },
    {
      "cell_type": "markdown",
      "id": "e27da3a4",
      "metadata": {
        "tags": [],
        "id": "e27da3a4"
      },
      "source": [
        "[Think Stats: Exploratory Data Analysis in Python, 3rd Edition](https://allendowney.github.io/ThinkStats/index.html)\n",
        "\n",
        "Copyright 2024 [Allen B. Downey](https://allendowney.com)\n",
        "\n",
        "Code license: [MIT License](https://mit-license.org/)\n",
        "\n",
        "Text license: [Creative Commons Attribution-NonCommercial-ShareAlike 4.0 International](https://creativecommons.org/licenses/by-nc-sa/4.0/)"
      ]
    }
  ],
  "metadata": {
    "celltoolbar": "Tags",
    "kernelspec": {
      "display_name": "Python 3 (ipykernel)",
      "language": "python",
      "name": "python3"
    },
    "language_info": {
      "codemirror_mode": {
        "name": "ipython",
        "version": 3
      },
      "file_extension": ".py",
      "mimetype": "text/x-python",
      "name": "python",
      "nbconvert_exporter": "python",
      "pygments_lexer": "ipython3",
      "version": "3.11.0"
    },
    "colab": {
      "provenance": []
    }
  },
  "nbformat": 4,
  "nbformat_minor": 5
}